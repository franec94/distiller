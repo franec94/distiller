{
 "cells": [
  {
   "cell_type": "markdown",
   "metadata": {},
   "source": [
    "# Analize One QAT Dataset \n",
    "### Interactive Compression Data Visualization\n",
    "---"
   ]
  },
  {
   "cell_type": "markdown",
   "metadata": {},
   "source": [
    "Valuable choices to get installed needed dependencies:\n",
    "\n",
    "    conda install -c plotly plotly\n",
    "    conda install -c conda-forge cufflinks-py\n",
    "    pip install plotly --upgrade\n",
    "    pip install cufflinks --upgrade"
   ]
  },
  {
   "cell_type": "code",
   "execution_count": 1,
   "metadata": {},
   "outputs": [
    {
     "data": {
      "text/html": [
       "        <script type=\"text/javascript\">\n",
       "        window.PlotlyConfig = {MathJaxConfig: 'local'};\n",
       "        if (window.MathJax) {MathJax.Hub.Config({SVG: {font: \"STIX-Web\"}});}\n",
       "        if (typeof require !== 'undefined') {\n",
       "        require.undef(\"plotly\");\n",
       "        requirejs.config({\n",
       "            paths: {\n",
       "                'plotly': ['https://cdn.plot.ly/plotly-latest.min']\n",
       "            }\n",
       "        });\n",
       "        require(['plotly'], function(Plotly) {\n",
       "            window._Plotly = Plotly;\n",
       "        });\n",
       "        }\n",
       "        </script>\n",
       "        "
      ]
     },
     "metadata": {},
     "output_type": "display_data"
    }
   ],
   "source": [
    "from utils.libs.std_python_libs import *\n",
    "from utils.libs.data_science_libs import *\n",
    "from utils.libs.graphics_and_interactive_libs import *\n",
    "from utils.qat_features.create_comparing_qat_tables import create_comparing_results_table\n",
    "\n",
    "# Extra options\n",
    "pd.options.display.max_rows = 30\n",
    "pd.options.display.max_columns = 25"
   ]
  },
  {
   "cell_type": "markdown",
   "metadata": {},
   "source": [
    "### Load Full Compressions Dataset\n",
    "---"
   ]
  },
  {
   "cell_type": "code",
   "execution_count": 2,
   "metadata": {},
   "outputs": [
    {
     "data": {
      "text/html": [
       "<div>\n",
       "<style scoped>\n",
       "    .dataframe tbody tr th:only-of-type {\n",
       "        vertical-align: middle;\n",
       "    }\n",
       "\n",
       "    .dataframe tbody tr th {\n",
       "        vertical-align: top;\n",
       "    }\n",
       "\n",
       "    .dataframe thead th {\n",
       "        text-align: right;\n",
       "    }\n",
       "</style>\n",
       "<table border=\"1\" class=\"dataframe\">\n",
       "  <thead>\n",
       "    <tr style=\"text-align: right;\">\n",
       "      <th></th>\n",
       "      <th>date</th>\n",
       "      <th>init-from</th>\n",
       "      <th>size(byte)</th>\n",
       "      <th>footprint(%)</th>\n",
       "      <th>psnr</th>\n",
       "      <th>bpp</th>\n",
       "      <th>CR</th>\n",
       "      <th>mse</th>\n",
       "      <th>ssim</th>\n",
       "      <th>cmprss-class</th>\n",
       "      <th>cmprss-class-2</th>\n",
       "      <th>cmprss-class-3</th>\n",
       "    </tr>\n",
       "  </thead>\n",
       "  <tbody>\n",
       "    <tr>\n",
       "      <th>0</th>\n",
       "      <td>1603478755-305517</td>\n",
       "      <td>-</td>\n",
       "      <td>229204.0</td>\n",
       "      <td>100.0</td>\n",
       "      <td>58.145780</td>\n",
       "      <td>27.979004</td>\n",
       "      <td>0.138523</td>\n",
       "      <td>0.000006</td>\n",
       "      <td>0.998769</td>\n",
       "      <td>Baseline:hf=75:hl=10</td>\n",
       "      <td>SIREN</td>\n",
       "      <td>SIREN</td>\n",
       "    </tr>\n",
       "    <tr>\n",
       "      <th>1</th>\n",
       "      <td>1603478755-305517</td>\n",
       "      <td>-</td>\n",
       "      <td>229204.0</td>\n",
       "      <td>100.0</td>\n",
       "      <td>56.492704</td>\n",
       "      <td>27.979004</td>\n",
       "      <td>0.138523</td>\n",
       "      <td>0.000009</td>\n",
       "      <td>0.998202</td>\n",
       "      <td>Baseline:hf=75:hl=10</td>\n",
       "      <td>SIREN</td>\n",
       "      <td>SIREN</td>\n",
       "    </tr>\n",
       "    <tr>\n",
       "      <th>2</th>\n",
       "      <td>1603478755-305517</td>\n",
       "      <td>-</td>\n",
       "      <td>229204.0</td>\n",
       "      <td>100.0</td>\n",
       "      <td>58.214385</td>\n",
       "      <td>27.979004</td>\n",
       "      <td>0.138523</td>\n",
       "      <td>0.000006</td>\n",
       "      <td>0.999085</td>\n",
       "      <td>Baseline:hf=75:hl=10</td>\n",
       "      <td>SIREN</td>\n",
       "      <td>SIREN</td>\n",
       "    </tr>\n",
       "    <tr>\n",
       "      <th>3</th>\n",
       "      <td>1603478755-305517</td>\n",
       "      <td>-</td>\n",
       "      <td>252004.0</td>\n",
       "      <td>100.0</td>\n",
       "      <td>53.486111</td>\n",
       "      <td>30.762207</td>\n",
       "      <td>0.125990</td>\n",
       "      <td>0.000018</td>\n",
       "      <td>0.997542</td>\n",
       "      <td>Baseline:hf=75:hl=11</td>\n",
       "      <td>SIREN</td>\n",
       "      <td>SIREN</td>\n",
       "    </tr>\n",
       "    <tr>\n",
       "      <th>4</th>\n",
       "      <td>1603478755-305517</td>\n",
       "      <td>-</td>\n",
       "      <td>252004.0</td>\n",
       "      <td>100.0</td>\n",
       "      <td>58.401365</td>\n",
       "      <td>30.762207</td>\n",
       "      <td>0.125990</td>\n",
       "      <td>0.000005</td>\n",
       "      <td>0.999003</td>\n",
       "      <td>Baseline:hf=75:hl=11</td>\n",
       "      <td>SIREN</td>\n",
       "      <td>SIREN</td>\n",
       "    </tr>\n",
       "  </tbody>\n",
       "</table>\n",
       "</div>"
      ],
      "text/plain": [
       "                date init-from  size(byte)  footprint(%)       psnr  \\\n",
       "0  1603478755-305517         -    229204.0         100.0  58.145780   \n",
       "1  1603478755-305517         -    229204.0         100.0  56.492704   \n",
       "2  1603478755-305517         -    229204.0         100.0  58.214385   \n",
       "3  1603478755-305517         -    252004.0         100.0  53.486111   \n",
       "4  1603478755-305517         -    252004.0         100.0  58.401365   \n",
       "\n",
       "         bpp        CR       mse      ssim          cmprss-class  \\\n",
       "0  27.979004  0.138523  0.000006  0.998769  Baseline:hf=75:hl=10   \n",
       "1  27.979004  0.138523  0.000009  0.998202  Baseline:hf=75:hl=10   \n",
       "2  27.979004  0.138523  0.000006  0.999085  Baseline:hf=75:hl=10   \n",
       "3  30.762207  0.125990  0.000018  0.997542  Baseline:hf=75:hl=11   \n",
       "4  30.762207  0.125990  0.000005  0.999003  Baseline:hf=75:hl=11   \n",
       "\n",
       "  cmprss-class-2 cmprss-class-3  \n",
       "0          SIREN          SIREN  \n",
       "1          SIREN          SIREN  \n",
       "2          SIREN          SIREN  \n",
       "3          SIREN          SIREN  \n",
       "4          SIREN          SIREN  "
      ]
     },
     "execution_count": 2,
     "metadata": {},
     "output_type": "execute_result"
    }
   ],
   "source": [
    "# df = pd.read_csv(\"C:\\\\Users\\\\Francesco\\\\Documents\\\\thesys\\\\code\\\\local_projects\\\\siren-train-logs\\\\notebooks\\\\analyze_quant_data\\\\uniform_csv_files\\\\train_uniform_baselines.csv\")\n",
    "cmprss_df = pd.read_csv(\"C:\\\\Users\\\\Francesco\\\\Documents\\\\thesys\\\\code\\\\local_projects\\\\siren-train-logs\\\\notebooks\\\\analyze_quant_data\\\\uniform_csv_files\\\\cmprs_df.csv\")\n",
    "if \"Unnamed: 0\" in cmprss_df.columns:\n",
    "    cmprss_df = cmprss_df.drop([\"Unnamed: 0\"], axis = 1)\n",
    "    pass\n",
    "def create_cmprss_class_3(item):\n",
    "    a_class, a_class_2 = item\n",
    "    if a_class_2 in \"AGP,BASELINE,JPEG\".split(\",\"):\n",
    "        if a_class_2 == 'BASELINE': return 'SIREN'\n",
    "        return a_class_2\n",
    "    return a_class\n",
    "def update_cmprss_class_2(item):\n",
    "    a_class, a_class_2 = item\n",
    "    if a_class_2 == 'BASELINE': return 'SIREN'\n",
    "    return a_class_2\n",
    "cmprss_df[\"cmprss-class-3\"] = list(map(create_cmprss_class_3, cmprss_df[[\"cmprss-class\", \"cmprss-class-2\"]].values))\n",
    "cmprss_df[\"cmprss-class-2\"] = list(map(update_cmprss_class_2, cmprss_df[[\"cmprss-class\", \"cmprss-class-2\"]].values))\n",
    "cmprss_df.head(5)"
   ]
  },
  {
   "cell_type": "code",
   "execution_count": 3,
   "metadata": {},
   "outputs": [],
   "source": [
    "jpeg_df = cmprss_df[cmprss_df[\"cmprss-class-2\"] == \"Jpeg\".upper()]"
   ]
  },
  {
   "cell_type": "markdown",
   "metadata": {},
   "source": [
    "### Load Current Experiment Dataset\n",
    "---"
   ]
  },
  {
   "cell_type": "code",
   "execution_count": 4,
   "metadata": {},
   "outputs": [],
   "source": [
    "data_path_pieces = [\n",
    "    \"C:\\\\Users\\\\Francesco\\\\Documents\\\\thesys\\\\code\\\\local_projects\\\\siren-train-logs\\\\notebooks\\\\analyze_quant_data\\\\uniform_csv_files\\\\tmp\\\\\",\n",
    "    \"high-freq-siren_qatrlq_uniform_2020.12.14-174343.csv\"\n",
    "]\n",
    "QAT_DATASET_PATH = os.path.join(*data_path_pieces)"
   ]
  },
  {
   "cell_type": "code",
   "execution_count": 5,
   "metadata": {},
   "outputs": [
    {
     "data": {
      "application/vnd.jupyter.widget-view+json": {
       "model_id": "06b2824adf2f4b75bcc3152d7a74becb",
       "version_major": 2,
       "version_minor": 0
      },
      "text/plain": [
       "interactive(children=(Dropdown(description='pick_dataset', options=('high-freq-siren_qatrlq_uniform_2020.12.14…"
      ]
     },
     "metadata": {},
     "output_type": "display_data"
    }
   ],
   "source": [
    "root_dir_tmp_datasets = \"C:\\\\Users\\\\Francesco\\\\Documents\\\\thesys\\\\code\\\\local_projects\\\\siren-train-logs\\\\notebooks\\\\analyze_quant_data\\\\uniform_csv_files\\\\tmp\\\\\"\n",
    "datasets_list = list(filter(lambda item: item.endswith(\".csv\"),os.listdir(root_dir_tmp_datasets)))\n",
    "QAT_DATASET_PATH = os.path.join(root_dir_tmp_datasets, datasets_list[0])\n",
    "@interact\n",
    "def pick_tmp_dataset(pick_dataset=datasets_list):\n",
    "    QAT_DATASET_PATH = os.path.join(root_dir_tmp_datasets, pick_dataset)\n",
    "    print(f\"Dataset picked: {QAT_DATASET_PATH}\")\n",
    "    qat_df = pd.read_csv(QAT_DATASET_PATH)\n",
    "    if \"Unnamed: 0\" in qat_df.columns:\n",
    "        qat_df = qat_df.drop([\"Unnamed: 0\"], axis = 1)\n",
    "        pass\n",
    "    tabular_data = [\n",
    "        [\"Path\", root_dir_tmp_datasets],\n",
    "        [\"Dataset Name\", pick_dataset],\n",
    "        [\"Dataset Shape\", qat_df.shape],\n",
    "        [\"Columns\", str(list(qat_df.columns))],\n",
    "        [\"Quant Techs\", str(list(set(qat_df[\"cmprss-class\"])))],\n",
    "        [\"Quant Techs-2\", str(list(set(qat_df[\"cmprss-class-2\"])))],\n",
    "    ]\n",
    "    metadata_table = dict(\n",
    "        tabular_data=tabular_data\n",
    "    )\n",
    "    table = tabulate.tabulate(**metadata_table)\n",
    "    print(table)\n",
    "    pass"
   ]
  },
  {
   "cell_type": "code",
   "execution_count": 7,
   "metadata": {},
   "outputs": [
    {
     "data": {
      "text/html": [
       "<div>\n",
       "<style scoped>\n",
       "    .dataframe tbody tr th:only-of-type {\n",
       "        vertical-align: middle;\n",
       "    }\n",
       "\n",
       "    .dataframe tbody tr th {\n",
       "        vertical-align: top;\n",
       "    }\n",
       "\n",
       "    .dataframe thead th {\n",
       "        text-align: right;\n",
       "    }\n",
       "</style>\n",
       "<table border=\"1\" class=\"dataframe\">\n",
       "  <thead>\n",
       "    <tr style=\"text-align: right;\">\n",
       "      <th></th>\n",
       "      <th>date</th>\n",
       "      <th>init-from</th>\n",
       "      <th>size(byte)</th>\n",
       "      <th>footprint(%)</th>\n",
       "      <th>psnr</th>\n",
       "      <th>bpp</th>\n",
       "      <th>CR</th>\n",
       "      <th>mse</th>\n",
       "      <th>ssim</th>\n",
       "      <th>cmprss-class</th>\n",
       "      <th>cmprss-class-2</th>\n",
       "    </tr>\n",
       "  </thead>\n",
       "  <tbody>\n",
       "    <tr>\n",
       "      <th>0</th>\n",
       "      <td>2021.01.12-222903</td>\n",
       "      <td>2020.12.14-174343</td>\n",
       "      <td>16420.0</td>\n",
       "      <td>19.552274</td>\n",
       "      <td>29.491423</td>\n",
       "      <td>2.004395</td>\n",
       "      <td>3.991230</td>\n",
       "      <td>0.004508</td>\n",
       "      <td>0.808308</td>\n",
       "      <td>AGP+QATRLQ:S:PCW</td>\n",
       "      <td>QATRLQ</td>\n",
       "    </tr>\n",
       "    <tr>\n",
       "      <th>1</th>\n",
       "      <td>2021.01.12-222940</td>\n",
       "      <td>2020.12.14-174343</td>\n",
       "      <td>16489.0</td>\n",
       "      <td>19.634437</td>\n",
       "      <td>39.044617</td>\n",
       "      <td>2.012817</td>\n",
       "      <td>3.974528</td>\n",
       "      <td>0.000499</td>\n",
       "      <td>0.970982</td>\n",
       "      <td>AGP+QATRLQ:S:PCW</td>\n",
       "      <td>QATRLQ</td>\n",
       "    </tr>\n",
       "    <tr>\n",
       "      <th>2</th>\n",
       "      <td>2021.01.12-223018</td>\n",
       "      <td>2020.12.14-174343</td>\n",
       "      <td>16352.0</td>\n",
       "      <td>19.471303</td>\n",
       "      <td>29.346378</td>\n",
       "      <td>1.996094</td>\n",
       "      <td>4.007828</td>\n",
       "      <td>0.004665</td>\n",
       "      <td>0.793262</td>\n",
       "      <td>AGP+QATRLQ:S:NNPCW</td>\n",
       "      <td>QATRLQ</td>\n",
       "    </tr>\n",
       "    <tr>\n",
       "      <th>3</th>\n",
       "      <td>2021.01.12-223053</td>\n",
       "      <td>2020.12.14-174343</td>\n",
       "      <td>16486.0</td>\n",
       "      <td>19.630864</td>\n",
       "      <td>37.734865</td>\n",
       "      <td>2.012451</td>\n",
       "      <td>3.975252</td>\n",
       "      <td>0.000674</td>\n",
       "      <td>0.961794</td>\n",
       "      <td>AGP+QATRLQ:S:NNPCW</td>\n",
       "      <td>QATRLQ</td>\n",
       "    </tr>\n",
       "    <tr>\n",
       "      <th>4</th>\n",
       "      <td>2021.01.12-223129</td>\n",
       "      <td>2020.12.14-174343</td>\n",
       "      <td>16404.0</td>\n",
       "      <td>19.533222</td>\n",
       "      <td>26.188218</td>\n",
       "      <td>2.002441</td>\n",
       "      <td>3.995123</td>\n",
       "      <td>0.009621</td>\n",
       "      <td>0.731177</td>\n",
       "      <td>AGP+QATRLQ:S:PCW</td>\n",
       "      <td>QATRLQ</td>\n",
       "    </tr>\n",
       "  </tbody>\n",
       "</table>\n",
       "</div>"
      ],
      "text/plain": [
       "                date          init-from  size(byte)  footprint(%)       psnr  \\\n",
       "0  2021.01.12-222903  2020.12.14-174343     16420.0     19.552274  29.491423   \n",
       "1  2021.01.12-222940  2020.12.14-174343     16489.0     19.634437  39.044617   \n",
       "2  2021.01.12-223018  2020.12.14-174343     16352.0     19.471303  29.346378   \n",
       "3  2021.01.12-223053  2020.12.14-174343     16486.0     19.630864  37.734865   \n",
       "4  2021.01.12-223129  2020.12.14-174343     16404.0     19.533222  26.188218   \n",
       "\n",
       "        bpp        CR       mse      ssim        cmprss-class cmprss-class-2  \n",
       "0  2.004395  3.991230  0.004508  0.808308    AGP+QATRLQ:S:PCW         QATRLQ  \n",
       "1  2.012817  3.974528  0.000499  0.970982    AGP+QATRLQ:S:PCW         QATRLQ  \n",
       "2  1.996094  4.007828  0.004665  0.793262  AGP+QATRLQ:S:NNPCW         QATRLQ  \n",
       "3  2.012451  3.975252  0.000674  0.961794  AGP+QATRLQ:S:NNPCW         QATRLQ  \n",
       "4  2.002441  3.995123  0.009621  0.731177    AGP+QATRLQ:S:PCW         QATRLQ  "
      ]
     },
     "execution_count": 7,
     "metadata": {},
     "output_type": "execute_result"
    }
   ],
   "source": [
    "qat_df = pd.read_csv(QAT_DATASET_PATH)\n",
    "if \"Unnamed: 0\" in qat_df.columns:\n",
    "    qat_df = qat_df.drop([\"Unnamed: 0\"], axis = 1)\n",
    "    pass\n",
    "qat_df.head(5)"
   ]
  },
  {
   "cell_type": "code",
   "execution_count": 8,
   "metadata": {},
   "outputs": [
    {
     "name": "stdout",
     "output_type": "stream",
     "text": [
      "<class 'pandas.core.frame.DataFrame'>\n",
      "RangeIndex: 70 entries, 0 to 69\n",
      "Data columns (total 11 columns):\n",
      " #   Column          Non-Null Count  Dtype  \n",
      "---  ------          --------------  -----  \n",
      " 0   date            70 non-null     object \n",
      " 1   init-from       70 non-null     object \n",
      " 2   size(byte)      70 non-null     float64\n",
      " 3   footprint(%)    70 non-null     float64\n",
      " 4   psnr            70 non-null     float64\n",
      " 5   bpp             70 non-null     float64\n",
      " 6   CR              70 non-null     float64\n",
      " 7   mse             70 non-null     float64\n",
      " 8   ssim            70 non-null     float64\n",
      " 9   cmprss-class    70 non-null     object \n",
      " 10  cmprss-class-2  70 non-null     object \n",
      "dtypes: float64(7), object(4)\n",
      "memory usage: 6.1+ KB\n"
     ]
    }
   ],
   "source": [
    "qat_df.info()"
   ]
  },
  {
   "cell_type": "code",
   "execution_count": 9,
   "metadata": {},
   "outputs": [
    {
     "data": {
      "text/html": [
       "<div>\n",
       "<style scoped>\n",
       "    .dataframe tbody tr th:only-of-type {\n",
       "        vertical-align: middle;\n",
       "    }\n",
       "\n",
       "    .dataframe tbody tr th {\n",
       "        vertical-align: top;\n",
       "    }\n",
       "\n",
       "    .dataframe thead th {\n",
       "        text-align: right;\n",
       "    }\n",
       "</style>\n",
       "<table border=\"1\" class=\"dataframe\">\n",
       "  <thead>\n",
       "    <tr style=\"text-align: right;\">\n",
       "      <th></th>\n",
       "      <th>date</th>\n",
       "      <th>init-from</th>\n",
       "      <th>size(byte)</th>\n",
       "      <th>footprint(%)</th>\n",
       "      <th>psnr</th>\n",
       "      <th>bpp</th>\n",
       "      <th>CR</th>\n",
       "      <th>mse</th>\n",
       "      <th>ssim</th>\n",
       "      <th>cmprss-class</th>\n",
       "      <th>cmprss-class-2</th>\n",
       "      <th>cmprss-class-3</th>\n",
       "    </tr>\n",
       "  </thead>\n",
       "  <tbody>\n",
       "    <tr>\n",
       "      <th>0</th>\n",
       "      <td>2021.01.12-222903</td>\n",
       "      <td>2020.12.14-174343</td>\n",
       "      <td>16420.0</td>\n",
       "      <td>19.552274</td>\n",
       "      <td>29.491423</td>\n",
       "      <td>2.004395</td>\n",
       "      <td>3.991230</td>\n",
       "      <td>0.004508</td>\n",
       "      <td>0.808308</td>\n",
       "      <td>AGP+QATRLQ:S:PCW</td>\n",
       "      <td>QATRLQ</td>\n",
       "      <td>AGP+QATRLQ:S:PCW</td>\n",
       "    </tr>\n",
       "    <tr>\n",
       "      <th>1</th>\n",
       "      <td>2021.01.12-222940</td>\n",
       "      <td>2020.12.14-174343</td>\n",
       "      <td>16489.0</td>\n",
       "      <td>19.634437</td>\n",
       "      <td>39.044617</td>\n",
       "      <td>2.012817</td>\n",
       "      <td>3.974528</td>\n",
       "      <td>0.000499</td>\n",
       "      <td>0.970982</td>\n",
       "      <td>AGP+QATRLQ:S:PCW</td>\n",
       "      <td>QATRLQ</td>\n",
       "      <td>AGP+QATRLQ:S:PCW</td>\n",
       "    </tr>\n",
       "    <tr>\n",
       "      <th>2</th>\n",
       "      <td>2021.01.12-223018</td>\n",
       "      <td>2020.12.14-174343</td>\n",
       "      <td>16352.0</td>\n",
       "      <td>19.471303</td>\n",
       "      <td>29.346378</td>\n",
       "      <td>1.996094</td>\n",
       "      <td>4.007828</td>\n",
       "      <td>0.004665</td>\n",
       "      <td>0.793262</td>\n",
       "      <td>AGP+QATRLQ:S:NNPCW</td>\n",
       "      <td>QATRLQ</td>\n",
       "      <td>AGP+QATRLQ:S:NNPCW</td>\n",
       "    </tr>\n",
       "    <tr>\n",
       "      <th>3</th>\n",
       "      <td>2021.01.12-223053</td>\n",
       "      <td>2020.12.14-174343</td>\n",
       "      <td>16486.0</td>\n",
       "      <td>19.630864</td>\n",
       "      <td>37.734865</td>\n",
       "      <td>2.012451</td>\n",
       "      <td>3.975252</td>\n",
       "      <td>0.000674</td>\n",
       "      <td>0.961794</td>\n",
       "      <td>AGP+QATRLQ:S:NNPCW</td>\n",
       "      <td>QATRLQ</td>\n",
       "      <td>AGP+QATRLQ:S:NNPCW</td>\n",
       "    </tr>\n",
       "    <tr>\n",
       "      <th>4</th>\n",
       "      <td>2021.01.12-223129</td>\n",
       "      <td>2020.12.14-174343</td>\n",
       "      <td>16404.0</td>\n",
       "      <td>19.533222</td>\n",
       "      <td>26.188218</td>\n",
       "      <td>2.002441</td>\n",
       "      <td>3.995123</td>\n",
       "      <td>0.009621</td>\n",
       "      <td>0.731177</td>\n",
       "      <td>AGP+QATRLQ:S:PCW</td>\n",
       "      <td>QATRLQ</td>\n",
       "      <td>AGP+QATRLQ:S:PCW</td>\n",
       "    </tr>\n",
       "  </tbody>\n",
       "</table>\n",
       "</div>"
      ],
      "text/plain": [
       "                date          init-from  size(byte)  footprint(%)       psnr  \\\n",
       "0  2021.01.12-222903  2020.12.14-174343     16420.0     19.552274  29.491423   \n",
       "1  2021.01.12-222940  2020.12.14-174343     16489.0     19.634437  39.044617   \n",
       "2  2021.01.12-223018  2020.12.14-174343     16352.0     19.471303  29.346378   \n",
       "3  2021.01.12-223053  2020.12.14-174343     16486.0     19.630864  37.734865   \n",
       "4  2021.01.12-223129  2020.12.14-174343     16404.0     19.533222  26.188218   \n",
       "\n",
       "        bpp        CR       mse      ssim        cmprss-class cmprss-class-2  \\\n",
       "0  2.004395  3.991230  0.004508  0.808308    AGP+QATRLQ:S:PCW         QATRLQ   \n",
       "1  2.012817  3.974528  0.000499  0.970982    AGP+QATRLQ:S:PCW         QATRLQ   \n",
       "2  1.996094  4.007828  0.004665  0.793262  AGP+QATRLQ:S:NNPCW         QATRLQ   \n",
       "3  2.012451  3.975252  0.000674  0.961794  AGP+QATRLQ:S:NNPCW         QATRLQ   \n",
       "4  2.002441  3.995123  0.009621  0.731177    AGP+QATRLQ:S:PCW         QATRLQ   \n",
       "\n",
       "       cmprss-class-3  \n",
       "0    AGP+QATRLQ:S:PCW  \n",
       "1    AGP+QATRLQ:S:PCW  \n",
       "2  AGP+QATRLQ:S:NNPCW  \n",
       "3  AGP+QATRLQ:S:NNPCW  \n",
       "4    AGP+QATRLQ:S:PCW  "
      ]
     },
     "execution_count": 9,
     "metadata": {},
     "output_type": "execute_result"
    }
   ],
   "source": [
    "def create_cmprss_class_3(item):\n",
    "    a_class, a_class_2 = item\n",
    "    if a_class_2 in \"AGP,BASELINE,JPEG\".split(\",\"):\n",
    "        if a_class_2 == 'BASELINE': return 'SIREN'\n",
    "        return a_class_2\n",
    "    return a_class\n",
    "def update_cmprss_class_2(item):\n",
    "    a_class, a_class_2 = item\n",
    "    if a_class_2 == 'BASELINE': return 'SIREN'\n",
    "    return a_class_2\n",
    "qat_df[\"cmprss-class-3\"] = list(map(create_cmprss_class_3, qat_df[[\"cmprss-class\", \"cmprss-class-2\"]].values))\n",
    "qat_df[\"cmprss-class-2\"] = list(map(update_cmprss_class_2, qat_df[[\"cmprss-class\", \"cmprss-class-2\"]].values))\n",
    "qat_df.head(5)"
   ]
  },
  {
   "cell_type": "code",
   "execution_count": 10,
   "metadata": {},
   "outputs": [
    {
     "data": {
      "application/vnd.jupyter.widget-view+json": {
       "model_id": "ea4b416947ac4931ac327dc5e70e72f7",
       "version_major": 2,
       "version_minor": 0
      },
      "text/plain": [
       "interactive(children=(Checkbox(value=True, description='hist_or_pie_chart'), Dropdown(description='theme', opt…"
      ]
     },
     "metadata": {},
     "output_type": "display_data"
    }
   ],
   "source": [
    "# qat_df[\"cmprss-class-2\"].iplot(kind=\"histogram\", bins=20, theme=\"white\", title=\"cmprss-class-2\", xTitle='cmprss-class-2', yTitle='Count')\n",
    "templates_list = [\"plotly\", \"plotly_white\", \"plotly_dark\", \"ggplot2\", \"seaborn\", \"simple_white\", \"none\"]\n",
    "@interact\n",
    "def scatter_plot(hist_or_pie_chart=True, theme=list(cf.themes.THEMES.keys()),\n",
    "                 colorscale=list(cf.colors._scales_names.keys()),\n",
    "                templates_pie=templates_list):\n",
    "    with warnings.catch_warnings():\n",
    "        # this will suppress all warnings in this block\n",
    "        warnings.simplefilter(\"ignore\")\n",
    "        if hist_or_pie_chart:\n",
    "            qat_df[\"cmprss-class-2\"].iplot(\n",
    "                kind=\"histogram\", bins=20,\n",
    "                title=\"cmprss-class-2\", xTitle='cmprss-class-2', yTitle='Count',\n",
    "                theme=theme, colorscale=colorscale)\n",
    "            pass\n",
    "        else:\n",
    "            occr_dict = dict(collections.Counter(qat_df[\"cmprss-class-2\"].values))\n",
    "            keys, values = list(occr_dict.keys()), list(occr_dict.values())\n",
    "            data = np.array(values)[:, np.newaxis]\n",
    "            # .iplot(kind=\"pie\", theme=\"white\", y = \"Occr\")\n",
    "            tmp_df = pd.DataFrame(data = data, index = keys, columns = [\"Occr\"])\n",
    "            # tmp_df.plot.pie(y='Occr', figsize=(5, 5))\n",
    "\n",
    "            fig = px.pie(tmp_df, values='Occr', names=tmp_df.index, template = templates_pie)\n",
    "            fig.show()\n",
    "            pass\n",
    "    pass"
   ]
  },
  {
   "cell_type": "code",
   "execution_count": 11,
   "metadata": {},
   "outputs": [
    {
     "data": {
      "application/vnd.jupyter.widget-view+json": {
       "model_id": "c4250fece3304c6fa8f208dd00083300",
       "version_major": 2,
       "version_minor": 0
      },
      "text/plain": [
       "interactive(children=(Checkbox(value=True, description='hist_or_pie_chart'), Dropdown(description='theme', opt…"
      ]
     },
     "metadata": {},
     "output_type": "display_data"
    }
   ],
   "source": [
    "# qat_df[\"cmprss-class-3\"].iplot(kind=\"histogram\", bins=20, theme=\"white\", title=\"cmprss-class-2\", xTitle='cmprss-class-2', yTitle='Count')\n",
    "templates_list = [\"plotly\", \"plotly_white\", \"plotly_dark\", \"ggplot2\", \"seaborn\", \"simple_white\", \"none\"]\n",
    "@interact\n",
    "def scatter_plot(hist_or_pie_chart=True, theme=list(cf.themes.THEMES.keys()), \n",
    "                 colorscale=list(cf.colors._scales_names.keys()),\n",
    "                 templates_pie=templates_list):\n",
    "    with warnings.catch_warnings():\n",
    "        # this will suppress all warnings in this block\n",
    "        warnings.simplefilter(\"ignore\")\n",
    "        if hist_or_pie_chart:\n",
    "            qat_df[\"cmprss-class-3\"].iplot(\n",
    "                kind=\"histogram\", bins=20,\n",
    "                title=\"cmprss-class-3\", xTitle='cmprss-class-3', yTitle='Count',\n",
    "                theme=theme, colorscale=colorscale)\n",
    "            pass\n",
    "        else:\n",
    "            templates_list = [\"plotly\", \"plotly_white\", \"plotly_dark\", \"ggplot2\", \"seaborn\", \"simple_white\", \"none\"]\n",
    "            occr_dict = dict(collections.Counter(qat_df[\"cmprss-class-3\"].values))\n",
    "            keys, values = list(occr_dict.keys()), list(occr_dict.values())\n",
    "            data = np.array(values)[:, np.newaxis]\n",
    "            # .iplot(kind=\"pie\", theme=\"white\", y = \"Occr\")\n",
    "            tmp_df = pd.DataFrame(data = data, index = keys, columns = [\"Occr\"])\n",
    "            fig = px.pie(tmp_df, values='Occr', names=tmp_df.index, template = templates_pie)\n",
    "            fig.show()\n",
    "            pass\n",
    "    pass"
   ]
  },
  {
   "cell_type": "code",
   "execution_count": 12,
   "metadata": {},
   "outputs": [
    {
     "data": {
      "application/vnd.jupyter.widget-view+json": {
       "model_id": "e23a49ebc7ba46aeb0ebe484cefc715e",
       "version_major": 2,
       "version_minor": 0
      },
      "text/plain": [
       "interactive(children=(Dropdown(description='x', options=('size(byte)', 'footprint(%)', 'psnr', 'bpp', 'CR', 'm…"
      ]
     },
     "metadata": {},
     "output_type": "display_data"
    }
   ],
   "source": [
    "qatrlq_df = qat_df[qat_df['cmprss-class-2'] == 'QATRLQ']['cmprss-class'].value_counts()\n",
    "df1 = pd.DataFrame([qatrlq_df])\n",
    "df1.index = ['QATRLQ']\n",
    "\n",
    "@interact\n",
    "def scatter_plot(x=list(qat_df.select_dtypes('number').columns), \n",
    "                 y=list(qat_df.select_dtypes('number').columns)[1:],\n",
    "                 theme=list(cf.themes.THEMES.keys()), \n",
    "                 colorscale=list(cf.colors._scales_names.keys())):\n",
    "    with warnings.catch_warnings():\n",
    "        # this will suppress all warnings in this block\n",
    "        warnings.simplefilter(\"ignore\")\n",
    "        df1.iplot(kind='bar',barmode='stack', title='Experimets by compression tech', theme=theme, colorscale=colorscale)\n",
    "        pass\n",
    "    pass"
   ]
  },
  {
   "cell_type": "code",
   "execution_count": 13,
   "metadata": {},
   "outputs": [
    {
     "data": {
      "application/vnd.jupyter.widget-view+json": {
       "model_id": "f5f859a5eb94436d88e35cf1d6f6e0f3",
       "version_major": 2,
       "version_minor": 0
      },
      "text/plain": [
       "interactive(children=(Checkbox(value=False, description='flag_add_jpeg_data'), Dropdown(description='x', optio…"
      ]
     },
     "metadata": {},
     "output_type": "display_data"
    }
   ],
   "source": [
    "@interact\n",
    "def scatter_plot(flag_add_jpeg_data=False, x=list(qat_df.select_dtypes('number').columns),\n",
    "                 y=list(qat_df.select_dtypes('number').columns)[1:],\n",
    "                 theme=list(cf.themes.THEMES.keys()), \n",
    "                 colorscale=list(cf.colors._scales_names.keys())):\n",
    "    with warnings.catch_warnings():\n",
    "        # this will suppress all warnings in this block\n",
    "        warnings.simplefilter(\"ignore\")\n",
    "        if flag_add_jpeg_data:\n",
    "            tmp_df = pd.concat([jpeg_df, qat_df[(qat_df[\"bpp\"] <= 12.0)]], axis = 0)\n",
    "            tmp_df.iplot(kind='scatter', x=x, y=y, mode='markers', \n",
    "             xTitle=x.capitalize(), yTitle=y.capitalize(),\n",
    "             text='cmprss-class',\n",
    "             title=f'{y.capitalize()} vs {x.capitalize()} for QAT-Compression + Jpge',\n",
    "            theme=theme, colorscale=colorscale, categories=\"cmprss-class-2\")\n",
    "        else:\n",
    "            qat_df[(qat_df[\"bpp\"] <= 12.0)].iplot(kind='scatter', x=x, y=y, mode='markers', \n",
    "             xTitle=x.capitalize(), yTitle=y.capitalize(),\n",
    "             text='cmprss-class',\n",
    "             title=f'{y.capitalize()} vs {x.capitalize()} for QAT-Compression',\n",
    "            theme=theme, colorscale=colorscale, categories=\"cmprss-class-2\")\n",
    "        pass\n",
    "    pass"
   ]
  },
  {
   "cell_type": "code",
   "execution_count": 14,
   "metadata": {},
   "outputs": [
    {
     "data": {
      "application/vnd.jupyter.widget-view+json": {
       "model_id": "62d9ac2aa49f46c8a1fc47fd346aaca3",
       "version_major": 2,
       "version_minor": 0
      },
      "text/plain": [
       "interactive(children=(Checkbox(value=False, description='flag_add_jpeg_data'), Dropdown(description='x', optio…"
      ]
     },
     "metadata": {},
     "output_type": "display_data"
    }
   ],
   "source": [
    "@interact\n",
    "def scatter_plot(flag_add_jpeg_data=False, x=list(qat_df.select_dtypes('number').columns),\n",
    "                 y=list(qat_df.select_dtypes('number').columns)[1:],\n",
    "                 theme=list(cf.themes.THEMES.keys()), \n",
    "                 colorscale=list(cf.colors._scales_names.keys())):\n",
    "    with warnings.catch_warnings():\n",
    "        # this will suppress all warnings in this block\n",
    "        warnings.simplefilter(\"ignore\")\n",
    "        if flag_add_jpeg_data:\n",
    "            tmp_df = pd.concat([jpeg_df, qat_df[(qat_df[\"bpp\"] <= 12.0)]], axis = 0)\n",
    "            tmp_df.iplot(kind='scatter', x=x, y=y, mode='markers', \n",
    "             xTitle=x.capitalize(), yTitle=y.capitalize(),\n",
    "             text='cmprss-class',\n",
    "             title=f'{y.capitalize()} vs {x.capitalize()}',\n",
    "            theme=theme, colorscale=colorscale, categories=\"cmprss-class-3\")\n",
    "        else:\n",
    "            qat_df[(qat_df[\"bpp\"] <= 12.0)].iplot(kind='scatter', x=x, y=y, mode='markers', \n",
    "             xTitle=x.capitalize(), yTitle=y.capitalize(),\n",
    "             text='cmprss-class',\n",
    "             title=f'{y.capitalize()} vs {x.capitalize()}',\n",
    "            theme=theme, colorscale=colorscale, categories=\"cmprss-class-3\")\n",
    "        pass\n",
    "        pass\n",
    "    pass"
   ]
  },
  {
   "cell_type": "code",
   "execution_count": 15,
   "metadata": {},
   "outputs": [
    {
     "data": {
      "application/vnd.jupyter.widget-view+json": {
       "model_id": "dd059da04d56459b8d7b8b9645a34ccb",
       "version_major": 2,
       "version_minor": 0
      },
      "text/plain": [
       "interactive(children=(Checkbox(value=False, description='flag_add_jpeg_data'), Dropdown(description='theme', o…"
      ]
     },
     "metadata": {},
     "output_type": "display_data"
    }
   ],
   "source": [
    "# qat_df[['cmprss-class-3', 'psnr']].pivot(columns='cmprss-class-3', values='psnr').iplot(kind='box')\n",
    "@interact\n",
    "def scatter_plot(flag_add_jpeg_data=False, theme=list(cf.themes.THEMES.keys()), colorscale=list(cf.colors._scales_names.keys())):\n",
    "    with warnings.catch_warnings():\n",
    "        # this will suppress all warnings in this block\n",
    "        warnings.simplefilter(\"ignore\")\n",
    "        if flag_add_jpeg_data:\n",
    "            tmp_df = pd.concat([jpeg_df, qat_df[(qat_df[\"bpp\"] <= 12.0)]], axis = 0)\n",
    "            tmp_df[['cmprss-class-3', 'psnr']]\\\n",
    "                .pivot(columns='cmprss-class-3', values='psnr')\\\n",
    "                .iplot(kind='box', theme=theme, colorscale=colorscale, title = 'Psnr(db) for QAT-Compression + Jpeg')\n",
    "        else:\n",
    "            qat_df[['cmprss-class-3', 'psnr']]\\\n",
    "                .pivot(columns='cmprss-class-3', values='psnr')\\\n",
    "                .iplot(kind='box', theme=theme, colorscale=colorscale, title = 'Psnr(db) for QAT-Compression')\n",
    "        pass\n",
    "    pass"
   ]
  },
  {
   "cell_type": "code",
   "execution_count": 16,
   "metadata": {},
   "outputs": [
    {
     "data": {
      "application/vnd.jupyter.widget-view+json": {
       "model_id": "2980e9c9d6944d9bac5087248443e7ea",
       "version_major": 2,
       "version_minor": 0
      },
      "text/plain": [
       "interactive(children=(Checkbox(value=False, description='flag_add_jpeg_data'), Dropdown(description='theme', o…"
      ]
     },
     "metadata": {},
     "output_type": "display_data"
    }
   ],
   "source": [
    "# qat_df[['cmprss-class-3', 'bpp']].pivot(columns='cmprss-class-3', values='bpp').iplot(kind='box')\n",
    "@interact\n",
    "def scatter_plot(flag_add_jpeg_data=False, theme=list(cf.themes.THEMES.keys()), colorscale=list(cf.colors._scales_names.keys())):\n",
    "    with warnings.catch_warnings():\n",
    "        # this will suppress all warnings in this block\n",
    "        warnings.simplefilter(\"ignore\")\n",
    "        if flag_add_jpeg_data:\n",
    "            tmp_df = pd.concat([jpeg_df, qat_df[(qat_df[\"bpp\"] <= 12.0)]], axis = 0)\n",
    "            tmp_df[['cmprss-class-3', 'bpp']].\\\n",
    "                pivot(columns='cmprss-class-3', values='bpp').\\\n",
    "                iplot(kind='box', theme=theme, colorscale=colorscale, title = 'Bpp for QAT-Compression + Jpeg')\n",
    "        else:\n",
    "            qat_df[['cmprss-class-3', 'bpp']]\\\n",
    "                .pivot(columns='cmprss-class-3', values='bpp')\\\n",
    "            .iplot(kind='box', theme=theme, colorscale=colorscale, title = 'Bpp for QAT-Compression')\n",
    "        pass\n",
    "    pass"
   ]
  },
  {
   "cell_type": "markdown",
   "metadata": {},
   "source": [
    "### Comparing table\n",
    "---"
   ]
  },
  {
   "cell_type": "code",
   "execution_count": 17,
   "metadata": {},
   "outputs": [
    {
     "data": {
      "text/html": [
       "<div>\n",
       "<style scoped>\n",
       "    .dataframe tbody tr th:only-of-type {\n",
       "        vertical-align: middle;\n",
       "    }\n",
       "\n",
       "    .dataframe tbody tr th {\n",
       "        vertical-align: top;\n",
       "    }\n",
       "\n",
       "    .dataframe thead th {\n",
       "        text-align: right;\n",
       "    }\n",
       "</style>\n",
       "<table border=\"1\" class=\"dataframe\">\n",
       "  <thead>\n",
       "    <tr style=\"text-align: right;\">\n",
       "      <th></th>\n",
       "      <th>date</th>\n",
       "      <th>init-from</th>\n",
       "      <th>size(byte)</th>\n",
       "      <th>footprint(%)</th>\n",
       "      <th>psnr</th>\n",
       "      <th>bpp</th>\n",
       "      <th>CR</th>\n",
       "      <th>mse</th>\n",
       "      <th>ssim</th>\n",
       "      <th>cmprss-class</th>\n",
       "      <th>cmprss-class-2</th>\n",
       "    </tr>\n",
       "  </thead>\n",
       "  <tbody>\n",
       "    <tr>\n",
       "      <th>0</th>\n",
       "      <td>2020.11.29-231149</td>\n",
       "      <td>-</td>\n",
       "      <td>83980.0</td>\n",
       "      <td>100.0</td>\n",
       "      <td>49.16</td>\n",
       "      <td>10.251465</td>\n",
       "      <td>0.780376</td>\n",
       "      <td>0.000049</td>\n",
       "      <td>0.996</td>\n",
       "      <td>Baseline-n_hf64-n_hl5</td>\n",
       "      <td>BASELINE</td>\n",
       "    </tr>\n",
       "  </tbody>\n",
       "</table>\n",
       "</div>"
      ],
      "text/plain": [
       "                date init-from  size(byte)  footprint(%)   psnr        bpp  \\\n",
       "0  2020.11.29-231149         -     83980.0         100.0  49.16  10.251465   \n",
       "\n",
       "         CR       mse   ssim           cmprss-class cmprss-class-2  \n",
       "0  0.780376  0.000049  0.996  Baseline-n_hf64-n_hl5       BASELINE  "
      ]
     },
     "execution_count": 17,
     "metadata": {},
     "output_type": "execute_result"
    }
   ],
   "source": [
    "baseline_data = ['2020.11.29-231149','-',20995*32/8,100.,49.16,20995*32/(256*256), (256*256*8)/(20995*32), 4.86e-5,9.96e-1,'Baseline-n_hf64-n_hl5', 'BASELINE']\n",
    "columns = 'date,init-from,size(byte),footprint(%),psnr,bpp,CR,mse,ssim,cmprss-class,cmprss-class-2'.split(\",\")\n",
    "baseline_data_df = pd.DataFrame([baseline_data], columns = columns)\n",
    "baseline_data_df"
   ]
  },
  {
   "cell_type": "code",
   "execution_count": 18,
   "metadata": {},
   "outputs": [
    {
     "data": {
      "text/html": [
       "<style  type=\"text/css\" >\n",
       "</style><table id=\"T_4bc11a10_5596_11eb_ad40_7824af1da0e3\" ><thead>    <tr>        <th class=\"col_heading level0 col0\" >date</th>        <th class=\"col_heading level0 col1\" >init-from</th>        <th class=\"col_heading level0 col2\" >size(byte)</th>        <th class=\"col_heading level0 col3\" >footprint(%)</th>        <th class=\"col_heading level0 col4\" >psnr</th>        <th class=\"col_heading level0 col5\" >bpp</th>        <th class=\"col_heading level0 col6\" >CR</th>        <th class=\"col_heading level0 col7\" >mse</th>        <th class=\"col_heading level0 col8\" >ssim</th>        <th class=\"col_heading level0 col9\" >cmprss-class</th>        <th class=\"col_heading level0 col10\" >cmprss-class-2</th>        <th class=\"col_heading level0 col11\" >cmprss-class-3</th>    </tr></thead><tbody>\n",
       "                <tr>\n",
       "                                <td id=\"T_4bc11a10_5596_11eb_ad40_7824af1da0e3row0_col0\" class=\"data row0 col0\" >2021.01.12-224034</td>\n",
       "                        <td id=\"T_4bc11a10_5596_11eb_ad40_7824af1da0e3row0_col1\" class=\"data row0 col1\" >2020.12.14-174343</td>\n",
       "                        <td id=\"T_4bc11a10_5596_11eb_ad40_7824af1da0e3row0_col2\" class=\"data row0 col2\" >16486.000000</td>\n",
       "                        <td id=\"T_4bc11a10_5596_11eb_ad40_7824af1da0e3row0_col3\" class=\"data row0 col3\" >19.630864</td>\n",
       "                        <td id=\"T_4bc11a10_5596_11eb_ad40_7824af1da0e3row0_col4\" class=\"data row0 col4\" >37.734865</td>\n",
       "                        <td id=\"T_4bc11a10_5596_11eb_ad40_7824af1da0e3row0_col5\" class=\"data row0 col5\" >2.012451</td>\n",
       "                        <td id=\"T_4bc11a10_5596_11eb_ad40_7824af1da0e3row0_col6\" class=\"data row0 col6\" >3.975252</td>\n",
       "                        <td id=\"T_4bc11a10_5596_11eb_ad40_7824af1da0e3row0_col7\" class=\"data row0 col7\" >0.000674</td>\n",
       "                        <td id=\"T_4bc11a10_5596_11eb_ad40_7824af1da0e3row0_col8\" class=\"data row0 col8\" >0.961794</td>\n",
       "                        <td id=\"T_4bc11a10_5596_11eb_ad40_7824af1da0e3row0_col9\" class=\"data row0 col9\" >AGP+QATRLQ:AS:NNPCW</td>\n",
       "                        <td id=\"T_4bc11a10_5596_11eb_ad40_7824af1da0e3row0_col10\" class=\"data row0 col10\" >QATRLQ</td>\n",
       "                        <td id=\"T_4bc11a10_5596_11eb_ad40_7824af1da0e3row0_col11\" class=\"data row0 col11\" >AGP+QATRLQ:AS:NNPCW</td>\n",
       "            </tr>\n",
       "            <tr>\n",
       "                                <td id=\"T_4bc11a10_5596_11eb_ad40_7824af1da0e3row1_col0\" class=\"data row1 col0\" >2021.01.12-223921</td>\n",
       "                        <td id=\"T_4bc11a10_5596_11eb_ad40_7824af1da0e3row1_col1\" class=\"data row1 col1\" >2020.12.14-174343</td>\n",
       "                        <td id=\"T_4bc11a10_5596_11eb_ad40_7824af1da0e3row1_col2\" class=\"data row1 col2\" >16489.000000</td>\n",
       "                        <td id=\"T_4bc11a10_5596_11eb_ad40_7824af1da0e3row1_col3\" class=\"data row1 col3\" >19.634437</td>\n",
       "                        <td id=\"T_4bc11a10_5596_11eb_ad40_7824af1da0e3row1_col4\" class=\"data row1 col4\" >39.044617</td>\n",
       "                        <td id=\"T_4bc11a10_5596_11eb_ad40_7824af1da0e3row1_col5\" class=\"data row1 col5\" >2.012817</td>\n",
       "                        <td id=\"T_4bc11a10_5596_11eb_ad40_7824af1da0e3row1_col6\" class=\"data row1 col6\" >3.974528</td>\n",
       "                        <td id=\"T_4bc11a10_5596_11eb_ad40_7824af1da0e3row1_col7\" class=\"data row1 col7\" >0.000499</td>\n",
       "                        <td id=\"T_4bc11a10_5596_11eb_ad40_7824af1da0e3row1_col8\" class=\"data row1 col8\" >0.970982</td>\n",
       "                        <td id=\"T_4bc11a10_5596_11eb_ad40_7824af1da0e3row1_col9\" class=\"data row1 col9\" >AGP+QATRLQ:AS:PCW</td>\n",
       "                        <td id=\"T_4bc11a10_5596_11eb_ad40_7824af1da0e3row1_col10\" class=\"data row1 col10\" >QATRLQ</td>\n",
       "                        <td id=\"T_4bc11a10_5596_11eb_ad40_7824af1da0e3row1_col11\" class=\"data row1 col11\" >AGP+QATRLQ:AS:PCW</td>\n",
       "            </tr>\n",
       "            <tr>\n",
       "                                <td id=\"T_4bc11a10_5596_11eb_ad40_7824af1da0e3row2_col0\" class=\"data row2 col0\" >2021.01.12-223544</td>\n",
       "                        <td id=\"T_4bc11a10_5596_11eb_ad40_7824af1da0e3row2_col1\" class=\"data row2 col1\" >2020.12.14-174343</td>\n",
       "                        <td id=\"T_4bc11a10_5596_11eb_ad40_7824af1da0e3row2_col2\" class=\"data row2 col2\" >16486.000000</td>\n",
       "                        <td id=\"T_4bc11a10_5596_11eb_ad40_7824af1da0e3row2_col3\" class=\"data row2 col3\" >19.630864</td>\n",
       "                        <td id=\"T_4bc11a10_5596_11eb_ad40_7824af1da0e3row2_col4\" class=\"data row2 col4\" >37.734865</td>\n",
       "                        <td id=\"T_4bc11a10_5596_11eb_ad40_7824af1da0e3row2_col5\" class=\"data row2 col5\" >2.012451</td>\n",
       "                        <td id=\"T_4bc11a10_5596_11eb_ad40_7824af1da0e3row2_col6\" class=\"data row2 col6\" >3.975252</td>\n",
       "                        <td id=\"T_4bc11a10_5596_11eb_ad40_7824af1da0e3row2_col7\" class=\"data row2 col7\" >0.000674</td>\n",
       "                        <td id=\"T_4bc11a10_5596_11eb_ad40_7824af1da0e3row2_col8\" class=\"data row2 col8\" >0.961794</td>\n",
       "                        <td id=\"T_4bc11a10_5596_11eb_ad40_7824af1da0e3row2_col9\" class=\"data row2 col9\" >AGP+QATRLQ:AU:NNPCW</td>\n",
       "                        <td id=\"T_4bc11a10_5596_11eb_ad40_7824af1da0e3row2_col10\" class=\"data row2 col10\" >QATRLQ</td>\n",
       "                        <td id=\"T_4bc11a10_5596_11eb_ad40_7824af1da0e3row2_col11\" class=\"data row2 col11\" >AGP+QATRLQ:AU:NNPCW</td>\n",
       "            </tr>\n",
       "            <tr>\n",
       "                                <td id=\"T_4bc11a10_5596_11eb_ad40_7824af1da0e3row3_col0\" class=\"data row3 col0\" >2021.01.12-223431</td>\n",
       "                        <td id=\"T_4bc11a10_5596_11eb_ad40_7824af1da0e3row3_col1\" class=\"data row3 col1\" >2020.12.14-174343</td>\n",
       "                        <td id=\"T_4bc11a10_5596_11eb_ad40_7824af1da0e3row3_col2\" class=\"data row3 col2\" >16489.000000</td>\n",
       "                        <td id=\"T_4bc11a10_5596_11eb_ad40_7824af1da0e3row3_col3\" class=\"data row3 col3\" >19.634437</td>\n",
       "                        <td id=\"T_4bc11a10_5596_11eb_ad40_7824af1da0e3row3_col4\" class=\"data row3 col4\" >39.044617</td>\n",
       "                        <td id=\"T_4bc11a10_5596_11eb_ad40_7824af1da0e3row3_col5\" class=\"data row3 col5\" >2.012817</td>\n",
       "                        <td id=\"T_4bc11a10_5596_11eb_ad40_7824af1da0e3row3_col6\" class=\"data row3 col6\" >3.974528</td>\n",
       "                        <td id=\"T_4bc11a10_5596_11eb_ad40_7824af1da0e3row3_col7\" class=\"data row3 col7\" >0.000499</td>\n",
       "                        <td id=\"T_4bc11a10_5596_11eb_ad40_7824af1da0e3row3_col8\" class=\"data row3 col8\" >0.970982</td>\n",
       "                        <td id=\"T_4bc11a10_5596_11eb_ad40_7824af1da0e3row3_col9\" class=\"data row3 col9\" >AGP+QATRLQ:AU:PCW</td>\n",
       "                        <td id=\"T_4bc11a10_5596_11eb_ad40_7824af1da0e3row3_col10\" class=\"data row3 col10\" >QATRLQ</td>\n",
       "                        <td id=\"T_4bc11a10_5596_11eb_ad40_7824af1da0e3row3_col11\" class=\"data row3 col11\" >AGP+QATRLQ:AU:PCW</td>\n",
       "            </tr>\n",
       "            <tr>\n",
       "                                <td id=\"T_4bc11a10_5596_11eb_ad40_7824af1da0e3row4_col0\" class=\"data row4 col0\" >2021.01.12-223053</td>\n",
       "                        <td id=\"T_4bc11a10_5596_11eb_ad40_7824af1da0e3row4_col1\" class=\"data row4 col1\" >2020.12.14-174343</td>\n",
       "                        <td id=\"T_4bc11a10_5596_11eb_ad40_7824af1da0e3row4_col2\" class=\"data row4 col2\" >16486.000000</td>\n",
       "                        <td id=\"T_4bc11a10_5596_11eb_ad40_7824af1da0e3row4_col3\" class=\"data row4 col3\" >19.630864</td>\n",
       "                        <td id=\"T_4bc11a10_5596_11eb_ad40_7824af1da0e3row4_col4\" class=\"data row4 col4\" >37.734865</td>\n",
       "                        <td id=\"T_4bc11a10_5596_11eb_ad40_7824af1da0e3row4_col5\" class=\"data row4 col5\" >2.012451</td>\n",
       "                        <td id=\"T_4bc11a10_5596_11eb_ad40_7824af1da0e3row4_col6\" class=\"data row4 col6\" >3.975252</td>\n",
       "                        <td id=\"T_4bc11a10_5596_11eb_ad40_7824af1da0e3row4_col7\" class=\"data row4 col7\" >0.000674</td>\n",
       "                        <td id=\"T_4bc11a10_5596_11eb_ad40_7824af1da0e3row4_col8\" class=\"data row4 col8\" >0.961794</td>\n",
       "                        <td id=\"T_4bc11a10_5596_11eb_ad40_7824af1da0e3row4_col9\" class=\"data row4 col9\" >AGP+QATRLQ:S:NNPCW</td>\n",
       "                        <td id=\"T_4bc11a10_5596_11eb_ad40_7824af1da0e3row4_col10\" class=\"data row4 col10\" >QATRLQ</td>\n",
       "                        <td id=\"T_4bc11a10_5596_11eb_ad40_7824af1da0e3row4_col11\" class=\"data row4 col11\" >AGP+QATRLQ:S:NNPCW</td>\n",
       "            </tr>\n",
       "    </tbody></table>"
      ],
      "text/plain": [
       "<pandas.io.formats.style.Styler at 0x1c4ecc3ebc8>"
      ]
     },
     "execution_count": 18,
     "metadata": {},
     "output_type": "execute_result"
    }
   ],
   "source": [
    "list_df = []\n",
    "for gp_name, gp_data in qat_df.groupby(by = ['cmprss-class']):\n",
    "    psnr_max = max(gp_data[\"psnr\"].values)\n",
    "    first_row_max_psnr = gp_data[gp_data[\"psnr\"] == psnr_max].iloc[0,:]\n",
    "    list_df.append(first_row_max_psnr)\n",
    "    pass\n",
    "siren_qatrlq_best_df = pd.DataFrame(list_df)\n",
    "siren_qatrlq_best_df.head(5).style.hide_index()"
   ]
  },
  {
   "cell_type": "code",
   "execution_count": 19,
   "metadata": {},
   "outputs": [
    {
     "data": {
      "text/html": [
       "<div>\n",
       "<style scoped>\n",
       "    .dataframe tbody tr th:only-of-type {\n",
       "        vertical-align: middle;\n",
       "    }\n",
       "\n",
       "    .dataframe tbody tr th {\n",
       "        vertical-align: top;\n",
       "    }\n",
       "\n",
       "    .dataframe thead th {\n",
       "        text-align: right;\n",
       "    }\n",
       "</style>\n",
       "<table border=\"1\" class=\"dataframe\">\n",
       "  <thead>\n",
       "    <tr style=\"text-align: right;\">\n",
       "      <th></th>\n",
       "      <th>date</th>\n",
       "      <th>init-from</th>\n",
       "      <th>size(byte)</th>\n",
       "      <th>footprint(%)</th>\n",
       "      <th>psnr</th>\n",
       "      <th>bpp</th>\n",
       "      <th>CR</th>\n",
       "      <th>mse</th>\n",
       "      <th>ssim</th>\n",
       "      <th>cmprss-class</th>\n",
       "      <th>cmprss-class-2</th>\n",
       "      <th>cmprss-class-3</th>\n",
       "    </tr>\n",
       "  </thead>\n",
       "  <tbody>\n",
       "    <tr>\n",
       "      <th>398</th>\n",
       "      <td>-</td>\n",
       "      <td>-</td>\n",
       "      <td>16741.0</td>\n",
       "      <td>19.934508</td>\n",
       "      <td>47.078218</td>\n",
       "      <td>2.043579</td>\n",
       "      <td>1.896541</td>\n",
       "      <td>1.274261</td>\n",
       "      <td>0.994504</td>\n",
       "      <td>JPEG:93</td>\n",
       "      <td>JPEG</td>\n",
       "      <td>JPEG</td>\n",
       "    </tr>\n",
       "    <tr>\n",
       "      <th>399</th>\n",
       "      <td>-</td>\n",
       "      <td>-</td>\n",
       "      <td>18181.0</td>\n",
       "      <td>21.649202</td>\n",
       "      <td>47.827533</td>\n",
       "      <td>2.219360</td>\n",
       "      <td>1.746329</td>\n",
       "      <td>1.072327</td>\n",
       "      <td>0.995091</td>\n",
       "      <td>JPEG:94</td>\n",
       "      <td>JPEG</td>\n",
       "      <td>JPEG</td>\n",
       "    </tr>\n",
       "    <tr>\n",
       "      <th>400</th>\n",
       "      <td>-</td>\n",
       "      <td>-</td>\n",
       "      <td>19863.0</td>\n",
       "      <td>23.652060</td>\n",
       "      <td>48.693716</td>\n",
       "      <td>2.424683</td>\n",
       "      <td>1.598449</td>\n",
       "      <td>0.878433</td>\n",
       "      <td>0.995725</td>\n",
       "      <td>JPEG:95</td>\n",
       "      <td>JPEG</td>\n",
       "      <td>JPEG</td>\n",
       "    </tr>\n",
       "  </tbody>\n",
       "</table>\n",
       "</div>"
      ],
      "text/plain": [
       "    date init-from  size(byte)  footprint(%)       psnr       bpp        CR  \\\n",
       "398    -         -     16741.0     19.934508  47.078218  2.043579  1.896541   \n",
       "399    -         -     18181.0     21.649202  47.827533  2.219360  1.746329   \n",
       "400    -         -     19863.0     23.652060  48.693716  2.424683  1.598449   \n",
       "\n",
       "          mse      ssim cmprss-class cmprss-class-2 cmprss-class-3  \n",
       "398  1.274261  0.994504      JPEG:93           JPEG           JPEG  \n",
       "399  1.072327  0.995091      JPEG:94           JPEG           JPEG  \n",
       "400  0.878433  0.995725      JPEG:95           JPEG           JPEG  "
      ]
     },
     "execution_count": 19,
     "metadata": {},
     "output_type": "execute_result"
    }
   ],
   "source": [
    "best_nth_jpge_df = jpeg_df.tail(3)\n",
    "best_nth_jpge_df"
   ]
  },
  {
   "cell_type": "code",
   "execution_count": 20,
   "metadata": {},
   "outputs": [
    {
     "data": {
      "text/html": [
       "<div>\n",
       "<style scoped>\n",
       "    .dataframe tbody tr th:only-of-type {\n",
       "        vertical-align: middle;\n",
       "    }\n",
       "\n",
       "    .dataframe tbody tr th {\n",
       "        vertical-align: top;\n",
       "    }\n",
       "\n",
       "    .dataframe thead th {\n",
       "        text-align: right;\n",
       "    }\n",
       "</style>\n",
       "<table border=\"1\" class=\"dataframe\">\n",
       "  <thead>\n",
       "    <tr style=\"text-align: right;\">\n",
       "      <th></th>\n",
       "      <th>date</th>\n",
       "      <th>init-from</th>\n",
       "      <th>size(byte)</th>\n",
       "      <th>footprint(%)</th>\n",
       "      <th>psnr</th>\n",
       "      <th>bpp</th>\n",
       "      <th>CR</th>\n",
       "      <th>mse</th>\n",
       "      <th>ssim</th>\n",
       "      <th>cmprss-class</th>\n",
       "      <th>cmprss-class-2</th>\n",
       "      <th>cmprss-class-3</th>\n",
       "    </tr>\n",
       "  </thead>\n",
       "  <tbody>\n",
       "    <tr>\n",
       "      <th>0</th>\n",
       "      <td>-</td>\n",
       "      <td>-</td>\n",
       "      <td>7554.0</td>\n",
       "      <td>8.994999</td>\n",
       "      <td>38.999517</td>\n",
       "      <td>0.922119</td>\n",
       "      <td>4.203071</td>\n",
       "      <td>8.187073</td>\n",
       "      <td>0.977569</td>\n",
       "      <td>JPEG:64</td>\n",
       "      <td>JPEG</td>\n",
       "      <td>JPEG</td>\n",
       "    </tr>\n",
       "  </tbody>\n",
       "</table>\n",
       "</div>"
      ],
      "text/plain": [
       "  date init-from  size(byte)  footprint(%)       psnr       bpp        CR  \\\n",
       "0    -         -      7554.0      8.994999  38.999517  0.922119  4.203071   \n",
       "\n",
       "        mse      ssim cmprss-class cmprss-class-2 cmprss-class-3  \n",
       "0  8.187073  0.977569      JPEG:64           JPEG           JPEG  "
      ]
     },
     "execution_count": 20,
     "metadata": {},
     "output_type": "execute_result"
    }
   ],
   "source": [
    "tmp_jpeg_df = jpeg_df[jpeg_df[\"psnr\"] <= max(qat_df[\"psnr\"].values)]\n",
    "best_jpeg_equal_lower_qat_data = tmp_jpeg_df.sort_values(by = [\"psnr\"], ascending = False).iloc[0,:]\n",
    "best_jpeg_equal_lower_qat_data = pd.DataFrame([best_jpeg_equal_lower_qat_data.values], columns = best_jpeg_equal_lower_qat_data.index)\n",
    "best_jpeg_equal_lower_qat_data"
   ]
  },
  {
   "cell_type": "code",
   "execution_count": 21,
   "metadata": {},
   "outputs": [],
   "source": [
    "list_dfs = [baseline_data_df,\n",
    "            #siren_agp_baselines.iloc[0:,:],\n",
    "            siren_qatrlq_best_df,\n",
    "            best_nth_jpge_df.sort_values(by=[\"psnr\"], ascending=False),\n",
    "            best_jpeg_equal_lower_qat_data,\n",
    "           ]\n",
    "table_df = pd.concat(list_dfs, axis = 0, ignore_index = True)"
   ]
  },
  {
   "cell_type": "code",
   "execution_count": 22,
   "metadata": {},
   "outputs": [
    {
     "data": {
      "application/vnd.jupyter.widget-view+json": {
       "model_id": "cbdfe4122d0345459e304db46a2030ed",
       "version_major": 2,
       "version_minor": 0
      },
      "text/plain": [
       "interactive(children=(Checkbox(value=True, description='hide_index'), Checkbox(value=False, description='hide_…"
      ]
     },
     "metadata": {},
     "output_type": "display_data"
    }
   ],
   "source": [
    "metadata_table = dict(\n",
    "    table_df=table_df,\n",
    "    show_columns=\"date,init-from,cmprss-class,size(byte),footprint(%),psnr,bpp,CR,ssim,delta_psnr,delta_psnr(%),delta_bpp,delta_bpp(%)\".split(\",\"),\n",
    "    delta_columns=\"footprint(%),psnr,bpp,CR,delta_psnr,delta_psnr(%),delta_bpp,delta_bpp(%)\".split(\",\"),\n",
    "    formatter_dict={'size(byte)': \"{:.0f}\",'ssim':'{:.3e}'},\n",
    "    extend_formatter_keys=\"footprint(%),psnr,bpp,CR,delta_psnr,delta_psnr(%),delta_bpp,delta_bpp(%)\".split(\",\")\n",
    ")\n",
    "cmap_list = \"'Accent', 'Accent_r', 'Blues', 'Blues_r', 'BrBG', 'BrBG_r', 'BuGn', 'BuGn_r', 'BuPu', 'BuPu_r', 'CMRmap', 'CMRmap_r', 'Dark2', 'Dark2_r', 'GnBu', 'GnBu_r', 'Greens', 'Greens_r', 'Greys', 'Greys_r', 'OrRd', 'OrRd_r', 'Oranges', 'Oranges_r', 'PRGn', 'PRGn_r', 'Paired', 'Paired_r', 'Pastel1', 'Pastel1_r', 'Pastel2', 'Pastel2_r', 'PiYG', 'PiYG_r', 'PuBu', 'PuBuGn', 'PuBuGn_r', 'PuBu_r', 'PuOr', 'PuOr_r', 'PuRd', 'PuRd_r', 'Purples', 'Purples_r', 'RdBu', 'RdBu_r', 'RdGy', 'RdGy_r', 'RdPu', 'RdPu_r', 'RdYlBu', 'RdYlBu_r', 'RdYlGn', 'RdYlGn_r', 'Reds', 'Reds_r', 'Set1', 'Set1_r', 'Set2', 'Set2_r', 'Set3', 'Set3_r', 'Spectral', 'Spectral_r', 'Wistia', 'Wistia_r', 'YlGn', 'YlGnBu', 'YlGnBu_r', 'YlGn_r', 'YlOrBr', 'YlOrBr_r', 'YlOrRd', 'YlOrRd_r', 'afmhot', 'afmhot_r', 'autumn', 'autumn_r', 'binary', 'binary_r', 'bone', 'bone_r', 'brg', 'brg_r', 'bwr', 'bwr_r', 'cividis', 'cividis_r', 'cool', 'cool_r', 'coolwarm', 'coolwarm_r', 'copper', 'copper_r', 'crest', 'crest_r', 'cubehelix', 'cubehelix_r', 'flag', 'flag_r', 'flare', 'flare_r', 'gist_earth', 'gist_earth_r', 'gist_gray', 'gist_gray_r', 'gist_heat', 'gist_heat_r', 'gist_ncar', 'gist_ncar_r', 'gist_rainbow', 'gist_rainbow_r', 'gist_stern', 'gist_stern_r', 'gist_yarg', 'gist_yarg_r', 'gnuplot', 'gnuplot2', 'gnuplot2_r', 'gnuplot_r', 'gray', 'gray_r', 'hot', 'hot_r', 'hsv', 'hsv_r', 'icefire', 'icefire_r', 'inferno', 'inferno_r', 'jet', 'jet_r', 'magma', 'magma_r', 'mako', 'mako_r', 'nipy_spectral', 'nipy_spectral_r', 'ocean', 'ocean_r', 'pink', 'pink_r', 'plasma', 'plasma_r', 'prism', 'prism_r', 'rainbow', 'rainbow_r', 'rocket', 'rocket_r', 'seismic', 'seismic_r', 'spring', 'spring_r', 'summer', 'summer_r', 'tab10', 'tab10_r', 'tab20', 'tab20_r', 'tab20b', 'tab20b_r', 'tab20c', 'tab20c_r', 'terrain', 'terrain_r', 'turbo', 'turbo_r', 'twilight', 'twilight_r', 'twilight_shifted', 'twilight_shifted_r', 'viridis', 'viridis_r', 'vlag', 'vlag_r', 'winter', 'winter_r'\"\n",
    "cmap_list = [item.strip(\" \").strip(\"''\") for item in cmap_list.split(\",\")]\n",
    "@interact\n",
    "def scatter_plot(hide_index=True, hide_date_init_from=False, enable_cmap=True, show_deltas=True, cmap=cmap_list):\n",
    "    with warnings.catch_warnings():\n",
    "        # this will suppress all warnings in this block\n",
    "        warnings.simplefilter(\"ignore\")\n",
    "        metadata_table['hide_index'] = hide_index\n",
    "        metadata_table['cmap'] = cmap\n",
    "        metadata_table['enable_cmap'] = enable_cmap\n",
    "        metadata_table[\"show_deltas\"] = show_deltas\n",
    "        metadata_table[\"hide_date_init_from\"] = hide_date_init_from\n",
    "        resulting_table_df = create_comparing_results_table(**metadata_table)\n",
    "        display(resulting_table_df)\n",
    "    pass"
   ]
  },
  {
   "cell_type": "code",
   "execution_count": null,
   "metadata": {},
   "outputs": [],
   "source": []
  }
 ],
 "metadata": {
  "kernelspec": {
   "display_name": "Python 3",
   "language": "python",
   "name": "python3"
  },
  "language_info": {
   "codemirror_mode": {
    "name": "ipython",
    "version": 3
   },
   "file_extension": ".py",
   "mimetype": "text/x-python",
   "name": "python",
   "nbconvert_exporter": "python",
   "pygments_lexer": "ipython3",
   "version": "3.6.12"
  }
 },
 "nbformat": 4,
 "nbformat_minor": 4
}
