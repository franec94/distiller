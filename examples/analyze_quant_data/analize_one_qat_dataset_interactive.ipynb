{
 "cells": [
  {
   "cell_type": "markdown",
   "metadata": {},
   "source": [
    "# Analize One QAT Dataset \n",
    "### Interactive Compression Data Visualization\n",
    "---"
   ]
  },
  {
   "cell_type": "markdown",
   "metadata": {},
   "source": [
    "Valuable choices to get installed needed dependencies:\n",
    "\n",
    "    conda install -c plotly plotly\n",
    "    conda install -c conda-forge cufflinks-py\n",
    "    pip install plotly --upgrade\n",
    "    pip install cufflinks --upgrade"
   ]
  },
  {
   "cell_type": "code",
   "execution_count": 1,
   "metadata": {},
   "outputs": [
    {
     "data": {
      "text/html": [
       "        <script type=\"text/javascript\">\n",
       "        window.PlotlyConfig = {MathJaxConfig: 'local'};\n",
       "        if (window.MathJax) {MathJax.Hub.Config({SVG: {font: \"STIX-Web\"}});}\n",
       "        if (typeof require !== 'undefined') {\n",
       "        require.undef(\"plotly\");\n",
       "        requirejs.config({\n",
       "            paths: {\n",
       "                'plotly': ['https://cdn.plot.ly/plotly-latest.min']\n",
       "            }\n",
       "        });\n",
       "        require(['plotly'], function(Plotly) {\n",
       "            window._Plotly = Plotly;\n",
       "        });\n",
       "        }\n",
       "        </script>\n",
       "        "
      ]
     },
     "metadata": {},
     "output_type": "display_data"
    }
   ],
   "source": [
    "from utils.libs.std_python_libs import *\n",
    "from utils.libs.data_science_libs import *\n",
    "from utils.libs.graphics_and_interactive_libs import *\n",
    "\n",
    "# Extra options\n",
    "pd.options.display.max_rows = 30\n",
    "pd.options.display.max_columns = 25"
   ]
  },
  {
   "cell_type": "code",
   "execution_count": 2,
   "metadata": {},
   "outputs": [
    {
     "data": {
      "text/html": [
       "<div>\n",
       "<style scoped>\n",
       "    .dataframe tbody tr th:only-of-type {\n",
       "        vertical-align: middle;\n",
       "    }\n",
       "\n",
       "    .dataframe tbody tr th {\n",
       "        vertical-align: top;\n",
       "    }\n",
       "\n",
       "    .dataframe thead th {\n",
       "        text-align: right;\n",
       "    }\n",
       "</style>\n",
       "<table border=\"1\" class=\"dataframe\">\n",
       "  <thead>\n",
       "    <tr style=\"text-align: right;\">\n",
       "      <th></th>\n",
       "      <th>date</th>\n",
       "      <th>init-from</th>\n",
       "      <th>size(byte)</th>\n",
       "      <th>footprint(%)</th>\n",
       "      <th>psnr</th>\n",
       "      <th>bpp</th>\n",
       "      <th>CR</th>\n",
       "      <th>mse</th>\n",
       "      <th>ssim</th>\n",
       "      <th>cmprss-class</th>\n",
       "      <th>cmprss-class-2</th>\n",
       "      <th>cmprss-class-3</th>\n",
       "    </tr>\n",
       "  </thead>\n",
       "  <tbody>\n",
       "    <tr>\n",
       "      <th>0</th>\n",
       "      <td>1603478755-305517</td>\n",
       "      <td>-</td>\n",
       "      <td>229204.0</td>\n",
       "      <td>100.0</td>\n",
       "      <td>58.145780</td>\n",
       "      <td>27.979004</td>\n",
       "      <td>0.138523</td>\n",
       "      <td>0.000006</td>\n",
       "      <td>0.998769</td>\n",
       "      <td>Baseline:hf=75:hl=10</td>\n",
       "      <td>SIREN</td>\n",
       "      <td>SIREN</td>\n",
       "    </tr>\n",
       "    <tr>\n",
       "      <th>1</th>\n",
       "      <td>1603478755-305517</td>\n",
       "      <td>-</td>\n",
       "      <td>229204.0</td>\n",
       "      <td>100.0</td>\n",
       "      <td>56.492704</td>\n",
       "      <td>27.979004</td>\n",
       "      <td>0.138523</td>\n",
       "      <td>0.000009</td>\n",
       "      <td>0.998202</td>\n",
       "      <td>Baseline:hf=75:hl=10</td>\n",
       "      <td>SIREN</td>\n",
       "      <td>SIREN</td>\n",
       "    </tr>\n",
       "    <tr>\n",
       "      <th>2</th>\n",
       "      <td>1603478755-305517</td>\n",
       "      <td>-</td>\n",
       "      <td>229204.0</td>\n",
       "      <td>100.0</td>\n",
       "      <td>58.214385</td>\n",
       "      <td>27.979004</td>\n",
       "      <td>0.138523</td>\n",
       "      <td>0.000006</td>\n",
       "      <td>0.999085</td>\n",
       "      <td>Baseline:hf=75:hl=10</td>\n",
       "      <td>SIREN</td>\n",
       "      <td>SIREN</td>\n",
       "    </tr>\n",
       "    <tr>\n",
       "      <th>3</th>\n",
       "      <td>1603478755-305517</td>\n",
       "      <td>-</td>\n",
       "      <td>252004.0</td>\n",
       "      <td>100.0</td>\n",
       "      <td>53.486111</td>\n",
       "      <td>30.762207</td>\n",
       "      <td>0.125990</td>\n",
       "      <td>0.000018</td>\n",
       "      <td>0.997542</td>\n",
       "      <td>Baseline:hf=75:hl=11</td>\n",
       "      <td>SIREN</td>\n",
       "      <td>SIREN</td>\n",
       "    </tr>\n",
       "    <tr>\n",
       "      <th>4</th>\n",
       "      <td>1603478755-305517</td>\n",
       "      <td>-</td>\n",
       "      <td>252004.0</td>\n",
       "      <td>100.0</td>\n",
       "      <td>58.401365</td>\n",
       "      <td>30.762207</td>\n",
       "      <td>0.125990</td>\n",
       "      <td>0.000005</td>\n",
       "      <td>0.999003</td>\n",
       "      <td>Baseline:hf=75:hl=11</td>\n",
       "      <td>SIREN</td>\n",
       "      <td>SIREN</td>\n",
       "    </tr>\n",
       "  </tbody>\n",
       "</table>\n",
       "</div>"
      ],
      "text/plain": [
       "                date init-from  size(byte)  footprint(%)       psnr  \\\n",
       "0  1603478755-305517         -    229204.0         100.0  58.145780   \n",
       "1  1603478755-305517         -    229204.0         100.0  56.492704   \n",
       "2  1603478755-305517         -    229204.0         100.0  58.214385   \n",
       "3  1603478755-305517         -    252004.0         100.0  53.486111   \n",
       "4  1603478755-305517         -    252004.0         100.0  58.401365   \n",
       "\n",
       "         bpp        CR       mse      ssim          cmprss-class  \\\n",
       "0  27.979004  0.138523  0.000006  0.998769  Baseline:hf=75:hl=10   \n",
       "1  27.979004  0.138523  0.000009  0.998202  Baseline:hf=75:hl=10   \n",
       "2  27.979004  0.138523  0.000006  0.999085  Baseline:hf=75:hl=10   \n",
       "3  30.762207  0.125990  0.000018  0.997542  Baseline:hf=75:hl=11   \n",
       "4  30.762207  0.125990  0.000005  0.999003  Baseline:hf=75:hl=11   \n",
       "\n",
       "  cmprss-class-2 cmprss-class-3  \n",
       "0          SIREN          SIREN  \n",
       "1          SIREN          SIREN  \n",
       "2          SIREN          SIREN  \n",
       "3          SIREN          SIREN  \n",
       "4          SIREN          SIREN  "
      ]
     },
     "execution_count": 2,
     "metadata": {},
     "output_type": "execute_result"
    }
   ],
   "source": [
    "# df = pd.read_csv(\"C:\\\\Users\\\\Francesco\\\\Documents\\\\thesys\\\\code\\\\local_projects\\\\siren-train-logs\\\\notebooks\\\\analyze_quant_data\\\\uniform_csv_files\\\\train_uniform_baselines.csv\")\n",
    "cmprss_df = pd.read_csv(\"C:\\\\Users\\\\Francesco\\\\Documents\\\\thesys\\\\code\\\\local_projects\\\\siren-train-logs\\\\notebooks\\\\analyze_quant_data\\\\uniform_csv_files\\\\cmprs_df.csv\")\n",
    "if \"Unnamed: 0\" in cmprss_df.columns:\n",
    "    cmprss_df = cmprss_df.drop([\"Unnamed: 0\"], axis = 1)\n",
    "    pass\n",
    "def create_cmprss_class_3(item):\n",
    "    a_class, a_class_2 = item\n",
    "    if a_class_2 in \"AGP,BASELINE,JPEG\".split(\",\"):\n",
    "        if a_class_2 == 'BASELINE': return 'SIREN'\n",
    "        return a_class_2\n",
    "    return a_class\n",
    "def update_cmprss_class_2(item):\n",
    "    a_class, a_class_2 = item\n",
    "    if a_class_2 == 'BASELINE': return 'SIREN'\n",
    "    return a_class_2\n",
    "cmprss_df[\"cmprss-class-3\"] = list(map(create_cmprss_class_3, cmprss_df[[\"cmprss-class\", \"cmprss-class-2\"]].values))\n",
    "cmprss_df[\"cmprss-class-2\"] = list(map(update_cmprss_class_2, cmprss_df[[\"cmprss-class\", \"cmprss-class-2\"]].values))\n",
    "cmprss_df.head(5)"
   ]
  },
  {
   "cell_type": "code",
   "execution_count": 3,
   "metadata": {},
   "outputs": [],
   "source": [
    "jpeg_df = cmprss_df[cmprss_df[\"cmprss-class-2\"] == \"Jpeg\".upper()]"
   ]
  },
  {
   "cell_type": "code",
   "execution_count": 4,
   "metadata": {},
   "outputs": [],
   "source": [
    "data_path_pieces = [\n",
    "    \"C:\\\\Users\\\\Francesco\\\\Documents\\\\thesys\\\\code\\\\local_projects\\\\siren-train-logs\\\\notebooks\\\\analyze_quant_data\\\\uniform_csv_files\\\\tmp\\\\\",\n",
    "    \"high-freq-siren_qatrlq_uniform_2020.12.14-174343.csv\"\n",
    "]\n",
    "QAT_DATASET_PATH = os.path.join(*data_path_pieces)"
   ]
  },
  {
   "cell_type": "code",
   "execution_count": 5,
   "metadata": {},
   "outputs": [
    {
     "data": {
      "text/html": [
       "<div>\n",
       "<style scoped>\n",
       "    .dataframe tbody tr th:only-of-type {\n",
       "        vertical-align: middle;\n",
       "    }\n",
       "\n",
       "    .dataframe tbody tr th {\n",
       "        vertical-align: top;\n",
       "    }\n",
       "\n",
       "    .dataframe thead th {\n",
       "        text-align: right;\n",
       "    }\n",
       "</style>\n",
       "<table border=\"1\" class=\"dataframe\">\n",
       "  <thead>\n",
       "    <tr style=\"text-align: right;\">\n",
       "      <th></th>\n",
       "      <th>date</th>\n",
       "      <th>init-from</th>\n",
       "      <th>size(byte)</th>\n",
       "      <th>footprint(%)</th>\n",
       "      <th>psnr</th>\n",
       "      <th>bpp</th>\n",
       "      <th>CR</th>\n",
       "      <th>mse</th>\n",
       "      <th>ssim</th>\n",
       "      <th>cmprss-class</th>\n",
       "      <th>cmprss-class-2</th>\n",
       "    </tr>\n",
       "  </thead>\n",
       "  <tbody>\n",
       "    <tr>\n",
       "      <th>0</th>\n",
       "      <td>2021.01.12-222903</td>\n",
       "      <td>2020.12.14-174343</td>\n",
       "      <td>16420.0</td>\n",
       "      <td>19.552274</td>\n",
       "      <td>29.491423</td>\n",
       "      <td>2.004395</td>\n",
       "      <td>3.991230</td>\n",
       "      <td>0.004508</td>\n",
       "      <td>0.808308</td>\n",
       "      <td>AGP+QATRLQ:S:PCW</td>\n",
       "      <td>QATRLQ</td>\n",
       "    </tr>\n",
       "    <tr>\n",
       "      <th>1</th>\n",
       "      <td>2021.01.12-222940</td>\n",
       "      <td>2020.12.14-174343</td>\n",
       "      <td>16489.0</td>\n",
       "      <td>19.634437</td>\n",
       "      <td>39.044617</td>\n",
       "      <td>2.012817</td>\n",
       "      <td>3.974528</td>\n",
       "      <td>0.000499</td>\n",
       "      <td>0.970982</td>\n",
       "      <td>AGP+QATRLQ:S:PCW</td>\n",
       "      <td>QATRLQ</td>\n",
       "    </tr>\n",
       "    <tr>\n",
       "      <th>2</th>\n",
       "      <td>2021.01.12-223018</td>\n",
       "      <td>2020.12.14-174343</td>\n",
       "      <td>16352.0</td>\n",
       "      <td>19.471303</td>\n",
       "      <td>29.346378</td>\n",
       "      <td>1.996094</td>\n",
       "      <td>4.007828</td>\n",
       "      <td>0.004665</td>\n",
       "      <td>0.793262</td>\n",
       "      <td>AGP+QATRLQ:S:NNPCW</td>\n",
       "      <td>QATRLQ</td>\n",
       "    </tr>\n",
       "    <tr>\n",
       "      <th>3</th>\n",
       "      <td>2021.01.12-223053</td>\n",
       "      <td>2020.12.14-174343</td>\n",
       "      <td>16486.0</td>\n",
       "      <td>19.630864</td>\n",
       "      <td>37.734865</td>\n",
       "      <td>2.012451</td>\n",
       "      <td>3.975252</td>\n",
       "      <td>0.000674</td>\n",
       "      <td>0.961794</td>\n",
       "      <td>AGP+QATRLQ:S:NNPCW</td>\n",
       "      <td>QATRLQ</td>\n",
       "    </tr>\n",
       "    <tr>\n",
       "      <th>4</th>\n",
       "      <td>2021.01.12-223129</td>\n",
       "      <td>2020.12.14-174343</td>\n",
       "      <td>16404.0</td>\n",
       "      <td>19.533222</td>\n",
       "      <td>26.188218</td>\n",
       "      <td>2.002441</td>\n",
       "      <td>3.995123</td>\n",
       "      <td>0.009621</td>\n",
       "      <td>0.731177</td>\n",
       "      <td>AGP+QATRLQ:S:PCW</td>\n",
       "      <td>QATRLQ</td>\n",
       "    </tr>\n",
       "  </tbody>\n",
       "</table>\n",
       "</div>"
      ],
      "text/plain": [
       "                date          init-from  size(byte)  footprint(%)       psnr  \\\n",
       "0  2021.01.12-222903  2020.12.14-174343     16420.0     19.552274  29.491423   \n",
       "1  2021.01.12-222940  2020.12.14-174343     16489.0     19.634437  39.044617   \n",
       "2  2021.01.12-223018  2020.12.14-174343     16352.0     19.471303  29.346378   \n",
       "3  2021.01.12-223053  2020.12.14-174343     16486.0     19.630864  37.734865   \n",
       "4  2021.01.12-223129  2020.12.14-174343     16404.0     19.533222  26.188218   \n",
       "\n",
       "        bpp        CR       mse      ssim        cmprss-class cmprss-class-2  \n",
       "0  2.004395  3.991230  0.004508  0.808308    AGP+QATRLQ:S:PCW         QATRLQ  \n",
       "1  2.012817  3.974528  0.000499  0.970982    AGP+QATRLQ:S:PCW         QATRLQ  \n",
       "2  1.996094  4.007828  0.004665  0.793262  AGP+QATRLQ:S:NNPCW         QATRLQ  \n",
       "3  2.012451  3.975252  0.000674  0.961794  AGP+QATRLQ:S:NNPCW         QATRLQ  \n",
       "4  2.002441  3.995123  0.009621  0.731177    AGP+QATRLQ:S:PCW         QATRLQ  "
      ]
     },
     "execution_count": 5,
     "metadata": {},
     "output_type": "execute_result"
    }
   ],
   "source": [
    "qat_df = pd.read_csv(QAT_DATASET_PATH)\n",
    "if \"Unnamed: 0\" in qat_df.columns:\n",
    "    qat_df = qat_df.drop([\"Unnamed: 0\"], axis = 1)\n",
    "    pass\n",
    "qat_df.head(5)"
   ]
  },
  {
   "cell_type": "code",
   "execution_count": 6,
   "metadata": {},
   "outputs": [
    {
     "name": "stdout",
     "output_type": "stream",
     "text": [
      "<class 'pandas.core.frame.DataFrame'>\n",
      "RangeIndex: 70 entries, 0 to 69\n",
      "Data columns (total 11 columns):\n",
      " #   Column          Non-Null Count  Dtype  \n",
      "---  ------          --------------  -----  \n",
      " 0   date            70 non-null     object \n",
      " 1   init-from       70 non-null     object \n",
      " 2   size(byte)      70 non-null     float64\n",
      " 3   footprint(%)    70 non-null     float64\n",
      " 4   psnr            70 non-null     float64\n",
      " 5   bpp             70 non-null     float64\n",
      " 6   CR              70 non-null     float64\n",
      " 7   mse             70 non-null     float64\n",
      " 8   ssim            70 non-null     float64\n",
      " 9   cmprss-class    70 non-null     object \n",
      " 10  cmprss-class-2  70 non-null     object \n",
      "dtypes: float64(7), object(4)\n",
      "memory usage: 6.1+ KB\n"
     ]
    }
   ],
   "source": [
    "qat_df.info()"
   ]
  },
  {
   "cell_type": "code",
   "execution_count": 7,
   "metadata": {},
   "outputs": [
    {
     "data": {
      "text/html": [
       "<div>\n",
       "<style scoped>\n",
       "    .dataframe tbody tr th:only-of-type {\n",
       "        vertical-align: middle;\n",
       "    }\n",
       "\n",
       "    .dataframe tbody tr th {\n",
       "        vertical-align: top;\n",
       "    }\n",
       "\n",
       "    .dataframe thead th {\n",
       "        text-align: right;\n",
       "    }\n",
       "</style>\n",
       "<table border=\"1\" class=\"dataframe\">\n",
       "  <thead>\n",
       "    <tr style=\"text-align: right;\">\n",
       "      <th></th>\n",
       "      <th>date</th>\n",
       "      <th>init-from</th>\n",
       "      <th>size(byte)</th>\n",
       "      <th>footprint(%)</th>\n",
       "      <th>psnr</th>\n",
       "      <th>bpp</th>\n",
       "      <th>CR</th>\n",
       "      <th>mse</th>\n",
       "      <th>ssim</th>\n",
       "      <th>cmprss-class</th>\n",
       "      <th>cmprss-class-2</th>\n",
       "      <th>cmprss-class-3</th>\n",
       "    </tr>\n",
       "  </thead>\n",
       "  <tbody>\n",
       "    <tr>\n",
       "      <th>0</th>\n",
       "      <td>2021.01.12-222903</td>\n",
       "      <td>2020.12.14-174343</td>\n",
       "      <td>16420.0</td>\n",
       "      <td>19.552274</td>\n",
       "      <td>29.491423</td>\n",
       "      <td>2.004395</td>\n",
       "      <td>3.991230</td>\n",
       "      <td>0.004508</td>\n",
       "      <td>0.808308</td>\n",
       "      <td>AGP+QATRLQ:S:PCW</td>\n",
       "      <td>QATRLQ</td>\n",
       "      <td>AGP+QATRLQ:S:PCW</td>\n",
       "    </tr>\n",
       "    <tr>\n",
       "      <th>1</th>\n",
       "      <td>2021.01.12-222940</td>\n",
       "      <td>2020.12.14-174343</td>\n",
       "      <td>16489.0</td>\n",
       "      <td>19.634437</td>\n",
       "      <td>39.044617</td>\n",
       "      <td>2.012817</td>\n",
       "      <td>3.974528</td>\n",
       "      <td>0.000499</td>\n",
       "      <td>0.970982</td>\n",
       "      <td>AGP+QATRLQ:S:PCW</td>\n",
       "      <td>QATRLQ</td>\n",
       "      <td>AGP+QATRLQ:S:PCW</td>\n",
       "    </tr>\n",
       "    <tr>\n",
       "      <th>2</th>\n",
       "      <td>2021.01.12-223018</td>\n",
       "      <td>2020.12.14-174343</td>\n",
       "      <td>16352.0</td>\n",
       "      <td>19.471303</td>\n",
       "      <td>29.346378</td>\n",
       "      <td>1.996094</td>\n",
       "      <td>4.007828</td>\n",
       "      <td>0.004665</td>\n",
       "      <td>0.793262</td>\n",
       "      <td>AGP+QATRLQ:S:NNPCW</td>\n",
       "      <td>QATRLQ</td>\n",
       "      <td>AGP+QATRLQ:S:NNPCW</td>\n",
       "    </tr>\n",
       "    <tr>\n",
       "      <th>3</th>\n",
       "      <td>2021.01.12-223053</td>\n",
       "      <td>2020.12.14-174343</td>\n",
       "      <td>16486.0</td>\n",
       "      <td>19.630864</td>\n",
       "      <td>37.734865</td>\n",
       "      <td>2.012451</td>\n",
       "      <td>3.975252</td>\n",
       "      <td>0.000674</td>\n",
       "      <td>0.961794</td>\n",
       "      <td>AGP+QATRLQ:S:NNPCW</td>\n",
       "      <td>QATRLQ</td>\n",
       "      <td>AGP+QATRLQ:S:NNPCW</td>\n",
       "    </tr>\n",
       "    <tr>\n",
       "      <th>4</th>\n",
       "      <td>2021.01.12-223129</td>\n",
       "      <td>2020.12.14-174343</td>\n",
       "      <td>16404.0</td>\n",
       "      <td>19.533222</td>\n",
       "      <td>26.188218</td>\n",
       "      <td>2.002441</td>\n",
       "      <td>3.995123</td>\n",
       "      <td>0.009621</td>\n",
       "      <td>0.731177</td>\n",
       "      <td>AGP+QATRLQ:S:PCW</td>\n",
       "      <td>QATRLQ</td>\n",
       "      <td>AGP+QATRLQ:S:PCW</td>\n",
       "    </tr>\n",
       "  </tbody>\n",
       "</table>\n",
       "</div>"
      ],
      "text/plain": [
       "                date          init-from  size(byte)  footprint(%)       psnr  \\\n",
       "0  2021.01.12-222903  2020.12.14-174343     16420.0     19.552274  29.491423   \n",
       "1  2021.01.12-222940  2020.12.14-174343     16489.0     19.634437  39.044617   \n",
       "2  2021.01.12-223018  2020.12.14-174343     16352.0     19.471303  29.346378   \n",
       "3  2021.01.12-223053  2020.12.14-174343     16486.0     19.630864  37.734865   \n",
       "4  2021.01.12-223129  2020.12.14-174343     16404.0     19.533222  26.188218   \n",
       "\n",
       "        bpp        CR       mse      ssim        cmprss-class cmprss-class-2  \\\n",
       "0  2.004395  3.991230  0.004508  0.808308    AGP+QATRLQ:S:PCW         QATRLQ   \n",
       "1  2.012817  3.974528  0.000499  0.970982    AGP+QATRLQ:S:PCW         QATRLQ   \n",
       "2  1.996094  4.007828  0.004665  0.793262  AGP+QATRLQ:S:NNPCW         QATRLQ   \n",
       "3  2.012451  3.975252  0.000674  0.961794  AGP+QATRLQ:S:NNPCW         QATRLQ   \n",
       "4  2.002441  3.995123  0.009621  0.731177    AGP+QATRLQ:S:PCW         QATRLQ   \n",
       "\n",
       "       cmprss-class-3  \n",
       "0    AGP+QATRLQ:S:PCW  \n",
       "1    AGP+QATRLQ:S:PCW  \n",
       "2  AGP+QATRLQ:S:NNPCW  \n",
       "3  AGP+QATRLQ:S:NNPCW  \n",
       "4    AGP+QATRLQ:S:PCW  "
      ]
     },
     "execution_count": 7,
     "metadata": {},
     "output_type": "execute_result"
    }
   ],
   "source": [
    "def create_cmprss_class_3(item):\n",
    "    a_class, a_class_2 = item\n",
    "    if a_class_2 in \"AGP,BASELINE,JPEG\".split(\",\"):\n",
    "        if a_class_2 == 'BASELINE': return 'SIREN'\n",
    "        return a_class_2\n",
    "    return a_class\n",
    "def update_cmprss_class_2(item):\n",
    "    a_class, a_class_2 = item\n",
    "    if a_class_2 == 'BASELINE': return 'SIREN'\n",
    "    return a_class_2\n",
    "qat_df[\"cmprss-class-3\"] = list(map(create_cmprss_class_3, qat_df[[\"cmprss-class\", \"cmprss-class-2\"]].values))\n",
    "qat_df[\"cmprss-class-2\"] = list(map(update_cmprss_class_2, qat_df[[\"cmprss-class\", \"cmprss-class-2\"]].values))\n",
    "qat_df.head(5)"
   ]
  },
  {
   "cell_type": "code",
   "execution_count": 8,
   "metadata": {},
   "outputs": [
    {
     "data": {
      "application/vnd.jupyter.widget-view+json": {
       "model_id": "c339540006824f648e842de2f3560ba1",
       "version_major": 2,
       "version_minor": 0
      },
      "text/plain": [
       "interactive(children=(Checkbox(value=True, description='hist_or_pie_chart'), Dropdown(description='theme', opt…"
      ]
     },
     "metadata": {},
     "output_type": "display_data"
    }
   ],
   "source": [
    "# qat_df[\"cmprss-class-2\"].iplot(kind=\"histogram\", bins=20, theme=\"white\", title=\"cmprss-class-2\", xTitle='cmprss-class-2', yTitle='Count')\n",
    "templates_list = [\"plotly\", \"plotly_white\", \"plotly_dark\", \"ggplot2\", \"seaborn\", \"simple_white\", \"none\"]\n",
    "@interact\n",
    "def scatter_plot(hist_or_pie_chart=True, theme=list(cf.themes.THEMES.keys()),\n",
    "                 colorscale=list(cf.colors._scales_names.keys()),\n",
    "                templates_pie=templates_list):\n",
    "    with warnings.catch_warnings():\n",
    "        # this will suppress all warnings in this block\n",
    "        warnings.simplefilter(\"ignore\")\n",
    "        if hist_or_pie_chart:\n",
    "            qat_df[\"cmprss-class-2\"].iplot(\n",
    "                kind=\"histogram\", bins=20,\n",
    "                title=\"cmprss-class-2\", xTitle='cmprss-class-2', yTitle='Count',\n",
    "                theme=theme, colorscale=colorscale)\n",
    "            pass\n",
    "        else:\n",
    "            occr_dict = dict(collections.Counter(qat_df[\"cmprss-class-2\"].values))\n",
    "            keys, values = list(occr_dict.keys()), list(occr_dict.values())\n",
    "            data = np.array(values)[:, np.newaxis]\n",
    "            # .iplot(kind=\"pie\", theme=\"white\", y = \"Occr\")\n",
    "            tmp_df = pd.DataFrame(data = data, index = keys, columns = [\"Occr\"])\n",
    "            # tmp_df.plot.pie(y='Occr', figsize=(5, 5))\n",
    "\n",
    "            fig = px.pie(tmp_df, values='Occr', names=tmp_df.index, template = templates_pie)\n",
    "            fig.show()\n",
    "            pass\n",
    "    pass"
   ]
  },
  {
   "cell_type": "code",
   "execution_count": 9,
   "metadata": {},
   "outputs": [
    {
     "data": {
      "application/vnd.jupyter.widget-view+json": {
       "model_id": "0e84c24322584289ab13e362605aff37",
       "version_major": 2,
       "version_minor": 0
      },
      "text/plain": [
       "interactive(children=(Checkbox(value=True, description='hist_or_pie_chart'), Dropdown(description='theme', opt…"
      ]
     },
     "metadata": {},
     "output_type": "display_data"
    }
   ],
   "source": [
    "# qat_df[\"cmprss-class-3\"].iplot(kind=\"histogram\", bins=20, theme=\"white\", title=\"cmprss-class-2\", xTitle='cmprss-class-2', yTitle='Count')\n",
    "templates_list = [\"plotly\", \"plotly_white\", \"plotly_dark\", \"ggplot2\", \"seaborn\", \"simple_white\", \"none\"]\n",
    "@interact\n",
    "def scatter_plot(hist_or_pie_chart=True, theme=list(cf.themes.THEMES.keys()), \n",
    "                 colorscale=list(cf.colors._scales_names.keys()),\n",
    "                 templates_pie=templates_list):\n",
    "    with warnings.catch_warnings():\n",
    "        # this will suppress all warnings in this block\n",
    "        warnings.simplefilter(\"ignore\")\n",
    "        if hist_or_pie_chart:\n",
    "            qat_df[\"cmprss-class-3\"].iplot(\n",
    "                kind=\"histogram\", bins=20,\n",
    "                title=\"cmprss-class-3\", xTitle='cmprss-class-3', yTitle='Count',\n",
    "                theme=theme, colorscale=colorscale)\n",
    "            pass\n",
    "        else:\n",
    "            templates_list = [\"plotly\", \"plotly_white\", \"plotly_dark\", \"ggplot2\", \"seaborn\", \"simple_white\", \"none\"]\n",
    "            occr_dict = dict(collections.Counter(qat_df[\"cmprss-class-3\"].values))\n",
    "            keys, values = list(occr_dict.keys()), list(occr_dict.values())\n",
    "            data = np.array(values)[:, np.newaxis]\n",
    "            # .iplot(kind=\"pie\", theme=\"white\", y = \"Occr\")\n",
    "            tmp_df = pd.DataFrame(data = data, index = keys, columns = [\"Occr\"])\n",
    "            fig = px.pie(tmp_df, values='Occr', names=tmp_df.index, template = templates_pie)\n",
    "            fig.show()\n",
    "            pass\n",
    "    pass"
   ]
  },
  {
   "cell_type": "code",
   "execution_count": 10,
   "metadata": {},
   "outputs": [
    {
     "data": {
      "application/vnd.jupyter.widget-view+json": {
       "model_id": "02476ae3acfb40ec95c4f24c3b26202c",
       "version_major": 2,
       "version_minor": 0
      },
      "text/plain": [
       "interactive(children=(Dropdown(description='x', options=('size(byte)', 'footprint(%)', 'psnr', 'bpp', 'CR', 'm…"
      ]
     },
     "metadata": {},
     "output_type": "display_data"
    }
   ],
   "source": [
    "qatrlq_df = qat_df[qat_df['cmprss-class-2'] == 'QATRLQ']['cmprss-class'].value_counts()\n",
    "df1 = pd.DataFrame([qatrlq_df])\n",
    "df1.index = ['QATRLQ']\n",
    "\n",
    "@interact\n",
    "def scatter_plot(x=list(qat_df.select_dtypes('number').columns), \n",
    "                 y=list(qat_df.select_dtypes('number').columns)[1:],\n",
    "                 theme=list(cf.themes.THEMES.keys()), \n",
    "                 colorscale=list(cf.colors._scales_names.keys())):\n",
    "    with warnings.catch_warnings():\n",
    "        # this will suppress all warnings in this block\n",
    "        warnings.simplefilter(\"ignore\")\n",
    "        df1.iplot(kind='bar',barmode='stack', title='Experimets by compression tech', theme=theme, colorscale=colorscale)\n",
    "        pass\n",
    "    pass"
   ]
  },
  {
   "cell_type": "code",
   "execution_count": 11,
   "metadata": {},
   "outputs": [
    {
     "data": {
      "application/vnd.jupyter.widget-view+json": {
       "model_id": "89bdcde143444a5aa75c1a2fe8b7e28c",
       "version_major": 2,
       "version_minor": 0
      },
      "text/plain": [
       "interactive(children=(Checkbox(value=False, description='flag_add_jpeg_data'), Dropdown(description='x', optio…"
      ]
     },
     "metadata": {},
     "output_type": "display_data"
    }
   ],
   "source": [
    "@interact\n",
    "def scatter_plot(flag_add_jpeg_data=False, x=list(qat_df.select_dtypes('number').columns),\n",
    "                 y=list(qat_df.select_dtypes('number').columns)[1:],\n",
    "                 theme=list(cf.themes.THEMES.keys()), \n",
    "                 colorscale=list(cf.colors._scales_names.keys())):\n",
    "    with warnings.catch_warnings():\n",
    "        # this will suppress all warnings in this block\n",
    "        warnings.simplefilter(\"ignore\")\n",
    "        if flag_add_jpeg_data:\n",
    "            tmp_df = pd.concat([jpeg_df, qat_df[(qat_df[\"bpp\"] <= 12.0)]], axis = 0)\n",
    "            tmp_df.iplot(kind='scatter', x=x, y=y, mode='markers', \n",
    "             xTitle=x.capitalize(), yTitle=y.capitalize(),\n",
    "             text='cmprss-class',\n",
    "             title=f'{y.capitalize()} vs {x.capitalize()} for QAT-Compression + Jpge',\n",
    "            theme=theme, colorscale=colorscale, categories=\"cmprss-class-2\")\n",
    "        else:\n",
    "            qat_df[(qat_df[\"bpp\"] <= 12.0)].iplot(kind='scatter', x=x, y=y, mode='markers', \n",
    "             xTitle=x.capitalize(), yTitle=y.capitalize(),\n",
    "             text='cmprss-class',\n",
    "             title=f'{y.capitalize()} vs {x.capitalize()} for QAT-Compression',\n",
    "            theme=theme, colorscale=colorscale, categories=\"cmprss-class-2\")\n",
    "        pass\n",
    "    pass"
   ]
  },
  {
   "cell_type": "code",
   "execution_count": 12,
   "metadata": {},
   "outputs": [
    {
     "data": {
      "application/vnd.jupyter.widget-view+json": {
       "model_id": "9b6fad8655084ca39ff71a96e8ac154c",
       "version_major": 2,
       "version_minor": 0
      },
      "text/plain": [
       "interactive(children=(Checkbox(value=False, description='flag_add_jpeg_data'), Dropdown(description='x', optio…"
      ]
     },
     "metadata": {},
     "output_type": "display_data"
    }
   ],
   "source": [
    "@interact\n",
    "def scatter_plot(flag_add_jpeg_data=False, x=list(qat_df.select_dtypes('number').columns),\n",
    "                 y=list(qat_df.select_dtypes('number').columns)[1:],\n",
    "                 theme=list(cf.themes.THEMES.keys()), \n",
    "                 colorscale=list(cf.colors._scales_names.keys())):\n",
    "    with warnings.catch_warnings():\n",
    "        # this will suppress all warnings in this block\n",
    "        warnings.simplefilter(\"ignore\")\n",
    "        if flag_add_jpeg_data:\n",
    "            tmp_df = pd.concat([jpeg_df, qat_df[(qat_df[\"bpp\"] <= 12.0)]], axis = 0)\n",
    "            tmp_df.iplot(kind='scatter', x=x, y=y, mode='markers', \n",
    "             xTitle=x.capitalize(), yTitle=y.capitalize(),\n",
    "             text='cmprss-class',\n",
    "             title=f'{y.capitalize()} vs {x.capitalize()}',\n",
    "            theme=theme, colorscale=colorscale, categories=\"cmprss-class-3\")\n",
    "        else:\n",
    "            qat_df[(qat_df[\"bpp\"] <= 12.0)].iplot(kind='scatter', x=x, y=y, mode='markers', \n",
    "             xTitle=x.capitalize(), yTitle=y.capitalize(),\n",
    "             text='cmprss-class',\n",
    "             title=f'{y.capitalize()} vs {x.capitalize()}',\n",
    "            theme=theme, colorscale=colorscale, categories=\"cmprss-class-3\")\n",
    "        pass\n",
    "        pass\n",
    "    pass"
   ]
  },
  {
   "cell_type": "code",
   "execution_count": 13,
   "metadata": {},
   "outputs": [
    {
     "data": {
      "application/vnd.jupyter.widget-view+json": {
       "model_id": "d715045ef790420d990d95036e4ae4db",
       "version_major": 2,
       "version_minor": 0
      },
      "text/plain": [
       "interactive(children=(Checkbox(value=False, description='flag_add_jpeg_data'), Dropdown(description='theme', o…"
      ]
     },
     "metadata": {},
     "output_type": "display_data"
    }
   ],
   "source": [
    "# qat_df[['cmprss-class-3', 'psnr']].pivot(columns='cmprss-class-3', values='psnr').iplot(kind='box')\n",
    "@interact\n",
    "def scatter_plot(flag_add_jpeg_data=False, theme=list(cf.themes.THEMES.keys()), colorscale=list(cf.colors._scales_names.keys())):\n",
    "    with warnings.catch_warnings():\n",
    "        # this will suppress all warnings in this block\n",
    "        warnings.simplefilter(\"ignore\")\n",
    "        if flag_add_jpeg_data:\n",
    "            tmp_df = pd.concat([jpeg_df, qat_df[(qat_df[\"bpp\"] <= 12.0)]], axis = 0)\n",
    "            tmp_df[['cmprss-class-3', 'psnr']]\\\n",
    "                .pivot(columns='cmprss-class-3', values='psnr')\\\n",
    "                .iplot(kind='box', theme=theme, colorscale=colorscale, title = 'Psnr(db) for QAT-Compression + Jpeg')\n",
    "        else:\n",
    "            qat_df[['cmprss-class-3', 'psnr']]\\\n",
    "                .pivot(columns='cmprss-class-3', values='psnr')\\\n",
    "                .iplot(kind='box', theme=theme, colorscale=colorscale, title = 'Psnr(db) for QAT-Compression')\n",
    "        pass\n",
    "    pass"
   ]
  },
  {
   "cell_type": "code",
   "execution_count": 14,
   "metadata": {},
   "outputs": [
    {
     "data": {
      "application/vnd.jupyter.widget-view+json": {
       "model_id": "e63a8c37768a4db7948884b9be1d0df1",
       "version_major": 2,
       "version_minor": 0
      },
      "text/plain": [
       "interactive(children=(Checkbox(value=False, description='flag_add_jpeg_data'), Dropdown(description='theme', o…"
      ]
     },
     "metadata": {},
     "output_type": "display_data"
    }
   ],
   "source": [
    "# qat_df[['cmprss-class-3', 'bpp']].pivot(columns='cmprss-class-3', values='bpp').iplot(kind='box')\n",
    "@interact\n",
    "def scatter_plot(flag_add_jpeg_data=False, theme=list(cf.themes.THEMES.keys()), colorscale=list(cf.colors._scales_names.keys())):\n",
    "    with warnings.catch_warnings():\n",
    "        # this will suppress all warnings in this block\n",
    "        warnings.simplefilter(\"ignore\")\n",
    "        if flag_add_jpeg_data:\n",
    "            tmp_df = pd.concat([jpeg_df, qat_df[(qat_df[\"bpp\"] <= 12.0)]], axis = 0)\n",
    "            tmp_df[['cmprss-class-3', 'bpp']].\\\n",
    "                pivot(columns='cmprss-class-3', values='bpp').\\\n",
    "                iplot(kind='box', theme=theme, colorscale=colorscale, title = 'Bpp for QAT-Compression + Jpeg')\n",
    "        else:\n",
    "            qat_df[['cmprss-class-3', 'bpp']]\\\n",
    "                .pivot(columns='cmprss-class-3', values='bpp')\\\n",
    "            .iplot(kind='box', theme=theme, colorscale=colorscale, title = 'Bpp for QAT-Compression')\n",
    "        pass\n",
    "    pass"
   ]
  },
  {
   "cell_type": "code",
   "execution_count": null,
   "metadata": {},
   "outputs": [],
   "source": []
  }
 ],
 "metadata": {
  "kernelspec": {
   "display_name": "Python 3",
   "language": "python",
   "name": "python3"
  },
  "language_info": {
   "codemirror_mode": {
    "name": "ipython",
    "version": 3
   },
   "file_extension": ".py",
   "mimetype": "text/x-python",
   "name": "python",
   "nbconvert_exporter": "python",
   "pygments_lexer": "ipython3",
   "version": "3.7.9"
  }
 },
 "nbformat": 4,
 "nbformat_minor": 4
}
