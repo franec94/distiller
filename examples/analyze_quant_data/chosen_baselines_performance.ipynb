{
 "cells": [
  {
   "cell_type": "markdown",
   "id": "changed-feeding",
   "metadata": {},
   "source": [
    "# Selected Baselines Analyses\n",
    "---\n",
    "### Showing most important insights about models trained to become chosen baselines or references for further later analyses."
   ]
  },
  {
   "cell_type": "markdown",
   "id": "composed-beach",
   "metadata": {},
   "source": [
    "**Imports**"
   ]
  },
  {
   "cell_type": "code",
   "execution_count": 1,
   "id": "improving-planner",
   "metadata": {},
   "outputs": [
    {
     "name": "stdout",
     "output_type": "stream",
     "text": [
      "No module named 'googleapiclient'\n"
     ]
    },
    {
     "data": {
      "text/html": [
       "        <script type=\"text/javascript\">\n",
       "        window.PlotlyConfig = {MathJaxConfig: 'local'};\n",
       "        if (window.MathJax) {MathJax.Hub.Config({SVG: {font: \"STIX-Web\"}});}\n",
       "        if (typeof require !== 'undefined') {\n",
       "        require.undef(\"plotly\");\n",
       "        requirejs.config({\n",
       "            paths: {\n",
       "                'plotly': ['https://cdn.plot.ly/plotly-latest.min']\n",
       "            }\n",
       "        });\n",
       "        require(['plotly'], function(Plotly) {\n",
       "            window._Plotly = Plotly;\n",
       "        });\n",
       "        }\n",
       "        </script>\n",
       "        "
      ]
     },
     "metadata": {},
     "output_type": "display_data"
    }
   ],
   "source": [
    "from utils.libs.all_end_to_end_analyses import *\n",
    "# from utils.end_to_end_utils.end_to_end_utils import load_full_cmprss_dataset, get_selected_dataset"
   ]
  },
  {
   "cell_type": "code",
   "execution_count": 2,
   "id": "recovered-ghana",
   "metadata": {},
   "outputs": [],
   "source": [
    "root_dir_trained_baselines = '/media/franec94/OS/data/data_thesys/distiller-siren/cameramen/baselines'"
   ]
  },
  {
   "cell_type": "code",
   "execution_count": 3,
   "id": "framed-static",
   "metadata": {},
   "outputs": [
    {
     "name": "stdout",
     "output_type": "stream",
     "text": [
      "/media/franec94/OS/data/data_thesys/distiller-siren/cameramen/baselines\n",
      "___2020.11.29-231149\n",
      "___2020.12.16-172731\n",
      "___2020.12.18-181041\n",
      "___2020.12.19-095547\n"
     ]
    }
   ],
   "source": [
    "for root, dirs, files in os.walk(f\"{root_dir_trained_baselines}\"):\n",
    "    path = root.split(os.sep)\n",
    "    if os.path.basename(root) == \"configs\": continue\n",
    "    log_file = list(filter(lambda item: item.endswith(\".log\"), files))\n",
    "    if len(log_file) != 0: print(os.path.basename(root))\n",
    "    else: print(root)\n",
    "    pass"
   ]
  },
  {
   "cell_type": "code",
   "execution_count": 4,
   "id": "developing-metro",
   "metadata": {},
   "outputs": [],
   "source": [
    "baseline_df, cmprss_df = load_full_cmprss_dataset()"
   ]
  },
  {
   "cell_type": "code",
   "execution_count": 5,
   "id": "adequate-governor",
   "metadata": {},
   "outputs": [],
   "source": [
    "jpeg_df = cmprss_df[cmprss_df[\"cmprss-class-2\"] == \"Jpeg\".upper()]\n",
    "siren_bsln_df = cmprss_df[cmprss_df[\"cmprss-class-2\"] == \"Siren\".upper()]\n",
    "agp_df = cmprss_df[cmprss_df[\"cmprss-class-2\"] == \"Agp\".upper()]\n",
    "\n",
    "jpeg_df[\"prune_rate_intervals\"] = [\"JPEG\"] * jpeg_df.shape[0]\n",
    "siren_bsln_df[\"prune_rate_intervals\"] = [\"SIREN\"] * siren_bsln_df.shape[0]"
   ]
  },
  {
   "cell_type": "code",
   "execution_count": 6,
   "id": "absent-supplier",
   "metadata": {},
   "outputs": [
    {
     "data": {
      "text/plain": [
       "{'AGP', 'JPEG', 'QATRLQ', 'SIREN'}"
      ]
     },
     "execution_count": 6,
     "metadata": {},
     "output_type": "execute_result"
    }
   ],
   "source": [
    "set(cmprss_df[\"cmprss-class-2\"])"
   ]
  },
  {
   "cell_type": "code",
   "execution_count": 7,
   "id": "martial-selling",
   "metadata": {},
   "outputs": [
    {
     "data": {
      "text/plain": [
       "{'AGP',\n",
       " 'AGP+QATRLQ:AS:NNPCW',\n",
       " 'AGP+QATRLQ:AS:PCW',\n",
       " 'AGP+QATRLQ:AU:NNPCW',\n",
       " 'AGP+QATRLQ:AU:PCW',\n",
       " 'AGP+QATRLQ:S:NNPCW',\n",
       " 'AGP+QATRLQ:S:PCW',\n",
       " 'JPEG',\n",
       " 'SIREN'}"
      ]
     },
     "execution_count": 7,
     "metadata": {},
     "output_type": "execute_result"
    }
   ],
   "source": [
    "set(cmprss_df[\"cmprss-class-3\"])"
   ]
  },
  {
   "cell_type": "code",
   "execution_count": 8,
   "id": "criminal-reaction",
   "metadata": {},
   "outputs": [
    {
     "data": {
      "text/plain": [
       "{'15-20', '20-25', '25-30', '30-35', '35-40', 'JPEG', 'QATRLQ', 'SIREN'}"
      ]
     },
     "execution_count": 8,
     "metadata": {},
     "output_type": "execute_result"
    }
   ],
   "source": [
    "set(cmprss_df[\"prune_rate_intervals\"])"
   ]
  },
  {
   "cell_type": "code",
   "execution_count": 9,
   "id": "critical-press",
   "metadata": {},
   "outputs": [
    {
     "name": "stdout",
     "output_type": "stream",
     "text": [
      "------------  -----------------------------------------------------------------------------------------------------------------------------------------------------------------------------------------------------------------------------------------------------------------------------------------------------------------------------------------------------------\n",
      "root_dir      /home/franec94/Documents/thesys-siren/codebase/results/datasets/tmp/baselines/pool_1610833309.4336185\n",
      "dataset_name  enanched_pool_1610833309.4336185.csv\n",
      "shape         (22, 28)\n",
      "headers       ['date_test', 'root_dir', 'model_name', 'psnr', 'bpp', 'CR', 'mse', 'ssim', 'scheduler_name', 'scheduler', 'prune_techs', 'prune_rate', 'quant_techs', 'command_line', 'num_epochs', 'sidelength', 'n_hf', 'n_hl', 'lr', 'lambda_L_1', 'lambda_L_2', 'date', 'init-from', 'size(byte)', 'footprint(%)', 'cmprss-class', 'cmprss-class-2', 'cmprss-class-3']\n",
      "------------  -----------------------------------------------------------------------------------------------------------------------------------------------------------------------------------------------------------------------------------------------------------------------------------------------------------------------------------------------------------\n"
     ]
    }
   ],
   "source": [
    "root_dir_trained_baselines = '/home/franec94/Documents/thesys-siren/codebase/results/tests/datasets/tmp/baselines/pool_1610833309.4336185'\n",
    "dataset_name = \"out_merged_1610833445.9098427.csv\"\n",
    "a_dataset_path = os.path.join(root_dir_trained_baselines, dataset_name)\n",
    "dataset_bsln = get_selected_dataset(a_dataset_path=a_dataset_path)\n",
    "\n",
    "data=dict(\n",
    "    root_dir = '/home/franec94/Documents/thesys-siren/codebase/results/datasets/tmp/baselines/pool_1610833309.4336185',\n",
    "    dataset_name = \"enanched_pool_1610833309.4336185.csv\",\n",
    "    shape=dataset_bsln.shape,\n",
    "    headers=list(dataset_bsln.columns)\n",
    ")\n",
    "meta_data  = dict(\n",
    "    tabular_data=data.items()\n",
    ")\n",
    "table = tabulate.tabulate(**meta_data)\n",
    "print(table)"
   ]
  },
  {
   "cell_type": "code",
   "execution_count": 10,
   "id": "understood-glance",
   "metadata": {},
   "outputs": [
    {
     "data": {
      "text/html": [
       "<div>\n",
       "<style scoped>\n",
       "    .dataframe tbody tr th:only-of-type {\n",
       "        vertical-align: middle;\n",
       "    }\n",
       "\n",
       "    .dataframe tbody tr th {\n",
       "        vertical-align: top;\n",
       "    }\n",
       "\n",
       "    .dataframe thead th {\n",
       "        text-align: right;\n",
       "    }\n",
       "</style>\n",
       "<table border=\"1\" class=\"dataframe\">\n",
       "  <thead>\n",
       "    <tr style=\"text-align: right;\">\n",
       "      <th></th>\n",
       "      <th>date</th>\n",
       "      <th>init-from</th>\n",
       "      <th>size(byte)</th>\n",
       "      <th>footprint(%)</th>\n",
       "      <th>psnr</th>\n",
       "      <th>bpp</th>\n",
       "      <th>CR</th>\n",
       "      <th>mse</th>\n",
       "      <th>ssim</th>\n",
       "      <th>cmprss-class</th>\n",
       "    </tr>\n",
       "  </thead>\n",
       "  <tbody>\n",
       "    <tr>\n",
       "      <th>0</th>\n",
       "      <td>2020.11.29-231149</td>\n",
       "      <td>-</td>\n",
       "      <td>83980.0</td>\n",
       "      <td>1.0</td>\n",
       "      <td>50.335233</td>\n",
       "      <td>10.251465</td>\n",
       "      <td>0.780376</td>\n",
       "      <td>0.000037</td>\n",
       "      <td>0.995912</td>\n",
       "      <td>BASELINE</td>\n",
       "    </tr>\n",
       "    <tr>\n",
       "      <th>1</th>\n",
       "      <td>2020.11.29-231149-no_1</td>\n",
       "      <td>-</td>\n",
       "      <td>83980.0</td>\n",
       "      <td>1.0</td>\n",
       "      <td>49.991599</td>\n",
       "      <td>10.251465</td>\n",
       "      <td>0.780376</td>\n",
       "      <td>0.000040</td>\n",
       "      <td>0.995889</td>\n",
       "      <td>BASELINE</td>\n",
       "    </tr>\n",
       "    <tr>\n",
       "      <th>2</th>\n",
       "      <td>2020.11.29-231149-no_2</td>\n",
       "      <td>-</td>\n",
       "      <td>83980.0</td>\n",
       "      <td>1.0</td>\n",
       "      <td>49.724154</td>\n",
       "      <td>10.251465</td>\n",
       "      <td>0.780376</td>\n",
       "      <td>0.000043</td>\n",
       "      <td>0.995815</td>\n",
       "      <td>BASELINE</td>\n",
       "    </tr>\n",
       "    <tr>\n",
       "      <th>3</th>\n",
       "      <td>2020.11.29-231149-no_3</td>\n",
       "      <td>-</td>\n",
       "      <td>83980.0</td>\n",
       "      <td>1.0</td>\n",
       "      <td>49.156749</td>\n",
       "      <td>10.251465</td>\n",
       "      <td>0.780376</td>\n",
       "      <td>0.000049</td>\n",
       "      <td>0.995518</td>\n",
       "      <td>BASELINE</td>\n",
       "    </tr>\n",
       "    <tr>\n",
       "      <th>4</th>\n",
       "      <td>2020.11.29-231149-no_4</td>\n",
       "      <td>-</td>\n",
       "      <td>83980.0</td>\n",
       "      <td>1.0</td>\n",
       "      <td>50.201589</td>\n",
       "      <td>10.251465</td>\n",
       "      <td>0.780376</td>\n",
       "      <td>0.000038</td>\n",
       "      <td>0.995897</td>\n",
       "      <td>BASELINE</td>\n",
       "    </tr>\n",
       "  </tbody>\n",
       "</table>\n",
       "</div>"
      ],
      "text/plain": [
       "                     date init-from  size(byte)  footprint(%)       psnr  \\\n",
       "0       2020.11.29-231149         -     83980.0           1.0  50.335233   \n",
       "1  2020.11.29-231149-no_1         -     83980.0           1.0  49.991599   \n",
       "2  2020.11.29-231149-no_2         -     83980.0           1.0  49.724154   \n",
       "3  2020.11.29-231149-no_3         -     83980.0           1.0  49.156749   \n",
       "4  2020.11.29-231149-no_4         -     83980.0           1.0  50.201589   \n",
       "\n",
       "         bpp        CR       mse      ssim cmprss-class  \n",
       "0  10.251465  0.780376  0.000037  0.995912     BASELINE  \n",
       "1  10.251465  0.780376  0.000040  0.995889     BASELINE  \n",
       "2  10.251465  0.780376  0.000043  0.995815     BASELINE  \n",
       "3  10.251465  0.780376  0.000049  0.995518     BASELINE  \n",
       "4  10.251465  0.780376  0.000038  0.995897     BASELINE  "
      ]
     },
     "execution_count": 10,
     "metadata": {},
     "output_type": "execute_result"
    }
   ],
   "source": [
    "selected_columns = \"date,init-from,size(byte),footprint(%),psnr,bpp,CR,mse,ssim,cmprss-class\".split(\",\")\n",
    "dataset_bsln[selected_columns].head(5)"
   ]
  },
  {
   "cell_type": "code",
   "execution_count": 14,
   "id": "vital-quarterly",
   "metadata": {},
   "outputs": [
    {
     "data": {
      "application/vnd.jupyter.widget-view+json": {
       "model_id": "2c9a817e2cf540f3a6be855ea0881749",
       "version_major": 2,
       "version_minor": 0
      },
      "text/plain": [
       "interactive(children=(Checkbox(value=False, description='flag_add_jpeg_data'), Checkbox(value=False, descripti…"
      ]
     },
     "metadata": {},
     "output_type": "display_data"
    }
   ],
   "source": [
    "jpeg_df_tmp = pd.concat([jpeg_df, siren_bsln_df], axis = 0)\n",
    "optional_dfs_dict = dict(\n",
    "    jpeg_df = jpeg_df,\n",
    "    siren_df = siren_bsln_df,\n",
    ")\n",
    "show_scatter_plot(dataset_bsln, jpeg_df=jpeg_df_tmp, optional_dfs_dict=optional_dfs_dict)"
   ]
  },
  {
   "cell_type": "code",
   "execution_count": 15,
   "id": "attempted-county",
   "metadata": {},
   "outputs": [
    {
     "data": {
      "application/vnd.jupyter.widget-view+json": {
       "model_id": "badc596d1d414cb6ab3f66f7088eacba",
       "version_major": 2,
       "version_minor": 0
      },
      "text/plain": [
       "interactive(children=(Checkbox(value=False, description='flag_add_jpeg_data'), Checkbox(value=False, descripti…"
      ]
     },
     "metadata": {},
     "output_type": "display_data"
    }
   ],
   "source": [
    "jpeg_df_tmp = pd.concat([jpeg_df, siren_bsln_df], axis = 0)\n",
    "optional_dfs_dict = dict(\n",
    "    jpeg_df = jpeg_df,\n",
    "    siren_df = siren_bsln_df,\n",
    ")\n",
    "show_box_plot(dataset_bsln, jpeg_df = jpeg_df, optional_dfs_dict=optional_dfs_dict)"
   ]
  },
  {
   "cell_type": "code",
   "execution_count": 17,
   "id": "celtic-geometry",
   "metadata": {},
   "outputs": [
    {
     "data": {
      "application/vnd.jupyter.widget-view+json": {
       "model_id": "0824916fb3264bbf9906f3d422934465",
       "version_major": 2,
       "version_minor": 0
      },
      "text/plain": [
       "interactive(children=(Dropdown(description='target_class', options=('prune_rate_intervals', 'cmprss-class-3', …"
      ]
     },
     "metadata": {},
     "output_type": "display_data"
    }
   ],
   "source": [
    "create_resulting_table_for_comparison_reasons_2(dataset_bsln, siren_bsln_df, jpeg_df, agp_df = None)"
   ]
  },
  {
   "cell_type": "markdown",
   "id": "turned-catalog",
   "metadata": {},
   "source": [
    "### References\n",
    "\n",
    "- [How to Create Publication-Quality Figures](https://b.nanes.org/figures/)"
   ]
  }
 ],
 "metadata": {
  "kernelspec": {
   "display_name": "Python 3",
   "language": "python",
   "name": "python3"
  },
  "language_info": {
   "codemirror_mode": {
    "name": "ipython",
    "version": 3
   },
   "file_extension": ".py",
   "mimetype": "text/x-python",
   "name": "python",
   "nbconvert_exporter": "python",
   "pygments_lexer": "ipython3",
   "version": "3.6.12"
  }
 },
 "nbformat": 4,
 "nbformat_minor": 5
}
