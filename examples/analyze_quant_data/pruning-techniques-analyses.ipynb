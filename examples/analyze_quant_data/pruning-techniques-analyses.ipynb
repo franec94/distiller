{
 "cells": [
  {
   "cell_type": "markdown",
   "id": "nominated-element",
   "metadata": {},
   "source": [
    "# Pruning Techniques Analyses\n",
    "---\n",
    "### Showing most important insights about models trained via Pruning techs."
   ]
  },
  {
   "cell_type": "markdown",
   "id": "sacred-match",
   "metadata": {},
   "source": [
    "**Imports**"
   ]
  },
  {
   "cell_type": "code",
   "execution_count": 1,
   "id": "genetic-receipt",
   "metadata": {},
   "outputs": [
    {
     "name": "stdout",
     "output_type": "stream",
     "text": [
      "Using matplotlib backend: Qt5Agg\n",
      "No module named 'googleapiclient'\n"
     ]
    },
    {
     "data": {
      "text/html": [
       "        <script type=\"text/javascript\">\n",
       "        window.PlotlyConfig = {MathJaxConfig: 'local'};\n",
       "        if (window.MathJax) {MathJax.Hub.Config({SVG: {font: \"STIX-Web\"}});}\n",
       "        if (typeof require !== 'undefined') {\n",
       "        require.undef(\"plotly\");\n",
       "        requirejs.config({\n",
       "            paths: {\n",
       "                'plotly': ['https://cdn.plot.ly/plotly-latest.min']\n",
       "            }\n",
       "        });\n",
       "        require(['plotly'], function(Plotly) {\n",
       "            window._Plotly = Plotly;\n",
       "        });\n",
       "        }\n",
       "        </script>\n",
       "        "
      ]
     },
     "metadata": {},
     "output_type": "display_data"
    }
   ],
   "source": [
    "%matplotlib\n",
    "from utils.libs.all_imports_prune_analyses import *"
   ]
  },
  {
   "cell_type": "markdown",
   "id": "convinced-separate",
   "metadata": {},
   "source": [
    "### Load Full Compressions Dataset\n",
    "---"
   ]
  },
  {
   "cell_type": "code",
   "execution_count": 2,
   "id": "relevant-painting",
   "metadata": {},
   "outputs": [
    {
     "data": {
      "text/html": [
       "<div>\n",
       "<style scoped>\n",
       "    .dataframe tbody tr th:only-of-type {\n",
       "        vertical-align: middle;\n",
       "    }\n",
       "\n",
       "    .dataframe tbody tr th {\n",
       "        vertical-align: top;\n",
       "    }\n",
       "\n",
       "    .dataframe thead th {\n",
       "        text-align: right;\n",
       "    }\n",
       "</style>\n",
       "<table border=\"1\" class=\"dataframe\">\n",
       "  <thead>\n",
       "    <tr style=\"text-align: right;\">\n",
       "      <th></th>\n",
       "      <th>date</th>\n",
       "      <th>init-from</th>\n",
       "      <th>size(byte)</th>\n",
       "      <th>footprint(%)</th>\n",
       "      <th>psnr</th>\n",
       "      <th>bpp</th>\n",
       "      <th>CR</th>\n",
       "      <th>mse</th>\n",
       "      <th>ssim</th>\n",
       "      <th>cmprss-class</th>\n",
       "      <th>cmprss-class-2</th>\n",
       "      <th>cmprss-class-3</th>\n",
       "    </tr>\n",
       "  </thead>\n",
       "  <tbody>\n",
       "    <tr>\n",
       "      <th>0</th>\n",
       "      <td>1603478755-305517</td>\n",
       "      <td>-</td>\n",
       "      <td>229204.0</td>\n",
       "      <td>100.0</td>\n",
       "      <td>58.145780</td>\n",
       "      <td>27.979004</td>\n",
       "      <td>0.138523</td>\n",
       "      <td>0.000006</td>\n",
       "      <td>0.998769</td>\n",
       "      <td>Baseline:hf=75:hl=10</td>\n",
       "      <td>SIREN</td>\n",
       "      <td>SIREN</td>\n",
       "    </tr>\n",
       "    <tr>\n",
       "      <th>1</th>\n",
       "      <td>1603478755-305517</td>\n",
       "      <td>-</td>\n",
       "      <td>229204.0</td>\n",
       "      <td>100.0</td>\n",
       "      <td>56.492704</td>\n",
       "      <td>27.979004</td>\n",
       "      <td>0.138523</td>\n",
       "      <td>0.000009</td>\n",
       "      <td>0.998202</td>\n",
       "      <td>Baseline:hf=75:hl=10</td>\n",
       "      <td>SIREN</td>\n",
       "      <td>SIREN</td>\n",
       "    </tr>\n",
       "    <tr>\n",
       "      <th>2</th>\n",
       "      <td>1603478755-305517</td>\n",
       "      <td>-</td>\n",
       "      <td>229204.0</td>\n",
       "      <td>100.0</td>\n",
       "      <td>58.214385</td>\n",
       "      <td>27.979004</td>\n",
       "      <td>0.138523</td>\n",
       "      <td>0.000006</td>\n",
       "      <td>0.999085</td>\n",
       "      <td>Baseline:hf=75:hl=10</td>\n",
       "      <td>SIREN</td>\n",
       "      <td>SIREN</td>\n",
       "    </tr>\n",
       "    <tr>\n",
       "      <th>3</th>\n",
       "      <td>1603478755-305517</td>\n",
       "      <td>-</td>\n",
       "      <td>252004.0</td>\n",
       "      <td>100.0</td>\n",
       "      <td>53.486111</td>\n",
       "      <td>30.762207</td>\n",
       "      <td>0.125990</td>\n",
       "      <td>0.000018</td>\n",
       "      <td>0.997542</td>\n",
       "      <td>Baseline:hf=75:hl=11</td>\n",
       "      <td>SIREN</td>\n",
       "      <td>SIREN</td>\n",
       "    </tr>\n",
       "    <tr>\n",
       "      <th>4</th>\n",
       "      <td>1603478755-305517</td>\n",
       "      <td>-</td>\n",
       "      <td>252004.0</td>\n",
       "      <td>100.0</td>\n",
       "      <td>58.401365</td>\n",
       "      <td>30.762207</td>\n",
       "      <td>0.125990</td>\n",
       "      <td>0.000005</td>\n",
       "      <td>0.999003</td>\n",
       "      <td>Baseline:hf=75:hl=11</td>\n",
       "      <td>SIREN</td>\n",
       "      <td>SIREN</td>\n",
       "    </tr>\n",
       "  </tbody>\n",
       "</table>\n",
       "</div>"
      ],
      "text/plain": [
       "                date init-from  size(byte)  footprint(%)       psnr  \\\n",
       "0  1603478755-305517         -    229204.0         100.0  58.145780   \n",
       "1  1603478755-305517         -    229204.0         100.0  56.492704   \n",
       "2  1603478755-305517         -    229204.0         100.0  58.214385   \n",
       "3  1603478755-305517         -    252004.0         100.0  53.486111   \n",
       "4  1603478755-305517         -    252004.0         100.0  58.401365   \n",
       "\n",
       "         bpp        CR       mse      ssim          cmprss-class  \\\n",
       "0  27.979004  0.138523  0.000006  0.998769  Baseline:hf=75:hl=10   \n",
       "1  27.979004  0.138523  0.000009  0.998202  Baseline:hf=75:hl=10   \n",
       "2  27.979004  0.138523  0.000006  0.999085  Baseline:hf=75:hl=10   \n",
       "3  30.762207  0.125990  0.000018  0.997542  Baseline:hf=75:hl=11   \n",
       "4  30.762207  0.125990  0.000005  0.999003  Baseline:hf=75:hl=11   \n",
       "\n",
       "  cmprss-class-2 cmprss-class-3  \n",
       "0          SIREN          SIREN  \n",
       "1          SIREN          SIREN  \n",
       "2          SIREN          SIREN  \n",
       "3          SIREN          SIREN  \n",
       "4          SIREN          SIREN  "
      ]
     },
     "execution_count": 2,
     "metadata": {},
     "output_type": "execute_result"
    }
   ],
   "source": [
    "baseline_df, cmprss_df = load_full_cmprss_dataset()\n",
    "cmprss_df.head(5)"
   ]
  },
  {
   "cell_type": "markdown",
   "id": "dress-prefix",
   "metadata": {},
   "source": [
    "**Get apart some useful sub-datasets as Jpeg and others.**"
   ]
  },
  {
   "cell_type": "code",
   "execution_count": 3,
   "id": "abstract-whole",
   "metadata": {},
   "outputs": [],
   "source": [
    "jpeg_df = cmprss_df[cmprss_df[\"cmprss-class-2\"] == \"Jpeg\".upper()]\n",
    "siren_bsln_df = cmprss_df[cmprss_df[\"cmprss-class-2\"] == \"Siren\".upper()]\n",
    "agp_df = cmprss_df[cmprss_df[\"cmprss-class-2\"] == \"Agp\".upper()]\n",
    "\n",
    "jpeg_df[\"prune_rate_intervals\"] = [\"JPEG\"] * jpeg_df.shape[0]\n",
    "siren_bsln_df[\"prune_rate_intervals\"] = [\"SIREN\"] * siren_bsln_df.shape[0]"
   ]
  },
  {
   "cell_type": "markdown",
   "id": "received-custom",
   "metadata": {},
   "source": [
    "**Load and Clean target prune datasets for current analyses and investigations.**"
   ]
  },
  {
   "cell_type": "code",
   "execution_count": 4,
   "id": "psychological-millennium",
   "metadata": {},
   "outputs": [],
   "source": [
    "root_dir = '/home/franec94/Documents/thesys-siren/codebase/results/tests/datasets'\n",
    "file_name = 'out_merged_1610741799.2652895.csv'"
   ]
  },
  {
   "cell_type": "code",
   "execution_count": 21,
   "id": "informed-florence",
   "metadata": {},
   "outputs": [
    {
     "data": {
      "application/vnd.jupyter.widget-view+json": {
       "model_id": "be21964c4555465fa308a9d70af68eca",
       "version_major": 2,
       "version_minor": 0
      },
      "text/plain": [
       "interactive(children=(Dropdown(description='datasets_list', options=('out_merged_1610833445.9098427.csv', 'out…"
      ]
     },
     "metadata": {},
     "output_type": "display_data"
    }
   ],
   "source": [
    "# _ = interact(pick_tmp_dataset, datasets_list=datasets_list, a_dataset=dataset_path_wg)\n",
    "dataset_path_wg = widgets.Text()\n",
    "pick_tmp_dataset_wrapper(dataset_path_wg)"
   ]
  },
  {
   "cell_type": "code",
   "execution_count": 22,
   "id": "blocked-conditions",
   "metadata": {},
   "outputs": [
    {
     "data": {
      "text/html": [
       "<div>\n",
       "<style scoped>\n",
       "    .dataframe tbody tr th:only-of-type {\n",
       "        vertical-align: middle;\n",
       "    }\n",
       "\n",
       "    .dataframe tbody tr th {\n",
       "        vertical-align: top;\n",
       "    }\n",
       "\n",
       "    .dataframe thead th {\n",
       "        text-align: right;\n",
       "    }\n",
       "</style>\n",
       "<table border=\"1\" class=\"dataframe\">\n",
       "  <thead>\n",
       "    <tr style=\"text-align: right;\">\n",
       "      <th></th>\n",
       "      <th>date</th>\n",
       "      <th>init-from</th>\n",
       "      <th>size(byte)</th>\n",
       "      <th>footprint(%)</th>\n",
       "      <th>psnr</th>\n",
       "      <th>bpp</th>\n",
       "      <th>CR</th>\n",
       "      <th>mse</th>\n",
       "      <th>ssim</th>\n",
       "      <th>cmprss-class</th>\n",
       "    </tr>\n",
       "  </thead>\n",
       "  <tbody>\n",
       "    <tr>\n",
       "      <th>0</th>\n",
       "      <td>2020.12.12-190415</td>\n",
       "      <td>-</td>\n",
       "      <td>49971.2000</td>\n",
       "      <td>0.595037</td>\n",
       "      <td>45.432476</td>\n",
       "      <td>6.100000</td>\n",
       "      <td>1.311475</td>\n",
       "      <td>0.000115</td>\n",
       "      <td>0.988503</td>\n",
       "      <td>AGP:40.50%</td>\n",
       "    </tr>\n",
       "    <tr>\n",
       "      <th>1</th>\n",
       "      <td>2020.12.13-232457</td>\n",
       "      <td>-</td>\n",
       "      <td>49971.2000</td>\n",
       "      <td>0.595037</td>\n",
       "      <td>45.786802</td>\n",
       "      <td>6.100000</td>\n",
       "      <td>1.311475</td>\n",
       "      <td>0.000106</td>\n",
       "      <td>0.989081</td>\n",
       "      <td>AGP:40.50%</td>\n",
       "    </tr>\n",
       "    <tr>\n",
       "      <th>2</th>\n",
       "      <td>2020.12.13-232457-no_1</td>\n",
       "      <td>-</td>\n",
       "      <td>79779.3750</td>\n",
       "      <td>0.949981</td>\n",
       "      <td>50.239456</td>\n",
       "      <td>9.738693</td>\n",
       "      <td>0.821465</td>\n",
       "      <td>0.000038</td>\n",
       "      <td>0.995570</td>\n",
       "      <td>AGP:5.00%</td>\n",
       "    </tr>\n",
       "    <tr>\n",
       "      <th>3</th>\n",
       "      <td>2020.12.13-232457-no_2</td>\n",
       "      <td>-</td>\n",
       "      <td>75574.6875</td>\n",
       "      <td>0.899913</td>\n",
       "      <td>49.680034</td>\n",
       "      <td>9.225426</td>\n",
       "      <td>0.867169</td>\n",
       "      <td>0.000043</td>\n",
       "      <td>0.995104</td>\n",
       "      <td>AGP:10.01%</td>\n",
       "    </tr>\n",
       "    <tr>\n",
       "      <th>4</th>\n",
       "      <td>2020.12.13-232457-no_3</td>\n",
       "      <td>-</td>\n",
       "      <td>67173.4375</td>\n",
       "      <td>0.799874</td>\n",
       "      <td>46.130210</td>\n",
       "      <td>8.199883</td>\n",
       "      <td>0.975624</td>\n",
       "      <td>0.000098</td>\n",
       "      <td>0.991397</td>\n",
       "      <td>AGP:20.01%</td>\n",
       "    </tr>\n",
       "  </tbody>\n",
       "</table>\n",
       "</div>"
      ],
      "text/plain": [
       "                     date init-from  size(byte)  footprint(%)       psnr  \\\n",
       "0       2020.12.12-190415         -  49971.2000      0.595037  45.432476   \n",
       "1       2020.12.13-232457         -  49971.2000      0.595037  45.786802   \n",
       "2  2020.12.13-232457-no_1         -  79779.3750      0.949981  50.239456   \n",
       "3  2020.12.13-232457-no_2         -  75574.6875      0.899913  49.680034   \n",
       "4  2020.12.13-232457-no_3         -  67173.4375      0.799874  46.130210   \n",
       "\n",
       "        bpp        CR       mse      ssim cmprss-class  \n",
       "0  6.100000  1.311475  0.000115  0.988503   AGP:40.50%  \n",
       "1  6.100000  1.311475  0.000106  0.989081   AGP:40.50%  \n",
       "2  9.738693  0.821465  0.000038  0.995570    AGP:5.00%  \n",
       "3  9.225426  0.867169  0.000043  0.995104   AGP:10.01%  \n",
       "4  8.199883  0.975624  0.000098  0.991397   AGP:20.01%  "
      ]
     },
     "execution_count": 22,
     "metadata": {},
     "output_type": "execute_result"
    }
   ],
   "source": [
    "cmprss_df = get_selected_dataset(dataset_path_wg.value)\n",
    "selected_columns = \"date,init-from,size(byte),footprint(%),psnr,bpp,CR,mse,ssim,cmprss-class\".split(\",\")\n",
    "cmprss_df[selected_columns].head(5)"
   ]
  },
  {
   "cell_type": "code",
   "execution_count": 23,
   "id": "atmospheric-flexibility",
   "metadata": {},
   "outputs": [],
   "source": [
    "selected_columns = \"date,init-from,size(byte),footprint(%),psnr,bpp,CR,mse,ssim,cmprss-class,cmprss-class-2,cmprss-class-3,prune_rate_intervals\".split(\",\")\n",
    "cmprss_df[\"footprint(%)\"] = cmprss_df[\"footprint(%)\"].values * 100\n",
    "cmprss_df = cmprss_df[selected_columns] # cmprss_df[selected_columns].head(5)"
   ]
  },
  {
   "cell_type": "code",
   "execution_count": 24,
   "id": "competitive-truth",
   "metadata": {},
   "outputs": [
    {
     "data": {
      "application/vnd.jupyter.widget-view+json": {
       "model_id": "f6f1b1876a184e8994ecc669968fbb8b",
       "version_major": 2,
       "version_minor": 0
      },
      "text/plain": [
       "interactive(children=(Checkbox(value=True, description='hist_or_pie_chart'), Dropdown(description='attribute',…"
      ]
     },
     "metadata": {},
     "output_type": "display_data"
    }
   ],
   "source": [
    "show_hist_or_pie_quant_tech(cmprss_df)"
   ]
  },
  {
   "cell_type": "code",
   "execution_count": 25,
   "id": "applied-coverage",
   "metadata": {},
   "outputs": [
    {
     "data": {
      "application/vnd.jupyter.widget-view+json": {
       "model_id": "e3350b9c474b442db56256ccebf730fb",
       "version_major": 2,
       "version_minor": 0
      },
      "text/plain": [
       "interactive(children=(Checkbox(value=False, description='flag_add_jpeg_data'), Checkbox(value=False, descripti…"
      ]
     },
     "metadata": {},
     "output_type": "display_data"
    }
   ],
   "source": [
    "jpeg_df_tmp = pd.concat([jpeg_df, siren_bsln_df], axis = 0)\n",
    "optional_dfs_dict = dict(\n",
    "    jpeg_df = jpeg_df,\n",
    "    siren_df = siren_bsln_df,\n",
    ")\n",
    "show_scatter_plot(cmprss_df, jpeg_df=jpeg_df_tmp, optional_dfs_dict=optional_dfs_dict)"
   ]
  },
  {
   "cell_type": "code",
   "execution_count": 26,
   "id": "absolute-leone",
   "metadata": {},
   "outputs": [
    {
     "data": {
      "application/vnd.jupyter.widget-view+json": {
       "model_id": "e45e702f16a54744b6f089d84b740c47",
       "version_major": 2,
       "version_minor": 0
      },
      "text/plain": [
       "interactive(children=(Checkbox(value=False, description='flag_add_jpeg_data'), Checkbox(value=False, descripti…"
      ]
     },
     "metadata": {},
     "output_type": "display_data"
    }
   ],
   "source": [
    "jpeg_df_tmp = pd.concat([jpeg_df, siren_bsln_df], axis = 0)\n",
    "optional_dfs_dict = dict(\n",
    "    jpeg_df = jpeg_df,\n",
    "    siren_df = siren_bsln_df,\n",
    ")\n",
    "show_box_plot(cmprss_df, jpeg_df = jpeg_df, optional_dfs_dict=optional_dfs_dict)"
   ]
  },
  {
   "cell_type": "code",
   "execution_count": 11,
   "id": "afraid-silver",
   "metadata": {},
   "outputs": [
    {
     "data": {
      "text/html": [
       "<div>\n",
       "<style scoped>\n",
       "    .dataframe tbody tr th:only-of-type {\n",
       "        vertical-align: middle;\n",
       "    }\n",
       "\n",
       "    .dataframe tbody tr th {\n",
       "        vertical-align: top;\n",
       "    }\n",
       "\n",
       "    .dataframe thead th {\n",
       "        text-align: right;\n",
       "    }\n",
       "</style>\n",
       "<table border=\"1\" class=\"dataframe\">\n",
       "  <thead>\n",
       "    <tr style=\"text-align: right;\">\n",
       "      <th></th>\n",
       "      <th>date</th>\n",
       "      <th>init-from</th>\n",
       "      <th>size(byte)</th>\n",
       "      <th>footprint(%)</th>\n",
       "      <th>psnr</th>\n",
       "      <th>bpp</th>\n",
       "      <th>CR</th>\n",
       "      <th>mse</th>\n",
       "      <th>ssim</th>\n",
       "      <th>cmprss-class</th>\n",
       "      <th>cmprss-class-2</th>\n",
       "      <th>cmprss-class-3</th>\n",
       "      <th>prune_rate_intervals</th>\n",
       "    </tr>\n",
       "  </thead>\n",
       "  <tbody>\n",
       "    <tr>\n",
       "      <th>0</th>\n",
       "      <td>2020.11.29-231149</td>\n",
       "      <td>-</td>\n",
       "      <td>83980.0</td>\n",
       "      <td>100.0</td>\n",
       "      <td>50.335233</td>\n",
       "      <td>10.251465</td>\n",
       "      <td>0.780376</td>\n",
       "      <td>0.000037</td>\n",
       "      <td>0.995912</td>\n",
       "      <td></td>\n",
       "      <td></td>\n",
       "      <td></td>\n",
       "      <td>0</td>\n",
       "    </tr>\n",
       "  </tbody>\n",
       "</table>\n",
       "</div>"
      ],
      "text/plain": [
       "                date init-from  size(byte)  footprint(%)       psnr  \\\n",
       "0  2020.11.29-231149         -     83980.0         100.0  50.335233   \n",
       "\n",
       "         bpp        CR       mse      ssim cmprss-class cmprss-class-2  \\\n",
       "0  10.251465  0.780376  0.000037  0.995912                               \n",
       "\n",
       "  cmprss-class-3 prune_rate_intervals  \n",
       "0                                   0  "
      ]
     },
     "execution_count": 11,
     "metadata": {},
     "output_type": "execute_result"
    }
   ],
   "source": [
    "list_df = []\n",
    "for gp_name, gp_data in cmprss_df.groupby(by = ['cmprss-class']):\n",
    "    # print(gp_name)\n",
    "    psnr_max = max(gp_data[\"psnr\"].values)\n",
    "    first_row_max_psnr = gp_data[gp_data[\"psnr\"] == psnr_max].iloc[0,:]\n",
    "    list_df.append(first_row_max_psnr)\n",
    "    pass\n",
    "siren_prune_best_df = pd.DataFrame(list_df)\n",
    "# siren_prune_best_df.head(5).style.hide_index()\n",
    "siren_prune_best_df.head(5)"
   ]
  },
  {
   "cell_type": "code",
   "execution_count": 12,
   "id": "integral-internet",
   "metadata": {},
   "outputs": [
    {
     "data": {
      "text/html": [
       "<div>\n",
       "<style scoped>\n",
       "    .dataframe tbody tr th:only-of-type {\n",
       "        vertical-align: middle;\n",
       "    }\n",
       "\n",
       "    .dataframe tbody tr th {\n",
       "        vertical-align: top;\n",
       "    }\n",
       "\n",
       "    .dataframe thead th {\n",
       "        text-align: right;\n",
       "    }\n",
       "</style>\n",
       "<table border=\"1\" class=\"dataframe\">\n",
       "  <thead>\n",
       "    <tr style=\"text-align: right;\">\n",
       "      <th></th>\n",
       "      <th>date</th>\n",
       "      <th>init-from</th>\n",
       "      <th>size(byte)</th>\n",
       "      <th>footprint(%)</th>\n",
       "      <th>psnr</th>\n",
       "      <th>bpp</th>\n",
       "      <th>CR</th>\n",
       "      <th>mse</th>\n",
       "      <th>ssim</th>\n",
       "      <th>cmprss-class</th>\n",
       "      <th>cmprss-class-2</th>\n",
       "      <th>cmprss-class-3</th>\n",
       "      <th>prune_rate_intervals</th>\n",
       "    </tr>\n",
       "  </thead>\n",
       "  <tbody>\n",
       "    <tr>\n",
       "      <th>398</th>\n",
       "      <td>-</td>\n",
       "      <td>-</td>\n",
       "      <td>16741.0</td>\n",
       "      <td>19.934508</td>\n",
       "      <td>47.078218</td>\n",
       "      <td>2.043579</td>\n",
       "      <td>1.896541</td>\n",
       "      <td>1.274261</td>\n",
       "      <td>0.994504</td>\n",
       "      <td>JPEG:93</td>\n",
       "      <td>JPEG</td>\n",
       "      <td>JPEG</td>\n",
       "      <td>JPEG</td>\n",
       "    </tr>\n",
       "    <tr>\n",
       "      <th>399</th>\n",
       "      <td>-</td>\n",
       "      <td>-</td>\n",
       "      <td>18181.0</td>\n",
       "      <td>21.649202</td>\n",
       "      <td>47.827533</td>\n",
       "      <td>2.219360</td>\n",
       "      <td>1.746329</td>\n",
       "      <td>1.072327</td>\n",
       "      <td>0.995091</td>\n",
       "      <td>JPEG:94</td>\n",
       "      <td>JPEG</td>\n",
       "      <td>JPEG</td>\n",
       "      <td>JPEG</td>\n",
       "    </tr>\n",
       "    <tr>\n",
       "      <th>400</th>\n",
       "      <td>-</td>\n",
       "      <td>-</td>\n",
       "      <td>19863.0</td>\n",
       "      <td>23.652060</td>\n",
       "      <td>48.693716</td>\n",
       "      <td>2.424683</td>\n",
       "      <td>1.598449</td>\n",
       "      <td>0.878433</td>\n",
       "      <td>0.995725</td>\n",
       "      <td>JPEG:95</td>\n",
       "      <td>JPEG</td>\n",
       "      <td>JPEG</td>\n",
       "      <td>JPEG</td>\n",
       "    </tr>\n",
       "  </tbody>\n",
       "</table>\n",
       "</div>"
      ],
      "text/plain": [
       "    date init-from  size(byte)  footprint(%)       psnr       bpp        CR  \\\n",
       "398    -         -     16741.0     19.934508  47.078218  2.043579  1.896541   \n",
       "399    -         -     18181.0     21.649202  47.827533  2.219360  1.746329   \n",
       "400    -         -     19863.0     23.652060  48.693716  2.424683  1.598449   \n",
       "\n",
       "          mse      ssim cmprss-class cmprss-class-2 cmprss-class-3  \\\n",
       "398  1.274261  0.994504      JPEG:93           JPEG           JPEG   \n",
       "399  1.072327  0.995091      JPEG:94           JPEG           JPEG   \n",
       "400  0.878433  0.995725      JPEG:95           JPEG           JPEG   \n",
       "\n",
       "    prune_rate_intervals  \n",
       "398                 JPEG  \n",
       "399                 JPEG  \n",
       "400                 JPEG  "
      ]
     },
     "execution_count": 12,
     "metadata": {},
     "output_type": "execute_result"
    }
   ],
   "source": [
    "best_nth_jpge_df = jpeg_df.tail(3)\n",
    "best_nth_jpge_df"
   ]
  },
  {
   "cell_type": "code",
   "execution_count": 13,
   "id": "funded-cleveland",
   "metadata": {},
   "outputs": [
    {
     "data": {
      "text/html": [
       "<div>\n",
       "<style scoped>\n",
       "    .dataframe tbody tr th:only-of-type {\n",
       "        vertical-align: middle;\n",
       "    }\n",
       "\n",
       "    .dataframe tbody tr th {\n",
       "        vertical-align: top;\n",
       "    }\n",
       "\n",
       "    .dataframe thead th {\n",
       "        text-align: right;\n",
       "    }\n",
       "</style>\n",
       "<table border=\"1\" class=\"dataframe\">\n",
       "  <thead>\n",
       "    <tr style=\"text-align: right;\">\n",
       "      <th></th>\n",
       "      <th>date</th>\n",
       "      <th>init-from</th>\n",
       "      <th>size(byte)</th>\n",
       "      <th>footprint(%)</th>\n",
       "      <th>psnr</th>\n",
       "      <th>bpp</th>\n",
       "      <th>CR</th>\n",
       "      <th>mse</th>\n",
       "      <th>ssim</th>\n",
       "      <th>cmprss-class</th>\n",
       "      <th>cmprss-class-2</th>\n",
       "      <th>cmprss-class-3</th>\n",
       "      <th>prune_rate_intervals</th>\n",
       "    </tr>\n",
       "  </thead>\n",
       "  <tbody>\n",
       "    <tr>\n",
       "      <th>0</th>\n",
       "      <td>-</td>\n",
       "      <td>-</td>\n",
       "      <td>19863.0</td>\n",
       "      <td>23.65206</td>\n",
       "      <td>48.693716</td>\n",
       "      <td>2.424683</td>\n",
       "      <td>1.598449</td>\n",
       "      <td>0.878433</td>\n",
       "      <td>0.995725</td>\n",
       "      <td>JPEG:95</td>\n",
       "      <td>JPEG</td>\n",
       "      <td>JPEG</td>\n",
       "      <td>JPEG</td>\n",
       "    </tr>\n",
       "  </tbody>\n",
       "</table>\n",
       "</div>"
      ],
      "text/plain": [
       "  date init-from  size(byte)  footprint(%)       psnr       bpp        CR  \\\n",
       "0    -         -     19863.0      23.65206  48.693716  2.424683  1.598449   \n",
       "\n",
       "        mse      ssim cmprss-class cmprss-class-2 cmprss-class-3  \\\n",
       "0  0.878433  0.995725      JPEG:95           JPEG           JPEG   \n",
       "\n",
       "  prune_rate_intervals  \n",
       "0                 JPEG  "
      ]
     },
     "execution_count": 13,
     "metadata": {},
     "output_type": "execute_result"
    }
   ],
   "source": [
    "tmp_jpeg_df = jpeg_df[jpeg_df[\"psnr\"] <= max(siren_prune_best_df[\"psnr\"].values)]\n",
    "best_jpeg_equal_lower_prune_data = tmp_jpeg_df.sort_values(by = [\"psnr\"], ascending = False).iloc[0,:]\n",
    "\n",
    "columns = best_jpeg_equal_lower_prune_data.index\n",
    "data = [best_jpeg_equal_lower_prune_data.values]\n",
    "best_jpeg_equal_lower_prune_data = pd.DataFrame(data = data, columns = columns)\n",
    "best_jpeg_equal_lower_prune_data"
   ]
  },
  {
   "cell_type": "code",
   "execution_count": 14,
   "id": "southern-generation",
   "metadata": {},
   "outputs": [
    {
     "data": {
      "text/html": [
       "<div>\n",
       "<style scoped>\n",
       "    .dataframe tbody tr th:only-of-type {\n",
       "        vertical-align: middle;\n",
       "    }\n",
       "\n",
       "    .dataframe tbody tr th {\n",
       "        vertical-align: top;\n",
       "    }\n",
       "\n",
       "    .dataframe thead th {\n",
       "        text-align: right;\n",
       "    }\n",
       "</style>\n",
       "<table border=\"1\" class=\"dataframe\">\n",
       "  <thead>\n",
       "    <tr style=\"text-align: right;\">\n",
       "      <th></th>\n",
       "      <th>date</th>\n",
       "      <th>init-from</th>\n",
       "      <th>size(byte)</th>\n",
       "      <th>footprint(%)</th>\n",
       "      <th>psnr</th>\n",
       "      <th>bpp</th>\n",
       "      <th>CR</th>\n",
       "      <th>mse</th>\n",
       "      <th>ssim</th>\n",
       "      <th>cmprss-class</th>\n",
       "      <th>cmprss-class-2</th>\n",
       "    </tr>\n",
       "  </thead>\n",
       "  <tbody>\n",
       "    <tr>\n",
       "      <th>0</th>\n",
       "      <td>2020.11.29-231149</td>\n",
       "      <td>-</td>\n",
       "      <td>83980.0</td>\n",
       "      <td>100.0</td>\n",
       "      <td>49.16</td>\n",
       "      <td>10.251465</td>\n",
       "      <td>0.780376</td>\n",
       "      <td>0.000049</td>\n",
       "      <td>0.996</td>\n",
       "      <td>Baseline-n_hf64-n_hl5</td>\n",
       "      <td>BASELINE</td>\n",
       "    </tr>\n",
       "  </tbody>\n",
       "</table>\n",
       "</div>"
      ],
      "text/plain": [
       "                date init-from  size(byte)  footprint(%)   psnr        bpp  \\\n",
       "0  2020.11.29-231149         -     83980.0         100.0  49.16  10.251465   \n",
       "\n",
       "         CR       mse   ssim           cmprss-class cmprss-class-2  \n",
       "0  0.780376  0.000049  0.996  Baseline-n_hf64-n_hl5       BASELINE  "
      ]
     },
     "execution_count": 14,
     "metadata": {},
     "output_type": "execute_result"
    }
   ],
   "source": [
    "baseline_data = ['2020.11.29-231149','-',20995*32/8,100.,49.16,20995*32/(256*256), (256*256*8)/(20995*32), 4.86e-5,9.96e-1,'Baseline-n_hf64-n_hl5', 'BASELINE']\n",
    "columns = 'date,init-from,size(byte),footprint(%),psnr,bpp,CR,mse,ssim,cmprss-class,cmprss-class-2'.split(\",\")\n",
    "baseline_data_df = pd.DataFrame([baseline_data], columns = columns)\n",
    "baseline_data_df"
   ]
  },
  {
   "cell_type": "code",
   "execution_count": 15,
   "id": "proud-barrier",
   "metadata": {},
   "outputs": [
    {
     "name": "stderr",
     "output_type": "stream",
     "text": [
      "/home/franec94/anaconda3/envs/siren-distiller-env/lib/python3.6/site-packages/ipykernel_launcher.py:6: FutureWarning:\n",
      "\n",
      "Sorting because non-concatenation axis is not aligned. A future version\n",
      "of pandas will change to not sort by default.\n",
      "\n",
      "To accept the future behavior, pass 'sort=False'.\n",
      "\n",
      "To retain the current behavior and silence the warning, pass 'sort=True'.\n",
      "\n",
      "\n"
     ]
    }
   ],
   "source": [
    "list_dfs = [baseline_data_df,\n",
    "    siren_prune_best_df,\n",
    "    best_nth_jpge_df.sort_values(by=[\"psnr\"], ascending=False),\n",
    "    best_jpeg_equal_lower_prune_data,\n",
    "]\n",
    "table_df = pd.concat(list_dfs, axis = 0, ignore_index = True)"
   ]
  },
  {
   "cell_type": "code",
   "execution_count": 16,
   "id": "important-surgeon",
   "metadata": {},
   "outputs": [
    {
     "data": {
      "application/vnd.jupyter.widget-view+json": {
       "model_id": "047d7aee3dd241858f90d80bbd07f14c",
       "version_major": 2,
       "version_minor": 0
      },
      "text/plain": [
       "interactive(children=(Checkbox(value=True, description='hide_index'), Checkbox(value=False, description='hide_…"
      ]
     },
     "metadata": {},
     "output_type": "display_data"
    }
   ],
   "source": [
    "create_resulting_table_for_comparison_reasons(table_df)"
   ]
  },
  {
   "cell_type": "code",
   "execution_count": 17,
   "id": "differential-armstrong",
   "metadata": {},
   "outputs": [
    {
     "data": {
      "application/vnd.jupyter.widget-view+json": {
       "model_id": "adb3339be7944e6bbf86327811a4559b",
       "version_major": 2,
       "version_minor": 0
      },
      "text/plain": [
       "interactive(children=(Dropdown(description='target_class', options=('cmprss-class-3', 'cmprss-class', 'prune_r…"
      ]
     },
     "metadata": {},
     "output_type": "display_data"
    }
   ],
   "source": [
    "create_resulting_table_for_comparison_reasons_2(baseline_data_df, cmprss_df, jpeg_df)"
   ]
  },
  {
   "cell_type": "markdown",
   "id": "handmade-concentration",
   "metadata": {},
   "source": [
    "## References"
   ]
  },
  {
   "cell_type": "code",
   "execution_count": null,
   "id": "behind-remove",
   "metadata": {},
   "outputs": [],
   "source": []
  }
 ],
 "metadata": {
  "kernelspec": {
   "display_name": "Python 3",
   "language": "python",
   "name": "python3"
  },
  "language_info": {
   "codemirror_mode": {
    "name": "ipython",
    "version": 3
   },
   "file_extension": ".py",
   "mimetype": "text/x-python",
   "name": "python",
   "nbconvert_exporter": "python",
   "pygments_lexer": "ipython3",
   "version": "3.6.12"
  }
 },
 "nbformat": 4,
 "nbformat_minor": 5
}
