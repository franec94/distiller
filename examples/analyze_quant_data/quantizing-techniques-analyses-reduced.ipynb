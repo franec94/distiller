{
 "cells": [
  {
   "cell_type": "markdown",
   "id": "essential-simpson",
   "metadata": {},
   "source": [
    "# Quant Techniques Analyses\n",
    "---\n",
    "### Showing most important insights about models trained via Pruning techs."
   ]
  },
  {
   "cell_type": "markdown",
   "id": "marked-compression",
   "metadata": {},
   "source": [
    "**Imports**"
   ]
  },
  {
   "cell_type": "code",
   "execution_count": 1,
   "id": "loving-supervisor",
   "metadata": {},
   "outputs": [
    {
     "name": "stdout",
     "output_type": "stream",
     "text": [
      "Using matplotlib backend: Qt5Agg\n",
      "No module named 'googleapiclient'\n"
     ]
    },
    {
     "data": {
      "text/html": [
       "        <script type=\"text/javascript\">\n",
       "        window.PlotlyConfig = {MathJaxConfig: 'local'};\n",
       "        if (window.MathJax) {MathJax.Hub.Config({SVG: {font: \"STIX-Web\"}});}\n",
       "        if (typeof require !== 'undefined') {\n",
       "        require.undef(\"plotly\");\n",
       "        requirejs.config({\n",
       "            paths: {\n",
       "                'plotly': ['https://cdn.plot.ly/plotly-latest.min']\n",
       "            }\n",
       "        });\n",
       "        require(['plotly'], function(Plotly) {\n",
       "            window._Plotly = Plotly;\n",
       "        });\n",
       "        }\n",
       "        </script>\n",
       "        "
      ]
     },
     "metadata": {},
     "output_type": "display_data"
    }
   ],
   "source": [
    " %matplotlib\n",
    "from utils.libs.all_imports_quant_analyses import *"
   ]
  },
  {
   "cell_type": "markdown",
   "id": "hearing-blame",
   "metadata": {},
   "source": [
    "### Load Compressions Datasets\n",
    "---"
   ]
  },
  {
   "cell_type": "markdown",
   "id": "blond-opinion",
   "metadata": {},
   "source": [
    "**Load both baseline dataset and compression dataset**"
   ]
  },
  {
   "cell_type": "code",
   "execution_count": 2,
   "id": "accepted-iceland",
   "metadata": {},
   "outputs": [
    {
     "data": {
      "text/html": [
       "<div>\n",
       "<style scoped>\n",
       "    .dataframe tbody tr th:only-of-type {\n",
       "        vertical-align: middle;\n",
       "    }\n",
       "\n",
       "    .dataframe tbody tr th {\n",
       "        vertical-align: top;\n",
       "    }\n",
       "\n",
       "    .dataframe thead th {\n",
       "        text-align: right;\n",
       "    }\n",
       "</style>\n",
       "<table border=\"1\" class=\"dataframe\">\n",
       "  <thead>\n",
       "    <tr style=\"text-align: right;\">\n",
       "      <th></th>\n",
       "      <th>date</th>\n",
       "      <th>init-from</th>\n",
       "      <th>size(byte)</th>\n",
       "      <th>footprint(%)</th>\n",
       "      <th>psnr</th>\n",
       "      <th>bpp</th>\n",
       "      <th>CR</th>\n",
       "      <th>mse</th>\n",
       "      <th>ssim</th>\n",
       "      <th>cmprss-class</th>\n",
       "      <th>cmprss-class-2</th>\n",
       "      <th>cmprss-class-3</th>\n",
       "      <th>prune_rate_intervals</th>\n",
       "    </tr>\n",
       "  </thead>\n",
       "  <tbody>\n",
       "    <tr>\n",
       "      <th>0</th>\n",
       "      <td>1603478755-305517</td>\n",
       "      <td>-</td>\n",
       "      <td>229204.0</td>\n",
       "      <td>100.0</td>\n",
       "      <td>58.145780</td>\n",
       "      <td>27.979004</td>\n",
       "      <td>0.138523</td>\n",
       "      <td>0.000006</td>\n",
       "      <td>0.998769</td>\n",
       "      <td>Baseline:hf=75:hl=10</td>\n",
       "      <td>SIREN</td>\n",
       "      <td>SIREN</td>\n",
       "      <td>SIREN</td>\n",
       "    </tr>\n",
       "    <tr>\n",
       "      <th>1</th>\n",
       "      <td>1603478755-305517</td>\n",
       "      <td>-</td>\n",
       "      <td>229204.0</td>\n",
       "      <td>100.0</td>\n",
       "      <td>56.492704</td>\n",
       "      <td>27.979004</td>\n",
       "      <td>0.138523</td>\n",
       "      <td>0.000009</td>\n",
       "      <td>0.998202</td>\n",
       "      <td>Baseline:hf=75:hl=10</td>\n",
       "      <td>SIREN</td>\n",
       "      <td>SIREN</td>\n",
       "      <td>SIREN</td>\n",
       "    </tr>\n",
       "    <tr>\n",
       "      <th>2</th>\n",
       "      <td>1603478755-305517</td>\n",
       "      <td>-</td>\n",
       "      <td>229204.0</td>\n",
       "      <td>100.0</td>\n",
       "      <td>58.214385</td>\n",
       "      <td>27.979004</td>\n",
       "      <td>0.138523</td>\n",
       "      <td>0.000006</td>\n",
       "      <td>0.999085</td>\n",
       "      <td>Baseline:hf=75:hl=10</td>\n",
       "      <td>SIREN</td>\n",
       "      <td>SIREN</td>\n",
       "      <td>SIREN</td>\n",
       "    </tr>\n",
       "    <tr>\n",
       "      <th>3</th>\n",
       "      <td>1603478755-305517</td>\n",
       "      <td>-</td>\n",
       "      <td>252004.0</td>\n",
       "      <td>100.0</td>\n",
       "      <td>53.486111</td>\n",
       "      <td>30.762207</td>\n",
       "      <td>0.125990</td>\n",
       "      <td>0.000018</td>\n",
       "      <td>0.997542</td>\n",
       "      <td>Baseline:hf=75:hl=11</td>\n",
       "      <td>SIREN</td>\n",
       "      <td>SIREN</td>\n",
       "      <td>SIREN</td>\n",
       "    </tr>\n",
       "    <tr>\n",
       "      <th>4</th>\n",
       "      <td>1603478755-305517</td>\n",
       "      <td>-</td>\n",
       "      <td>252004.0</td>\n",
       "      <td>100.0</td>\n",
       "      <td>58.401365</td>\n",
       "      <td>30.762207</td>\n",
       "      <td>0.125990</td>\n",
       "      <td>0.000005</td>\n",
       "      <td>0.999003</td>\n",
       "      <td>Baseline:hf=75:hl=11</td>\n",
       "      <td>SIREN</td>\n",
       "      <td>SIREN</td>\n",
       "      <td>SIREN</td>\n",
       "    </tr>\n",
       "  </tbody>\n",
       "</table>\n",
       "</div>"
      ],
      "text/plain": [
       "                date init-from  size(byte)  footprint(%)       psnr  \\\n",
       "0  1603478755-305517         -    229204.0         100.0  58.145780   \n",
       "1  1603478755-305517         -    229204.0         100.0  56.492704   \n",
       "2  1603478755-305517         -    229204.0         100.0  58.214385   \n",
       "3  1603478755-305517         -    252004.0         100.0  53.486111   \n",
       "4  1603478755-305517         -    252004.0         100.0  58.401365   \n",
       "\n",
       "         bpp        CR       mse      ssim          cmprss-class  \\\n",
       "0  27.979004  0.138523  0.000006  0.998769  Baseline:hf=75:hl=10   \n",
       "1  27.979004  0.138523  0.000009  0.998202  Baseline:hf=75:hl=10   \n",
       "2  27.979004  0.138523  0.000006  0.999085  Baseline:hf=75:hl=10   \n",
       "3  30.762207  0.125990  0.000018  0.997542  Baseline:hf=75:hl=11   \n",
       "4  30.762207  0.125990  0.000005  0.999003  Baseline:hf=75:hl=11   \n",
       "\n",
       "  cmprss-class-2 cmprss-class-3 prune_rate_intervals  \n",
       "0          SIREN          SIREN                SIREN  \n",
       "1          SIREN          SIREN                SIREN  \n",
       "2          SIREN          SIREN                SIREN  \n",
       "3          SIREN          SIREN                SIREN  \n",
       "4          SIREN          SIREN                SIREN  "
      ]
     },
     "execution_count": 2,
     "metadata": {},
     "output_type": "execute_result"
    }
   ],
   "source": [
    "baseline_df, cmprss_df = load_full_cmprss_dataset()\n",
    "cmprss_df.head(5)"
   ]
  },
  {
   "cell_type": "markdown",
   "id": "straight-square",
   "metadata": {},
   "source": [
    "**Get apart some useful sub-datasets as Jpeg and others, from just above fetched compression dataset.**"
   ]
  },
  {
   "cell_type": "code",
   "execution_count": 3,
   "id": "political-wings",
   "metadata": {},
   "outputs": [],
   "source": [
    "jpeg_df = cmprss_df[cmprss_df[\"cmprss-class-2\"] == \"Jpeg\".upper()]\n",
    "siren_bsln_df = cmprss_df[cmprss_df[\"cmprss-class-2\"] == \"Siren\".upper()]\n",
    "agp_df = cmprss_df[cmprss_df[\"cmprss-class-2\"] == \"Agp\".upper()]\n",
    "\n",
    "jpeg_df[\"prune_rate_intervals\"] = [\"JPEG\"] * jpeg_df.shape[0]\n",
    "siren_bsln_df[\"prune_rate_intervals\"] = [\"SIREN\"] * siren_bsln_df.shape[0]"
   ]
  },
  {
   "cell_type": "code",
   "execution_count": 4,
   "id": "severe-mortgage",
   "metadata": {},
   "outputs": [],
   "source": [
    "siren_bsln_df = pd.concat(\n",
    "    [siren_bsln_df, agp_df],\n",
    "    axis = 0, ignore_index = True\n",
    ")"
   ]
  },
  {
   "cell_type": "code",
   "execution_count": 5,
   "id": "hindu-cleaner",
   "metadata": {},
   "outputs": [
    {
     "data": {
      "text/html": [
       "<div>\n",
       "<style scoped>\n",
       "    .dataframe tbody tr th:only-of-type {\n",
       "        vertical-align: middle;\n",
       "    }\n",
       "\n",
       "    .dataframe tbody tr th {\n",
       "        vertical-align: top;\n",
       "    }\n",
       "\n",
       "    .dataframe thead th {\n",
       "        text-align: right;\n",
       "    }\n",
       "</style>\n",
       "<table border=\"1\" class=\"dataframe\">\n",
       "  <thead>\n",
       "    <tr style=\"text-align: right;\">\n",
       "      <th></th>\n",
       "      <th>date</th>\n",
       "      <th>init-from</th>\n",
       "      <th>size(byte)</th>\n",
       "      <th>footprint(%)</th>\n",
       "      <th>psnr</th>\n",
       "      <th>bpp</th>\n",
       "      <th>CR</th>\n",
       "      <th>mse</th>\n",
       "      <th>ssim</th>\n",
       "      <th>cmprss-class</th>\n",
       "      <th>cmprss-class-2</th>\n",
       "      <th>cmprss-class-3</th>\n",
       "      <th>prune_rate_intervals</th>\n",
       "    </tr>\n",
       "  </thead>\n",
       "  <tbody>\n",
       "    <tr>\n",
       "      <th>401</th>\n",
       "      <td>2020.12.10-044629</td>\n",
       "      <td>2020.11.29-231149</td>\n",
       "      <td>52040.0</td>\n",
       "      <td>61.967135</td>\n",
       "      <td>45.815071</td>\n",
       "      <td>6.352539</td>\n",
       "      <td>0.610108</td>\n",
       "      <td>0.000105</td>\n",
       "      <td>0.989299</td>\n",
       "      <td>AGP:38</td>\n",
       "      <td>AGP</td>\n",
       "      <td>AGP</td>\n",
       "      <td>35-40</td>\n",
       "    </tr>\n",
       "    <tr>\n",
       "      <th>402</th>\n",
       "      <td>2020.12.10-044629</td>\n",
       "      <td>2020.11.29-231149</td>\n",
       "      <td>52036.0</td>\n",
       "      <td>61.962372</td>\n",
       "      <td>45.284305</td>\n",
       "      <td>6.352051</td>\n",
       "      <td>0.610155</td>\n",
       "      <td>0.000119</td>\n",
       "      <td>0.988715</td>\n",
       "      <td>AGP:38</td>\n",
       "      <td>AGP</td>\n",
       "      <td>AGP</td>\n",
       "      <td>35-40</td>\n",
       "    </tr>\n",
       "    <tr>\n",
       "      <th>403</th>\n",
       "      <td>2020.12.09-085652</td>\n",
       "      <td>2020.11.29-231149</td>\n",
       "      <td>56952.0</td>\n",
       "      <td>67.816147</td>\n",
       "      <td>44.789306</td>\n",
       "      <td>6.952148</td>\n",
       "      <td>0.557487</td>\n",
       "      <td>0.000133</td>\n",
       "      <td>0.990357</td>\n",
       "      <td>AGP:32</td>\n",
       "      <td>AGP</td>\n",
       "      <td>AGP</td>\n",
       "      <td>30-35</td>\n",
       "    </tr>\n",
       "    <tr>\n",
       "      <th>404</th>\n",
       "      <td>2020.12.08-191157</td>\n",
       "      <td>2020.11.29-231149</td>\n",
       "      <td>56952.0</td>\n",
       "      <td>67.816147</td>\n",
       "      <td>45.153248</td>\n",
       "      <td>6.952148</td>\n",
       "      <td>0.557487</td>\n",
       "      <td>0.000122</td>\n",
       "      <td>0.990075</td>\n",
       "      <td>AGP:32</td>\n",
       "      <td>AGP</td>\n",
       "      <td>AGP</td>\n",
       "      <td>30-35</td>\n",
       "    </tr>\n",
       "    <tr>\n",
       "      <th>405</th>\n",
       "      <td>2020.12.07-045630</td>\n",
       "      <td>2020.11.29-231149</td>\n",
       "      <td>57780.0</td>\n",
       "      <td>68.802096</td>\n",
       "      <td>45.418737</td>\n",
       "      <td>7.053223</td>\n",
       "      <td>0.549498</td>\n",
       "      <td>0.000115</td>\n",
       "      <td>0.990626</td>\n",
       "      <td>AGP:31</td>\n",
       "      <td>AGP</td>\n",
       "      <td>AGP</td>\n",
       "      <td>30-35</td>\n",
       "    </tr>\n",
       "  </tbody>\n",
       "</table>\n",
       "</div>"
      ],
      "text/plain": [
       "                  date          init-from  size(byte)  footprint(%)  \\\n",
       "401  2020.12.10-044629  2020.11.29-231149     52040.0     61.967135   \n",
       "402  2020.12.10-044629  2020.11.29-231149     52036.0     61.962372   \n",
       "403  2020.12.09-085652  2020.11.29-231149     56952.0     67.816147   \n",
       "404  2020.12.08-191157  2020.11.29-231149     56952.0     67.816147   \n",
       "405  2020.12.07-045630  2020.11.29-231149     57780.0     68.802096   \n",
       "\n",
       "          psnr       bpp        CR       mse      ssim cmprss-class  \\\n",
       "401  45.815071  6.352539  0.610108  0.000105  0.989299       AGP:38   \n",
       "402  45.284305  6.352051  0.610155  0.000119  0.988715       AGP:38   \n",
       "403  44.789306  6.952148  0.557487  0.000133  0.990357       AGP:32   \n",
       "404  45.153248  6.952148  0.557487  0.000122  0.990075       AGP:32   \n",
       "405  45.418737  7.053223  0.549498  0.000115  0.990626       AGP:31   \n",
       "\n",
       "    cmprss-class-2 cmprss-class-3 prune_rate_intervals  \n",
       "401            AGP            AGP                35-40  \n",
       "402            AGP            AGP                35-40  \n",
       "403            AGP            AGP                30-35  \n",
       "404            AGP            AGP                30-35  \n",
       "405            AGP            AGP                30-35  "
      ]
     },
     "execution_count": 5,
     "metadata": {},
     "output_type": "execute_result"
    }
   ],
   "source": [
    "agp_df.head(5)"
   ]
  },
  {
   "cell_type": "markdown",
   "id": "coral-causing",
   "metadata": {},
   "source": [
    "**Load and Clean target prune datasets for current analyses and investigations.**"
   ]
  },
  {
   "cell_type": "code",
   "execution_count": 6,
   "id": "modern-examination",
   "metadata": {},
   "outputs": [
    {
     "name": "stdout",
     "output_type": "stream",
     "text": [
      "high-freq-siren_qatrlq_uniform_2020.12.14-174343.csv\r\n"
     ]
    }
   ],
   "source": [
    "root_dir = '/home/franec94/Documents/thesys-siren/codebase/notebooks/analyze_quant_data/uniform_csv_files/tmp_quantized_datasets'\n",
    "!ls {root_dir}"
   ]
  },
  {
   "cell_type": "code",
   "execution_count": 7,
   "id": "deadly-executive",
   "metadata": {},
   "outputs": [
    {
     "data": {
      "application/vnd.jupyter.widget-view+json": {
       "model_id": "472daf4c41c54026bb7272fd514c8146",
       "version_major": 2,
       "version_minor": 0
      },
      "text/plain": [
       "interactive(children=(Dropdown(description='datasets_list', options=('high-freq-siren_qatrlq_uniform_2020.12.1…"
      ]
     },
     "metadata": {},
     "output_type": "display_data"
    }
   ],
   "source": [
    "# _ = interact(pick_tmp_dataset, datasets_list=datasets_list, a_dataset=dataset_path_wg)\n",
    "dataset_path_wg = widgets.Text()\n",
    "pick_tmp_dataset_wrapper(dataset_path_wg)"
   ]
  },
  {
   "cell_type": "code",
   "execution_count": 8,
   "id": "mysterious-spirituality",
   "metadata": {},
   "outputs": [
    {
     "data": {
      "text/html": [
       "<div>\n",
       "<style scoped>\n",
       "    .dataframe tbody tr th:only-of-type {\n",
       "        vertical-align: middle;\n",
       "    }\n",
       "\n",
       "    .dataframe tbody tr th {\n",
       "        vertical-align: top;\n",
       "    }\n",
       "\n",
       "    .dataframe thead th {\n",
       "        text-align: right;\n",
       "    }\n",
       "</style>\n",
       "<table border=\"1\" class=\"dataframe\">\n",
       "  <thead>\n",
       "    <tr style=\"text-align: right;\">\n",
       "      <th></th>\n",
       "      <th>date</th>\n",
       "      <th>init-from</th>\n",
       "      <th>size(byte)</th>\n",
       "      <th>footprint(%)</th>\n",
       "      <th>psnr</th>\n",
       "      <th>bpp</th>\n",
       "      <th>CR</th>\n",
       "      <th>mse</th>\n",
       "      <th>ssim</th>\n",
       "      <th>cmprss-class</th>\n",
       "    </tr>\n",
       "  </thead>\n",
       "  <tbody>\n",
       "    <tr>\n",
       "      <th>0</th>\n",
       "      <td>2021.01.12-222903</td>\n",
       "      <td>2020.12.14-174343</td>\n",
       "      <td>16420.0</td>\n",
       "      <td>19.552274</td>\n",
       "      <td>29.491423</td>\n",
       "      <td>2.004395</td>\n",
       "      <td>3.991230</td>\n",
       "      <td>0.004508</td>\n",
       "      <td>0.808308</td>\n",
       "      <td>AGP+QATRLQ:S:PCW</td>\n",
       "    </tr>\n",
       "    <tr>\n",
       "      <th>1</th>\n",
       "      <td>2021.01.12-222940</td>\n",
       "      <td>2020.12.14-174343</td>\n",
       "      <td>16489.0</td>\n",
       "      <td>19.634437</td>\n",
       "      <td>39.044617</td>\n",
       "      <td>2.012817</td>\n",
       "      <td>3.974528</td>\n",
       "      <td>0.000499</td>\n",
       "      <td>0.970982</td>\n",
       "      <td>AGP+QATRLQ:S:PCW</td>\n",
       "    </tr>\n",
       "    <tr>\n",
       "      <th>2</th>\n",
       "      <td>2021.01.12-223018</td>\n",
       "      <td>2020.12.14-174343</td>\n",
       "      <td>16352.0</td>\n",
       "      <td>19.471303</td>\n",
       "      <td>29.346378</td>\n",
       "      <td>1.996094</td>\n",
       "      <td>4.007828</td>\n",
       "      <td>0.004665</td>\n",
       "      <td>0.793262</td>\n",
       "      <td>AGP+QATRLQ:S:NNPCW</td>\n",
       "    </tr>\n",
       "    <tr>\n",
       "      <th>3</th>\n",
       "      <td>2021.01.12-223053</td>\n",
       "      <td>2020.12.14-174343</td>\n",
       "      <td>16486.0</td>\n",
       "      <td>19.630864</td>\n",
       "      <td>37.734865</td>\n",
       "      <td>2.012451</td>\n",
       "      <td>3.975252</td>\n",
       "      <td>0.000674</td>\n",
       "      <td>0.961794</td>\n",
       "      <td>AGP+QATRLQ:S:NNPCW</td>\n",
       "    </tr>\n",
       "    <tr>\n",
       "      <th>4</th>\n",
       "      <td>2021.01.12-223129</td>\n",
       "      <td>2020.12.14-174343</td>\n",
       "      <td>16404.0</td>\n",
       "      <td>19.533222</td>\n",
       "      <td>26.188218</td>\n",
       "      <td>2.002441</td>\n",
       "      <td>3.995123</td>\n",
       "      <td>0.009621</td>\n",
       "      <td>0.731177</td>\n",
       "      <td>AGP+QATRLQ:S:PCW</td>\n",
       "    </tr>\n",
       "  </tbody>\n",
       "</table>\n",
       "</div>"
      ],
      "text/plain": [
       "                date          init-from  size(byte)  footprint(%)       psnr  \\\n",
       "0  2021.01.12-222903  2020.12.14-174343     16420.0     19.552274  29.491423   \n",
       "1  2021.01.12-222940  2020.12.14-174343     16489.0     19.634437  39.044617   \n",
       "2  2021.01.12-223018  2020.12.14-174343     16352.0     19.471303  29.346378   \n",
       "3  2021.01.12-223053  2020.12.14-174343     16486.0     19.630864  37.734865   \n",
       "4  2021.01.12-223129  2020.12.14-174343     16404.0     19.533222  26.188218   \n",
       "\n",
       "        bpp        CR       mse      ssim        cmprss-class  \n",
       "0  2.004395  3.991230  0.004508  0.808308    AGP+QATRLQ:S:PCW  \n",
       "1  2.012817  3.974528  0.000499  0.970982    AGP+QATRLQ:S:PCW  \n",
       "2  1.996094  4.007828  0.004665  0.793262  AGP+QATRLQ:S:NNPCW  \n",
       "3  2.012451  3.975252  0.000674  0.961794  AGP+QATRLQ:S:NNPCW  \n",
       "4  2.002441  3.995123  0.009621  0.731177    AGP+QATRLQ:S:PCW  "
      ]
     },
     "execution_count": 8,
     "metadata": {},
     "output_type": "execute_result"
    }
   ],
   "source": [
    "cmprss_df = get_selected_dataset(dataset_path_wg.value)\n",
    "selected_columns = \"date,init-from,size(byte),footprint(%),psnr,bpp,CR,mse,ssim,cmprss-class\".split(\",\")\n",
    "cmprss_df[selected_columns].head(5)"
   ]
  },
  {
   "cell_type": "code",
   "execution_count": 9,
   "id": "blond-syndicate",
   "metadata": {},
   "outputs": [
    {
     "data": {
      "text/plain": [
       "Index(['date', 'init-from', 'size(byte)', 'footprint(%)', 'psnr', 'bpp', 'CR',\n",
       "       'mse', 'ssim', 'cmprss-class', 'cmprss-class-2', 'prune_techs',\n",
       "       'prune_rate_intervals', 'cmprss-class-3'],\n",
       "      dtype='object')"
      ]
     },
     "execution_count": 9,
     "metadata": {},
     "output_type": "execute_result"
    }
   ],
   "source": [
    "cmprss_df.columns"
   ]
  },
  {
   "cell_type": "code",
   "execution_count": 10,
   "id": "mechanical-probe",
   "metadata": {},
   "outputs": [],
   "source": [
    "selected_columns = \"date,init-from,size(byte),footprint(%),psnr,bpp,CR,mse,ssim,cmprss-class,cmprss-class-2,cmprss-class-3,prune_rate_intervals\".split(\",\")\n",
    "cmprss_df = cmprss_df[selected_columns] # cmprss_df[selected_columns].head(5)"
   ]
  },
  {
   "cell_type": "code",
   "execution_count": 11,
   "id": "suburban-catalog",
   "metadata": {},
   "outputs": [
    {
     "data": {
      "application/vnd.jupyter.widget-view+json": {
       "model_id": "46c464f352ee4c78b33318e43b725e5c",
       "version_major": 2,
       "version_minor": 0
      },
      "text/plain": [
       "interactive(children=(Checkbox(value=True, description='hist_or_pie_chart'), Dropdown(description='attribute',…"
      ]
     },
     "metadata": {},
     "output_type": "display_data"
    }
   ],
   "source": [
    "show_hist_or_pie_quant_tech(cmprss_df)"
   ]
  },
  {
   "cell_type": "code",
   "execution_count": 12,
   "id": "revolutionary-breeding",
   "metadata": {},
   "outputs": [
    {
     "data": {
      "application/vnd.jupyter.widget-view+json": {
       "model_id": "580b3356f0e940d09b17401d2647d1b8",
       "version_major": 2,
       "version_minor": 0
      },
      "text/plain": [
       "interactive(children=(Checkbox(value=False, description='flag_add_jpeg_data'), Checkbox(value=False, descripti…"
      ]
     },
     "metadata": {},
     "output_type": "display_data"
    }
   ],
   "source": [
    "jpeg_df_tmp = pd.concat([jpeg_df, siren_bsln_df], axis = 0)\n",
    "optional_dfs_dict = dict(\n",
    "    jpeg_df = jpeg_df,\n",
    "    siren_df = siren_bsln_df,\n",
    ")\n",
    "show_scatter_plot(cmprss_df, jpeg_df=jpeg_df_tmp, optional_dfs_dict=optional_dfs_dict)"
   ]
  },
  {
   "cell_type": "code",
   "execution_count": 18,
   "id": "selective-confidentiality",
   "metadata": {},
   "outputs": [
    {
     "data": {
      "application/vnd.jupyter.widget-view+json": {
       "model_id": "f840d148f5db4795a5b4b2888768f411",
       "version_major": 2,
       "version_minor": 0
      },
      "text/plain": [
       "interactive(children=(Checkbox(value=False, description='flag_add_jpeg_data'), Checkbox(value=False, descripti…"
      ]
     },
     "metadata": {},
     "output_type": "display_data"
    }
   ],
   "source": [
    "jpeg_df_tmp = pd.concat([jpeg_df, siren_bsln_df], axis = 0)\n",
    "optional_dfs_dict = dict(\n",
    "    jpeg_df = jpeg_df,\n",
    "    siren_df = siren_bsln_df,\n",
    ")\n",
    "show_box_plot(cmprss_df, jpeg_df = jpeg_df, optional_dfs_dict=optional_dfs_dict)"
   ]
  },
  {
   "cell_type": "markdown",
   "id": "incorporate-month",
   "metadata": {},
   "source": [
    "### Comparing table\n",
    "---"
   ]
  },
  {
   "cell_type": "code",
   "execution_count": 14,
   "id": "banner-intensity",
   "metadata": {},
   "outputs": [
    {
     "data": {
      "text/html": [
       "<div>\n",
       "<style scoped>\n",
       "    .dataframe tbody tr th:only-of-type {\n",
       "        vertical-align: middle;\n",
       "    }\n",
       "\n",
       "    .dataframe tbody tr th {\n",
       "        vertical-align: top;\n",
       "    }\n",
       "\n",
       "    .dataframe thead th {\n",
       "        text-align: right;\n",
       "    }\n",
       "</style>\n",
       "<table border=\"1\" class=\"dataframe\">\n",
       "  <thead>\n",
       "    <tr style=\"text-align: right;\">\n",
       "      <th></th>\n",
       "      <th>date</th>\n",
       "      <th>init-from</th>\n",
       "      <th>size(byte)</th>\n",
       "      <th>footprint(%)</th>\n",
       "      <th>psnr</th>\n",
       "      <th>bpp</th>\n",
       "      <th>CR</th>\n",
       "      <th>mse</th>\n",
       "      <th>ssim</th>\n",
       "      <th>cmprss-class</th>\n",
       "      <th>cmprss-class-2</th>\n",
       "    </tr>\n",
       "  </thead>\n",
       "  <tbody>\n",
       "    <tr>\n",
       "      <th>0</th>\n",
       "      <td>2020.11.29-231149</td>\n",
       "      <td>-</td>\n",
       "      <td>83980.0</td>\n",
       "      <td>100.0</td>\n",
       "      <td>49.16</td>\n",
       "      <td>10.251465</td>\n",
       "      <td>0.780376</td>\n",
       "      <td>0.000049</td>\n",
       "      <td>0.996</td>\n",
       "      <td>Baseline-n_hf64-n_hl5</td>\n",
       "      <td>BASELINE</td>\n",
       "    </tr>\n",
       "  </tbody>\n",
       "</table>\n",
       "</div>"
      ],
      "text/plain": [
       "                date init-from  size(byte)  footprint(%)   psnr        bpp  \\\n",
       "0  2020.11.29-231149         -     83980.0         100.0  49.16  10.251465   \n",
       "\n",
       "         CR       mse   ssim           cmprss-class cmprss-class-2  \n",
       "0  0.780376  0.000049  0.996  Baseline-n_hf64-n_hl5       BASELINE  "
      ]
     },
     "execution_count": 14,
     "metadata": {},
     "output_type": "execute_result"
    }
   ],
   "source": [
    "baseline_data = ['2020.11.29-231149','-',20995*32/8,100.,49.16,20995*32/(256*256), (256*256*8)/(20995*32), 4.86e-5,9.96e-1,'Baseline-n_hf64-n_hl5', 'BASELINE']\n",
    "columns = 'date,init-from,size(byte),footprint(%),psnr,bpp,CR,mse,ssim,cmprss-class,cmprss-class-2'.split(\",\")\n",
    "baseline_data_df = pd.DataFrame([baseline_data], columns = columns)\n",
    "baseline_data_df"
   ]
  },
  {
   "cell_type": "code",
   "execution_count": 17,
   "id": "polar-blend",
   "metadata": {},
   "outputs": [
    {
     "data": {
      "application/vnd.jupyter.widget-view+json": {
       "model_id": "78b96ade151e4b629dfd3ca6ed314036",
       "version_major": 2,
       "version_minor": 0
      },
      "text/plain": [
       "interactive(children=(Dropdown(description='target_class', options=('cmprss-class', 'cmprss-class-2', 'prune_r…"
      ]
     },
     "metadata": {},
     "output_type": "display_data"
    }
   ],
   "source": [
    "create_resulting_table_for_comparison_reasons_2(baseline_data_df, cmprss_df, jpeg_df, agp_df = None)"
   ]
  },
  {
   "cell_type": "markdown",
   "id": "continental-diamond",
   "metadata": {},
   "source": [
    "## References"
   ]
  }
 ],
 "metadata": {
  "kernelspec": {
   "display_name": "Python 3",
   "language": "python",
   "name": "python3"
  },
  "language_info": {
   "codemirror_mode": {
    "name": "ipython",
    "version": 3
   },
   "file_extension": ".py",
   "mimetype": "text/x-python",
   "name": "python",
   "nbconvert_exporter": "python",
   "pygments_lexer": "ipython3",
   "version": "3.6.12"
  }
 },
 "nbformat": 4,
 "nbformat_minor": 5
}
