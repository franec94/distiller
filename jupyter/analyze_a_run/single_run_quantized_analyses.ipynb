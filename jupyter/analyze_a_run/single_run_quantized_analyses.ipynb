{
 "cells": [
  {
   "cell_type": "markdown",
   "metadata": {},
   "source": [
    "# Analyses of Quantized Siren like NNs\n",
    "---"
   ]
  },
  {
   "cell_type": "code",
   "execution_count": 1,
   "metadata": {},
   "outputs": [],
   "source": [
    "from utils.libs import *"
   ]
  },
  {
   "cell_type": "code",
   "execution_count": 2,
   "metadata": {},
   "outputs": [],
   "source": [
    "NOTIFICATIONS_ENABLED_VIA_TOAST = True\n",
    "IS_DYNAMIC_QUANT = False"
   ]
  },
  {
   "cell_type": "code",
   "execution_count": 3,
   "metadata": {},
   "outputs": [
    {
     "data": {
      "text/plain": [
       "True"
      ]
     },
     "execution_count": 3,
     "metadata": {},
     "output_type": "execute_result"
    }
   ],
   "source": [
    "# Data To analize saved within a given dir path.\n",
    "single_run_timestamp = '1605594448-849077'\n",
    "date_run = '17-11-2020'\n",
    "if IS_DYNAMIC_QUANT:\n",
    "    single_run_path = f\"D:\\\\data\\\\data_thesys\\\\dynamic_quant\\\\cameramen\\\\{single_run_timestamp}\\\\train\"\n",
    "else:\n",
    "    single_run_path = f\"D:\\\\data\\\\data_thesys\\\\cameramen\\\\{date_run}\\\\{single_run_timestamp}\\\\train\"\n",
    "    pass\n",
    "# Check dir exists.\n",
    "check_dir_exists(single_run_path)"
   ]
  },
  {
   "cell_type": "code",
   "execution_count": 4,
   "metadata": {},
   "outputs": [
    {
     "data": {
      "text/plain": [
       "[]"
      ]
     },
     "execution_count": 4,
     "metadata": {},
     "output_type": "execute_result"
    }
   ],
   "source": [
    "# Filter desired files containing data to be investigated.\n",
    "regex_filter = re.compile('result_comb_train(_)?(\\d+)?\\.txt$')\n",
    "# regex_filter = re.compile('result_comb_train\\.txt$')\n",
    "# Fetch files into a list.\n",
    "files_list = get_all_files_by_ext(dir_path = single_run_path, ext = 'txt', recursive_search = False, regex_filter = regex_filter)\n",
    "\n",
    "files_list"
   ]
  },
  {
   "cell_type": "code",
   "execution_count": 5,
   "metadata": {},
   "outputs": [],
   "source": [
    "# Fetch data into a numpy array.\n",
    "if len(files_list ) != 0:\n",
    "    res_arr = laod_data_from_files_list(files_list)"
   ]
  },
  {
   "cell_type": "code",
   "execution_count": 6,
   "metadata": {},
   "outputs": [],
   "source": [
    "if len(files_list ) != 0:\n",
    "    res_arr[0]"
   ]
  },
  {
   "cell_type": "code",
   "execution_count": 7,
   "metadata": {},
   "outputs": [
    {
     "ename": "NameError",
     "evalue": "name 'res_arr' is not defined",
     "output_type": "error",
     "traceback": [
      "\u001b[1;31m---------------------------------------------------------------------------\u001b[0m",
      "\u001b[1;31mNameError\u001b[0m                                 Traceback (most recent call last)",
      "\u001b[1;32m<ipython-input-7-93a1aaebf332>\u001b[0m in \u001b[0;36m<module>\u001b[1;34m\u001b[0m\n\u001b[0;32m      3\u001b[0m \u001b[1;31m# columns = \"#params;seed;hl;hf;mse;psnr;ssim;eta\".split(\";\")\u001b[0m\u001b[1;33m\u001b[0m\u001b[1;33m\u001b[0m\u001b[1;33m\u001b[0m\u001b[0m\n\u001b[0;32m      4\u001b[0m \u001b[0mcolumns\u001b[0m \u001b[1;33m=\u001b[0m \u001b[1;34m\"arch_no_tmp;trial_no;hf;hl;seed;#params;#params_2;mse;psnr;ssim;mse_q;psnr_q;ssim_q;eta_t;eta_v;eta_q\"\u001b[0m\u001b[1;33m.\u001b[0m\u001b[0msplit\u001b[0m\u001b[1;33m(\u001b[0m\u001b[1;34m\";\"\u001b[0m\u001b[1;33m)\u001b[0m\u001b[1;33m\u001b[0m\u001b[1;33m\u001b[0m\u001b[0m\n\u001b[1;32m----> 5\u001b[1;33m \u001b[0mdf_res\u001b[0m \u001b[1;33m=\u001b[0m \u001b[0mpd\u001b[0m\u001b[1;33m.\u001b[0m\u001b[0mDataFrame\u001b[0m\u001b[1;33m(\u001b[0m\u001b[0mres_arr\u001b[0m\u001b[1;33m,\u001b[0m \u001b[0mcolumns\u001b[0m \u001b[1;33m=\u001b[0m \u001b[0mcolumns\u001b[0m\u001b[1;33m)\u001b[0m\u001b[1;33m.\u001b[0m\u001b[0msort_values\u001b[0m\u001b[1;33m(\u001b[0m\u001b[0mby\u001b[0m \u001b[1;33m=\u001b[0m \u001b[1;33m[\u001b[0m\u001b[1;34m'hf'\u001b[0m\u001b[1;33m,\u001b[0m \u001b[1;34m'hl'\u001b[0m\u001b[1;33m,\u001b[0m \u001b[1;34m'seed'\u001b[0m\u001b[1;33m]\u001b[0m\u001b[1;33m)\u001b[0m\u001b[1;33m\u001b[0m\u001b[1;33m\u001b[0m\u001b[0m\n\u001b[0m\u001b[0;32m      6\u001b[0m \u001b[0mdf_res\u001b[0m\u001b[1;33m.\u001b[0m\u001b[0mhead\u001b[0m\u001b[1;33m(\u001b[0m\u001b[1;36m5\u001b[0m\u001b[1;33m)\u001b[0m\u001b[1;33m\u001b[0m\u001b[1;33m\u001b[0m\u001b[0m\n",
      "\u001b[1;31mNameError\u001b[0m: name 'res_arr' is not defined"
     ]
    }
   ],
   "source": [
    "# Put fetched data within pandas dataframe.\n",
    "# columns = \"#params;seed;hl;hf;mse;psnr;ssim;mse_dyn;psnr_dyn;ssim_dyn;eta\".split(\";\")\n",
    "# columns = \"#params;seed;hl;hf;mse;psnr;ssim;eta\".split(\";\")\n",
    "columns = \"arch_no_tmp;trial_no;hf;hl;seed;#params;#params_2;mse;psnr;ssim;mse_q;psnr_q;ssim_q;eta_t;eta_v;eta_q\".split(\";\")\n",
    "df_res = pd.DataFrame(res_arr, columns = columns).sort_values(by = ['hf', 'hl', 'seed'])\n",
    "df_res.head(5)"
   ]
  },
  {
   "cell_type": "code",
   "execution_count": null,
   "metadata": {},
   "outputs": [],
   "source": [
    "df_res.tail(5)"
   ]
  },
  {
   "cell_type": "code",
   "execution_count": null,
   "metadata": {},
   "outputs": [],
   "source": [
    "df_res.shape"
   ]
  },
  {
   "cell_type": "code",
   "execution_count": null,
   "metadata": {},
   "outputs": [],
   "source": [
    "print(set(df_res['hf'].values))\n",
    "print(set(df_res['hl'].values))\n",
    "print(set(df_res['seed'].values))"
   ]
  },
  {
   "cell_type": "code",
   "execution_count": 8,
   "metadata": {},
   "outputs": [
    {
     "data": {
      "text/plain": [
       "Namespace(batch_size=[1], config_filepath=None, cuda=True, dynamic_quant=[], enable_tensorboard_logging=False, epochs_til_ckpt=50, evaluate=True, experiment_name='train', frequences=[], image_filepath=None, logging_root='../../../../results/cameramen', lr=[0.0001], n_hf=[64], n_hl=[5, 6, 7, 8, 9, 10, 11, 12, 13, 14, 15], num_attempts=1, num_epochs=[300000], quant_engine='fbgemm', seed=[0], sidelength=[256], verbose=0)"
      ]
     },
     "execution_count": 8,
     "metadata": {},
     "output_type": "execute_result"
    }
   ],
   "source": [
    "option_pickle_filename = 'options.pickle'\n",
    "pickel_full_path = os.path.join(f'{single_run_path}', f'{option_pickle_filename}')\n",
    "\n",
    "if os.path.isfile(pickel_full_path):\n",
    "    with open(pickel_full_path, \"rb\") as f:\n",
    "        opt = pickle.load(f)\n",
    "        pass\n",
    "    pass\n",
    "else:\n",
    "    parser = argparse.ArgumentParser()\n",
    "    \n",
    "    # hf = list(map(int, \"45\".split(\" \")))\n",
    "    hf = list(set(df_res['hf'].values))\n",
    "    parser.add_argument(\"--hidden_features\", default=hf, dest = \"hidden_features\", required=False)\n",
    "    \n",
    "    # hl = list(map(int, \"2 3 4 5 6 7 8 9\".split(\" \")))\n",
    "    hl = list(set(df_res['hl'].values))\n",
    "    parser.add_argument(\"--hidden_layers\", default=hl, dest = \"hidden_layers\", required=False)\n",
    "    \n",
    "    lr = 0.0001\n",
    "    parser.add_argument(\"--lr\", default=lr, required = False, dest = \"lr\")\n",
    "    \n",
    "    # seeds = list(map(int, \"0 42 123 1234 101\".split(\" \")))\n",
    "    seeds = list(set(df_res['seed'].values))\n",
    "    parser.add_argument(\"--seeds\", default=seeds, dest = \"seeds\", required=False)\n",
    "    \n",
    "    num_attempts = 1\n",
    "    parser.add_argument(\"--num_attempts\", default=num_attempts, dest = \"num_attempts\", required=False)\n",
    "    \n",
    "    \n",
    "    opt, unknown = parser.parse_known_args()\n",
    "    pass\n",
    "opt"
   ]
  },
  {
   "cell_type": "code",
   "execution_count": 9,
   "metadata": {},
   "outputs": [],
   "source": [
    "try:\n",
    "    param_grid = dict(\n",
    "        timemstamp=[single_run_timestamp],\n",
    "        hf=opt.hidden_features,\n",
    "        hl=opt.hidden_layers,\n",
    "        seeds=opt.seeds,\n",
    "        lr=[opt.lr]\n",
    "    )\n",
    "    data = list(ParameterGrid(param_grid))\n",
    "except:\n",
    "    param_grid = dict(\n",
    "        timemstamp=[single_run_timestamp],\n",
    "        hf=opt.n_hf,\n",
    "        hl=opt.n_hl,\n",
    "        seeds=opt.seed,\n",
    "        lr=[opt.lr]\n",
    "    )\n",
    "    data = list(ParameterGrid(param_grid))\n",
    "    pass"
   ]
  },
  {
   "cell_type": "code",
   "execution_count": 10,
   "metadata": {},
   "outputs": [
    {
     "data": {
      "text/html": [
       "<div>\n",
       "<style scoped>\n",
       "    .dataframe tbody tr th:only-of-type {\n",
       "        vertical-align: middle;\n",
       "    }\n",
       "\n",
       "    .dataframe tbody tr th {\n",
       "        vertical-align: top;\n",
       "    }\n",
       "\n",
       "    .dataframe thead th {\n",
       "        text-align: right;\n",
       "    }\n",
       "</style>\n",
       "<table border=\"1\" class=\"dataframe\">\n",
       "  <thead>\n",
       "    <tr style=\"text-align: right;\">\n",
       "      <th></th>\n",
       "      <th>hf</th>\n",
       "      <th>hl</th>\n",
       "      <th>lr</th>\n",
       "      <th>seeds</th>\n",
       "      <th>timemstamp</th>\n",
       "    </tr>\n",
       "  </thead>\n",
       "  <tbody>\n",
       "    <tr>\n",
       "      <th>0</th>\n",
       "      <td>64</td>\n",
       "      <td>5</td>\n",
       "      <td>[0.0001]</td>\n",
       "      <td>0</td>\n",
       "      <td>1605594448-849077</td>\n",
       "    </tr>\n",
       "    <tr>\n",
       "      <th>1</th>\n",
       "      <td>64</td>\n",
       "      <td>6</td>\n",
       "      <td>[0.0001]</td>\n",
       "      <td>0</td>\n",
       "      <td>1605594448-849077</td>\n",
       "    </tr>\n",
       "    <tr>\n",
       "      <th>2</th>\n",
       "      <td>64</td>\n",
       "      <td>7</td>\n",
       "      <td>[0.0001]</td>\n",
       "      <td>0</td>\n",
       "      <td>1605594448-849077</td>\n",
       "    </tr>\n",
       "    <tr>\n",
       "      <th>3</th>\n",
       "      <td>64</td>\n",
       "      <td>8</td>\n",
       "      <td>[0.0001]</td>\n",
       "      <td>0</td>\n",
       "      <td>1605594448-849077</td>\n",
       "    </tr>\n",
       "    <tr>\n",
       "      <th>4</th>\n",
       "      <td>64</td>\n",
       "      <td>9</td>\n",
       "      <td>[0.0001]</td>\n",
       "      <td>0</td>\n",
       "      <td>1605594448-849077</td>\n",
       "    </tr>\n",
       "  </tbody>\n",
       "</table>\n",
       "</div>"
      ],
      "text/plain": [
       "   hf  hl        lr  seeds         timemstamp\n",
       "0  64   5  [0.0001]      0  1605594448-849077\n",
       "1  64   6  [0.0001]      0  1605594448-849077\n",
       "2  64   7  [0.0001]      0  1605594448-849077\n",
       "3  64   8  [0.0001]      0  1605594448-849077\n",
       "4  64   9  [0.0001]      0  1605594448-849077"
      ]
     },
     "execution_count": 10,
     "metadata": {},
     "output_type": "execute_result"
    }
   ],
   "source": [
    "df = pd.DataFrame(data = data)\n",
    "df.head(5)"
   ]
  },
  {
   "cell_type": "code",
   "execution_count": 11,
   "metadata": {},
   "outputs": [
    {
     "data": {
      "text/plain": [
       "(1, 11.0)"
      ]
     },
     "execution_count": 11,
     "metadata": {},
     "output_type": "execute_result"
    }
   ],
   "source": [
    "n = len(set(df.seeds.values))\n",
    "n, df.shape[0] / n"
   ]
  },
  {
   "cell_type": "code",
   "execution_count": 12,
   "metadata": {},
   "outputs": [
    {
     "data": {
      "text/plain": [
       "[['arch_no_0', 'trial_no_0'],\n",
       " ['arch_no_1', 'trial_no_0'],\n",
       " ['arch_no_2', 'trial_no_0'],\n",
       " ['arch_no_3', 'trial_no_0'],\n",
       " ['arch_no_4', 'trial_no_0'],\n",
       " ['arch_no_5', 'trial_no_0'],\n",
       " ['arch_no_6', 'trial_no_0'],\n",
       " ['arch_no_7', 'trial_no_0'],\n",
       " ['arch_no_8', 'trial_no_0'],\n",
       " ['arch_no_9', 'trial_no_0'],\n",
       " ['arch_no_10', 'trial_no_0']]"
      ]
     },
     "execution_count": 12,
     "metadata": {},
     "output_type": "execute_result"
    }
   ],
   "source": [
    "archs_names = [f\"arch_no_{no}\" for no in range(0, df.shape[0])]\n",
    "trials_names = [f\"trial_no_{no}\" for no in range(0, opt.num_attempts)]\n",
    "\n",
    "param_grid = dict(\n",
    "    archs_names=archs_names,\n",
    "    trials_names=trials_names,\n",
    ")\n",
    "data = list(ParameterGrid(param_grid))\n",
    "data = list(map(list, (map(operator.methodcaller('values'), data))))\n",
    "data"
   ]
  },
  {
   "cell_type": "code",
   "execution_count": 13,
   "metadata": {},
   "outputs": [],
   "source": [
    "df[['archs_names', 'trials_names']] = data"
   ]
  },
  {
   "cell_type": "code",
   "execution_count": 14,
   "metadata": {},
   "outputs": [
    {
     "data": {
      "text/html": [
       "<div>\n",
       "<style scoped>\n",
       "    .dataframe tbody tr th:only-of-type {\n",
       "        vertical-align: middle;\n",
       "    }\n",
       "\n",
       "    .dataframe tbody tr th {\n",
       "        vertical-align: top;\n",
       "    }\n",
       "\n",
       "    .dataframe thead th {\n",
       "        text-align: right;\n",
       "    }\n",
       "</style>\n",
       "<table border=\"1\" class=\"dataframe\">\n",
       "  <thead>\n",
       "    <tr style=\"text-align: right;\">\n",
       "      <th></th>\n",
       "      <th>hf</th>\n",
       "      <th>hl</th>\n",
       "      <th>lr</th>\n",
       "      <th>seeds</th>\n",
       "      <th>timemstamp</th>\n",
       "      <th>archs_names</th>\n",
       "      <th>trials_names</th>\n",
       "    </tr>\n",
       "  </thead>\n",
       "  <tbody>\n",
       "    <tr>\n",
       "      <th>0</th>\n",
       "      <td>64</td>\n",
       "      <td>5</td>\n",
       "      <td>[0.0001]</td>\n",
       "      <td>0</td>\n",
       "      <td>1605594448-849077</td>\n",
       "      <td>arch_no_0</td>\n",
       "      <td>trial_no_0</td>\n",
       "    </tr>\n",
       "    <tr>\n",
       "      <th>1</th>\n",
       "      <td>64</td>\n",
       "      <td>6</td>\n",
       "      <td>[0.0001]</td>\n",
       "      <td>0</td>\n",
       "      <td>1605594448-849077</td>\n",
       "      <td>arch_no_1</td>\n",
       "      <td>trial_no_0</td>\n",
       "    </tr>\n",
       "    <tr>\n",
       "      <th>2</th>\n",
       "      <td>64</td>\n",
       "      <td>7</td>\n",
       "      <td>[0.0001]</td>\n",
       "      <td>0</td>\n",
       "      <td>1605594448-849077</td>\n",
       "      <td>arch_no_2</td>\n",
       "      <td>trial_no_0</td>\n",
       "    </tr>\n",
       "    <tr>\n",
       "      <th>3</th>\n",
       "      <td>64</td>\n",
       "      <td>8</td>\n",
       "      <td>[0.0001]</td>\n",
       "      <td>0</td>\n",
       "      <td>1605594448-849077</td>\n",
       "      <td>arch_no_3</td>\n",
       "      <td>trial_no_0</td>\n",
       "    </tr>\n",
       "    <tr>\n",
       "      <th>4</th>\n",
       "      <td>64</td>\n",
       "      <td>9</td>\n",
       "      <td>[0.0001]</td>\n",
       "      <td>0</td>\n",
       "      <td>1605594448-849077</td>\n",
       "      <td>arch_no_4</td>\n",
       "      <td>trial_no_0</td>\n",
       "    </tr>\n",
       "    <tr>\n",
       "      <th>5</th>\n",
       "      <td>64</td>\n",
       "      <td>10</td>\n",
       "      <td>[0.0001]</td>\n",
       "      <td>0</td>\n",
       "      <td>1605594448-849077</td>\n",
       "      <td>arch_no_5</td>\n",
       "      <td>trial_no_0</td>\n",
       "    </tr>\n",
       "    <tr>\n",
       "      <th>6</th>\n",
       "      <td>64</td>\n",
       "      <td>11</td>\n",
       "      <td>[0.0001]</td>\n",
       "      <td>0</td>\n",
       "      <td>1605594448-849077</td>\n",
       "      <td>arch_no_6</td>\n",
       "      <td>trial_no_0</td>\n",
       "    </tr>\n",
       "    <tr>\n",
       "      <th>7</th>\n",
       "      <td>64</td>\n",
       "      <td>12</td>\n",
       "      <td>[0.0001]</td>\n",
       "      <td>0</td>\n",
       "      <td>1605594448-849077</td>\n",
       "      <td>arch_no_7</td>\n",
       "      <td>trial_no_0</td>\n",
       "    </tr>\n",
       "    <tr>\n",
       "      <th>8</th>\n",
       "      <td>64</td>\n",
       "      <td>13</td>\n",
       "      <td>[0.0001]</td>\n",
       "      <td>0</td>\n",
       "      <td>1605594448-849077</td>\n",
       "      <td>arch_no_8</td>\n",
       "      <td>trial_no_0</td>\n",
       "    </tr>\n",
       "    <tr>\n",
       "      <th>9</th>\n",
       "      <td>64</td>\n",
       "      <td>14</td>\n",
       "      <td>[0.0001]</td>\n",
       "      <td>0</td>\n",
       "      <td>1605594448-849077</td>\n",
       "      <td>arch_no_9</td>\n",
       "      <td>trial_no_0</td>\n",
       "    </tr>\n",
       "    <tr>\n",
       "      <th>10</th>\n",
       "      <td>64</td>\n",
       "      <td>15</td>\n",
       "      <td>[0.0001]</td>\n",
       "      <td>0</td>\n",
       "      <td>1605594448-849077</td>\n",
       "      <td>arch_no_10</td>\n",
       "      <td>trial_no_0</td>\n",
       "    </tr>\n",
       "  </tbody>\n",
       "</table>\n",
       "</div>"
      ],
      "text/plain": [
       "    hf  hl        lr  seeds         timemstamp archs_names trials_names\n",
       "0   64   5  [0.0001]      0  1605594448-849077   arch_no_0   trial_no_0\n",
       "1   64   6  [0.0001]      0  1605594448-849077   arch_no_1   trial_no_0\n",
       "2   64   7  [0.0001]      0  1605594448-849077   arch_no_2   trial_no_0\n",
       "3   64   8  [0.0001]      0  1605594448-849077   arch_no_3   trial_no_0\n",
       "4   64   9  [0.0001]      0  1605594448-849077   arch_no_4   trial_no_0\n",
       "5   64  10  [0.0001]      0  1605594448-849077   arch_no_5   trial_no_0\n",
       "6   64  11  [0.0001]      0  1605594448-849077   arch_no_6   trial_no_0\n",
       "7   64  12  [0.0001]      0  1605594448-849077   arch_no_7   trial_no_0\n",
       "8   64  13  [0.0001]      0  1605594448-849077   arch_no_8   trial_no_0\n",
       "9   64  14  [0.0001]      0  1605594448-849077   arch_no_9   trial_no_0\n",
       "10  64  15  [0.0001]      0  1605594448-849077  arch_no_10   trial_no_0"
      ]
     },
     "execution_count": 14,
     "metadata": {},
     "output_type": "execute_result"
    }
   ],
   "source": [
    "df"
   ]
  },
  {
   "cell_type": "code",
   "execution_count": 15,
   "metadata": {},
   "outputs": [],
   "source": [
    "regex_filter = re.compile('.+\\.pth$')\n",
    "# Fetch files into a list.\n",
    "files_list = get_all_files_by_ext(dir_path = single_run_path, ext = 'pth', recursive_search = True, regex_filter = regex_filter)"
   ]
  },
  {
   "cell_type": "code",
   "execution_count": 16,
   "metadata": {},
   "outputs": [],
   "source": [
    "t = files_list[0]"
   ]
  },
  {
   "cell_type": "code",
   "execution_count": 17,
   "metadata": {},
   "outputs": [
    {
     "data": {
      "text/plain": [
       "True"
      ]
     },
     "execution_count": 17,
     "metadata": {},
     "output_type": "execute_result"
    }
   ],
   "source": [
    "os.path.split(os.path.split(t)[0])[1] == 'checkpoints'"
   ]
  },
  {
   "cell_type": "code",
   "execution_count": 18,
   "metadata": {},
   "outputs": [
    {
     "data": {
      "text/plain": [
       "('', 'model_final.pth')"
      ]
     },
     "execution_count": 18,
     "metadata": {},
     "output_type": "execute_result"
    }
   ],
   "source": [
    "os.path.split(os.path.split(files_list[0])[1])"
   ]
  },
  {
   "cell_type": "code",
   "execution_count": 19,
   "metadata": {},
   "outputs": [
    {
     "data": {
      "text/plain": [
       "[Path('D:/data/data_thesys/cameramen/17-11-2020/1605594448-849077/train/arch_no_0/checkpoints/model_final.pth'),\n",
       " Path('D:/data/data_thesys/cameramen/17-11-2020/1605594448-849077/train/arch_no_1/checkpoints/model_final.pth'),\n",
       " Path('D:/data/data_thesys/cameramen/17-11-2020/1605594448-849077/train/arch_no_2/checkpoints/model_final.pth'),\n",
       " Path('D:/data/data_thesys/cameramen/17-11-2020/1605594448-849077/train/arch_no_3/checkpoints/model_final.pth'),\n",
       " Path('D:/data/data_thesys/cameramen/17-11-2020/1605594448-849077/train/arch_no_4/checkpoints/model_final.pth'),\n",
       " Path('D:/data/data_thesys/cameramen/17-11-2020/1605594448-849077/train/arch_no_5/checkpoints/model_final.pth'),\n",
       " Path('D:/data/data_thesys/cameramen/17-11-2020/1605594448-849077/train/arch_no_6/checkpoints/model_final.pth'),\n",
       " Path('D:/data/data_thesys/cameramen/17-11-2020/1605594448-849077/train/arch_no_7/checkpoints/model_final.pth'),\n",
       " Path('D:/data/data_thesys/cameramen/17-11-2020/1605594448-849077/train/arch_no_8/checkpoints/model_final.pth'),\n",
       " Path('D:/data/data_thesys/cameramen/17-11-2020/1605594448-849077/train/arch_no_9/checkpoints/model_final.pth'),\n",
       " Path('D:/data/data_thesys/cameramen/17-11-2020/1605594448-849077/train/arch_no_10/checkpoints/model_final.pth')]"
      ]
     },
     "execution_count": 19,
     "metadata": {},
     "output_type": "execute_result"
    }
   ],
   "source": [
    "file_list_sorted = []\n",
    "for a_arch in df['archs_names'].values[:]:\n",
    "    for a_file in files_list[:]:\n",
    "        found = False\n",
    "        a_file_tmp = copy.deepcopy(a_file)\n",
    "        while True:\n",
    "            a_file_tmp = os.path.split(a_file_tmp)\n",
    "            # print(a_file_tmp)\n",
    "            if len(a_file_tmp) == 0: break\n",
    "            if len(a_file_tmp) == 2:\n",
    "                if a_file_tmp[1] == '':\n",
    "                    break\n",
    "            dir_name = a_file_tmp[1]\n",
    "            if dir_name == a_arch:\n",
    "                found = True\n",
    "                break\n",
    "            a_file_tmp = a_file_tmp[0]\n",
    "        if found == True:\n",
    "            file_list_sorted.append(a_file)\n",
    "            break\n",
    "file_list_sorted"
   ]
  },
  {
   "cell_type": "code",
   "execution_count": 20,
   "metadata": {},
   "outputs": [
    {
     "data": {
      "text/html": [
       "<div>\n",
       "<style scoped>\n",
       "    .dataframe tbody tr th:only-of-type {\n",
       "        vertical-align: middle;\n",
       "    }\n",
       "\n",
       "    .dataframe tbody tr th {\n",
       "        vertical-align: top;\n",
       "    }\n",
       "\n",
       "    .dataframe thead th {\n",
       "        text-align: right;\n",
       "    }\n",
       "</style>\n",
       "<table border=\"1\" class=\"dataframe\">\n",
       "  <thead>\n",
       "    <tr style=\"text-align: right;\">\n",
       "      <th></th>\n",
       "      <th>hf</th>\n",
       "      <th>hl</th>\n",
       "      <th>lr</th>\n",
       "      <th>seeds</th>\n",
       "      <th>timemstamp</th>\n",
       "      <th>archs_names</th>\n",
       "      <th>trials_names</th>\n",
       "      <th>path</th>\n",
       "    </tr>\n",
       "  </thead>\n",
       "  <tbody>\n",
       "    <tr>\n",
       "      <th>0</th>\n",
       "      <td>64</td>\n",
       "      <td>5</td>\n",
       "      <td>[0.0001]</td>\n",
       "      <td>0</td>\n",
       "      <td>1605594448-849077</td>\n",
       "      <td>arch_no_0</td>\n",
       "      <td>trial_no_0</td>\n",
       "      <td>D:\\data\\data_thesys\\cameramen\\17-11-2020\\16055...</td>\n",
       "    </tr>\n",
       "    <tr>\n",
       "      <th>1</th>\n",
       "      <td>64</td>\n",
       "      <td>6</td>\n",
       "      <td>[0.0001]</td>\n",
       "      <td>0</td>\n",
       "      <td>1605594448-849077</td>\n",
       "      <td>arch_no_1</td>\n",
       "      <td>trial_no_0</td>\n",
       "      <td>D:\\data\\data_thesys\\cameramen\\17-11-2020\\16055...</td>\n",
       "    </tr>\n",
       "    <tr>\n",
       "      <th>2</th>\n",
       "      <td>64</td>\n",
       "      <td>7</td>\n",
       "      <td>[0.0001]</td>\n",
       "      <td>0</td>\n",
       "      <td>1605594448-849077</td>\n",
       "      <td>arch_no_2</td>\n",
       "      <td>trial_no_0</td>\n",
       "      <td>D:\\data\\data_thesys\\cameramen\\17-11-2020\\16055...</td>\n",
       "    </tr>\n",
       "    <tr>\n",
       "      <th>3</th>\n",
       "      <td>64</td>\n",
       "      <td>8</td>\n",
       "      <td>[0.0001]</td>\n",
       "      <td>0</td>\n",
       "      <td>1605594448-849077</td>\n",
       "      <td>arch_no_3</td>\n",
       "      <td>trial_no_0</td>\n",
       "      <td>D:\\data\\data_thesys\\cameramen\\17-11-2020\\16055...</td>\n",
       "    </tr>\n",
       "    <tr>\n",
       "      <th>4</th>\n",
       "      <td>64</td>\n",
       "      <td>9</td>\n",
       "      <td>[0.0001]</td>\n",
       "      <td>0</td>\n",
       "      <td>1605594448-849077</td>\n",
       "      <td>arch_no_4</td>\n",
       "      <td>trial_no_0</td>\n",
       "      <td>D:\\data\\data_thesys\\cameramen\\17-11-2020\\16055...</td>\n",
       "    </tr>\n",
       "  </tbody>\n",
       "</table>\n",
       "</div>"
      ],
      "text/plain": [
       "   hf  hl        lr  seeds         timemstamp archs_names trials_names  \\\n",
       "0  64   5  [0.0001]      0  1605594448-849077   arch_no_0   trial_no_0   \n",
       "1  64   6  [0.0001]      0  1605594448-849077   arch_no_1   trial_no_0   \n",
       "2  64   7  [0.0001]      0  1605594448-849077   arch_no_2   trial_no_0   \n",
       "3  64   8  [0.0001]      0  1605594448-849077   arch_no_3   trial_no_0   \n",
       "4  64   9  [0.0001]      0  1605594448-849077   arch_no_4   trial_no_0   \n",
       "\n",
       "                                                path  \n",
       "0  D:\\data\\data_thesys\\cameramen\\17-11-2020\\16055...  \n",
       "1  D:\\data\\data_thesys\\cameramen\\17-11-2020\\16055...  \n",
       "2  D:\\data\\data_thesys\\cameramen\\17-11-2020\\16055...  \n",
       "3  D:\\data\\data_thesys\\cameramen\\17-11-2020\\16055...  \n",
       "4  D:\\data\\data_thesys\\cameramen\\17-11-2020\\16055...  "
      ]
     },
     "execution_count": 20,
     "metadata": {},
     "output_type": "execute_result"
    }
   ],
   "source": [
    "df['path'] = file_list_sorted\n",
    "df.head(5)"
   ]
  },
  {
   "cell_type": "code",
   "execution_count": 21,
   "metadata": {},
   "outputs": [],
   "source": [
    "columns_list = list(df.columns)\n",
    "RowTuple = collections.namedtuple('RowTuple', columns_list)"
   ]
  },
  {
   "cell_type": "code",
   "execution_count": 22,
   "metadata": {},
   "outputs": [],
   "source": [
    "root_dir = f'D:\\\\data\\\\data_thesys\\\\data_post\\\\{date_run}\\\\{single_run_timestamp}'\n",
    "def map_file_to_copy(a_row, root_dir = root_dir, ext = 'pth'):\n",
    "    a_row_tuple = RowTuple._make(a_row)\n",
    "    pieces = [a_row_tuple.timemstamp, a_row_tuple.hf, a_row_tuple.hl, a_row_tuple.archs_names,a_row_tuple.trials_names, ext]\n",
    "    a_path = '.'.join([str(xx) for xx in pieces])\n",
    "    return os.path.join(root_dir, a_path)\n",
    "df['path_2'] = list(map(map_file_to_copy, df.values))"
   ]
  },
  {
   "cell_type": "code",
   "execution_count": 23,
   "metadata": {},
   "outputs": [
    {
     "data": {
      "text/html": [
       "<div>\n",
       "<style scoped>\n",
       "    .dataframe tbody tr th:only-of-type {\n",
       "        vertical-align: middle;\n",
       "    }\n",
       "\n",
       "    .dataframe tbody tr th {\n",
       "        vertical-align: top;\n",
       "    }\n",
       "\n",
       "    .dataframe thead th {\n",
       "        text-align: right;\n",
       "    }\n",
       "</style>\n",
       "<table border=\"1\" class=\"dataframe\">\n",
       "  <thead>\n",
       "    <tr style=\"text-align: right;\">\n",
       "      <th></th>\n",
       "      <th>hf</th>\n",
       "      <th>hl</th>\n",
       "      <th>lr</th>\n",
       "      <th>seeds</th>\n",
       "      <th>timemstamp</th>\n",
       "      <th>archs_names</th>\n",
       "      <th>trials_names</th>\n",
       "      <th>path</th>\n",
       "      <th>path_2</th>\n",
       "    </tr>\n",
       "  </thead>\n",
       "  <tbody>\n",
       "    <tr>\n",
       "      <th>0</th>\n",
       "      <td>64</td>\n",
       "      <td>5</td>\n",
       "      <td>[0.0001]</td>\n",
       "      <td>0</td>\n",
       "      <td>1605594448-849077</td>\n",
       "      <td>arch_no_0</td>\n",
       "      <td>trial_no_0</td>\n",
       "      <td>D:\\data\\data_thesys\\cameramen\\17-11-2020\\16055...</td>\n",
       "      <td>D:\\data\\data_thesys\\data_post\\17-11-2020\\16055...</td>\n",
       "    </tr>\n",
       "    <tr>\n",
       "      <th>1</th>\n",
       "      <td>64</td>\n",
       "      <td>6</td>\n",
       "      <td>[0.0001]</td>\n",
       "      <td>0</td>\n",
       "      <td>1605594448-849077</td>\n",
       "      <td>arch_no_1</td>\n",
       "      <td>trial_no_0</td>\n",
       "      <td>D:\\data\\data_thesys\\cameramen\\17-11-2020\\16055...</td>\n",
       "      <td>D:\\data\\data_thesys\\data_post\\17-11-2020\\16055...</td>\n",
       "    </tr>\n",
       "    <tr>\n",
       "      <th>2</th>\n",
       "      <td>64</td>\n",
       "      <td>7</td>\n",
       "      <td>[0.0001]</td>\n",
       "      <td>0</td>\n",
       "      <td>1605594448-849077</td>\n",
       "      <td>arch_no_2</td>\n",
       "      <td>trial_no_0</td>\n",
       "      <td>D:\\data\\data_thesys\\cameramen\\17-11-2020\\16055...</td>\n",
       "      <td>D:\\data\\data_thesys\\data_post\\17-11-2020\\16055...</td>\n",
       "    </tr>\n",
       "    <tr>\n",
       "      <th>3</th>\n",
       "      <td>64</td>\n",
       "      <td>8</td>\n",
       "      <td>[0.0001]</td>\n",
       "      <td>0</td>\n",
       "      <td>1605594448-849077</td>\n",
       "      <td>arch_no_3</td>\n",
       "      <td>trial_no_0</td>\n",
       "      <td>D:\\data\\data_thesys\\cameramen\\17-11-2020\\16055...</td>\n",
       "      <td>D:\\data\\data_thesys\\data_post\\17-11-2020\\16055...</td>\n",
       "    </tr>\n",
       "    <tr>\n",
       "      <th>4</th>\n",
       "      <td>64</td>\n",
       "      <td>9</td>\n",
       "      <td>[0.0001]</td>\n",
       "      <td>0</td>\n",
       "      <td>1605594448-849077</td>\n",
       "      <td>arch_no_4</td>\n",
       "      <td>trial_no_0</td>\n",
       "      <td>D:\\data\\data_thesys\\cameramen\\17-11-2020\\16055...</td>\n",
       "      <td>D:\\data\\data_thesys\\data_post\\17-11-2020\\16055...</td>\n",
       "    </tr>\n",
       "  </tbody>\n",
       "</table>\n",
       "</div>"
      ],
      "text/plain": [
       "   hf  hl        lr  seeds         timemstamp archs_names trials_names  \\\n",
       "0  64   5  [0.0001]      0  1605594448-849077   arch_no_0   trial_no_0   \n",
       "1  64   6  [0.0001]      0  1605594448-849077   arch_no_1   trial_no_0   \n",
       "2  64   7  [0.0001]      0  1605594448-849077   arch_no_2   trial_no_0   \n",
       "3  64   8  [0.0001]      0  1605594448-849077   arch_no_3   trial_no_0   \n",
       "4  64   9  [0.0001]      0  1605594448-849077   arch_no_4   trial_no_0   \n",
       "\n",
       "                                                path  \\\n",
       "0  D:\\data\\data_thesys\\cameramen\\17-11-2020\\16055...   \n",
       "1  D:\\data\\data_thesys\\cameramen\\17-11-2020\\16055...   \n",
       "2  D:\\data\\data_thesys\\cameramen\\17-11-2020\\16055...   \n",
       "3  D:\\data\\data_thesys\\cameramen\\17-11-2020\\16055...   \n",
       "4  D:\\data\\data_thesys\\cameramen\\17-11-2020\\16055...   \n",
       "\n",
       "                                              path_2  \n",
       "0  D:\\data\\data_thesys\\data_post\\17-11-2020\\16055...  \n",
       "1  D:\\data\\data_thesys\\data_post\\17-11-2020\\16055...  \n",
       "2  D:\\data\\data_thesys\\data_post\\17-11-2020\\16055...  \n",
       "3  D:\\data\\data_thesys\\data_post\\17-11-2020\\16055...  \n",
       "4  D:\\data\\data_thesys\\data_post\\17-11-2020\\16055...  "
      ]
     },
     "execution_count": 23,
     "metadata": {},
     "output_type": "execute_result"
    }
   ],
   "source": [
    "df.head(5)"
   ]
  },
  {
   "cell_type": "code",
   "execution_count": 24,
   "metadata": {},
   "outputs": [
    {
     "data": {
      "text/plain": [
       "'D:\\\\data\\\\data_thesys\\\\data_post\\\\17-11-2020\\\\1605594448-849077\\\\1605594448-849077.64.5.arch_no_0.trial_no_0.pth'"
      ]
     },
     "execution_count": 24,
     "metadata": {},
     "output_type": "execute_result"
    }
   ],
   "source": [
    "df.iloc[0, -1]"
   ]
  },
  {
   "cell_type": "code",
   "execution_count": 25,
   "metadata": {},
   "outputs": [],
   "source": [
    "try:\n",
    "    os.makedirs(root_dir)\n",
    "except:\n",
    "    print(f\"Dir {root_dir} already exists!\")\n",
    "    pass"
   ]
  },
  {
   "cell_type": "code",
   "execution_count": 26,
   "metadata": {},
   "outputs": [],
   "source": [
    "filename_csv = os.path.join(root_dir, 'create_collection.csv')\n",
    "df.to_csv(filename_csv)"
   ]
  },
  {
   "cell_type": "code",
   "execution_count": 27,
   "metadata": {},
   "outputs": [],
   "source": [
    "for src, dst in df[['path', 'path_2']].values:\n",
    "    shutil.copyfile(src, dst)\n",
    "    pass"
   ]
  },
  {
   "cell_type": "code",
   "execution_count": 28,
   "metadata": {},
   "outputs": [
    {
     "data": {
      "text/html": [
       "<div>\n",
       "<style scoped>\n",
       "    .dataframe tbody tr th:only-of-type {\n",
       "        vertical-align: middle;\n",
       "    }\n",
       "\n",
       "    .dataframe tbody tr th {\n",
       "        vertical-align: top;\n",
       "    }\n",
       "\n",
       "    .dataframe thead th {\n",
       "        text-align: right;\n",
       "    }\n",
       "</style>\n",
       "<table border=\"1\" class=\"dataframe\">\n",
       "  <thead>\n",
       "    <tr style=\"text-align: right;\">\n",
       "      <th></th>\n",
       "      <th>hf</th>\n",
       "      <th>hl</th>\n",
       "      <th>lr</th>\n",
       "      <th>seeds</th>\n",
       "      <th>timemstamp</th>\n",
       "      <th>archs_names</th>\n",
       "      <th>trials_names</th>\n",
       "      <th>path</th>\n",
       "      <th>path_2</th>\n",
       "    </tr>\n",
       "  </thead>\n",
       "  <tbody>\n",
       "    <tr>\n",
       "      <th>0</th>\n",
       "      <td>64</td>\n",
       "      <td>5</td>\n",
       "      <td>[0.0001]</td>\n",
       "      <td>0</td>\n",
       "      <td>1605594448-849077</td>\n",
       "      <td>arch_no_0</td>\n",
       "      <td>trial_no_0</td>\n",
       "      <td>D:\\data\\data_thesys\\cameramen\\17-11-2020\\16055...</td>\n",
       "      <td>D:\\data\\data_thesys\\data_post\\17-11-2020\\16055...</td>\n",
       "    </tr>\n",
       "    <tr>\n",
       "      <th>1</th>\n",
       "      <td>64</td>\n",
       "      <td>6</td>\n",
       "      <td>[0.0001]</td>\n",
       "      <td>0</td>\n",
       "      <td>1605594448-849077</td>\n",
       "      <td>arch_no_1</td>\n",
       "      <td>trial_no_0</td>\n",
       "      <td>D:\\data\\data_thesys\\cameramen\\17-11-2020\\16055...</td>\n",
       "      <td>D:\\data\\data_thesys\\data_post\\17-11-2020\\16055...</td>\n",
       "    </tr>\n",
       "    <tr>\n",
       "      <th>2</th>\n",
       "      <td>64</td>\n",
       "      <td>7</td>\n",
       "      <td>[0.0001]</td>\n",
       "      <td>0</td>\n",
       "      <td>1605594448-849077</td>\n",
       "      <td>arch_no_2</td>\n",
       "      <td>trial_no_0</td>\n",
       "      <td>D:\\data\\data_thesys\\cameramen\\17-11-2020\\16055...</td>\n",
       "      <td>D:\\data\\data_thesys\\data_post\\17-11-2020\\16055...</td>\n",
       "    </tr>\n",
       "    <tr>\n",
       "      <th>3</th>\n",
       "      <td>64</td>\n",
       "      <td>8</td>\n",
       "      <td>[0.0001]</td>\n",
       "      <td>0</td>\n",
       "      <td>1605594448-849077</td>\n",
       "      <td>arch_no_3</td>\n",
       "      <td>trial_no_0</td>\n",
       "      <td>D:\\data\\data_thesys\\cameramen\\17-11-2020\\16055...</td>\n",
       "      <td>D:\\data\\data_thesys\\data_post\\17-11-2020\\16055...</td>\n",
       "    </tr>\n",
       "    <tr>\n",
       "      <th>4</th>\n",
       "      <td>64</td>\n",
       "      <td>9</td>\n",
       "      <td>[0.0001]</td>\n",
       "      <td>0</td>\n",
       "      <td>1605594448-849077</td>\n",
       "      <td>arch_no_4</td>\n",
       "      <td>trial_no_0</td>\n",
       "      <td>D:\\data\\data_thesys\\cameramen\\17-11-2020\\16055...</td>\n",
       "      <td>D:\\data\\data_thesys\\data_post\\17-11-2020\\16055...</td>\n",
       "    </tr>\n",
       "    <tr>\n",
       "      <th>5</th>\n",
       "      <td>64</td>\n",
       "      <td>10</td>\n",
       "      <td>[0.0001]</td>\n",
       "      <td>0</td>\n",
       "      <td>1605594448-849077</td>\n",
       "      <td>arch_no_5</td>\n",
       "      <td>trial_no_0</td>\n",
       "      <td>D:\\data\\data_thesys\\cameramen\\17-11-2020\\16055...</td>\n",
       "      <td>D:\\data\\data_thesys\\data_post\\17-11-2020\\16055...</td>\n",
       "    </tr>\n",
       "    <tr>\n",
       "      <th>6</th>\n",
       "      <td>64</td>\n",
       "      <td>11</td>\n",
       "      <td>[0.0001]</td>\n",
       "      <td>0</td>\n",
       "      <td>1605594448-849077</td>\n",
       "      <td>arch_no_6</td>\n",
       "      <td>trial_no_0</td>\n",
       "      <td>D:\\data\\data_thesys\\cameramen\\17-11-2020\\16055...</td>\n",
       "      <td>D:\\data\\data_thesys\\data_post\\17-11-2020\\16055...</td>\n",
       "    </tr>\n",
       "    <tr>\n",
       "      <th>7</th>\n",
       "      <td>64</td>\n",
       "      <td>12</td>\n",
       "      <td>[0.0001]</td>\n",
       "      <td>0</td>\n",
       "      <td>1605594448-849077</td>\n",
       "      <td>arch_no_7</td>\n",
       "      <td>trial_no_0</td>\n",
       "      <td>D:\\data\\data_thesys\\cameramen\\17-11-2020\\16055...</td>\n",
       "      <td>D:\\data\\data_thesys\\data_post\\17-11-2020\\16055...</td>\n",
       "    </tr>\n",
       "    <tr>\n",
       "      <th>8</th>\n",
       "      <td>64</td>\n",
       "      <td>13</td>\n",
       "      <td>[0.0001]</td>\n",
       "      <td>0</td>\n",
       "      <td>1605594448-849077</td>\n",
       "      <td>arch_no_8</td>\n",
       "      <td>trial_no_0</td>\n",
       "      <td>D:\\data\\data_thesys\\cameramen\\17-11-2020\\16055...</td>\n",
       "      <td>D:\\data\\data_thesys\\data_post\\17-11-2020\\16055...</td>\n",
       "    </tr>\n",
       "    <tr>\n",
       "      <th>9</th>\n",
       "      <td>64</td>\n",
       "      <td>14</td>\n",
       "      <td>[0.0001]</td>\n",
       "      <td>0</td>\n",
       "      <td>1605594448-849077</td>\n",
       "      <td>arch_no_9</td>\n",
       "      <td>trial_no_0</td>\n",
       "      <td>D:\\data\\data_thesys\\cameramen\\17-11-2020\\16055...</td>\n",
       "      <td>D:\\data\\data_thesys\\data_post\\17-11-2020\\16055...</td>\n",
       "    </tr>\n",
       "    <tr>\n",
       "      <th>10</th>\n",
       "      <td>64</td>\n",
       "      <td>15</td>\n",
       "      <td>[0.0001]</td>\n",
       "      <td>0</td>\n",
       "      <td>1605594448-849077</td>\n",
       "      <td>arch_no_10</td>\n",
       "      <td>trial_no_0</td>\n",
       "      <td>D:\\data\\data_thesys\\cameramen\\17-11-2020\\16055...</td>\n",
       "      <td>D:\\data\\data_thesys\\data_post\\17-11-2020\\16055...</td>\n",
       "    </tr>\n",
       "  </tbody>\n",
       "</table>\n",
       "</div>"
      ],
      "text/plain": [
       "    hf  hl        lr  seeds         timemstamp archs_names trials_names  \\\n",
       "0   64   5  [0.0001]      0  1605594448-849077   arch_no_0   trial_no_0   \n",
       "1   64   6  [0.0001]      0  1605594448-849077   arch_no_1   trial_no_0   \n",
       "2   64   7  [0.0001]      0  1605594448-849077   arch_no_2   trial_no_0   \n",
       "3   64   8  [0.0001]      0  1605594448-849077   arch_no_3   trial_no_0   \n",
       "4   64   9  [0.0001]      0  1605594448-849077   arch_no_4   trial_no_0   \n",
       "5   64  10  [0.0001]      0  1605594448-849077   arch_no_5   trial_no_0   \n",
       "6   64  11  [0.0001]      0  1605594448-849077   arch_no_6   trial_no_0   \n",
       "7   64  12  [0.0001]      0  1605594448-849077   arch_no_7   trial_no_0   \n",
       "8   64  13  [0.0001]      0  1605594448-849077   arch_no_8   trial_no_0   \n",
       "9   64  14  [0.0001]      0  1605594448-849077   arch_no_9   trial_no_0   \n",
       "10  64  15  [0.0001]      0  1605594448-849077  arch_no_10   trial_no_0   \n",
       "\n",
       "                                                 path  \\\n",
       "0   D:\\data\\data_thesys\\cameramen\\17-11-2020\\16055...   \n",
       "1   D:\\data\\data_thesys\\cameramen\\17-11-2020\\16055...   \n",
       "2   D:\\data\\data_thesys\\cameramen\\17-11-2020\\16055...   \n",
       "3   D:\\data\\data_thesys\\cameramen\\17-11-2020\\16055...   \n",
       "4   D:\\data\\data_thesys\\cameramen\\17-11-2020\\16055...   \n",
       "5   D:\\data\\data_thesys\\cameramen\\17-11-2020\\16055...   \n",
       "6   D:\\data\\data_thesys\\cameramen\\17-11-2020\\16055...   \n",
       "7   D:\\data\\data_thesys\\cameramen\\17-11-2020\\16055...   \n",
       "8   D:\\data\\data_thesys\\cameramen\\17-11-2020\\16055...   \n",
       "9   D:\\data\\data_thesys\\cameramen\\17-11-2020\\16055...   \n",
       "10  D:\\data\\data_thesys\\cameramen\\17-11-2020\\16055...   \n",
       "\n",
       "                                               path_2  \n",
       "0   D:\\data\\data_thesys\\data_post\\17-11-2020\\16055...  \n",
       "1   D:\\data\\data_thesys\\data_post\\17-11-2020\\16055...  \n",
       "2   D:\\data\\data_thesys\\data_post\\17-11-2020\\16055...  \n",
       "3   D:\\data\\data_thesys\\data_post\\17-11-2020\\16055...  \n",
       "4   D:\\data\\data_thesys\\data_post\\17-11-2020\\16055...  \n",
       "5   D:\\data\\data_thesys\\data_post\\17-11-2020\\16055...  \n",
       "6   D:\\data\\data_thesys\\data_post\\17-11-2020\\16055...  \n",
       "7   D:\\data\\data_thesys\\data_post\\17-11-2020\\16055...  \n",
       "8   D:\\data\\data_thesys\\data_post\\17-11-2020\\16055...  \n",
       "9   D:\\data\\data_thesys\\data_post\\17-11-2020\\16055...  \n",
       "10  D:\\data\\data_thesys\\data_post\\17-11-2020\\16055...  "
      ]
     },
     "execution_count": 28,
     "metadata": {},
     "output_type": "execute_result"
    }
   ],
   "source": [
    "df"
   ]
  },
  {
   "cell_type": "code",
   "execution_count": 29,
   "metadata": {},
   "outputs": [],
   "source": [
    "df_tmp = df[[\"hf\", \"hl\", \"lr\", \"seeds\", \"timemstamp\", \"archs_names\", \"trials_names\"]]"
   ]
  },
  {
   "cell_type": "code",
   "execution_count": 30,
   "metadata": {},
   "outputs": [
    {
     "data": {
      "text/html": [
       "<div>\n",
       "<style scoped>\n",
       "    .dataframe tbody tr th:only-of-type {\n",
       "        vertical-align: middle;\n",
       "    }\n",
       "\n",
       "    .dataframe tbody tr th {\n",
       "        vertical-align: top;\n",
       "    }\n",
       "\n",
       "    .dataframe thead th {\n",
       "        text-align: right;\n",
       "    }\n",
       "</style>\n",
       "<table border=\"1\" class=\"dataframe\">\n",
       "  <thead>\n",
       "    <tr style=\"text-align: right;\">\n",
       "      <th></th>\n",
       "      <th>hf</th>\n",
       "      <th>hl</th>\n",
       "      <th>lr</th>\n",
       "      <th>seeds</th>\n",
       "      <th>timemstamp</th>\n",
       "      <th>archs_names</th>\n",
       "      <th>trials_names</th>\n",
       "      <th>path</th>\n",
       "    </tr>\n",
       "  </thead>\n",
       "  <tbody>\n",
       "    <tr>\n",
       "      <th>0</th>\n",
       "      <td>64</td>\n",
       "      <td>5</td>\n",
       "      <td>[0.0001]</td>\n",
       "      <td>0</td>\n",
       "      <td>1605594448-849077</td>\n",
       "      <td>arch_no_0</td>\n",
       "      <td>trial_no_0</td>\n",
       "      <td>/content/1605594448-849077/1605594448-849077.6...</td>\n",
       "    </tr>\n",
       "    <tr>\n",
       "      <th>1</th>\n",
       "      <td>64</td>\n",
       "      <td>6</td>\n",
       "      <td>[0.0001]</td>\n",
       "      <td>0</td>\n",
       "      <td>1605594448-849077</td>\n",
       "      <td>arch_no_1</td>\n",
       "      <td>trial_no_0</td>\n",
       "      <td>/content/1605594448-849077/1605594448-849077.6...</td>\n",
       "    </tr>\n",
       "    <tr>\n",
       "      <th>2</th>\n",
       "      <td>64</td>\n",
       "      <td>7</td>\n",
       "      <td>[0.0001]</td>\n",
       "      <td>0</td>\n",
       "      <td>1605594448-849077</td>\n",
       "      <td>arch_no_2</td>\n",
       "      <td>trial_no_0</td>\n",
       "      <td>/content/1605594448-849077/1605594448-849077.6...</td>\n",
       "    </tr>\n",
       "    <tr>\n",
       "      <th>3</th>\n",
       "      <td>64</td>\n",
       "      <td>8</td>\n",
       "      <td>[0.0001]</td>\n",
       "      <td>0</td>\n",
       "      <td>1605594448-849077</td>\n",
       "      <td>arch_no_3</td>\n",
       "      <td>trial_no_0</td>\n",
       "      <td>/content/1605594448-849077/1605594448-849077.6...</td>\n",
       "    </tr>\n",
       "    <tr>\n",
       "      <th>4</th>\n",
       "      <td>64</td>\n",
       "      <td>9</td>\n",
       "      <td>[0.0001]</td>\n",
       "      <td>0</td>\n",
       "      <td>1605594448-849077</td>\n",
       "      <td>arch_no_4</td>\n",
       "      <td>trial_no_0</td>\n",
       "      <td>/content/1605594448-849077/1605594448-849077.6...</td>\n",
       "    </tr>\n",
       "  </tbody>\n",
       "</table>\n",
       "</div>"
      ],
      "text/plain": [
       "   hf  hl        lr  seeds         timemstamp archs_names trials_names  \\\n",
       "0  64   5  [0.0001]      0  1605594448-849077   arch_no_0   trial_no_0   \n",
       "1  64   6  [0.0001]      0  1605594448-849077   arch_no_1   trial_no_0   \n",
       "2  64   7  [0.0001]      0  1605594448-849077   arch_no_2   trial_no_0   \n",
       "3  64   8  [0.0001]      0  1605594448-849077   arch_no_3   trial_no_0   \n",
       "4  64   9  [0.0001]      0  1605594448-849077   arch_no_4   trial_no_0   \n",
       "\n",
       "                                                path  \n",
       "0  /content/1605594448-849077/1605594448-849077.6...  \n",
       "1  /content/1605594448-849077/1605594448-849077.6...  \n",
       "2  /content/1605594448-849077/1605594448-849077.6...  \n",
       "3  /content/1605594448-849077/1605594448-849077.6...  \n",
       "4  /content/1605594448-849077/1605594448-849077.6...  "
      ]
     },
     "execution_count": 30,
     "metadata": {},
     "output_type": "execute_result"
    }
   ],
   "source": [
    "def map_path(a_path, target = f\"D:\\\\data\\\\data_thesys\\\\data_post\\\\{date_run}\\\\{single_run_timestamp}\", update = f'\\\\content\\\\{single_run_timestamp}'):\n",
    "    a_path_updated = a_path.replace(f\"{target}\", f\"{update}\").replace(\"\\\\\", \"/\")\n",
    "    return a_path_updated\n",
    "\n",
    "df_tmp['path'] = list(map(map_path, df['path_2'].values))\n",
    "df_tmp.head(5)"
   ]
  },
  {
   "cell_type": "code",
   "execution_count": 31,
   "metadata": {},
   "outputs": [],
   "source": [
    "root_dir = f'D:\\\\data\\\\data_thesys\\\\data_post\\\\{date_run}\\\\{single_run_timestamp}'\n",
    "filename_csv = os.path.join(root_dir, f'colab_{single_run_timestamp}.csv')\n",
    "df_tmp.to_csv(filename_csv)"
   ]
  },
  {
   "cell_type": "code",
   "execution_count": 32,
   "metadata": {},
   "outputs": [],
   "source": [
    "cropped_heigth = [256] * df_tmp.shape[0]\n",
    "df_tmp['cropped_heigth'] = cropped_heigth\n",
    "df_tmp['cropped_width'] = cropped_heigth"
   ]
  },
  {
   "cell_type": "code",
   "execution_count": 33,
   "metadata": {},
   "outputs": [],
   "source": [
    "root_dir = f'D:\\\\data\\\\data_thesys\\\\data_post\\\\{date_run}\\\\{single_run_timestamp}'\n",
    "filename_csv = os.path.join(root_dir, f'colab_{single_run_timestamp}.csv')\n",
    "df_tmp.to_csv(filename_csv)"
   ]
  },
  {
   "cell_type": "code",
   "execution_count": 34,
   "metadata": {},
   "outputs": [],
   "source": [
    "columns = \"hf,hl,lr,seeds,timestamp,archs_names,trials_names,path,cropped_heigth,cropped_width\".split(\",\")\n",
    "df_tmp.columns = columns\n",
    "filename_csv = os.path.join(root_dir, f'colab_{single_run_timestamp}.csv')\n",
    "df_tmp.to_csv(filename_csv)"
   ]
  },
  {
   "cell_type": "code",
   "execution_count": 35,
   "metadata": {
    "scrolled": true
   },
   "outputs": [
    {
     "data": {
      "text/html": [
       "<div>\n",
       "<style scoped>\n",
       "    .dataframe tbody tr th:only-of-type {\n",
       "        vertical-align: middle;\n",
       "    }\n",
       "\n",
       "    .dataframe tbody tr th {\n",
       "        vertical-align: top;\n",
       "    }\n",
       "\n",
       "    .dataframe thead th {\n",
       "        text-align: right;\n",
       "    }\n",
       "</style>\n",
       "<table border=\"1\" class=\"dataframe\">\n",
       "  <thead>\n",
       "    <tr style=\"text-align: right;\">\n",
       "      <th></th>\n",
       "      <th>hf</th>\n",
       "      <th>hl</th>\n",
       "      <th>lr</th>\n",
       "      <th>seeds</th>\n",
       "      <th>timestamp</th>\n",
       "      <th>archs_names</th>\n",
       "      <th>trials_names</th>\n",
       "      <th>path</th>\n",
       "      <th>cropped_heigth</th>\n",
       "      <th>cropped_width</th>\n",
       "    </tr>\n",
       "  </thead>\n",
       "  <tbody>\n",
       "    <tr>\n",
       "      <th>0</th>\n",
       "      <td>64</td>\n",
       "      <td>5</td>\n",
       "      <td>[0.0001]</td>\n",
       "      <td>0</td>\n",
       "      <td>1605594448-849077</td>\n",
       "      <td>arch_no_0</td>\n",
       "      <td>trial_no_0</td>\n",
       "      <td>/content/1605594448-849077/1605594448-849077.6...</td>\n",
       "      <td>256</td>\n",
       "      <td>256</td>\n",
       "    </tr>\n",
       "    <tr>\n",
       "      <th>1</th>\n",
       "      <td>64</td>\n",
       "      <td>6</td>\n",
       "      <td>[0.0001]</td>\n",
       "      <td>0</td>\n",
       "      <td>1605594448-849077</td>\n",
       "      <td>arch_no_1</td>\n",
       "      <td>trial_no_0</td>\n",
       "      <td>/content/1605594448-849077/1605594448-849077.6...</td>\n",
       "      <td>256</td>\n",
       "      <td>256</td>\n",
       "    </tr>\n",
       "    <tr>\n",
       "      <th>2</th>\n",
       "      <td>64</td>\n",
       "      <td>7</td>\n",
       "      <td>[0.0001]</td>\n",
       "      <td>0</td>\n",
       "      <td>1605594448-849077</td>\n",
       "      <td>arch_no_2</td>\n",
       "      <td>trial_no_0</td>\n",
       "      <td>/content/1605594448-849077/1605594448-849077.6...</td>\n",
       "      <td>256</td>\n",
       "      <td>256</td>\n",
       "    </tr>\n",
       "    <tr>\n",
       "      <th>3</th>\n",
       "      <td>64</td>\n",
       "      <td>8</td>\n",
       "      <td>[0.0001]</td>\n",
       "      <td>0</td>\n",
       "      <td>1605594448-849077</td>\n",
       "      <td>arch_no_3</td>\n",
       "      <td>trial_no_0</td>\n",
       "      <td>/content/1605594448-849077/1605594448-849077.6...</td>\n",
       "      <td>256</td>\n",
       "      <td>256</td>\n",
       "    </tr>\n",
       "    <tr>\n",
       "      <th>4</th>\n",
       "      <td>64</td>\n",
       "      <td>9</td>\n",
       "      <td>[0.0001]</td>\n",
       "      <td>0</td>\n",
       "      <td>1605594448-849077</td>\n",
       "      <td>arch_no_4</td>\n",
       "      <td>trial_no_0</td>\n",
       "      <td>/content/1605594448-849077/1605594448-849077.6...</td>\n",
       "      <td>256</td>\n",
       "      <td>256</td>\n",
       "    </tr>\n",
       "  </tbody>\n",
       "</table>\n",
       "</div>"
      ],
      "text/plain": [
       "   hf  hl        lr  seeds          timestamp archs_names trials_names  \\\n",
       "0  64   5  [0.0001]      0  1605594448-849077   arch_no_0   trial_no_0   \n",
       "1  64   6  [0.0001]      0  1605594448-849077   arch_no_1   trial_no_0   \n",
       "2  64   7  [0.0001]      0  1605594448-849077   arch_no_2   trial_no_0   \n",
       "3  64   8  [0.0001]      0  1605594448-849077   arch_no_3   trial_no_0   \n",
       "4  64   9  [0.0001]      0  1605594448-849077   arch_no_4   trial_no_0   \n",
       "\n",
       "                                                path  cropped_heigth  \\\n",
       "0  /content/1605594448-849077/1605594448-849077.6...             256   \n",
       "1  /content/1605594448-849077/1605594448-849077.6...             256   \n",
       "2  /content/1605594448-849077/1605594448-849077.6...             256   \n",
       "3  /content/1605594448-849077/1605594448-849077.6...             256   \n",
       "4  /content/1605594448-849077/1605594448-849077.6...             256   \n",
       "\n",
       "   cropped_width  \n",
       "0            256  \n",
       "1            256  \n",
       "2            256  \n",
       "3            256  \n",
       "4            256  "
      ]
     },
     "execution_count": 35,
     "metadata": {},
     "output_type": "execute_result"
    }
   ],
   "source": [
    "df_tmp.head(5)"
   ]
  },
  {
   "cell_type": "code",
   "execution_count": 36,
   "metadata": {},
   "outputs": [],
   "source": [
    "if NOTIFICATIONS_ENABLED_VIA_TOAST:\n",
    "    from win10toast import ToastNotifier\n",
    "    toaster = ToastNotifier()\n",
    "\n",
    "    toaster.show_toast(\n",
    "        \"Notification\", f\"Data Prepared!\\nDate: {date_run}\\nTs: {single_run_timestamp}\",\n",
    "        threaded = True, icon_path=None, duration=3)\n",
    "    pass"
   ]
  },
  {
   "cell_type": "code",
   "execution_count": null,
   "metadata": {},
   "outputs": [],
   "source": []
  }
 ],
 "metadata": {
  "kernelspec": {
   "display_name": "Python 3",
   "language": "python",
   "name": "python3"
  },
  "language_info": {
   "codemirror_mode": {
    "name": "ipython",
    "version": 3
   },
   "file_extension": ".py",
   "mimetype": "text/x-python",
   "name": "python",
   "nbconvert_exporter": "python",
   "pygments_lexer": "ipython3",
   "version": "3.7.9"
  }
 },
 "nbformat": 4,
 "nbformat_minor": 4
}
