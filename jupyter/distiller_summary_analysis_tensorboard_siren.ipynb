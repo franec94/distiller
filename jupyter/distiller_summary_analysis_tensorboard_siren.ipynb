{
  "nbformat": 4,
  "nbformat_minor": 0,
  "metadata": {
    "colab": {
      "name": "distiller-summary-analysis-tensorboard-siren.ipynb",
      "provenance": [],
      "collapsed_sections": [
        "JnjU0_i7JAVu",
        "-FQsLgbsJC9v",
        "F8Ak5JexJI3j",
        "HWPiyC95MKfd",
        "JZSIV7CeJ_KM",
        "tYRgm2zjRN3d",
        "zhleejVeJvm9",
        "8-SNW8lHJzvV",
        "i2Vmjp4ENgN4",
        "w3tYS3nOcCY1",
        "mlmJtd73bmzo",
        "vNNdtf-rcJm_"
      ]
    },
    "kernelspec": {
      "name": "python3",
      "display_name": "Python 3"
    },
    "widgets": {
      "application/vnd.jupyter.widget-state+json": {
        "c1fa01aac6984f1bbb7eff3688e34fa2": {
          "model_module": "@jupyter-widgets/controls",
          "model_name": "VBoxModel",
          "state": {
            "_view_name": "VBoxView",
            "_dom_classes": [
              "widget-interact"
            ],
            "_model_name": "VBoxModel",
            "_view_module": "@jupyter-widgets/controls",
            "_model_module_version": "1.4.0",
            "_view_count": null,
            "_view_module_version": "1.4.0",
            "box_style": "",
            "layout": "IPY_MODEL_45a7a2de711340c8915e0e6f16ca9bfe",
            "_model_module": "@jupyter-widgets/controls",
            "children": [
              "IPY_MODEL_84bd729f6c634074be84d40d1d1d783f",
              "IPY_MODEL_61f1cb30aece4c89aae4ef08584ebf3a",
              "IPY_MODEL_4c8eb918c5554e89987e01b28754cade"
            ]
          }
        },
        "45a7a2de711340c8915e0e6f16ca9bfe": {
          "model_module": "@jupyter-widgets/base",
          "model_name": "LayoutModel",
          "state": {
            "_view_name": "LayoutView",
            "grid_template_rows": null,
            "right": null,
            "justify_content": null,
            "_view_module": "@jupyter-widgets/base",
            "overflow": null,
            "_model_module_version": "1.1.0",
            "_view_count": null,
            "flex_flow": null,
            "min_width": null,
            "border": null,
            "align_items": null,
            "bottom": null,
            "_model_module": "@jupyter-widgets/base",
            "top": null,
            "grid_column": null,
            "width": null,
            "overflow_x": null,
            "grid_auto_flow": null,
            "grid_area": null,
            "grid_template_columns": null,
            "flex": null,
            "_model_name": "LayoutModel",
            "overflow_y": null,
            "grid_row": null,
            "max_height": null,
            "align_content": null,
            "visibility": null,
            "align_self": null,
            "height": null,
            "min_height": null,
            "padding": null,
            "grid_auto_rows": null,
            "grid_gap": null,
            "max_width": null,
            "order": null,
            "_view_module_version": "1.1.0",
            "grid_template_areas": null,
            "grid_auto_columns": null,
            "margin": null,
            "display": null,
            "left": null
          }
        },
        "84bd729f6c634074be84d40d1d1d783f": {
          "model_module": "@jupyter-widgets/controls",
          "model_name": "DropdownModel",
          "state": {
            "_options_labels": [
              "0.0",
              "0.05",
              "0.1",
              "0.15",
              "0.2",
              "0.25",
              "0.3",
              "0.35",
              "0.4",
              "0.45",
              "0.5",
              "0.55",
              "0.6",
              "0.65",
              "0.7",
              "0.75",
              "0.8",
              "0.85",
              "0.9"
            ],
            "_view_name": "DropdownView",
            "style": "IPY_MODEL_8e9ee064eca7478ebefa4871f5c70a9d",
            "_dom_classes": [],
            "description": "Sparsity:",
            "_model_name": "DropdownModel",
            "index": 7,
            "_view_module": "@jupyter-widgets/controls",
            "_model_module_version": "1.4.0",
            "_view_count": null,
            "disabled": false,
            "_view_module_version": "1.4.0",
            "description_tooltip": null,
            "_model_module": "@jupyter-widgets/controls",
            "layout": "IPY_MODEL_25c9f91f710844cab2f8bb43137e2d09"
          }
        },
        "61f1cb30aece4c89aae4ef08584ebf3a": {
          "model_module": "@jupyter-widgets/controls",
          "model_name": "RadioButtonsModel",
          "state": {
            "_options_labels": [
              "loss",
              "psnr_score",
              "ssim_score"
            ],
            "_view_name": "RadioButtonsView",
            "style": "IPY_MODEL_615549b516714a5c9a01e8a2ff462f61",
            "_dom_classes": [],
            "description": "Scores:",
            "_model_name": "RadioButtonsModel",
            "index": 0,
            "_view_module": "@jupyter-widgets/controls",
            "_model_module_version": "1.4.0",
            "_view_count": null,
            "disabled": false,
            "_view_module_version": "1.4.0",
            "description_tooltip": null,
            "_model_module": "@jupyter-widgets/controls",
            "layout": "IPY_MODEL_95f6fc9f713440ccaa3a6a25dde18237"
          }
        },
        "4c8eb918c5554e89987e01b28754cade": {
          "model_module": "@jupyter-widgets/output",
          "model_name": "OutputModel",
          "state": {
            "_view_name": "OutputView",
            "msg_id": "",
            "_dom_classes": [],
            "_model_name": "OutputModel",
            "outputs": [
              {
                "output_type": "display_data",
                "metadata": {
                  "tags": [],
                  "needs_background": "light"
                },
                "image/png": "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\n",
                "text/plain": "<Figure size 1440x720 with 1 Axes>"
              }
            ],
            "_view_module": "@jupyter-widgets/output",
            "_model_module_version": "1.0.0",
            "_view_count": null,
            "_view_module_version": "1.0.0",
            "layout": "IPY_MODEL_e018ecbe424745d4837a8c4b4989f7b6",
            "_model_module": "@jupyter-widgets/output"
          }
        },
        "8e9ee064eca7478ebefa4871f5c70a9d": {
          "model_module": "@jupyter-widgets/controls",
          "model_name": "DescriptionStyleModel",
          "state": {
            "_view_name": "StyleView",
            "_model_name": "DescriptionStyleModel",
            "description_width": "",
            "_view_module": "@jupyter-widgets/base",
            "_model_module_version": "1.4.0",
            "_view_count": null,
            "_view_module_version": "1.1.0",
            "_model_module": "@jupyter-widgets/controls"
          }
        },
        "25c9f91f710844cab2f8bb43137e2d09": {
          "model_module": "@jupyter-widgets/base",
          "model_name": "LayoutModel",
          "state": {
            "_view_name": "LayoutView",
            "grid_template_rows": null,
            "right": null,
            "justify_content": null,
            "_view_module": "@jupyter-widgets/base",
            "overflow": null,
            "_model_module_version": "1.1.0",
            "_view_count": null,
            "flex_flow": null,
            "min_width": null,
            "border": null,
            "align_items": null,
            "bottom": null,
            "_model_module": "@jupyter-widgets/base",
            "top": null,
            "grid_column": null,
            "width": null,
            "overflow_x": null,
            "grid_auto_flow": null,
            "grid_area": null,
            "grid_template_columns": null,
            "flex": null,
            "_model_name": "LayoutModel",
            "overflow_y": null,
            "grid_row": null,
            "max_height": null,
            "align_content": null,
            "visibility": null,
            "align_self": null,
            "height": null,
            "min_height": null,
            "padding": null,
            "grid_auto_rows": null,
            "grid_gap": null,
            "max_width": null,
            "order": null,
            "_view_module_version": "1.1.0",
            "grid_template_areas": null,
            "grid_auto_columns": null,
            "margin": null,
            "display": null,
            "left": null
          }
        },
        "615549b516714a5c9a01e8a2ff462f61": {
          "model_module": "@jupyter-widgets/controls",
          "model_name": "DescriptionStyleModel",
          "state": {
            "_view_name": "StyleView",
            "_model_name": "DescriptionStyleModel",
            "description_width": "",
            "_view_module": "@jupyter-widgets/base",
            "_model_module_version": "1.4.0",
            "_view_count": null,
            "_view_module_version": "1.1.0",
            "_model_module": "@jupyter-widgets/controls"
          }
        },
        "95f6fc9f713440ccaa3a6a25dde18237": {
          "model_module": "@jupyter-widgets/base",
          "model_name": "LayoutModel",
          "state": {
            "_view_name": "LayoutView",
            "grid_template_rows": null,
            "right": null,
            "justify_content": null,
            "_view_module": "@jupyter-widgets/base",
            "overflow": null,
            "_model_module_version": "1.1.0",
            "_view_count": null,
            "flex_flow": null,
            "min_width": null,
            "border": null,
            "align_items": null,
            "bottom": null,
            "_model_module": "@jupyter-widgets/base",
            "top": null,
            "grid_column": null,
            "width": null,
            "overflow_x": null,
            "grid_auto_flow": null,
            "grid_area": null,
            "grid_template_columns": null,
            "flex": null,
            "_model_name": "LayoutModel",
            "overflow_y": null,
            "grid_row": null,
            "max_height": null,
            "align_content": null,
            "visibility": null,
            "align_self": null,
            "height": null,
            "min_height": null,
            "padding": null,
            "grid_auto_rows": null,
            "grid_gap": null,
            "max_width": null,
            "order": null,
            "_view_module_version": "1.1.0",
            "grid_template_areas": null,
            "grid_auto_columns": null,
            "margin": null,
            "display": null,
            "left": null
          }
        },
        "e018ecbe424745d4837a8c4b4989f7b6": {
          "model_module": "@jupyter-widgets/base",
          "model_name": "LayoutModel",
          "state": {
            "_view_name": "LayoutView",
            "grid_template_rows": null,
            "right": null,
            "justify_content": null,
            "_view_module": "@jupyter-widgets/base",
            "overflow": null,
            "_model_module_version": "1.1.0",
            "_view_count": null,
            "flex_flow": null,
            "min_width": null,
            "border": null,
            "align_items": null,
            "bottom": null,
            "_model_module": "@jupyter-widgets/base",
            "top": null,
            "grid_column": null,
            "width": null,
            "overflow_x": null,
            "grid_auto_flow": null,
            "grid_area": null,
            "grid_template_columns": null,
            "flex": null,
            "_model_name": "LayoutModel",
            "overflow_y": null,
            "grid_row": null,
            "max_height": null,
            "align_content": null,
            "visibility": null,
            "align_self": null,
            "height": null,
            "min_height": null,
            "padding": null,
            "grid_auto_rows": null,
            "grid_gap": null,
            "max_width": null,
            "order": null,
            "_view_module_version": "1.1.0",
            "grid_template_areas": null,
            "grid_auto_columns": null,
            "margin": null,
            "display": null,
            "left": null
          }
        },
        "3be4ae02c3f948e49a81efb02dac54b1": {
          "model_module": "@jupyter-widgets/controls",
          "model_name": "VBoxModel",
          "state": {
            "_view_name": "VBoxView",
            "_dom_classes": [
              "widget-interact"
            ],
            "_model_name": "VBoxModel",
            "_view_module": "@jupyter-widgets/controls",
            "_model_module_version": "1.4.0",
            "_view_count": null,
            "_view_module_version": "1.4.0",
            "box_style": "",
            "layout": "IPY_MODEL_9e971e5a3859475db69094a02dd49d9b",
            "_model_module": "@jupyter-widgets/controls",
            "children": [
              "IPY_MODEL_076ee3db9ab5418e9bb950d4733208b6",
              "IPY_MODEL_370e623adc7a456a9d0145ac5c0385a0",
              "IPY_MODEL_c94956e5d23d4473b1ad712bdc57dd83"
            ]
          }
        },
        "9e971e5a3859475db69094a02dd49d9b": {
          "model_module": "@jupyter-widgets/base",
          "model_name": "LayoutModel",
          "state": {
            "_view_name": "LayoutView",
            "grid_template_rows": null,
            "right": null,
            "justify_content": null,
            "_view_module": "@jupyter-widgets/base",
            "overflow": null,
            "_model_module_version": "1.1.0",
            "_view_count": null,
            "flex_flow": null,
            "min_width": null,
            "border": null,
            "align_items": null,
            "bottom": null,
            "_model_module": "@jupyter-widgets/base",
            "top": null,
            "grid_column": null,
            "width": null,
            "overflow_x": null,
            "grid_auto_flow": null,
            "grid_area": null,
            "grid_template_columns": null,
            "flex": null,
            "_model_name": "LayoutModel",
            "overflow_y": null,
            "grid_row": null,
            "max_height": null,
            "align_content": null,
            "visibility": null,
            "align_self": null,
            "height": null,
            "min_height": null,
            "padding": null,
            "grid_auto_rows": null,
            "grid_gap": null,
            "max_width": null,
            "order": null,
            "_view_module_version": "1.1.0",
            "grid_template_areas": null,
            "grid_auto_columns": null,
            "margin": null,
            "display": null,
            "left": null
          }
        },
        "076ee3db9ab5418e9bb950d4733208b6": {
          "model_module": "@jupyter-widgets/controls",
          "model_name": "SelectMultipleModel",
          "state": {
            "_options_labels": [
              "All",
              "net.0.linear.weight",
              "net.1.linear.weight",
              "net.2.linear.weight",
              "net.3.linear.weight",
              "net.4.linear.weight",
              "net.5.linear.weight",
              "net.6.weight"
            ],
            "_view_name": "SelectMultipleView",
            "style": "IPY_MODEL_99e1ebd06c0d470586601aaa998b6eec",
            "rows": 5,
            "_dom_classes": [],
            "description": "Weights:",
            "_model_name": "SelectMultipleModel",
            "index": [
              6
            ],
            "_view_module": "@jupyter-widgets/controls",
            "_model_module_version": "1.4.0",
            "_view_count": null,
            "disabled": false,
            "_view_module_version": "1.4.0",
            "description_tooltip": null,
            "_model_module": "@jupyter-widgets/controls",
            "layout": "IPY_MODEL_4c9a8aff1ffe4959bb5e5a05d1776183"
          }
        },
        "370e623adc7a456a9d0145ac5c0385a0": {
          "model_module": "@jupyter-widgets/controls",
          "model_name": "RadioButtonsModel",
          "state": {
            "_options_labels": [
              "loss",
              "psnr_score",
              "ssim_score"
            ],
            "_view_name": "RadioButtonsView",
            "style": "IPY_MODEL_2da769757eb0430baa29bc88b52e9389",
            "_dom_classes": [],
            "description": "Scores:",
            "_model_name": "RadioButtonsModel",
            "index": 0,
            "_view_module": "@jupyter-widgets/controls",
            "_model_module_version": "1.4.0",
            "_view_count": null,
            "disabled": false,
            "_view_module_version": "1.4.0",
            "description_tooltip": null,
            "_model_module": "@jupyter-widgets/controls",
            "layout": "IPY_MODEL_d24a9585975244a1b9c6117d74433936"
          }
        },
        "c94956e5d23d4473b1ad712bdc57dd83": {
          "model_module": "@jupyter-widgets/output",
          "model_name": "OutputModel",
          "state": {
            "_view_name": "OutputView",
            "msg_id": "",
            "_dom_classes": [],
            "_model_name": "OutputModel",
            "outputs": [
              {
                "output_type": "display_data",
                "metadata": {
                  "tags": [],
                  "needs_background": "light"
                },
                "image/png": "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\n",
                "text/plain": "<Figure size 1440x720 with 1 Axes>"
              }
            ],
            "_view_module": "@jupyter-widgets/output",
            "_model_module_version": "1.0.0",
            "_view_count": null,
            "_view_module_version": "1.0.0",
            "layout": "IPY_MODEL_318958c279ad4b9982b159c400ed4f08",
            "_model_module": "@jupyter-widgets/output"
          }
        },
        "99e1ebd06c0d470586601aaa998b6eec": {
          "model_module": "@jupyter-widgets/controls",
          "model_name": "DescriptionStyleModel",
          "state": {
            "_view_name": "StyleView",
            "_model_name": "DescriptionStyleModel",
            "description_width": "",
            "_view_module": "@jupyter-widgets/base",
            "_model_module_version": "1.4.0",
            "_view_count": null,
            "_view_module_version": "1.1.0",
            "_model_module": "@jupyter-widgets/controls"
          }
        },
        "4c9a8aff1ffe4959bb5e5a05d1776183": {
          "model_module": "@jupyter-widgets/base",
          "model_name": "LayoutModel",
          "state": {
            "_view_name": "LayoutView",
            "grid_template_rows": null,
            "right": null,
            "justify_content": null,
            "_view_module": "@jupyter-widgets/base",
            "overflow": null,
            "_model_module_version": "1.1.0",
            "_view_count": null,
            "flex_flow": null,
            "min_width": null,
            "border": null,
            "align_items": null,
            "bottom": null,
            "_model_module": "@jupyter-widgets/base",
            "top": null,
            "grid_column": null,
            "width": "50%",
            "overflow_x": null,
            "grid_auto_flow": null,
            "grid_area": null,
            "grid_template_columns": null,
            "flex": null,
            "_model_name": "LayoutModel",
            "overflow_y": null,
            "grid_row": null,
            "max_height": null,
            "align_content": null,
            "visibility": null,
            "align_self": null,
            "height": null,
            "min_height": null,
            "padding": null,
            "grid_auto_rows": null,
            "grid_gap": null,
            "max_width": null,
            "order": null,
            "_view_module_version": "1.1.0",
            "grid_template_areas": null,
            "grid_auto_columns": null,
            "margin": null,
            "display": null,
            "left": null
          }
        },
        "2da769757eb0430baa29bc88b52e9389": {
          "model_module": "@jupyter-widgets/controls",
          "model_name": "DescriptionStyleModel",
          "state": {
            "_view_name": "StyleView",
            "_model_name": "DescriptionStyleModel",
            "description_width": "",
            "_view_module": "@jupyter-widgets/base",
            "_model_module_version": "1.4.0",
            "_view_count": null,
            "_view_module_version": "1.1.0",
            "_model_module": "@jupyter-widgets/controls"
          }
        },
        "d24a9585975244a1b9c6117d74433936": {
          "model_module": "@jupyter-widgets/base",
          "model_name": "LayoutModel",
          "state": {
            "_view_name": "LayoutView",
            "grid_template_rows": null,
            "right": null,
            "justify_content": null,
            "_view_module": "@jupyter-widgets/base",
            "overflow": null,
            "_model_module_version": "1.1.0",
            "_view_count": null,
            "flex_flow": null,
            "min_width": null,
            "border": null,
            "align_items": null,
            "bottom": null,
            "_model_module": "@jupyter-widgets/base",
            "top": null,
            "grid_column": null,
            "width": null,
            "overflow_x": null,
            "grid_auto_flow": null,
            "grid_area": null,
            "grid_template_columns": null,
            "flex": null,
            "_model_name": "LayoutModel",
            "overflow_y": null,
            "grid_row": null,
            "max_height": null,
            "align_content": null,
            "visibility": null,
            "align_self": null,
            "height": null,
            "min_height": null,
            "padding": null,
            "grid_auto_rows": null,
            "grid_gap": null,
            "max_width": null,
            "order": null,
            "_view_module_version": "1.1.0",
            "grid_template_areas": null,
            "grid_auto_columns": null,
            "margin": null,
            "display": null,
            "left": null
          }
        },
        "318958c279ad4b9982b159c400ed4f08": {
          "model_module": "@jupyter-widgets/base",
          "model_name": "LayoutModel",
          "state": {
            "_view_name": "LayoutView",
            "grid_template_rows": null,
            "right": null,
            "justify_content": null,
            "_view_module": "@jupyter-widgets/base",
            "overflow": null,
            "_model_module_version": "1.1.0",
            "_view_count": null,
            "flex_flow": null,
            "min_width": null,
            "border": null,
            "align_items": null,
            "bottom": null,
            "_model_module": "@jupyter-widgets/base",
            "top": null,
            "grid_column": null,
            "width": null,
            "overflow_x": null,
            "grid_auto_flow": null,
            "grid_area": null,
            "grid_template_columns": null,
            "flex": null,
            "_model_name": "LayoutModel",
            "overflow_y": null,
            "grid_row": null,
            "max_height": null,
            "align_content": null,
            "visibility": null,
            "align_self": null,
            "height": null,
            "min_height": null,
            "padding": null,
            "grid_auto_rows": null,
            "grid_gap": null,
            "max_width": null,
            "order": null,
            "_view_module_version": "1.1.0",
            "grid_template_areas": null,
            "grid_auto_columns": null,
            "margin": null,
            "display": null,
            "left": null
          }
        },
        "0dda06f0102c42f680a552872f71caf3": {
          "model_module": "@jupyter-widgets/controls",
          "model_name": "VBoxModel",
          "state": {
            "_view_name": "VBoxView",
            "_dom_classes": [
              "widget-interact"
            ],
            "_model_name": "VBoxModel",
            "_view_module": "@jupyter-widgets/controls",
            "_model_module_version": "1.4.0",
            "_view_count": null,
            "_view_module_version": "1.4.0",
            "box_style": "",
            "layout": "IPY_MODEL_be9160a69d2846e2a5434c406c7545a7",
            "_model_module": "@jupyter-widgets/controls",
            "children": [
              "IPY_MODEL_b13ed49f6bdb439aac06c6a8e1a287ed",
              "IPY_MODEL_ae8aa193fc3a405a953412540d2e8274"
            ]
          }
        },
        "be9160a69d2846e2a5434c406c7545a7": {
          "model_module": "@jupyter-widgets/base",
          "model_name": "LayoutModel",
          "state": {
            "_view_name": "LayoutView",
            "grid_template_rows": null,
            "right": null,
            "justify_content": null,
            "_view_module": "@jupyter-widgets/base",
            "overflow": null,
            "_model_module_version": "1.1.0",
            "_view_count": null,
            "flex_flow": null,
            "min_width": null,
            "border": null,
            "align_items": null,
            "bottom": null,
            "_model_module": "@jupyter-widgets/base",
            "top": null,
            "grid_column": null,
            "width": null,
            "overflow_x": null,
            "grid_auto_flow": null,
            "grid_area": null,
            "grid_template_columns": null,
            "flex": null,
            "_model_name": "LayoutModel",
            "overflow_y": null,
            "grid_row": null,
            "max_height": null,
            "align_content": null,
            "visibility": null,
            "align_self": null,
            "height": null,
            "min_height": null,
            "padding": null,
            "grid_auto_rows": null,
            "grid_gap": null,
            "max_width": null,
            "order": null,
            "_view_module_version": "1.1.0",
            "grid_template_areas": null,
            "grid_auto_columns": null,
            "margin": null,
            "display": null,
            "left": null
          }
        },
        "b13ed49f6bdb439aac06c6a8e1a287ed": {
          "model_module": "@jupyter-widgets/controls",
          "model_name": "DropdownModel",
          "state": {
            "_options_labels": [
              "net.0.linear.weight",
              "net.1.linear.weight",
              "net.2.linear.weight",
              "net.3.linear.weight",
              "net.4.linear.weight",
              "net.5.linear.weight",
              "net.6.weight"
            ],
            "_view_name": "DropdownView",
            "style": "IPY_MODEL_12175db3a21f422f883ec557e32a1790",
            "_dom_classes": [],
            "description": "Parameter:",
            "_model_name": "DropdownModel",
            "index": 0,
            "_view_module": "@jupyter-widgets/controls",
            "_model_module_version": "1.4.0",
            "_view_count": null,
            "disabled": false,
            "_view_module_version": "1.4.0",
            "description_tooltip": null,
            "_model_module": "@jupyter-widgets/controls",
            "layout": "IPY_MODEL_4f9757daa62d4018a3261eee223edd6d"
          }
        },
        "ae8aa193fc3a405a953412540d2e8274": {
          "model_module": "@jupyter-widgets/output",
          "model_name": "OutputModel",
          "state": {
            "_view_name": "OutputView",
            "msg_id": "",
            "_dom_classes": [],
            "_model_name": "OutputModel",
            "outputs": [
              {
                "output_type": "display_data",
                "metadata": {
                  "tags": []
                },
                "text/html": "<div>\n<style scoped>\n    .dataframe tbody tr th:only-of-type {\n        vertical-align: middle;\n    }\n\n    .dataframe tbody tr th {\n        vertical-align: top;\n    }\n\n    .dataframe thead th {\n        text-align: right;\n    }\n</style>\n<table border=\"1\" class=\"dataframe\">\n  <thead>\n    <tr style=\"text-align: right;\">\n      <th></th>\n      <th>parameter</th>\n      <th>sparsity</th>\n      <th>loss</th>\n      <th>psnr_score</th>\n      <th>ssim_score</th>\n    </tr>\n  </thead>\n  <tbody>\n    <tr>\n      <th>0</th>\n      <td>net.0.linear.weight</td>\n      <td>0.00</td>\n      <td>0.000035</td>\n      <td>50.524716</td>\n      <td>0.995707</td>\n    </tr>\n    <tr>\n      <th>1</th>\n      <td>net.0.linear.weight</td>\n      <td>0.05</td>\n      <td>0.005572</td>\n      <td>28.612460</td>\n      <td>0.832808</td>\n    </tr>\n    <tr>\n      <th>2</th>\n      <td>net.0.linear.weight</td>\n      <td>0.10</td>\n      <td>0.013554</td>\n      <td>24.761117</td>\n      <td>0.719703</td>\n    </tr>\n    <tr>\n      <th>3</th>\n      <td>net.0.linear.weight</td>\n      <td>0.15</td>\n      <td>0.083150</td>\n      <td>16.852326</td>\n      <td>0.444754</td>\n    </tr>\n    <tr>\n      <th>4</th>\n      <td>net.0.linear.weight</td>\n      <td>0.20</td>\n      <td>0.196652</td>\n      <td>13.095961</td>\n      <td>0.281120</td>\n    </tr>\n    <tr>\n      <th>5</th>\n      <td>net.0.linear.weight</td>\n      <td>0.25</td>\n      <td>0.303839</td>\n      <td>11.204766</td>\n      <td>0.192174</td>\n    </tr>\n    <tr>\n      <th>6</th>\n      <td>net.0.linear.weight</td>\n      <td>0.30</td>\n      <td>0.363724</td>\n      <td>10.425419</td>\n      <td>0.164209</td>\n    </tr>\n    <tr>\n      <th>7</th>\n      <td>net.0.linear.weight</td>\n      <td>0.35</td>\n      <td>0.390476</td>\n      <td>10.126541</td>\n      <td>0.137516</td>\n    </tr>\n    <tr>\n      <th>8</th>\n      <td>net.0.linear.weight</td>\n      <td>0.40</td>\n      <td>0.433349</td>\n      <td>9.665075</td>\n      <td>0.125716</td>\n    </tr>\n    <tr>\n      <th>9</th>\n      <td>net.0.linear.weight</td>\n      <td>0.45</td>\n      <td>0.436175</td>\n      <td>9.632035</td>\n      <td>0.115399</td>\n    </tr>\n    <tr>\n      <th>10</th>\n      <td>net.0.linear.weight</td>\n      <td>0.50</td>\n      <td>0.450942</td>\n      <td>9.490670</td>\n      <td>0.091304</td>\n    </tr>\n    <tr>\n      <th>11</th>\n      <td>net.0.linear.weight</td>\n      <td>0.55</td>\n      <td>0.463045</td>\n      <td>9.385238</td>\n      <td>0.094835</td>\n    </tr>\n    <tr>\n      <th>12</th>\n      <td>net.0.linear.weight</td>\n      <td>0.60</td>\n      <td>0.460682</td>\n      <td>9.413579</td>\n      <td>0.102678</td>\n    </tr>\n    <tr>\n      <th>13</th>\n      <td>net.0.linear.weight</td>\n      <td>0.65</td>\n      <td>0.491176</td>\n      <td>9.130367</td>\n      <td>0.092635</td>\n    </tr>\n    <tr>\n      <th>14</th>\n      <td>net.0.linear.weight</td>\n      <td>0.70</td>\n      <td>0.503595</td>\n      <td>9.025718</td>\n      <td>0.094604</td>\n    </tr>\n    <tr>\n      <th>15</th>\n      <td>net.0.linear.weight</td>\n      <td>0.75</td>\n      <td>0.488721</td>\n      <td>9.155545</td>\n      <td>0.119681</td>\n    </tr>\n    <tr>\n      <th>16</th>\n      <td>net.0.linear.weight</td>\n      <td>0.80</td>\n      <td>0.520058</td>\n      <td>8.891731</td>\n      <td>0.113049</td>\n    </tr>\n    <tr>\n      <th>17</th>\n      <td>net.0.linear.weight</td>\n      <td>0.85</td>\n      <td>0.499858</td>\n      <td>9.064889</td>\n      <td>0.104900</td>\n    </tr>\n    <tr>\n      <th>18</th>\n      <td>net.0.linear.weight</td>\n      <td>0.90</td>\n      <td>0.487497</td>\n      <td>9.169190</td>\n      <td>0.107907</td>\n    </tr>\n  </tbody>\n</table>\n</div>",
                "text/plain": "              parameter  sparsity      loss  psnr_score  ssim_score\n0   net.0.linear.weight      0.00  0.000035   50.524716    0.995707\n1   net.0.linear.weight      0.05  0.005572   28.612460    0.832808\n2   net.0.linear.weight      0.10  0.013554   24.761117    0.719703\n3   net.0.linear.weight      0.15  0.083150   16.852326    0.444754\n4   net.0.linear.weight      0.20  0.196652   13.095961    0.281120\n5   net.0.linear.weight      0.25  0.303839   11.204766    0.192174\n6   net.0.linear.weight      0.30  0.363724   10.425419    0.164209\n7   net.0.linear.weight      0.35  0.390476   10.126541    0.137516\n8   net.0.linear.weight      0.40  0.433349    9.665075    0.125716\n9   net.0.linear.weight      0.45  0.436175    9.632035    0.115399\n10  net.0.linear.weight      0.50  0.450942    9.490670    0.091304\n11  net.0.linear.weight      0.55  0.463045    9.385238    0.094835\n12  net.0.linear.weight      0.60  0.460682    9.413579    0.102678\n13  net.0.linear.weight      0.65  0.491176    9.130367    0.092635\n14  net.0.linear.weight      0.70  0.503595    9.025718    0.094604\n15  net.0.linear.weight      0.75  0.488721    9.155545    0.119681\n16  net.0.linear.weight      0.80  0.520058    8.891731    0.113049\n17  net.0.linear.weight      0.85  0.499858    9.064889    0.104900\n18  net.0.linear.weight      0.90  0.487497    9.169190    0.107907"
              }
            ],
            "_view_module": "@jupyter-widgets/output",
            "_model_module_version": "1.0.0",
            "_view_count": null,
            "_view_module_version": "1.0.0",
            "layout": "IPY_MODEL_d20eb768b574484bb59f57a4938b009c",
            "_model_module": "@jupyter-widgets/output"
          }
        },
        "12175db3a21f422f883ec557e32a1790": {
          "model_module": "@jupyter-widgets/controls",
          "model_name": "DescriptionStyleModel",
          "state": {
            "_view_name": "StyleView",
            "_model_name": "DescriptionStyleModel",
            "description_width": "",
            "_view_module": "@jupyter-widgets/base",
            "_model_module_version": "1.4.0",
            "_view_count": null,
            "_view_module_version": "1.1.0",
            "_model_module": "@jupyter-widgets/controls"
          }
        },
        "4f9757daa62d4018a3261eee223edd6d": {
          "model_module": "@jupyter-widgets/base",
          "model_name": "LayoutModel",
          "state": {
            "_view_name": "LayoutView",
            "grid_template_rows": null,
            "right": null,
            "justify_content": null,
            "_view_module": "@jupyter-widgets/base",
            "overflow": null,
            "_model_module_version": "1.1.0",
            "_view_count": null,
            "flex_flow": null,
            "min_width": null,
            "border": null,
            "align_items": null,
            "bottom": null,
            "_model_module": "@jupyter-widgets/base",
            "top": null,
            "grid_column": null,
            "width": null,
            "overflow_x": null,
            "grid_auto_flow": null,
            "grid_area": null,
            "grid_template_columns": null,
            "flex": null,
            "_model_name": "LayoutModel",
            "overflow_y": null,
            "grid_row": null,
            "max_height": null,
            "align_content": null,
            "visibility": null,
            "align_self": null,
            "height": null,
            "min_height": null,
            "padding": null,
            "grid_auto_rows": null,
            "grid_gap": null,
            "max_width": null,
            "order": null,
            "_view_module_version": "1.1.0",
            "grid_template_areas": null,
            "grid_auto_columns": null,
            "margin": null,
            "display": null,
            "left": null
          }
        },
        "d20eb768b574484bb59f57a4938b009c": {
          "model_module": "@jupyter-widgets/base",
          "model_name": "LayoutModel",
          "state": {
            "_view_name": "LayoutView",
            "grid_template_rows": null,
            "right": null,
            "justify_content": null,
            "_view_module": "@jupyter-widgets/base",
            "overflow": null,
            "_model_module_version": "1.1.0",
            "_view_count": null,
            "flex_flow": null,
            "min_width": null,
            "border": null,
            "align_items": null,
            "bottom": null,
            "_model_module": "@jupyter-widgets/base",
            "top": null,
            "grid_column": null,
            "width": null,
            "overflow_x": null,
            "grid_auto_flow": null,
            "grid_area": null,
            "grid_template_columns": null,
            "flex": null,
            "_model_name": "LayoutModel",
            "overflow_y": null,
            "grid_row": null,
            "max_height": null,
            "align_content": null,
            "visibility": null,
            "align_self": null,
            "height": null,
            "min_height": null,
            "padding": null,
            "grid_auto_rows": null,
            "grid_gap": null,
            "max_width": null,
            "order": null,
            "_view_module_version": "1.1.0",
            "grid_template_areas": null,
            "grid_auto_columns": null,
            "margin": null,
            "display": null,
            "left": null
          }
        }
      }
    }
  },
  "cells": [
    {
      "cell_type": "markdown",
      "metadata": {
        "id": "LA_nORdPKh7w"
      },
      "source": [
        "# Distiller Summary: checkout tensorboard and state dict data\n",
        "---"
      ]
    },
    {
      "cell_type": "markdown",
      "metadata": {
        "id": "JnjU0_i7JAVu"
      },
      "source": [
        "## Setup Notebook\n",
        "---"
      ]
    },
    {
      "cell_type": "markdown",
      "metadata": {
        "id": "-FQsLgbsJC9v"
      },
      "source": [
        "### Options - Notebook:\n",
        "---\n",
        "Specifu data location that might be one among the folowing:\n",
        "\n",
        "- either from GDRIVE\n",
        "- or, \"/content/\" workspace subdirectory\n",
        "- or any other else valid and existing location location.\n",
        "\n",
        "In order to select one of the above location compile the downstream option menu."
      ]
    },
    {
      "cell_type": "code",
      "metadata": {
        "cellView": "form",
        "id": "_HdKDKyTLtdw"
      },
      "source": [
        "#@title Notebook Boolean Knobes (options):\n",
        "#@markdown ---\n",
        "CLONE_GITHUB_PROJECT = True #@param {type:\"boolean\"}\n",
        "INSTALL_SOME_LIBS = False #@param {type:\"boolean\"}\n",
        "INSTALL_DISTILLER_PIP_REQ = False #@param {type:\"boolean\"}"
      ],
      "execution_count": 1,
      "outputs": []
    },
    {
      "cell_type": "code",
      "metadata": {
        "id": "qsZ2EuvCNOXC"
      },
      "source": [
        "#@title Notebook Run Knobes (options):\n",
        "#@markdown ---\n",
        "RUN_COLAB_CODE = True #@param {type:\"boolean\"}\n",
        "RUN_TENSORBOARD_UTIL = False #@param {type:\"boolean\"}\n",
        "#@markdown ---\n",
        "RUN_MAIN_SIREN_BASE = False #@param {type:\"boolean\"}\n",
        "RUN_MAIN_SIREN_APP = False #@param {type:\"boolean\"}\n",
        "RUN_MAIN_SIREN_APP_SENSITIVITY = True #@param {type:\"boolean\"}"
      ],
      "execution_count": 2,
      "outputs": []
    },
    {
      "cell_type": "code",
      "metadata": {
        "id": "mX3YAdgoGVhJ"
      },
      "source": [
        "#@title Data Location (options):\n",
        "#@markdown ---\n",
        "TARGET_TB_FILE = \"/content/drive/MyDrive/Siren Deep Learning Analyses/results/cameramen/___2020.11.27-162900/events.out.tfevents.1606494545.c2f9054794c7\" #@param {type:\"string\"}\n",
        "STATE_DICT_MODEL_FILE = \"/content/drive/MyDrive/Siren Deep Learning Analyses/results/cameramen/___2020.11.27-162900/_checkpoint.pth.tar\" #@param {type:\"string\"}\n",
        "LOG_DIR = \"/content/logs\" #@param {type:\"string\"}\n"
      ],
      "execution_count": 3,
      "outputs": []
    },
    {
      "cell_type": "code",
      "metadata": {
        "id": "Gd-JRUb7Mby-"
      },
      "source": [
        "#@title Github related infos (options):\n",
        "#@markdown ---\n",
        "PROJECT_NAME_PATH = '/content/distiller' #@param {type:\"string\"}\n",
        "\n",
        "    \n",
        "GITHUB_PROJECT_URL = 'https://github.com/franec94/distiller.git' #@param {type:\"string\"}\n",
        "BRANCH_NAME = 'siren-support' #@param {type:\"string\"}\n",
        "CMD_TOOL_NAME = '' #@param {type:\"string\"}"
      ],
      "execution_count": 4,
      "outputs": []
    },
    {
      "cell_type": "code",
      "metadata": {
        "id": "VJ-RdUJLe1V8"
      },
      "source": [
        "#@title Model HyperParams (options):\n",
        "#@markdown ---\n",
        "N_HF = 64 #@param {type:\"integer\"}\n",
        "N_HL = 5 #@param {type:\"integer\"}"
      ],
      "execution_count": 5,
      "outputs": []
    },
    {
      "cell_type": "markdown",
      "metadata": {
        "id": "F8Ak5JexJI3j"
      },
      "source": [
        "### Retrieve Data from Source Location:\n",
        "- either from GDRIVE\n",
        "- or, /content/ workspace subdirectory\n",
        "- or any other else valid and existing location location."
      ]
    },
    {
      "cell_type": "code",
      "metadata": {
        "colab": {
          "base_uri": "https://localhost:8080/"
        },
        "id": "Cc-xFk4bT5f1",
        "outputId": "30b00f1a-8660-400d-cda0-c237f8a3466e"
      },
      "source": [
        "!mkdir {LOG_DIR}"
      ],
      "execution_count": 6,
      "outputs": [
        {
          "output_type": "stream",
          "text": [
            "mkdir: cannot create directory ‘/content/logs’: File exists\n"
          ],
          "name": "stdout"
        }
      ]
    },
    {
      "cell_type": "code",
      "metadata": {
        "id": "-Y0_WT4DG7Dz"
      },
      "source": [
        "import os\n",
        "import shutil\n",
        "\n",
        "tb_file_name = os.path.basename(f\"{TARGET_TB_FILE}\")\n",
        "shutil.copyfile(f\"{TARGET_TB_FILE}\",\n",
        "                os.path.join(f\"{LOG_DIR}\", f\"{tb_file_name}\"))\n",
        "try:\n",
        "    state_dict_file_name = os.path.basename(f\"{STATE_DICT_MODEL_FILE}\")\n",
        "    shutil.copyfile(f\"{STATE_DICT_MODEL_FILE}\",\n",
        "                os.path.join(f\"/content\", f\"{state_dict_file_name}\"))\n",
        "except Exception as err:\n",
        "    print(str(err))\n",
        "    pass"
      ],
      "execution_count": 7,
      "outputs": []
    },
    {
      "cell_type": "markdown",
      "metadata": {
        "id": "HWPiyC95MKfd"
      },
      "source": [
        "### Clone Github Project"
      ]
    },
    {
      "cell_type": "code",
      "metadata": {
        "id": "09jf1pWzMMqF"
      },
      "source": [
        "if CLONE_GITHUB_PROJECT:\n",
        "    import os\n",
        "    os.chdir('/content')"
      ],
      "execution_count": 8,
      "outputs": []
    },
    {
      "cell_type": "code",
      "metadata": {
        "colab": {
          "base_uri": "https://localhost:8080/"
        },
        "id": "YlZeBz8rMQ_B",
        "outputId": "798e9afb-2552-4b88-f5bc-dd7a36225937"
      },
      "source": [
        "# Setup wd to remove trash\n",
        "\n",
        "if CLONE_GITHUB_PROJECT:\n",
        "    # Remove trash\n",
        "    import os\n",
        "    if os.path.exists(f'{PROJECT_NAME_PATH}') and os.path.isdir(f'{PROJECT_NAME_PATH}'):\n",
        "        print(\"Cleaning from old project...\")\n",
        "        !rm -r {PROJECT_NAME_PATH}\n",
        "    else:\n",
        "        print(\"No project found.\")\n",
        "        pass\n",
        "\n",
        "    import os\n",
        "    logs_base_dir = os.path.join(\"/content/outputs\", \"summaries\")\n",
        "    os.makedirs(logs_base_dir, exist_ok=True)\n",
        "\n",
        "    if os.path.exists(PROJECT_NAME_PATH) is False:\n",
        "        !git clone {GITHUB_PROJECT_URL}\n",
        "        os.chdir(PROJECT_NAME_PATH)\n",
        "        !git checkout {BRANCH_NAME}\n",
        "        if CMD_TOOL_NAME == None or len(CMD_TOOL_NAME) == 0:\n",
        "            full_path_cmd = os.path.join(PROJECT_NAME_PATH, f'{PROJECT_NAME_PATH}/')\n",
        "            os.chdir(full_path_cmd)\n",
        "        else:\n",
        "            full_path_cmd = os.path.join(PROJECT_NAME_PATH, f'{PROJECT_NAME_PATH}/{CMD_TOOL_NAME}')\n",
        "            os.chdir(full_path_cmd)\n",
        "    else:\n",
        "        os.chdir(PROJECT_NAME_PATH)\n",
        "        !git checkout {BRANCH_NAME}\n",
        "        !git fetch\n",
        "        if CMD_TOOL_NAME == None or len(CMD_TOOL_NAME) == 0:\n",
        "            full_path_cmd = os.path.join(PROJECT_NAME_PATH, f'{PROJECT_NAME_PATH}/')\n",
        "            os.chdir(full_path_cmd)\n",
        "        else:\n",
        "            full_path_cmd = os.path.join(PROJECT_NAME_PATH, f'{PROJECT_NAME_PATH}/{CMD_TOOL_NAME}')\n",
        "            os.chdir(full_path_cmd)\n",
        "        pass\n",
        "    pass\n",
        "else:\n",
        "    print(\"No github project cloned and no branch activated and switched to!\")\n",
        "    pass"
      ],
      "execution_count": 9,
      "outputs": [
        {
          "output_type": "stream",
          "text": [
            "Cleaning from old project...\n",
            "Cloning into 'distiller'...\n",
            "remote: Enumerating objects: 102, done.\u001b[K\n",
            "remote: Counting objects: 100% (102/102), done.\u001b[K\n",
            "remote: Compressing objects: 100% (72/72), done.\u001b[K\n",
            "remote: Total 6532 (delta 65), reused 64 (delta 29), pack-reused 6430\u001b[K\n",
            "Receiving objects: 100% (6532/6532), 44.40 MiB | 27.74 MiB/s, done.\n",
            "Resolving deltas: 100% (4588/4588), done.\n",
            "Branch 'siren-support' set up to track remote branch 'siren-support' from 'origin'.\n",
            "Switched to a new branch 'siren-support'\n"
          ],
          "name": "stdout"
        }
      ]
    },
    {
      "cell_type": "code",
      "metadata": {
        "id": "u5HwFV17M4ZA"
      },
      "source": [
        "if INSTALL_DISTILLER_PIP_REQ:\n",
        "    import os\n",
        "    os.chdir(f'{PROJECT_NAME_PATH}')\n",
        "    !pip install -r requirements.txt\n",
        "    os.chdir('/content/')"
      ],
      "execution_count": 10,
      "outputs": []
    },
    {
      "cell_type": "markdown",
      "metadata": {
        "id": "JZSIV7CeJ_KM"
      },
      "source": [
        "### Libs"
      ]
    },
    {
      "cell_type": "code",
      "metadata": {
        "id": "7M-Ip3quKB0L"
      },
      "source": [
        "# Installing third party dependencies\n",
        "if INSTALL_SOME_LIBS:\n",
        "    print(\"Installing required libraries...\")\n",
        "\n",
        "    old_requirements = '/content/tmp_requirements.txt'\n",
        "    !pip freeze > {old_requirements}\n",
        "    dependencies_list = \"stats,pretrainedmodels,torchnet,xlsxwriter,gitpython,python-git,cmapy,sk-video,pytorch-model-summary,ConfigArgParse,tabulate,chart_studio,dash,dash_bootstrap_components\".split(\",\")\n",
        "\n",
        "    with open(old_requirements) as f:\n",
        "        old_requirements_list = f.read().split(\"\\n\")\n",
        "        for a_req in dependencies_list:\n",
        "            found_req = False\n",
        "            for old_req in old_requirements_list:\n",
        "                if old_req.startswith(a_req):\n",
        "                    print(f\"{a_req} already installed!\")\n",
        "                    found_req = True\n",
        "                    break\n",
        "            if found_req is False:\n",
        "                !pip install {a_req} -q\n",
        "        pass\n",
        "    !rm -f {old_requirements}\n",
        "    pass"
      ],
      "execution_count": 11,
      "outputs": []
    },
    {
      "cell_type": "code",
      "metadata": {
        "id": "lgsAttm3KLyh"
      },
      "source": [
        "%matplotlib inline\n",
        "from __future__ import print_function\n",
        "from __future__ import division\n",
        "\n",
        "if RUN_COLAB_CODE:\n",
        "\n",
        "\n",
        "    # --------------------------------------------- #\n",
        "    # Standard Library, plus some Third Party Libraries\n",
        "    # --------------------------------------------- #\n",
        "\n",
        "    DASH_TEMPLATES_LIST = [\"plotly\", \"plotly_white\", \"plotly_dark\", \"ggplot2\", \"seaborn\", \"simple_white\", \"none\"]\n",
        "\n",
        "    from PIL import Image\n",
        "    from functools import partial\n",
        "    from pprint import pprint\n",
        "    from tqdm import tqdm\n",
        "    from typing import Tuple, Union\n",
        "\n",
        "\n",
        "    import configargparse\n",
        "    import copy\n",
        "    import collections\n",
        "    import cProfile\n",
        "    import datetime\n",
        "    import functools\n",
        "    import itertools\n",
        "    import h5py\n",
        "    import logging\n",
        "    import math\n",
        "    import os\n",
        "    import operator\n",
        "    import pickle\n",
        "    import random\n",
        "    import shutil\n",
        "    import sys\n",
        "    import re\n",
        "    import tabulate \n",
        "    import time\n",
        "    # import visdom\n",
        "\n",
        "\n",
        "    from collections import OrderedDict\n",
        "    import matplotlib\n",
        "    import matplotlib.pyplot as plt\n",
        "    import numpy as np\n",
        "\n",
        "    # --------------------------------------------- #\n",
        "    # Data Science and Machine Learning Libraries\n",
        "    # --------------------------------------------- #\n",
        "    import matplotlib\n",
        "    import matplotlib.pyplot as plt\n",
        "    matplotlib.style.use('ggplot')\n",
        "    import seaborn as sns\n",
        "\n",
        "    import numpy as np\n",
        "    import pandas as pd\n",
        "    import sklearn\n",
        "\n",
        "    from sklearn.model_selection import ParameterGrid\n",
        "    from sklearn.model_selection import train_test_split\n",
        "\n",
        "    # --------------------------------------------- #\n",
        "    # Torch\n",
        "    # --------------------------------------------- #\n",
        "    import torch\n",
        "    try:\n",
        "        import torch\n",
        "        import torch.nn as nn\n",
        "        import torch.nn.functional as F\n",
        "        import torch.optim as optim\n",
        "        from torch.utils.data import DataLoader, Dataset\n",
        "        # import torch.quantization\n",
        "        # import torch.nn.utils.prune as prune\n",
        "\n",
        "        from torch import nn, optim\n",
        "\n",
        "    except Exception as err:\n",
        "        print(err)\n",
        "        print(\"torch not available!\")\n",
        "        pass\n",
        "\n",
        "    from numpy import linalg as LA\n",
        "    from scipy.stats import rankdata\n",
        "    from collections import OrderedDict\n",
        "    from torchvision import datasets, transforms\n",
        "    from torch.utils.data.sampler import SubsetRandomSampler\n",
        "\n",
        "    # --------------------------------------------- #\n",
        "    # Import: torch_pruning\n",
        "    # --------------------------------------------- #\n",
        "    # import torch_pruning as tp\n",
        "\n",
        "\n",
        "    # --------------------------------------------- #\n",
        "    # Import: TorchVision\n",
        "    # --------------------------------------------- #\n",
        "    try:\n",
        "        import torchvision\n",
        "        from torchvision import datasets\n",
        "        from torchvision import transforms\n",
        "        from torchvision.transforms import Resize, Compose, ToTensor, CenterCrop, Normalize\n",
        "        from torchvision.utils import save_image\n",
        "    except:\n",
        "        print(\"torchvision library not available!\")\n",
        "        pass\n",
        "\n",
        "    # Plotly imports.\n",
        "    # ----------------------------------------------- #\n",
        "    import chart_studio.plotly as py\n",
        "    import plotly.figure_factory as ff\n",
        "    import plotly.express as px\n",
        "\n",
        "    # --------------------------------------------- #\n",
        "    # Import: skimage\n",
        "    # --------------------------------------------- #\n",
        "    try:\n",
        "        import skimage\n",
        "        import skimage.metrics as skmetrics\n",
        "        from skimage.metrics import peak_signal_noise_ratio as psnr\n",
        "        from skimage.metrics import structural_similarity as ssim\n",
        "        from skimage.metrics import mean_squared_error\n",
        "    except:\n",
        "        print(\"skimage library not available!\")\n",
        "        pass"
      ],
      "execution_count": 12,
      "outputs": []
    },
    {
      "cell_type": "markdown",
      "metadata": {
        "id": "tYRgm2zjRN3d"
      },
      "source": [
        "### PyTorch Architectures"
      ]
    },
    {
      "cell_type": "code",
      "metadata": {
        "id": "Z0OwsOcPRQhp"
      },
      "source": [
        "if RUN_COLAB_CODE:\n",
        "    class SineLayer(nn.Module):\n",
        "        # See paper sec. 3.2, final paragraph, and supplement Sec. 1.5 for discussion of omega_0.\n",
        "        \n",
        "        # If is_first=True, omega_0 is a frequency factor which simply multiplies the activations before the \n",
        "        # nonlinearity. Different signals may require different omega_0 in the first layer - this is a \n",
        "        # hyperparameter.\n",
        "        \n",
        "        # If is_first=False, then the weights will be divided by omega_0 so as to keep the magnitude of \n",
        "        # activations constant, but boost gradients to the weight matrix (see supplement Sec. 1.5)\n",
        "        \n",
        "        def __init__(self, in_features, out_features, bias=True,\n",
        "                    is_first=False, omega_0=30):\n",
        "            super().__init__()\n",
        "            self.omega_0 = omega_0\n",
        "            self.is_first = is_first\n",
        "            \n",
        "            self.in_features = in_features\n",
        "            self.linear = nn.Linear(in_features, out_features, bias=bias)\n",
        "            \n",
        "            self.init_weights()\n",
        "            pass\n",
        "        \n",
        "        def init_weights(self):\n",
        "            with torch.no_grad():\n",
        "                if self.is_first:\n",
        "                    self.linear.weight.uniform_(-1 / self.in_features, \n",
        "                                                1 / self.in_features)      \n",
        "                else:\n",
        "                    self.linear.weight.uniform_(-np.sqrt(6 / self.in_features) / self.omega_0, \n",
        "                                                np.sqrt(6 / self.in_features) / self.omega_0)\n",
        "            pass\n",
        "            \n",
        "        def forward(self, input):\n",
        "            return torch.sin(self.omega_0 * self.linear(input))\n",
        "        \n",
        "        def forward_with_intermediate(self, input): \n",
        "            # For visualization of activation distributions\n",
        "            intermediate = self.omega_0 * self.linear(input)\n",
        "            return torch.sin(intermediate), intermediate\n",
        "        pass\n",
        "        \n",
        "        \n",
        "    class Siren(nn.Module):\n",
        "        def __init__(self, in_features, hidden_features, hidden_layers, out_features, outermost_linear=False, \n",
        "                    first_omega_0=30, hidden_omega_0=30.):\n",
        "            super().__init__()\n",
        "            \n",
        "            self.net = []\n",
        "            self.net.append(SineLayer(in_features, hidden_features, \n",
        "                                    is_first=True, omega_0=first_omega_0))\n",
        "\n",
        "            for i in range(hidden_layers):\n",
        "                self.net.append(SineLayer(hidden_features, hidden_features, \n",
        "                                        is_first=False, omega_0=hidden_omega_0))\n",
        "\n",
        "            if outermost_linear:\n",
        "                final_linear = nn.Linear(hidden_features, out_features)\n",
        "                \n",
        "                with torch.no_grad():\n",
        "                    final_linear.weight.uniform_(-np.sqrt(6 / hidden_features) / hidden_omega_0, \n",
        "                                                np.sqrt(6 / hidden_features) / hidden_omega_0)\n",
        "                    \n",
        "                self.net.append(final_linear)\n",
        "            else:\n",
        "                self.net.append(SineLayer(hidden_features, out_features, \n",
        "                                        is_first=False, omega_0=hidden_omega_0))\n",
        "            \n",
        "            self.net = nn.Sequential(*self.net)\n",
        "            pass\n",
        "        \n",
        "        def forward(self, coords):\n",
        "            coords = coords.clone().detach().requires_grad_(True) # allows to take derivative w.r.t. input\n",
        "            output = self.net(coords)\n",
        "            return output, coords        \n",
        "\n",
        "        def forward_with_activations(self, coords, retain_grad=False):\n",
        "            '''Returns not only model output, but also intermediate activations.\n",
        "            Only used for visualizing activations later!'''\n",
        "            activations = OrderedDict()\n",
        "\n",
        "            activation_count = 0\n",
        "            x = coords.clone().detach().requires_grad_(True)\n",
        "            activations['input'] = x\n",
        "            for i, layer in enumerate(self.net):\n",
        "                if isinstance(layer, SineLayer):\n",
        "                    x, intermed = layer.forward_with_intermediate(x)\n",
        "                    \n",
        "                    if retain_grad:\n",
        "                        x.retain_grad()\n",
        "                        intermed.retain_grad()\n",
        "                        \n",
        "                    activations['_'.join((str(layer.__class__), \"%d\" % activation_count))] = intermed\n",
        "                    activation_count += 1\n",
        "                else: \n",
        "                    x = layer(x)\n",
        "                    \n",
        "                    if retain_grad:\n",
        "                        x.retain_grad()\n",
        "                        \n",
        "                activations['_'.join((str(layer.__class__), \"%d\" % activation_count))] = x\n",
        "                activation_count += 1\n",
        "\n",
        "            return activations\n",
        "        pass"
      ],
      "execution_count": 13,
      "outputs": []
    },
    {
      "cell_type": "markdown",
      "metadata": {
        "id": "n5U_0DYoJxZc"
      },
      "source": [
        "## Tests\n",
        "---"
      ]
    },
    {
      "cell_type": "markdown",
      "metadata": {
        "id": "zhleejVeJvm9"
      },
      "source": [
        "### Tensorboard"
      ]
    },
    {
      "cell_type": "code",
      "metadata": {
        "colab": {
          "base_uri": "https://localhost:8080/"
        },
        "id": "rzHP0DLCqJoV",
        "outputId": "6a427dad-8fec-41eb-882c-da29b795f4c1"
      },
      "source": [
        "!kill 2366"
      ],
      "execution_count": 14,
      "outputs": [
        {
          "output_type": "stream",
          "text": [
            "/bin/bash: line 0: kill: (2366) - No such process\n"
          ],
          "name": "stdout"
        }
      ]
    },
    {
      "cell_type": "code",
      "metadata": {
        "id": "BNuqzEvdTa_5"
      },
      "source": [
        "if RUN_TENSORBOARD_UTIL:\n",
        "    %reload_ext tensorboard"
      ],
      "execution_count": 15,
      "outputs": []
    },
    {
      "cell_type": "code",
      "metadata": {
        "id": "URkpqkA6Tzwd"
      },
      "source": [
        "if RUN_TENSORBOARD_UTIL:\n",
        "    %tensorboard --logdir {LOG_DIR}"
      ],
      "execution_count": 16,
      "outputs": []
    },
    {
      "cell_type": "markdown",
      "metadata": {
        "id": "8-SNW8lHJzvV"
      },
      "source": [
        "### Checkout State dict file"
      ]
    },
    {
      "cell_type": "markdown",
      "metadata": {
        "id": "i2Vmjp4ENgN4"
      },
      "source": [
        "#### Colab Code"
      ]
    },
    {
      "cell_type": "code",
      "metadata": {
        "id": "Jyfut3X-I_Ue"
      },
      "source": [
        "import os\n",
        "os.chdir('/content/distiller')"
      ],
      "execution_count": 17,
      "outputs": []
    },
    {
      "cell_type": "code",
      "metadata": {
        "colab": {
          "base_uri": "https://localhost:8080/",
          "height": 0
        },
        "id": "dXyVvp9jNlVh",
        "outputId": "267c30a9-d720-47bf-9728-f2b4084acc43"
      },
      "source": [
        "import distiller\n",
        "distiller.__version__"
      ],
      "execution_count": 18,
      "outputs": [
        {
          "output_type": "execute_result",
          "data": {
            "application/vnd.google.colaboratory.intrinsic+json": {
              "type": "string"
            },
            "text/plain": [
              "'Unknown'"
            ]
          },
          "metadata": {
            "tags": []
          },
          "execution_count": 18
        }
      ]
    },
    {
      "cell_type": "code",
      "metadata": {
        "id": "N8g_3ag7Nnsa"
      },
      "source": [
        "import os\n",
        "import torch.nn as nn\n",
        "from distiller.models import register_user_model\n",
        "import distiller.apputils.siren_image_regressor as regressor\n",
        "import distiller.apputils"
      ],
      "execution_count": 19,
      "outputs": []
    },
    {
      "cell_type": "code",
      "metadata": {
        "colab": {
          "base_uri": "https://localhost:8080/",
          "height": 0
        },
        "id": "dv6eSy7nPJSI",
        "outputId": "0aebc39f-41db-4136-d2df-a572912d3bcb"
      },
      "source": [
        "import qgrid\n",
        "\n",
        "if RUN_COLAB_CODE:\n",
        "    # Load some common jupyter code\n",
        "    # !cp /content/distiller/jupyter/distiller_jupyter_helpers.ipynb /content/distiller_jupyter_helpers.ipynb\n",
        "    # %run /content/distiller_jupyter_helpers.ipynb\n",
        "    import ipywidgets as widgets\n",
        "    from ipywidgets import interactive, interact, Layout\n",
        "\n",
        "    # Some models have long node names and require longer lines\n",
        "    from IPython.core.display import display, HTML\n",
        "    display(HTML(\"<style>.container { width:100% !important; }</style>\"))\n",
        "\n",
        "    def pretty_int(i):\n",
        "        return \"{:,}\".format(i)"
      ],
      "execution_count": 20,
      "outputs": [
        {
          "output_type": "display_data",
          "data": {
            "text/html": [
              "<style>.container { width:100% !important; }</style>"
            ],
            "text/plain": [
              "<IPython.core.display.HTML object>"
            ]
          },
          "metadata": {
            "tags": []
          }
        }
      ]
    },
    {
      "cell_type": "code",
      "metadata": {
        "id": "TqKbA8E1NpN1"
      },
      "source": [
        "if RUN_COLAB_CODE:\n",
        "    def siren_model_create(n_hf=N_HF, n_hl=N_HL):\n",
        "        img_siren = Siren(in_features=2, out_features=1, hidden_features=n_hf, \n",
        "                  hidden_layers=n_hl, outermost_linear=True)\n",
        "        return img_siren"
      ],
      "execution_count": 21,
      "outputs": []
    },
    {
      "cell_type": "code",
      "metadata": {
        "id": "NVlUAaARNqRk"
      },
      "source": [
        "if RUN_COLAB_CODE:\n",
        "    distiller.models.register_user_model(arch=\"SirenCompressingModel\", dataset=\"cameramen\", model=siren_model_create)\n",
        "    model = distiller.models.create_model(pretrained=False, dataset=\"cameramen\", arch=\"SirenCompressingModel\")\n",
        "    assert model is not None"
      ],
      "execution_count": 22,
      "outputs": []
    },
    {
      "cell_type": "code",
      "metadata": {
        "colab": {
          "base_uri": "https://localhost:8080/"
        },
        "id": "rnenYThfNrXQ",
        "outputId": "d5189fc7-76b9-4f58-bb7a-57fdc0ed1282"
      },
      "source": [
        "if RUN_COLAB_CODE:\n",
        "    for name, module in model.named_modules():\n",
        "        print(name)"
      ],
      "execution_count": 23,
      "outputs": [
        {
          "output_type": "stream",
          "text": [
            "\n",
            "net\n",
            "net.0\n",
            "net.0.linear\n",
            "net.1\n",
            "net.1.linear\n",
            "net.2\n",
            "net.2.linear\n",
            "net.3\n",
            "net.3.linear\n",
            "net.4\n",
            "net.4.linear\n",
            "net.5\n",
            "net.5.linear\n",
            "net.6\n"
          ],
          "name": "stdout"
        }
      ]
    },
    {
      "cell_type": "code",
      "metadata": {
        "id": "XKAKZYiaNtAm"
      },
      "source": [
        "if RUN_COLAB_CODE:\n",
        "    def init_jupyter_default_args(args):\n",
        "        args.output_dir = '/content/' # None # \n",
        "        args.evaluate = False\n",
        "        args.seed = 0\n",
        "        args.deterministic = True\n",
        "        args.cpu = True\n",
        "        args.gpus = \"0\"\n",
        "        args.load_serialized = False\n",
        "        args.deprecated_resume = None\n",
        "        args.resumed_checkpoint_path = None\n",
        "        args.load_model_path = None\n",
        "        args.reset_optimizer = False\n",
        "        args.lr = args.momentum = args.weight_decay = 0.\n",
        "        args.compress = '/content/distiller/examples/agp-pruning/siren64-5_schedule_agp.yaml'\n",
        "        args.epochs = 0\n",
        "        args.activation_stats = list()\n",
        "        args.batch_size = 1\n",
        "        args.workers = 1\n",
        "        args.validation_split = 0.1\n",
        "        args.effective_train_size = args.effective_valid_size = args.effective_test_size = 1.\n",
        "        args.log_params_histograms = False\n",
        "        args.print_freq = 10\n",
        "        args.masks_sparsity = False\n",
        "        args.display_confusion = False\n",
        "        args.num_best_scores = 1\n",
        "        args.name = \"\"\n",
        "        args.kd_policy = None\n",
        "        # args.summary = \"sparsity\"\n",
        "        args.qe_stats_file = None\n",
        "        args.verbose = False\n",
        "        return args\n",
        "\n",
        "\n",
        "    def config_learner_args(args, arch, dataset, dataset_path, pretrained, adam_args, batch, epochs):\n",
        "        args.arch = f\"{arch}\"\n",
        "        args.dataset = f\"{dataset}\"\n",
        "        args.data = \"\"\n",
        "        args.pretrained = False\n",
        "        args.lr = adam_args[0]\n",
        "        args.momentum = adam_args[1]\n",
        "        args.weight_decay = adam_args[2]\n",
        "        args.batch_size = 1\n",
        "        args.epochs = epochs\n",
        "        return args"
      ],
      "execution_count": 24,
      "outputs": []
    },
    {
      "cell_type": "code",
      "metadata": {
        "colab": {
          "base_uri": "https://localhost:8080/"
        },
        "id": "w9j0_7PNNuMi",
        "outputId": "71588831-d999-45be-e15f-ad44c96ee029"
      },
      "source": [
        "if RUN_COLAB_CODE:\n",
        "    args = regressor.init_regressor_compression_arg_parser()\n",
        "    args, unknownargs = args.parse_known_args()\n",
        "    pprint(args)"
      ],
      "execution_count": 25,
      "outputs": [
        {
          "output_type": "stream",
          "text": [
            "Namespace(activation_histograms=None, activation_stats=[], arch='siren', batch_size=256, compress=None, cpu=False, data='/root/.local/share/jupyter/runtime/kernel-66eb6401-9d4c-40f5-8585-359f77523f00.json', deprecated_resume='', deterministic=False, display_confusion=False, effective_test_size=1.0, effective_train_size=1.0, effective_valid_size=1.0, epochs=90, evaluate=False, export_onnx=None, gpus=None, load_model_path='', load_serialized=False, log_params_histograms=False, lr=0.1, masks_sparsity=False, momentum=0.9, name=None, num_best_scores=1, number_hidden_features=8, number_hidden_layerss=8, output_dir='logs', pretrained=False, print_freq=10, qe_bits_accum=32, qe_bits_acts=8, qe_bits_wts=8, qe_calibration=None, qe_clip_acts=<ClipMode.NONE: 0>, qe_clip_n_stds=None, qe_config_file=None, qe_convert_pytorch=False, qe_dynamic=False, qe_mode=<LinearQuantMode.SYMMETRIC: 1>, qe_mode_acts=None, qe_mode_wts=None, qe_no_clip_layers=[], qe_no_quant_layers=[], qe_per_channel=False, qe_pytorch_backend='fbgemm', qe_save_fp_weights=False, qe_scale_approx_bits=None, qe_stats_file=None, quantize_eval=False, reset_optimizer=False, resumed_checkpoint_path='', seed=None, sensitivity=None, sensitivity_range=[0.0, 0.95, 0.05], summary=None, thinnify=False, validation_split=0.1, verbose=False, weight_decay=0.0001, workers=4)\n"
          ],
          "name": "stdout"
        }
      ]
    },
    {
      "cell_type": "code",
      "metadata": {
        "id": "k_3MKJqTNvDw"
      },
      "source": [
        "if RUN_COLAB_CODE:\n",
        "    args = init_jupyter_default_args(args)"
      ],
      "execution_count": 26,
      "outputs": []
    },
    {
      "cell_type": "code",
      "metadata": {
        "id": "5lQnmF7KNx7l"
      },
      "source": [
        "if RUN_COLAB_CODE:\n",
        "    args = config_learner_args(args, \"SirenCompressingModel\", \"cameramen\", \"\", False, (0.1, 0.0, 1e-4) , 1, 100)"
      ],
      "execution_count": 27,
      "outputs": []
    },
    {
      "cell_type": "code",
      "metadata": {
        "colab": {
          "base_uri": "https://localhost:8080/"
        },
        "id": "c3bQoU3eOU4k",
        "outputId": "0dae2fcf-4112-46e5-9a94-ea440e3d7ab3"
      },
      "source": [
        "if RUN_COLAB_CODE:\n",
        "    model = distiller.models.create_model(\\\n",
        "        pretrained=True, dataset=\"cameramen\", arch=\"SirenCompressingModel\")\n",
        "\n",
        "    state_dict_file_name = os.path.basename(f\"{STATE_DICT_MODEL_FILE}\")\n",
        "    checkpoint_file = os.path.join(f\"/content\", f\"{state_dict_file_name}\")\n",
        "\n",
        "    print(checkpoint_file)\n",
        "    \n",
        "    distiller.apputils.load_checkpoint(\n",
        "        model = None,\n",
        "        chkpt_file = checkpoint_file,\n",
        "        model_device = 'cpu')"
      ],
      "execution_count": 28,
      "outputs": [
        {
          "output_type": "stream",
          "text": [
            "/content/_checkpoint.pth.tar\n"
          ],
          "name": "stdout"
        }
      ]
    },
    {
      "cell_type": "markdown",
      "metadata": {
        "id": "w3tYS3nOcCY1"
      },
      "source": [
        "### Print a summary of the statistics of the model attributes in tabular format\n",
        "\n",
        "Distiller generates several different summary reports, which are returned as Pandas dataframes which you can slice, dice and sort using Pandas' rich API.<br>\n",
        "<br>\n",
        "MACs are multiply-accumulate operations: a MAC unit computes the product of two elements and adds the product to an accumulator.  The MACs reported by distiller.model_performance_summary are for direct GEMM (General Matrix-Matrix Multiplication) and convolution.  Different hardware uses specific algorithms at different times.  For example, [Intel's MKL-DNN](https://intel.github.io/mkl-dnn/) uses [Winograd](https://arxiv.org/pdf/1509.09308.pdf) for 3x3 convolutions.  As another example, [convolutions are sometimes computed using GEMM](https://petewarden.com/2015/04/20/why-gemm-is-at-the-heart-of-deep-learning/) for increased utilization of vectorized hardware.<br>\n",
        "\n",
        "\n",
        "<br>\n",
        "In the example below, we display some statistics about the sizes and shapes of the feature-maps and weight tensors, and some other goodies. :-)"
      ]
    },
    {
      "cell_type": "code",
      "metadata": {
        "colab": {
          "base_uri": "https://localhost:8080/",
          "height": 334
        },
        "id": "fUlegLdvPOyj",
        "outputId": "819d7f77-d789-40e8-911d-21c61e701953"
      },
      "source": [
        "if RUN_COLAB_CODE:\n",
        "    dummy_input = torch.randn(1, 1, 256*256, 2)\n",
        "    # dummy_input = torch.randn(1, 2)\n",
        "    df = distiller.model_performance_summary(model, dummy_input, 1)\n",
        "    \"\"\"\n",
        "    df.to_csv('/content/tmp.csv')\n",
        "    # df = pd.DataFrame(data = df.values, columns = df.columns, engine='python', encoding='utf-8')\n",
        "    columns = df.columns\n",
        "    df = pd.read_csv('/content/tmp.csv', engine='python', encoding='utf-8')\n",
        "    if \"Unnamed: 0\" in df.columns:\n",
        "        df = df.drop(labels = [\"Unnamed: 0\"], axis = 1)\n",
        "    df.columns = columns\n",
        "    \"\"\"\n",
        "\n",
        "    # You can display summaries using several backends, and each has its advantages and disadvantages, so you will want to use them in different situations.\n",
        "    print(\"Weights shapes, sizes and statistics (showing only FC and convolution layers):\")\n",
        "    print(\"\\tTotal IFM footprint (elements): \" + \"{:,}\".format(df['IFM volume'].sum()))\n",
        "    print(\"\\tTotal OFM footprint (elements): \" + \"{:,}\".format(df['OFM volume'].sum()))\n",
        "    print(\"\\tTotal weights footprint (elements): \" + \"{:,}\".format(df['Weights volume'].sum()))\n",
        "        \n",
        "    # 1. As a textual table\n",
        "    # t = distiller.model_performance_tbl_summary(model, dummy_input, 1)\n",
        "    # print(t)\n",
        "\n",
        "    # 2. As a plain Pandas dataframe\n",
        "    display(df)\n",
        "\n",
        "    # 3. As a QGrid table, which you can sort and filter.\n",
        "    # qgrid.show_grid(df)\n",
        "    pass"
      ],
      "execution_count": 29,
      "outputs": [
        {
          "output_type": "stream",
          "text": [
            "Weights shapes, sizes and statistics (showing only FC and convolution layers):\n",
            "\tTotal IFM footprint (elements): 25,296,896\n",
            "\tTotal OFM footprint (elements): 25,231,360\n",
            "\tTotal weights footprint (elements): 20,672\n"
          ],
          "name": "stdout"
        },
        {
          "output_type": "display_data",
          "data": {
            "text/html": [
              "<div>\n",
              "<style scoped>\n",
              "    .dataframe tbody tr th:only-of-type {\n",
              "        vertical-align: middle;\n",
              "    }\n",
              "\n",
              "    .dataframe tbody tr th {\n",
              "        vertical-align: top;\n",
              "    }\n",
              "\n",
              "    .dataframe thead th {\n",
              "        text-align: right;\n",
              "    }\n",
              "</style>\n",
              "<table border=\"1\" class=\"dataframe\">\n",
              "  <thead>\n",
              "    <tr style=\"text-align: right;\">\n",
              "      <th></th>\n",
              "      <th>Name</th>\n",
              "      <th>Type</th>\n",
              "      <th>Attrs</th>\n",
              "      <th>IFM</th>\n",
              "      <th>IFM volume</th>\n",
              "      <th>OFM</th>\n",
              "      <th>OFM volume</th>\n",
              "      <th>Weights volume</th>\n",
              "      <th>MACs</th>\n",
              "    </tr>\n",
              "  </thead>\n",
              "  <tbody>\n",
              "    <tr>\n",
              "      <th>0</th>\n",
              "      <td>net.0.linear</td>\n",
              "      <td>Linear</td>\n",
              "      <td></td>\n",
              "      <td>(1, 1, 65536, 2)</td>\n",
              "      <td>131072</td>\n",
              "      <td>(1, 1, 65536, 64)</td>\n",
              "      <td>4194304</td>\n",
              "      <td>128</td>\n",
              "      <td>128</td>\n",
              "    </tr>\n",
              "    <tr>\n",
              "      <th>1</th>\n",
              "      <td>net.1.linear</td>\n",
              "      <td>Linear</td>\n",
              "      <td></td>\n",
              "      <td>(1, 1, 65536, 64)</td>\n",
              "      <td>4194304</td>\n",
              "      <td>(1, 1, 65536, 64)</td>\n",
              "      <td>4194304</td>\n",
              "      <td>4096</td>\n",
              "      <td>4096</td>\n",
              "    </tr>\n",
              "    <tr>\n",
              "      <th>2</th>\n",
              "      <td>net.2.linear</td>\n",
              "      <td>Linear</td>\n",
              "      <td></td>\n",
              "      <td>(1, 1, 65536, 64)</td>\n",
              "      <td>4194304</td>\n",
              "      <td>(1, 1, 65536, 64)</td>\n",
              "      <td>4194304</td>\n",
              "      <td>4096</td>\n",
              "      <td>4096</td>\n",
              "    </tr>\n",
              "    <tr>\n",
              "      <th>3</th>\n",
              "      <td>net.3.linear</td>\n",
              "      <td>Linear</td>\n",
              "      <td></td>\n",
              "      <td>(1, 1, 65536, 64)</td>\n",
              "      <td>4194304</td>\n",
              "      <td>(1, 1, 65536, 64)</td>\n",
              "      <td>4194304</td>\n",
              "      <td>4096</td>\n",
              "      <td>4096</td>\n",
              "    </tr>\n",
              "    <tr>\n",
              "      <th>4</th>\n",
              "      <td>net.4.linear</td>\n",
              "      <td>Linear</td>\n",
              "      <td></td>\n",
              "      <td>(1, 1, 65536, 64)</td>\n",
              "      <td>4194304</td>\n",
              "      <td>(1, 1, 65536, 64)</td>\n",
              "      <td>4194304</td>\n",
              "      <td>4096</td>\n",
              "      <td>4096</td>\n",
              "    </tr>\n",
              "    <tr>\n",
              "      <th>5</th>\n",
              "      <td>net.5.linear</td>\n",
              "      <td>Linear</td>\n",
              "      <td></td>\n",
              "      <td>(1, 1, 65536, 64)</td>\n",
              "      <td>4194304</td>\n",
              "      <td>(1, 1, 65536, 64)</td>\n",
              "      <td>4194304</td>\n",
              "      <td>4096</td>\n",
              "      <td>4096</td>\n",
              "    </tr>\n",
              "    <tr>\n",
              "      <th>6</th>\n",
              "      <td>net.6</td>\n",
              "      <td>Linear</td>\n",
              "      <td></td>\n",
              "      <td>(1, 1, 65536, 64)</td>\n",
              "      <td>4194304</td>\n",
              "      <td>(1, 1, 65536, 1)</td>\n",
              "      <td>65536</td>\n",
              "      <td>64</td>\n",
              "      <td>64</td>\n",
              "    </tr>\n",
              "  </tbody>\n",
              "</table>\n",
              "</div>"
            ],
            "text/plain": [
              "           Name    Type Attrs  ... OFM volume Weights volume  MACs\n",
              "0  net.0.linear  Linear        ...    4194304            128   128\n",
              "1  net.1.linear  Linear        ...    4194304           4096  4096\n",
              "2  net.2.linear  Linear        ...    4194304           4096  4096\n",
              "3  net.3.linear  Linear        ...    4194304           4096  4096\n",
              "4  net.4.linear  Linear        ...    4194304           4096  4096\n",
              "5  net.5.linear  Linear        ...    4194304           4096  4096\n",
              "6         net.6  Linear        ...      65536             64    64\n",
              "\n",
              "[7 rows x 9 columns]"
            ]
          },
          "metadata": {
            "tags": []
          }
        }
      ]
    },
    {
      "cell_type": "markdown",
      "metadata": {
        "id": "mlmJtd73bmzo"
      },
      "source": [
        "### Compare weights footprint to feature-map footprint\n",
        "\n",
        "Memory footprint, bandwidth and throughput are different concepts.  Footprint is the size amount of memory required to store a piece of data (e.g. measured as number of bytes).  Bandwidth is the rate at which data can be read or written (stored) from/to memory by different hardware (e.g. measured as bytes/sec).  Throughput is a measure of the data that actually moves (read/stored) in a period of time (bytes/sec).<br>\n",
        "Because the amount of data required for a typical neural-network operation is often larger than the available working memory of the compute hardware (e.g. CPU registers and cache), data often needs to be sliced into tiles (blocks).  The sizes of the tiles, together with the memory access pattern and the compute algorithm, determine the total amount of data that needs to move around (read/stored).  Because of this hardware dependency, we provide below information regarding memory footprint and not throughput."
      ]
    },
    {
      "cell_type": "code",
      "metadata": {
        "colab": {
          "base_uri": "https://localhost:8080/",
          "height": 574
        },
        "id": "UYx9JNq5bZwV",
        "outputId": "928fdb56-fda2-4a4b-b0c7-fcb0738f73b5"
      },
      "source": [
        "if RUN_COLAB_CODE:\n",
        "    %matplotlib inline\n",
        "    import matplotlib.pyplot as plt\n",
        "    fig, ax = plt.subplots(figsize=(15,7.5))\n",
        "    fig.suptitle(\"Foortprint Statistics by layer\")\n",
        "    ax.set_ylabel(\"Feature Maps\")\n",
        "    ax.set_xlabel(\"Layer\")\n",
        "    ax2 = ax.twinx()\n",
        "    ax2.set_ylabel(\"Weights\")\n",
        "    ax.set_xticklabels(df.Name, rotation=90);\n",
        "\n",
        "    df[\"FM volume\"] = df[\"OFM volume\"] + df[\"IFM volume\"]\n",
        "    df[[\"Name\",\"FM volume\"]].plot(ax=ax, xticks=range(len(df.index)), style=\"b-\", rot=90)\n",
        "    df[[\"Name\",\"Weights volume\"]].plot(ax=ax2, style=\"g-\", use_index=True, rot=90)\n",
        "    plt.show()"
      ],
      "execution_count": 30,
      "outputs": [
        {
          "output_type": "display_data",
          "data": {
            "image/png": "[encoded data removed]",
            "text/plain": [
              "<Figure size 1080x540 with 2 Axes>"
            ]
          },
          "metadata": {
            "tags": [],
            "needs_background": "light"
          }
        }
      ]
    },
    {
      "cell_type": "markdown",
      "metadata": {
        "id": "vNNdtf-rcJm_"
      },
      "source": [
        "### Compare data footprint to compute (MACs)\n",
        "\n",
        "We measure Footprint in number of elements, not bytes.  If, for example, the elements data type is FP32, then the real footprint is 4x the reported footprint."
      ]
    },
    {
      "cell_type": "code",
      "metadata": {
        "colab": {
          "base_uri": "https://localhost:8080/",
          "height": 574
        },
        "id": "h5ldgFGPcMBP",
        "outputId": "da8774b2-9065-462d-8304-2b2801396914"
      },
      "source": [
        "if RUN_COLAB_CODE:\n",
        "    %matplotlib inline\n",
        "    fig, ax = plt.subplots(figsize=(15,7.5))\n",
        "    fig.suptitle(\"Foortprint vs. Compute\")\n",
        "    ax.set_ylabel(\"MACs\")\n",
        "    ax.set_xlabel(\"Layer\")\n",
        "    ax2 = ax.twinx()\n",
        "    ax2.set_ylabel(\"Footprint\")\n",
        "\n",
        "    df[[\"Name\", \"MACs\"]].plot(ax=ax, kind='bar', rot=90,  xticks=range(len(df.index)), figsize=[15,7.5])\n",
        "    ax.set_xticklabels(df.Name, rotation=90);\n",
        "\n",
        "    df2 = df[\"Weights volume\"] + df[\"OFM volume\"] + df[\"IFM volume\"]\n",
        "    df2.plot(ax=ax2, style=\"g-\", use_index=True, rot=90)\n",
        "    plt.show()"
      ],
      "execution_count": 31,
      "outputs": [
        {
          "output_type": "display_data",
          "data": {
            "image/png": "[encoded data removed]",
            "text/plain": [
              "<Figure size 1080x540 with 2 Axes>"
            ]
          },
          "metadata": {
            "tags": [],
            "needs_background": "light"
          }
        }
      ]
    },
    {
      "cell_type": "code",
      "metadata": {
        "colab": {
          "base_uri": "https://localhost:8080/",
          "height": 1000
        },
        "id": "Jc3KkcbJgInm",
        "outputId": "ecb1ff5c-a4e4-435e-9778-135ee707aa7c"
      },
      "source": [
        "if RUN_COLAB_CODE:\n",
        "    %matplotlib inline\n",
        "    import scipy.stats as ss\n",
        "    def getSparsity(x):\n",
        "        return 1 - (x[x.nonzero()].size / x.size)\n",
        "\n",
        "    REMOVE_ZEROS = False\n",
        "    SHOW_OF_BIASES = False\n",
        "    GRID_PICTURES = True\n",
        "    nbins = 500\n",
        "    if GRID_PICTURES:\n",
        "        cnt = 0\n",
        "        for name, weights in model.named_parameters():\n",
        "            if SHOW_OF_BIASES and name.endswith('bias'): continue\n",
        "            cnt += 1\n",
        "        n = cnt // 2 if cnt % 2 == 0 else cnt // 2 + 2\n",
        "        fig, axes = plt.subplots(n, 2, figsize=(20, 20))\n",
        "        axes = list(itertools.chain(*axes))\n",
        "        pass\n",
        "    for ii, (name, weights) in enumerate(model.named_parameters()):\n",
        "        if SHOW_OF_BIASES and name.endswith('bias'): continue\n",
        "        \n",
        "        # not convolution layer\n",
        "        # if weights.dim() != 4: continue\n",
        "\n",
        "        shape_str = \"x\".join(map(str, weights.shape))\n",
        "        weights = weights.cpu().detach().numpy().flatten()\n",
        "        sparsity = getSparsity(weights)\n",
        "\n",
        "        if REMOVE_ZEROS:\n",
        "            # Optionally remove zeros (lots of zeros will dominate the histogram and the \n",
        "            # other data will be hard to see\n",
        "            weights = weights[weights.nonzero()]\n",
        "\n",
        "        # Fit the data to the Normal distribution\n",
        "        (mean_fitted, std_fitted) = ss.norm.fit(weights)\n",
        "        x = np.linspace(min(weights), max(weights), nbins)\n",
        "        weights_gauss_fitted = ss.norm.pdf(x, loc=mean_fitted, scale=std_fitted)\n",
        "\n",
        "        # Fit the data to the Laplacian distribution\n",
        "        (mean_fitted, std_fitted) = ss.laplace.fit(weights)\n",
        "        weights_laplace_fitted = ss.laplace.pdf(x, loc=mean_fitted, scale=std_fitted)\n",
        "\n",
        "        if not GRID_PICTURES:\n",
        "            fig = plt.figure()\n",
        "            n, bins, patches = plt.hist(weights, histtype='stepfilled', \n",
        "                                    cumulative=False, bins=nbins, density=True)\n",
        "            \n",
        "            plt.plot(x, weights_gauss_fitted, label='gauss')\n",
        "            plt.plot(x, weights_laplace_fitted, label='laplace')\n",
        "\n",
        "            plt.title(name + \" - \" + shape_str + (\n",
        "                ' - sparsity: {:.0%}'.format(sparsity) if REMOVE_ZEROS else ''))\n",
        "            #plt.figure(figsize=(10,5))\n",
        "            plt.legend()\n",
        "            plt.show()\n",
        "        else:\n",
        "            ax = axes[ii]\n",
        "            n, bins, patches = ax.hist(weights, histtype='stepfilled', \n",
        "                                    cumulative=False, bins=nbins, density=True)\n",
        "            \n",
        "            ax.plot(x, weights_gauss_fitted, label='gauss')\n",
        "            ax.plot(x, weights_laplace_fitted, label='laplace')\n",
        "\n",
        "            ax.set_title(name + \" - \" + shape_str + (\n",
        "                ' - sparsity: {:.0%}'.format(sparsity) if REMOVE_ZEROS else ''))\n",
        "            pass\n",
        "        pass\n",
        "    if GRID_PICTURES:\n",
        "        plt.show()\n",
        "    pass"
      ],
      "execution_count": 32,
      "outputs": [
        {
          "output_type": "display_data",
          "data": {
            "image/png": "[encoded data removed]",
            "text/plain": [
              "<Figure size 1440x1440 with 14 Axes>"
            ]
          },
          "metadata": {
            "tags": [],
            "needs_background": "light"
          }
        }
      ]
    },
    {
      "cell_type": "markdown",
      "metadata": {
        "id": "BLRN69RUPDJr"
      },
      "source": [
        "### Sensitivity test"
      ]
    },
    {
      "cell_type": "code",
      "metadata": {
        "colab": {
          "base_uri": "https://localhost:8080/"
        },
        "id": "EkipYV2yPWWH",
        "outputId": "847a2230-511b-49c1-b8d5-87bd03555416"
      },
      "source": [
        "if RUN_MAIN_SIREN_APP_SENSITIVITY:\n",
        "    !python siren_main_app.py \\\n",
        "        --logging_root '/content/drive/MyDrive/Siren Deep Learning Analyses/results/cameramen' \\\n",
        "        --experiment_name 'train' \\\n",
        "        --sidelength 256 \\\n",
        "        --num_epochs 20 \\\n",
        "        --n_hf {N_HF}  \\\n",
        "        --n_hl {N_HL} \\\n",
        "        --verbose 0 \\\n",
        "        --sense element \\\n",
        "        --exp-load-weights-from \"{STATE_DICT_MODEL_FILE}\"\n",
        "    pass"
      ],
      "execution_count": 33,
      "outputs": [
        {
          "output_type": "stream",
          "text": [
            "Could not find the logger configuration file (/content/drive/MyDrive/Siren Deep Learning Analyses/results/cameramen/logging.conf) - using default logger configuration\n",
            "Log file for this run: /content/drive/MyDrive/Siren Deep Learning Analyses/results/cameramen/___2020.11.28-163804/___2020.11.28-163804.log\n",
            "Random seed: 0\n",
            "\n",
            "--------------------------------------------------------\n",
            "Logging to TensorBoard - remember to execute the server:\n",
            "> tensorboard --logdir='./logs'\n",
            "\n",
            "=> created a SirenCompressingModel model with the cameramen dataset\n",
            "=> loading checkpoint /content/drive/MyDrive/Siren Deep Learning Analyses/results/cameramen/___2020.11.27-162900/_checkpoint.pth.tar\n",
            "=> Checkpoint contents:\n",
            "+----------------------+-------------+-----------------------+\n",
            "| Key                  | Type        | Value                 |\n",
            "|----------------------+-------------+-----------------------|\n",
            "| arch                 | str         | SirenCompressingModel |\n",
            "| compression_sched    | dict        |                       |\n",
            "| dataset              | str         | cameramen             |\n",
            "| epoch                | int         | 164500                |\n",
            "| extras               | dict        |                       |\n",
            "| is_parallel          | bool        | True                  |\n",
            "| optimizer_state_dict | dict        |                       |\n",
            "| optimizer_type       | type        | Adam                  |\n",
            "| state_dict           | OrderedDict |                       |\n",
            "+----------------------+-------------+-----------------------+\n",
            "\n",
            "=> Checkpoint['extras'] contents:\n",
            "+-------------+--------+------------------+\n",
            "| Key         | Type   |            Value |\n",
            "|-------------+--------+------------------|\n",
            "| best_epoch  | int    | 164014           |\n",
            "| best_mse    | float  |      3.49528e-05 |\n",
            "| current_mse | float  |      3.54636e-05 |\n",
            "+-------------+--------+------------------+\n",
            "\n",
            "Loaded compression schedule from checkpoint (epoch 164500)\n",
            "=> loaded 'state_dict' from checkpoint '/content/drive/MyDrive/Siren Deep Learning Analyses/results/cameramen/___2020.11.27-162900/_checkpoint.pth.tar'\n",
            "Dataset sizes:\n",
            "\ttest=1\n",
            "Running sensitivity tests\n",
            "Testing sensitivity of net.0.linear.weight [0.0% sparsity]\n",
            "--- test ---------------------\n",
            "Testing sensitivity of net.0.linear.weight [5.0% sparsity]\n",
            "--- test ---------------------\n",
            "Testing sensitivity of net.0.linear.weight [10.0% sparsity]\n",
            "--- test ---------------------\n",
            "Testing sensitivity of net.0.linear.weight [15.0% sparsity]\n",
            "--- test ---------------------\n",
            "Testing sensitivity of net.0.linear.weight [20.0% sparsity]\n",
            "--- test ---------------------\n",
            "Testing sensitivity of net.0.linear.weight [25.0% sparsity]\n",
            "--- test ---------------------\n",
            "Testing sensitivity of net.0.linear.weight [30.0% sparsity]\n",
            "--- test ---------------------\n",
            "Testing sensitivity of net.0.linear.weight [35.0% sparsity]\n",
            "--- test ---------------------\n",
            "Testing sensitivity of net.0.linear.weight [40.0% sparsity]\n",
            "--- test ---------------------\n",
            "Testing sensitivity of net.0.linear.weight [45.0% sparsity]\n",
            "--- test ---------------------\n",
            "Testing sensitivity of net.0.linear.weight [50.0% sparsity]\n",
            "--- test ---------------------\n",
            "Testing sensitivity of net.0.linear.weight [55.0% sparsity]\n",
            "--- test ---------------------\n",
            "Testing sensitivity of net.0.linear.weight [60.0% sparsity]\n",
            "--- test ---------------------\n",
            "Testing sensitivity of net.0.linear.weight [65.0% sparsity]\n",
            "--- test ---------------------\n",
            "Testing sensitivity of net.0.linear.weight [70.0% sparsity]\n",
            "--- test ---------------------\n",
            "Testing sensitivity of net.0.linear.weight [75.0% sparsity]\n",
            "--- test ---------------------\n",
            "Testing sensitivity of net.0.linear.weight [80.0% sparsity]\n",
            "--- test ---------------------\n",
            "Testing sensitivity of net.0.linear.weight [85.0% sparsity]\n",
            "--- test ---------------------\n",
            "Testing sensitivity of net.0.linear.weight [90.0% sparsity]\n",
            "--- test ---------------------\n",
            "Testing sensitivity of net.1.linear.weight [0.0% sparsity]\n",
            "--- test ---------------------\n",
            "Testing sensitivity of net.1.linear.weight [5.0% sparsity]\n",
            "--- test ---------------------\n",
            "Testing sensitivity of net.1.linear.weight [10.0% sparsity]\n",
            "--- test ---------------------\n",
            "Testing sensitivity of net.1.linear.weight [15.0% sparsity]\n",
            "--- test ---------------------\n",
            "Testing sensitivity of net.1.linear.weight [20.0% sparsity]\n",
            "--- test ---------------------\n",
            "Testing sensitivity of net.1.linear.weight [25.0% sparsity]\n",
            "--- test ---------------------\n",
            "Testing sensitivity of net.1.linear.weight [30.0% sparsity]\n",
            "--- test ---------------------\n",
            "Testing sensitivity of net.1.linear.weight [35.0% sparsity]\n",
            "--- test ---------------------\n",
            "Testing sensitivity of net.1.linear.weight [40.0% sparsity]\n",
            "--- test ---------------------\n",
            "Testing sensitivity of net.1.linear.weight [45.0% sparsity]\n",
            "--- test ---------------------\n",
            "Testing sensitivity of net.1.linear.weight [50.0% sparsity]\n",
            "--- test ---------------------\n",
            "Testing sensitivity of net.1.linear.weight [55.0% sparsity]\n",
            "--- test ---------------------\n",
            "Testing sensitivity of net.1.linear.weight [60.0% sparsity]\n",
            "--- test ---------------------\n",
            "Testing sensitivity of net.1.linear.weight [65.0% sparsity]\n",
            "--- test ---------------------\n",
            "Testing sensitivity of net.1.linear.weight [70.0% sparsity]\n",
            "--- test ---------------------\n",
            "Testing sensitivity of net.1.linear.weight [75.0% sparsity]\n",
            "--- test ---------------------\n",
            "Testing sensitivity of net.1.linear.weight [80.0% sparsity]\n",
            "--- test ---------------------\n",
            "Testing sensitivity of net.1.linear.weight [85.0% sparsity]\n",
            "--- test ---------------------\n",
            "Testing sensitivity of net.1.linear.weight [90.0% sparsity]\n",
            "--- test ---------------------\n",
            "Testing sensitivity of net.2.linear.weight [0.0% sparsity]\n",
            "--- test ---------------------\n",
            "Testing sensitivity of net.2.linear.weight [5.0% sparsity]\n",
            "--- test ---------------------\n",
            "Testing sensitivity of net.2.linear.weight [10.0% sparsity]\n",
            "--- test ---------------------\n",
            "Testing sensitivity of net.2.linear.weight [15.0% sparsity]\n",
            "--- test ---------------------\n",
            "Testing sensitivity of net.2.linear.weight [20.0% sparsity]\n",
            "--- test ---------------------\n",
            "Testing sensitivity of net.2.linear.weight [25.0% sparsity]\n",
            "--- test ---------------------\n",
            "Testing sensitivity of net.2.linear.weight [30.0% sparsity]\n",
            "--- test ---------------------\n",
            "Testing sensitivity of net.2.linear.weight [35.0% sparsity]\n",
            "--- test ---------------------\n",
            "Testing sensitivity of net.2.linear.weight [40.0% sparsity]\n",
            "--- test ---------------------\n",
            "Testing sensitivity of net.2.linear.weight [45.0% sparsity]\n",
            "--- test ---------------------\n",
            "Testing sensitivity of net.2.linear.weight [50.0% sparsity]\n",
            "--- test ---------------------\n",
            "Testing sensitivity of net.2.linear.weight [55.0% sparsity]\n",
            "--- test ---------------------\n",
            "Testing sensitivity of net.2.linear.weight [60.0% sparsity]\n",
            "--- test ---------------------\n",
            "Testing sensitivity of net.2.linear.weight [65.0% sparsity]\n",
            "--- test ---------------------\n",
            "Testing sensitivity of net.2.linear.weight [70.0% sparsity]\n",
            "--- test ---------------------\n",
            "Testing sensitivity of net.2.linear.weight [75.0% sparsity]\n",
            "--- test ---------------------\n",
            "Testing sensitivity of net.2.linear.weight [80.0% sparsity]\n",
            "--- test ---------------------\n",
            "Testing sensitivity of net.2.linear.weight [85.0% sparsity]\n",
            "--- test ---------------------\n",
            "Testing sensitivity of net.2.linear.weight [90.0% sparsity]\n",
            "--- test ---------------------\n",
            "Testing sensitivity of net.3.linear.weight [0.0% sparsity]\n",
            "--- test ---------------------\n",
            "Testing sensitivity of net.3.linear.weight [5.0% sparsity]\n",
            "--- test ---------------------\n",
            "Testing sensitivity of net.3.linear.weight [10.0% sparsity]\n",
            "--- test ---------------------\n",
            "Testing sensitivity of net.3.linear.weight [15.0% sparsity]\n",
            "--- test ---------------------\n",
            "Testing sensitivity of net.3.linear.weight [20.0% sparsity]\n",
            "--- test ---------------------\n",
            "Testing sensitivity of net.3.linear.weight [25.0% sparsity]\n",
            "--- test ---------------------\n",
            "Testing sensitivity of net.3.linear.weight [30.0% sparsity]\n",
            "--- test ---------------------\n",
            "Testing sensitivity of net.3.linear.weight [35.0% sparsity]\n",
            "--- test ---------------------\n",
            "Testing sensitivity of net.3.linear.weight [40.0% sparsity]\n",
            "--- test ---------------------\n",
            "Testing sensitivity of net.3.linear.weight [45.0% sparsity]\n",
            "--- test ---------------------\n",
            "Testing sensitivity of net.3.linear.weight [50.0% sparsity]\n",
            "--- test ---------------------\n",
            "Testing sensitivity of net.3.linear.weight [55.0% sparsity]\n",
            "--- test ---------------------\n",
            "Testing sensitivity of net.3.linear.weight [60.0% sparsity]\n",
            "--- test ---------------------\n",
            "Testing sensitivity of net.3.linear.weight [65.0% sparsity]\n",
            "--- test ---------------------\n",
            "Testing sensitivity of net.3.linear.weight [70.0% sparsity]\n",
            "--- test ---------------------\n",
            "Testing sensitivity of net.3.linear.weight [75.0% sparsity]\n",
            "--- test ---------------------\n",
            "Testing sensitivity of net.3.linear.weight [80.0% sparsity]\n",
            "--- test ---------------------\n",
            "Testing sensitivity of net.3.linear.weight [85.0% sparsity]\n",
            "--- test ---------------------\n",
            "Testing sensitivity of net.3.linear.weight [90.0% sparsity]\n",
            "--- test ---------------------\n",
            "Testing sensitivity of net.4.linear.weight [0.0% sparsity]\n",
            "--- test ---------------------\n",
            "Testing sensitivity of net.4.linear.weight [5.0% sparsity]\n",
            "--- test ---------------------\n",
            "Testing sensitivity of net.4.linear.weight [10.0% sparsity]\n",
            "--- test ---------------------\n",
            "Testing sensitivity of net.4.linear.weight [15.0% sparsity]\n",
            "--- test ---------------------\n",
            "Testing sensitivity of net.4.linear.weight [20.0% sparsity]\n",
            "--- test ---------------------\n",
            "Testing sensitivity of net.4.linear.weight [25.0% sparsity]\n",
            "--- test ---------------------\n",
            "Testing sensitivity of net.4.linear.weight [30.0% sparsity]\n",
            "--- test ---------------------\n",
            "Testing sensitivity of net.4.linear.weight [35.0% sparsity]\n",
            "--- test ---------------------\n",
            "Testing sensitivity of net.4.linear.weight [40.0% sparsity]\n",
            "--- test ---------------------\n",
            "Testing sensitivity of net.4.linear.weight [45.0% sparsity]\n",
            "--- test ---------------------\n",
            "Testing sensitivity of net.4.linear.weight [50.0% sparsity]\n",
            "--- test ---------------------\n",
            "Testing sensitivity of net.4.linear.weight [55.0% sparsity]\n",
            "--- test ---------------------\n",
            "Testing sensitivity of net.4.linear.weight [60.0% sparsity]\n",
            "--- test ---------------------\n",
            "Testing sensitivity of net.4.linear.weight [65.0% sparsity]\n",
            "--- test ---------------------\n",
            "Testing sensitivity of net.4.linear.weight [70.0% sparsity]\n",
            "--- test ---------------------\n",
            "Testing sensitivity of net.4.linear.weight [75.0% sparsity]\n",
            "--- test ---------------------\n",
            "Testing sensitivity of net.4.linear.weight [80.0% sparsity]\n",
            "--- test ---------------------\n",
            "Testing sensitivity of net.4.linear.weight [85.0% sparsity]\n",
            "--- test ---------------------\n",
            "Testing sensitivity of net.4.linear.weight [90.0% sparsity]\n",
            "--- test ---------------------\n",
            "Testing sensitivity of net.5.linear.weight [0.0% sparsity]\n",
            "--- test ---------------------\n",
            "Testing sensitivity of net.5.linear.weight [5.0% sparsity]\n",
            "--- test ---------------------\n",
            "Testing sensitivity of net.5.linear.weight [10.0% sparsity]\n",
            "--- test ---------------------\n",
            "Testing sensitivity of net.5.linear.weight [15.0% sparsity]\n",
            "--- test ---------------------\n",
            "Testing sensitivity of net.5.linear.weight [20.0% sparsity]\n",
            "--- test ---------------------\n",
            "Testing sensitivity of net.5.linear.weight [25.0% sparsity]\n",
            "--- test ---------------------\n",
            "Testing sensitivity of net.5.linear.weight [30.0% sparsity]\n",
            "--- test ---------------------\n",
            "Testing sensitivity of net.5.linear.weight [35.0% sparsity]\n",
            "--- test ---------------------\n",
            "Testing sensitivity of net.5.linear.weight [40.0% sparsity]\n",
            "--- test ---------------------\n",
            "Testing sensitivity of net.5.linear.weight [45.0% sparsity]\n",
            "--- test ---------------------\n",
            "Testing sensitivity of net.5.linear.weight [50.0% sparsity]\n",
            "--- test ---------------------\n",
            "Testing sensitivity of net.5.linear.weight [55.0% sparsity]\n",
            "--- test ---------------------\n",
            "Testing sensitivity of net.5.linear.weight [60.0% sparsity]\n",
            "--- test ---------------------\n",
            "Testing sensitivity of net.5.linear.weight [65.0% sparsity]\n",
            "--- test ---------------------\n",
            "Testing sensitivity of net.5.linear.weight [70.0% sparsity]\n",
            "--- test ---------------------\n",
            "Testing sensitivity of net.5.linear.weight [75.0% sparsity]\n",
            "--- test ---------------------\n",
            "Testing sensitivity of net.5.linear.weight [80.0% sparsity]\n",
            "--- test ---------------------\n",
            "Testing sensitivity of net.5.linear.weight [85.0% sparsity]\n",
            "--- test ---------------------\n",
            "Testing sensitivity of net.5.linear.weight [90.0% sparsity]\n",
            "--- test ---------------------\n",
            "Testing sensitivity of net.6.weight [0.0% sparsity]\n",
            "--- test ---------------------\n",
            "Testing sensitivity of net.6.weight [5.0% sparsity]\n",
            "--- test ---------------------\n",
            "Testing sensitivity of net.6.weight [10.0% sparsity]\n",
            "--- test ---------------------\n",
            "Testing sensitivity of net.6.weight [15.0% sparsity]\n",
            "--- test ---------------------\n",
            "Testing sensitivity of net.6.weight [20.0% sparsity]\n",
            "--- test ---------------------\n",
            "Testing sensitivity of net.6.weight [25.0% sparsity]\n",
            "--- test ---------------------\n",
            "Testing sensitivity of net.6.weight [30.0% sparsity]\n",
            "--- test ---------------------\n",
            "Testing sensitivity of net.6.weight [35.0% sparsity]\n",
            "--- test ---------------------\n",
            "Testing sensitivity of net.6.weight [40.0% sparsity]\n",
            "--- test ---------------------\n",
            "Testing sensitivity of net.6.weight [45.0% sparsity]\n",
            "--- test ---------------------\n",
            "Testing sensitivity of net.6.weight [50.0% sparsity]\n",
            "--- test ---------------------\n",
            "Testing sensitivity of net.6.weight [55.0% sparsity]\n",
            "--- test ---------------------\n",
            "Testing sensitivity of net.6.weight [60.0% sparsity]\n",
            "--- test ---------------------\n",
            "Testing sensitivity of net.6.weight [65.0% sparsity]\n",
            "--- test ---------------------\n",
            "Testing sensitivity of net.6.weight [70.0% sparsity]\n",
            "--- test ---------------------\n",
            "Testing sensitivity of net.6.weight [75.0% sparsity]\n",
            "--- test ---------------------\n",
            "Testing sensitivity of net.6.weight [80.0% sparsity]\n",
            "--- test ---------------------\n",
            "Testing sensitivity of net.6.weight [85.0% sparsity]\n",
            "--- test ---------------------\n",
            "Testing sensitivity of net.6.weight [90.0% sparsity]\n",
            "--- test ---------------------\n",
            "Generating sensitivity graph\n",
            "\n",
            "Log file for this run: /content/drive/MyDrive/Siren Deep Learning Analyses/results/cameramen/___2020.11.28-163804/___2020.11.28-163804.log\n"
          ],
          "name": "stdout"
        }
      ]
    },
    {
      "cell_type": "code",
      "metadata": {
        "colab": {
          "base_uri": "https://localhost:8080/",
          "height": 204
        },
        "id": "IKnvO-gZqG9_",
        "outputId": "2ec04315-42a3-4c6f-d583-d681fb62739d"
      },
      "source": [
        "if RUN_MAIN_SIREN_APP_SENSITIVITY:\n",
        "    import ipywidgets as widgets\n",
        "    from ipywidgets import interactive, interact, Layout\n",
        "    df = pd.read_csv('/content/drive/MyDrive/Siren Deep Learning Analyses/results/cameramen/___2020.11.28-160916/sensitivity.csv')\n",
        "    df['sparsity'] = round(df['sparsity'], 2)\n",
        "    display(df.head(5))\n"
      ],
      "execution_count": 34,
      "outputs": [
        {
          "output_type": "display_data",
          "data": {
            "text/html": [
              "<div>\n",
              "<style scoped>\n",
              "    .dataframe tbody tr th:only-of-type {\n",
              "        vertical-align: middle;\n",
              "    }\n",
              "\n",
              "    .dataframe tbody tr th {\n",
              "        vertical-align: top;\n",
              "    }\n",
              "\n",
              "    .dataframe thead th {\n",
              "        text-align: right;\n",
              "    }\n",
              "</style>\n",
              "<table border=\"1\" class=\"dataframe\">\n",
              "  <thead>\n",
              "    <tr style=\"text-align: right;\">\n",
              "      <th></th>\n",
              "      <th>parameter</th>\n",
              "      <th>sparsity</th>\n",
              "      <th>loss</th>\n",
              "      <th>psnr_score</th>\n",
              "      <th>ssim_score</th>\n",
              "    </tr>\n",
              "  </thead>\n",
              "  <tbody>\n",
              "    <tr>\n",
              "      <th>0</th>\n",
              "      <td>net.0.linear.weight</td>\n",
              "      <td>0.00</td>\n",
              "      <td>0.000035</td>\n",
              "      <td>50.524716</td>\n",
              "      <td>0.995707</td>\n",
              "    </tr>\n",
              "    <tr>\n",
              "      <th>1</th>\n",
              "      <td>net.0.linear.weight</td>\n",
              "      <td>0.05</td>\n",
              "      <td>0.005572</td>\n",
              "      <td>28.612460</td>\n",
              "      <td>0.832808</td>\n",
              "    </tr>\n",
              "    <tr>\n",
              "      <th>2</th>\n",
              "      <td>net.0.linear.weight</td>\n",
              "      <td>0.10</td>\n",
              "      <td>0.013554</td>\n",
              "      <td>24.761117</td>\n",
              "      <td>0.719703</td>\n",
              "    </tr>\n",
              "    <tr>\n",
              "      <th>3</th>\n",
              "      <td>net.0.linear.weight</td>\n",
              "      <td>0.15</td>\n",
              "      <td>0.083150</td>\n",
              "      <td>16.852326</td>\n",
              "      <td>0.444754</td>\n",
              "    </tr>\n",
              "    <tr>\n",
              "      <th>4</th>\n",
              "      <td>net.0.linear.weight</td>\n",
              "      <td>0.20</td>\n",
              "      <td>0.196652</td>\n",
              "      <td>13.095961</td>\n",
              "      <td>0.281120</td>\n",
              "    </tr>\n",
              "  </tbody>\n",
              "</table>\n",
              "</div>"
            ],
            "text/plain": [
              "             parameter  sparsity      loss  psnr_score  ssim_score\n",
              "0  net.0.linear.weight      0.00  0.000035   50.524716    0.995707\n",
              "1  net.0.linear.weight      0.05  0.005572   28.612460    0.832808\n",
              "2  net.0.linear.weight      0.10  0.013554   24.761117    0.719703\n",
              "3  net.0.linear.weight      0.15  0.083150   16.852326    0.444754\n",
              "4  net.0.linear.weight      0.20  0.196652   13.095961    0.281120"
            ]
          },
          "metadata": {
            "tags": []
          }
        }
      ]
    },
    {
      "cell_type": "code",
      "metadata": {
        "colab": {
          "base_uri": "https://localhost:8080/",
          "height": 928,
          "referenced_widgets": [
            "c1fa01aac6984f1bbb7eff3688e34fa2",
            "45a7a2de711340c8915e0e6f16ca9bfe",
            "84bd729f6c634074be84d40d1d1d783f",
            "61f1cb30aece4c89aae4ef08584ebf3a",
            "4c8eb918c5554e89987e01b28754cade",
            "8e9ee064eca7478ebefa4871f5c70a9d",
            "25c9f91f710844cab2f8bb43137e2d09",
            "615549b516714a5c9a01e8a2ff462f61",
            "95f6fc9f713440ccaa3a6a25dde18237",
            "e018ecbe424745d4837a8c4b4989f7b6"
          ]
        },
        "id": "s3tDbrxKoE_M",
        "outputId": "65b21018-93e5-47a5-cd75-d35882033d72"
      },
      "source": [
        "if RUN_MAIN_SIREN_APP_SENSITIVITY:\n",
        "    from collections import OrderedDict\n",
        "\n",
        "    def get_param_names(df):\n",
        "        return list(set(df['parameter']))\n",
        "\n",
        "    def get_sensitivity_levels(df):\n",
        "        return list(set(df['sparsity']))\n",
        "\n",
        "    def df2sensitivities(df):\n",
        "        param_names = get_param_names(df)\n",
        "        sparsities = get_sensitivity_levels(df)\n",
        "\n",
        "        sensitivities = {}\n",
        "        for param_name in param_names:\n",
        "            sensitivities[param_name] = OrderedDict()\n",
        "            param_stats = df[(df.parameter == param_name)]\n",
        "            \n",
        "            for row in range(len(param_stats.index)):\n",
        "                s = param_stats.iloc[[row]].sparsity\n",
        "                loss = param_stats.iloc[[row]].loss\n",
        "                psnr_score = param_stats.iloc[[row]].psnr_score\n",
        "                ssim_score = param_stats.iloc[[row]].ssim_score\n",
        "                sensitivities[param_name][float(s)] = (float(loss), float(psnr_score), float(ssim_score))\n",
        "        return sensitivities \n",
        "\n",
        "    def view2(level, acc):\n",
        "        filtered = df[df.sparsity == level]\n",
        "        s = filtered.style.apply(highlight_min_max)\n",
        "        \n",
        "        param_names = filtered['parameter']\n",
        "        \n",
        "        # Plot the sensitivities\n",
        "        x = range(filtered[acc].shape[0])\n",
        "        y = filtered[acc].values.tolist()\n",
        "        fig = plt.figure(figsize=(20,10))\n",
        "        plt.plot(x, y, label=param_names, marker=\"o\", markersize=10, markerfacecolor=\"C1\")\n",
        "        plt.ylabel(str(acc))\n",
        "        plt.xlabel('parameter')\n",
        "        plt.xticks(rotation='vertical')\n",
        "        plt.xticks(x, param_names)\n",
        "        plt.title('Pruning Sensitivity per layer %d' % level) \n",
        "        #return s\n",
        "\n",
        "    def highlight_min_max(s):\n",
        "        \"\"\"Highlight the max and min values in the series\"\"\"\n",
        "        if s.name not in ['loss', 'psnr_score', 'ssim_score']:\n",
        "            return ['' for v in s] \n",
        "        \n",
        "        is_max = s == s.max()\n",
        "        maxes = ['background-color: green' if v else '' for v in is_max]\n",
        "        is_min = s == s.min()\n",
        "        mins = ['background-color: red' if v else '' for v in is_min]    \n",
        "        return [h1 if len(h1)>len(h2) else h2 for (h1,h2) in zip(maxes, mins)]\n",
        "\n",
        "    sparsities = np.sort(get_sensitivity_levels(df))\n",
        "    acc_radio = widgets.RadioButtons(options=['loss', 'psnr_score', 'ssim_score'], value='psnr_score', description='Scores:')\n",
        "    levels_dropdown = widgets.Dropdown(description='Sparsity:', options=sparsities)\n",
        "    interact(view2, level=levels_dropdown, acc=acc_radio);"
      ],
      "execution_count": 35,
      "outputs": [
        {
          "output_type": "display_data",
          "data": {
            "application/vnd.jupyter.widget-view+json": {
              "model_id": "c1fa01aac6984f1bbb7eff3688e34fa2",
              "version_minor": 0,
              "version_major": 2
            },
            "text/plain": [
              "interactive(children=(Dropdown(description='Sparsity:', options=(0.0, 0.05, 0.1, 0.15, 0.2, 0.25, 0.3, 0.35, 0…"
            ]
          },
          "metadata": {
            "tags": []
          }
        }
      ]
    },
    {
      "cell_type": "code",
      "metadata": {
        "colab": {
          "base_uri": "https://localhost:8080/",
          "height": 913,
          "referenced_widgets": [
            "3be4ae02c3f948e49a81efb02dac54b1",
            "9e971e5a3859475db69094a02dd49d9b",
            "076ee3db9ab5418e9bb950d4733208b6",
            "370e623adc7a456a9d0145ac5c0385a0",
            "c94956e5d23d4473b1ad712bdc57dd83",
            "99e1ebd06c0d470586601aaa998b6eec",
            "4c9a8aff1ffe4959bb5e5a05d1776183",
            "2da769757eb0430baa29bc88b52e9389",
            "d24a9585975244a1b9c6117d74433936",
            "318958c279ad4b9982b159c400ed4f08"
          ]
        },
        "id": "74FIgak0q1cY",
        "outputId": "0c5f3f35-b679-4cef-961a-c5bf322bd063"
      },
      "source": [
        "if RUN_MAIN_SIREN_APP_SENSITIVITY:\n",
        "    # assign a different color to each parameter (otherwise, colors change on us as we make different selections)\n",
        "    param_names = sorted(df['parameter'].unique().tolist())\n",
        "    color_idx = np.linspace(0, 1, len(param_names))\n",
        "    colors = {}  \n",
        "    for i, pname in zip(color_idx, param_names):\n",
        "        colors[pname] = color= plt.get_cmap('tab20')(i)\n",
        "    plt.rcParams.update({'font.size': 18})\n",
        "\n",
        "    def view(weights='', acc=0):\n",
        "        sensitivities= None\n",
        "        if weights[0]=='All':\n",
        "            sensitivities = df2sensitivities(df)\n",
        "        else:\n",
        "            mask = False\n",
        "            mask = [(df.parameter == pname) for pname in weights]\n",
        "            mask = np.logical_or.reduce(mask)\n",
        "            sensitivities = df2sensitivities(df[mask])\n",
        "\n",
        "\n",
        "        # Plot the sensitivities\n",
        "        fig = plt.figure(figsize=(20,10))\n",
        "        for param_name, sensitivity in sensitivities.items():\n",
        "            sense = [values[acc] for sparsity, values in sensitivity.items()]\n",
        "            sparsities = [sparsity for sparsity, values in sensitivity.items()]\n",
        "            plt.plot(sparsities, sense, label=param_name, marker=\"o\", markersize=10, color=colors[param_name])\n",
        "        acc\n",
        "        labels_dict = {'loss': 0, 'psnr_score': 1, 'ssim_score': 2}\n",
        "        reverse_labels_dict = dict(map(lambda item: (item[1],item[0]), labels_dict.items()))\n",
        "        plt.ylabel(f'{reverse_labels_dict[acc]}')\n",
        "        plt.xlabel('sparsity')\n",
        "        plt.title('Pruning Sensitivity')\n",
        "        #plt.legend(loc='lower center', ncol=2, mode=\"expand\", borderaxespad=0.);\n",
        "        plt.legend(loc='upper center', bbox_to_anchor=(0.5, -0.15), fancybox=True, shadow=True, ncol=3)\n",
        "\n",
        "    items = ['All']+param_names\n",
        "    w = widgets.SelectMultiple(options=items, value=[items[1]], layout=Layout(width='50%'), description='Weights:')\n",
        "    acc_widget = widgets.RadioButtons(options={'loss': 0, 'psnr_score': 1, 'ssim_score': 2}, value=0, description='Scores:')\n",
        "    # interactive(view, acc=acc_widget, weights=w);\n",
        "    interact(view, acc=acc_widget, weights=w);"
      ],
      "execution_count": 39,
      "outputs": [
        {
          "output_type": "display_data",
          "data": {
            "application/vnd.jupyter.widget-view+json": {
              "model_id": "3be4ae02c3f948e49a81efb02dac54b1",
              "version_minor": 0,
              "version_major": 2
            },
            "text/plain": [
              "interactive(children=(SelectMultiple(description='Weights:', index=(1,), layout=Layout(width='50%'), options=(…"
            ]
          },
          "metadata": {
            "tags": []
          }
        }
      ]
    },
    {
      "cell_type": "code",
      "metadata": {
        "colab": {
          "base_uri": "https://localhost:8080/",
          "height": 670,
          "referenced_widgets": [
            "0dda06f0102c42f680a552872f71caf3",
            "be9160a69d2846e2a5434c406c7545a7",
            "b13ed49f6bdb439aac06c6a8e1a287ed",
            "ae8aa193fc3a405a953412540d2e8274",
            "12175db3a21f422f883ec557e32a1790",
            "4f9757daa62d4018a3261eee223edd6d",
            "d20eb768b574484bb59f57a4938b009c"
          ]
        },
        "id": "It-fYrQJqLZx",
        "outputId": "1564477b-67ee-43b8-ae00-272e3de8c5ad"
      },
      "source": [
        "if RUN_MAIN_SIREN_APP_SENSITIVITY:\n",
        "    def view_sparsity(param_name):\n",
        "        display(df[df['parameter']==param_name])\n",
        "\n",
        "    param_names = sorted(df['parameter'].unique().tolist())\n",
        "    param_dropdown = widgets.Dropdown(description='Parameter:', options=param_names)\n",
        "    interact(view_sparsity, param_name=param_dropdown);"
      ],
      "execution_count": 37,
      "outputs": [
        {
          "output_type": "display_data",
          "data": {
            "application/vnd.jupyter.widget-view+json": {
              "model_id": "0dda06f0102c42f680a552872f71caf3",
              "version_minor": 0,
              "version_major": 2
            },
            "text/plain": [
              "interactive(children=(Dropdown(description='Parameter:', options=('net.0.linear.weight', 'net.1.linear.weight'…"
            ]
          },
          "metadata": {
            "tags": []
          }
        }
      ]
    },
    {
      "cell_type": "markdown",
      "metadata": {
        "id": "T1qPqRidf5lA"
      },
      "source": [
        "## References\n",
        "---\n",
        "\n",
        "<div id=\"Gray-et-al-2015\"></div> **Andrew Lavin and Scott Gray**. \n",
        "    [*Fast Algorithms for Convolutional Neural Networks*](https://arxiv.org/pdf/1509.09308.pdf),\n",
        "    2015.\n",
        "<div id=\"Hao-et-al-2016\"></div> **Hao Li, Asim Kadav, Igor Durdanovic, Hanan Samet, and Hans Peter Graf**. \n",
        "    [*Pruning filters for efficient convnets*](https://arxiv.org/abs/1608.08710),\n",
        "    2016."
      ]
    }
  ]
}