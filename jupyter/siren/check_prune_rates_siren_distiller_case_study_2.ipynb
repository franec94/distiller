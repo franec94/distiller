{
  "nbformat": 4,
  "nbformat_minor": 0,
  "metadata": {
    "colab": {
      "name": "check-prune-rates-siren-distiller-case-study-2.ipynb",
      "provenance": [],
      "collapsed_sections": []
    },
    "kernelspec": {
      "name": "python3",
      "display_name": "Python 3"
    }
  },
  "cells": [
    {
      "cell_type": "markdown",
      "metadata": {
        "id": "ItV87O2MoTnE"
      },
      "source": [
        "# Siren Case Study: Beginning (part2)\r\n",
        "---\r\n",
        "## Searching Rigth values for target model's hyper-params"
      ]
    },
    {
      "cell_type": "code",
      "metadata": {
        "id": "Qa9vo54TSJLe"
      },
      "source": [
        "RUN_COLAB_CODE = True #@param {type:\"boolean\"}\n",
        "INSTALL_SOME_LIBS = True #@param {type:\"boolean\"}"
      ],
      "execution_count": null,
      "outputs": []
    },
    {
      "cell_type": "code",
      "metadata": {
        "colab": {
          "base_uri": "https://localhost:8080/"
        },
        "id": "4qbRQDZ_ST6B",
        "outputId": "d4edac68-b500-4344-84cd-989da50d3c1e"
      },
      "source": [
        "# Installing third party dependencies\n",
        "if INSTALL_SOME_LIBS:\n",
        "    print(\"Installing required libraries...\")\n",
        "\n",
        "    old_requirements = '/content/tmp_requirements.txt'\n",
        "    !pip freeze > {old_requirements}\n",
        "    dependencies_list = \"stats,pretrainedmodels,torchnet,xlsxwriter,gitpython,python-git,cmapy,sk-video,pytorch-model-summary,ConfigArgParse,tabulate,chart_studio,dash,dash_bootstrap_components\".split(\",\")\n",
        "\n",
        "    with open(old_requirements) as f:\n",
        "        old_requirements_list = f.read().split(\"\\n\")\n",
        "        for a_req in dependencies_list:\n",
        "            found_req = False\n",
        "            for old_req in old_requirements_list:\n",
        "                if old_req.startswith(a_req):\n",
        "                    print(f\"{a_req} already installed!\")\n",
        "                    found_req = True\n",
        "                    break\n",
        "            if found_req is False:\n",
        "                !pip install {a_req} -q\n",
        "        pass\n",
        "    !rm -f {old_requirements}\n",
        "    pass"
      ],
      "execution_count": null,
      "outputs": [
        {
          "output_type": "stream",
          "text": [
            "Installing required libraries...\n",
            "stats already installed!\n",
            "\u001b[K     |████████████████████████████████| 61kB 2.7MB/s \n",
            "\u001b[?25h  Building wheel for pretrainedmodels (setup.py) ... \u001b[?25l\u001b[?25hdone\n",
            "\u001b[K     |████████████████████████████████| 686kB 6.7MB/s \n",
            "\u001b[K     |████████████████████████████████| 204kB 20.5MB/s \n",
            "\u001b[?25h  Building wheel for torchnet (setup.py) ... \u001b[?25l\u001b[?25hdone\n",
            "  Building wheel for visdom (setup.py) ... \u001b[?25l\u001b[?25hdone\n",
            "  Building wheel for torchfile (setup.py) ... \u001b[?25l\u001b[?25hdone\n",
            "\u001b[K     |████████████████████████████████| 153kB 3.9MB/s \n",
            "\u001b[K     |████████████████████████████████| 163kB 4.3MB/s \n",
            "\u001b[K     |████████████████████████████████| 71kB 4.1MB/s \n",
            "\u001b[?25h  Building wheel for cmapy (setup.py) ... \u001b[?25l\u001b[?25hdone\n",
            "\u001b[K     |████████████████████████████████| 2.3MB 5.0MB/s \n",
            "\u001b[K     |████████████████████████████████| 51kB 2.6MB/s \n",
            "\u001b[?25h  Building wheel for ConfigArgParse (setup.py) ... \u001b[?25l\u001b[?25hdone\n",
            "tabulate already installed!\n",
            "\u001b[K     |████████████████████████████████| 71kB 3.4MB/s \n",
            "\u001b[K     |████████████████████████████████| 81kB 3.4MB/s \n",
            "\u001b[K     |████████████████████████████████| 1.0MB 9.1MB/s \n",
            "\u001b[K     |████████████████████████████████| 3.5MB 40.5MB/s \n",
            "\u001b[K     |████████████████████████████████| 194kB 36.7MB/s \n",
            "\u001b[K     |████████████████████████████████| 1.8MB 42.1MB/s \n",
            "\u001b[K     |████████████████████████████████| 358kB 41.7MB/s \n",
            "\u001b[?25h  Building wheel for dash (setup.py) ... \u001b[?25l\u001b[?25hdone\n",
            "  Building wheel for dash-renderer (setup.py) ... \u001b[?25l\u001b[?25hdone\n",
            "  Building wheel for dash-core-components (setup.py) ... \u001b[?25l\u001b[?25hdone\n",
            "  Building wheel for dash-html-components (setup.py) ... \u001b[?25l\u001b[?25hdone\n",
            "  Building wheel for dash-table (setup.py) ... \u001b[?25l\u001b[?25hdone\n",
            "\u001b[K     |████████████████████████████████| 194kB 5.7MB/s \n",
            "\u001b[?25h"
          ],
          "name": "stdout"
        }
      ]
    },
    {
      "cell_type": "code",
      "metadata": {
        "id": "kSDhGdTMRsY5"
      },
      "source": [
        "%matplotlib inline\n",
        "from __future__ import print_function\n",
        "from __future__ import division\n",
        "\n",
        "if RUN_COLAB_CODE:\n",
        "\n",
        "\n",
        "    # --------------------------------------------- #\n",
        "    # Standard Library, plus some Third Party Libraries\n",
        "    # --------------------------------------------- #\n",
        "\n",
        "    DASH_TEMPLATES_LIST = [\"plotly\", \"plotly_white\", \"plotly_dark\", \"ggplot2\", \"seaborn\", \"simple_white\", \"none\"]\n",
        "\n",
        "    from PIL import Image\n",
        "    from functools import partial\n",
        "    from pprint import pprint\n",
        "    from tqdm import tqdm\n",
        "    from typing import Tuple, Union\n",
        "\n",
        "\n",
        "    import configargparse\n",
        "    import copy\n",
        "    import collections\n",
        "    import cProfile\n",
        "    import datetime\n",
        "    import functools\n",
        "    import itertools\n",
        "    import h5py\n",
        "    import logging\n",
        "    import math\n",
        "    import os\n",
        "    import operator\n",
        "    import pickle\n",
        "    import random\n",
        "    import shutil\n",
        "    import sys\n",
        "    import re\n",
        "    import tabulate \n",
        "    import time\n",
        "    # import visdom\n",
        "\n",
        "\n",
        "    from collections import OrderedDict\n",
        "    import matplotlib\n",
        "    import matplotlib.pyplot as plt\n",
        "    import numpy as np\n",
        "\n",
        "    # --------------------------------------------- #\n",
        "    # Data Science and Machine Learning Libraries\n",
        "    # --------------------------------------------- #\n",
        "    import matplotlib\n",
        "    import matplotlib.pyplot as plt\n",
        "    matplotlib.style.use('ggplot')\n",
        "    import seaborn as sns\n",
        "\n",
        "    import numpy as np\n",
        "    import pandas as pd\n",
        "    import sklearn\n",
        "\n",
        "    from sklearn.model_selection import ParameterGrid\n",
        "    from sklearn.model_selection import train_test_split\n",
        "\n",
        "    # --------------------------------------------- #\n",
        "    # Torch\n",
        "    # --------------------------------------------- #\n",
        "    import torch\n",
        "    try:\n",
        "        import torch\n",
        "        import torch.nn as nn\n",
        "        import torch.nn.functional as F\n",
        "        import torch.optim as optim\n",
        "        from torch.utils.data import DataLoader, Dataset\n",
        "        # import torch.quantization\n",
        "        # import torch.nn.utils.prune as prune\n",
        "\n",
        "        from torch import nn, optim\n",
        "\n",
        "    except Exception as err:\n",
        "        print(err)\n",
        "        print(\"torch not available!\")\n",
        "        pass\n",
        "\n",
        "    from numpy import linalg as LA\n",
        "    from scipy.stats import rankdata\n",
        "    from collections import OrderedDict\n",
        "    from torchvision import datasets, transforms\n",
        "    from torch.utils.data.sampler import SubsetRandomSampler\n",
        "\n",
        "    # --------------------------------------------- #\n",
        "    # Import: torch_pruning\n",
        "    # --------------------------------------------- #\n",
        "    # import torch_pruning as tp\n",
        "\n",
        "\n",
        "    # --------------------------------------------- #\n",
        "    # Import: TorchVision\n",
        "    # --------------------------------------------- #\n",
        "    try:\n",
        "        import torchvision\n",
        "        from torchvision import datasets\n",
        "        from torchvision import transforms\n",
        "        from torchvision.transforms import Resize, Compose, ToTensor, CenterCrop, Normalize\n",
        "        from torchvision.utils import save_image\n",
        "    except:\n",
        "        print(\"torchvision library not available!\")\n",
        "        pass\n",
        "\n",
        "    # Plotly imports.\n",
        "    # ----------------------------------------------- #\n",
        "    import chart_studio.plotly as py\n",
        "    import plotly.figure_factory as ff\n",
        "    import plotly.express as px\n",
        "\n",
        "    # --------------------------------------------- #\n",
        "    # Import: skimage\n",
        "    # --------------------------------------------- #\n",
        "    try:\n",
        "        import skimage\n",
        "        import skimage.metrics as skmetrics\n",
        "        from skimage.metrics import peak_signal_noise_ratio as psnr\n",
        "        from skimage.metrics import structural_similarity as ssim\n",
        "        from skimage.metrics import mean_squared_error\n",
        "    except:\n",
        "        print(\"skimage library not available!\")\n",
        "        pass"
      ],
      "execution_count": null,
      "outputs": []
    },
    {
      "cell_type": "code",
      "metadata": {
        "id": "AwFfucYaSXeR"
      },
      "source": [
        "n_hf = 64\n",
        "n_hl = 5\n",
        "w, h = 256, 256\n",
        "baseline_size = (n_hf * 2 + n_hf) + (n_hf * n_hf * n_hl + n_hf * n_hl) + (n_hf + 1)\n",
        "\n",
        "ranges_list = [np.arange(0.25, 0.65, 0.05) for _ in range(0, n_hl)]\n",
        "comb_ranges = itertools.product(*ranges_list)"
      ],
      "execution_count": null,
      "outputs": []
    },
    {
      "cell_type": "code",
      "metadata": {
        "id": "H45aVQRSMMaC"
      },
      "source": [
        "records = []\n",
        "for comb in comb_ranges:\n",
        "    comb_arr = np.array(comb)\n",
        "    res_tmp = comb_arr * (n_hf * n_hf)\n",
        "    res_tmp.round(0)\n",
        "    compress_size = (n_hf * 2 + n_hf) + (res_tmp.sum() +  n_hf * n_hl) + (n_hf + 1)\n",
        "    compress_size_p = compress_size / baseline_size * 100.0\n",
        "    a_record = list(comb)  + list(res_tmp) + [compress_size, compress_size_p]\n",
        "    records.append(a_record)\n",
        "    pass"
      ],
      "execution_count": null,
      "outputs": []
    },
    {
      "cell_type": "code",
      "metadata": {
        "colab": {
          "base_uri": "https://localhost:8080/"
        },
        "id": "AAKQzpp8OmuQ",
        "outputId": "78580c9e-3d67-4c3b-f023-8589d18cc97b"
      },
      "source": [
        "columns = [f\"%_{ii}\" for ii in range(1, n_hl+1)] + [f\"l_{ii}\" for ii in range(1, n_hl+1)] + ['tot', 'tot%']\n",
        "df = pd.DataFrame(data = records, columns = columns)\n",
        "df['bpp'] = df['tot'].values * 32 / (w * h)\n",
        "df.head(5)"
      ],
      "execution_count": null,
      "outputs": [
        {
          "output_type": "execute_result",
          "data": {
            "text/html": [
              "<div>\n",
              "<style scoped>\n",
              "    .dataframe tbody tr th:only-of-type {\n",
              "        vertical-align: middle;\n",
              "    }\n",
              "\n",
              "    .dataframe tbody tr th {\n",
              "        vertical-align: top;\n",
              "    }\n",
              "\n",
              "    .dataframe thead th {\n",
              "        text-align: right;\n",
              "    }\n",
              "</style>\n",
              "<table border=\"1\" class=\"dataframe\">\n",
              "  <thead>\n",
              "    <tr style=\"text-align: right;\">\n",
              "      <th></th>\n",
              "      <th>%_1</th>\n",
              "      <th>%_2</th>\n",
              "      <th>%_3</th>\n",
              "      <th>%_4</th>\n",
              "      <th>%_5</th>\n",
              "      <th>l_1</th>\n",
              "      <th>l_2</th>\n",
              "      <th>l_3</th>\n",
              "      <th>l_4</th>\n",
              "      <th>l_5</th>\n",
              "      <th>tot</th>\n",
              "      <th>tot%</th>\n",
              "      <th>bpp</th>\n",
              "    </tr>\n",
              "  </thead>\n",
              "  <tbody>\n",
              "    <tr>\n",
              "      <th>0</th>\n",
              "      <td>0.25</td>\n",
              "      <td>0.25</td>\n",
              "      <td>0.25</td>\n",
              "      <td>0.25</td>\n",
              "      <td>0.25</td>\n",
              "      <td>1024.0</td>\n",
              "      <td>1024.0</td>\n",
              "      <td>1024.0</td>\n",
              "      <td>1024.0</td>\n",
              "      <td>1024.0</td>\n",
              "      <td>5697.0</td>\n",
              "      <td>27.055136</td>\n",
              "      <td>2.781738</td>\n",
              "    </tr>\n",
              "    <tr>\n",
              "      <th>1</th>\n",
              "      <td>0.25</td>\n",
              "      <td>0.25</td>\n",
              "      <td>0.25</td>\n",
              "      <td>0.25</td>\n",
              "      <td>0.30</td>\n",
              "      <td>1024.0</td>\n",
              "      <td>1024.0</td>\n",
              "      <td>1024.0</td>\n",
              "      <td>1024.0</td>\n",
              "      <td>1228.8</td>\n",
              "      <td>5901.8</td>\n",
              "      <td>28.027734</td>\n",
              "      <td>2.881738</td>\n",
              "    </tr>\n",
              "    <tr>\n",
              "      <th>2</th>\n",
              "      <td>0.25</td>\n",
              "      <td>0.25</td>\n",
              "      <td>0.25</td>\n",
              "      <td>0.25</td>\n",
              "      <td>0.35</td>\n",
              "      <td>1024.0</td>\n",
              "      <td>1024.0</td>\n",
              "      <td>1024.0</td>\n",
              "      <td>1024.0</td>\n",
              "      <td>1433.6</td>\n",
              "      <td>6106.6</td>\n",
              "      <td>29.000332</td>\n",
              "      <td>2.981738</td>\n",
              "    </tr>\n",
              "    <tr>\n",
              "      <th>3</th>\n",
              "      <td>0.25</td>\n",
              "      <td>0.25</td>\n",
              "      <td>0.25</td>\n",
              "      <td>0.25</td>\n",
              "      <td>0.40</td>\n",
              "      <td>1024.0</td>\n",
              "      <td>1024.0</td>\n",
              "      <td>1024.0</td>\n",
              "      <td>1024.0</td>\n",
              "      <td>1638.4</td>\n",
              "      <td>6311.4</td>\n",
              "      <td>29.972931</td>\n",
              "      <td>3.081738</td>\n",
              "    </tr>\n",
              "    <tr>\n",
              "      <th>4</th>\n",
              "      <td>0.25</td>\n",
              "      <td>0.25</td>\n",
              "      <td>0.25</td>\n",
              "      <td>0.25</td>\n",
              "      <td>0.45</td>\n",
              "      <td>1024.0</td>\n",
              "      <td>1024.0</td>\n",
              "      <td>1024.0</td>\n",
              "      <td>1024.0</td>\n",
              "      <td>1843.2</td>\n",
              "      <td>6516.2</td>\n",
              "      <td>30.945529</td>\n",
              "      <td>3.181738</td>\n",
              "    </tr>\n",
              "  </tbody>\n",
              "</table>\n",
              "</div>"
            ],
            "text/plain": [
              "    %_1   %_2   %_3   %_4   %_5  ...     l_4     l_5     tot       tot%       bpp\n",
              "0  0.25  0.25  0.25  0.25  0.25  ...  1024.0  1024.0  5697.0  27.055136  2.781738\n",
              "1  0.25  0.25  0.25  0.25  0.30  ...  1024.0  1228.8  5901.8  28.027734  2.881738\n",
              "2  0.25  0.25  0.25  0.25  0.35  ...  1024.0  1433.6  6106.6  29.000332  2.981738\n",
              "3  0.25  0.25  0.25  0.25  0.40  ...  1024.0  1638.4  6311.4  29.972931  3.081738\n",
              "4  0.25  0.25  0.25  0.25  0.45  ...  1024.0  1843.2  6516.2  30.945529  3.181738\n",
              "\n",
              "[5 rows x 13 columns]"
            ]
          },
          "metadata": {
            "tags": []
          },
          "execution_count": 6
        }
      ]
    },
    {
      "cell_type": "code",
      "metadata": {
        "colab": {
          "base_uri": "https://localhost:8080/"
        },
        "id": "dD_2oDxQPPNP",
        "outputId": "8b9c2816-a67b-438c-ddbb-a3edc9b829ad"
      },
      "source": [
        "df['tot%'].plot.kde()"
      ],
      "execution_count": null,
      "outputs": [
        {
          "output_type": "execute_result",
          "data": {
            "text/plain": [
              "<matplotlib.axes._subplots.AxesSubplot at 0x7f90532d9518>"
            ]
          },
          "metadata": {
            "tags": []
          },
          "execution_count": 7
        },
        {
          "output_type": "display_data",
          "data": {
            "image/png": "[encoded data removed]",
            "text/plain": [
              "<Figure size 432x288 with 1 Axes>"
            ]
          },
          "metadata": {
            "tags": []
          }
        }
      ]
    },
    {
      "cell_type": "code",
      "metadata": {
        "colab": {
          "base_uri": "https://localhost:8080/"
        },
        "id": "DEtVikfKPwjG",
        "outputId": "0ca35d57-8b50-4b0b-a958-c9e1eec6a28b"
      },
      "source": [
        "df['tot%'].plot.hist()"
      ],
      "execution_count": null,
      "outputs": [
        {
          "output_type": "execute_result",
          "data": {
            "text/plain": [
              "<matplotlib.axes._subplots.AxesSubplot at 0x7f90532f4320>"
            ]
          },
          "metadata": {
            "tags": []
          },
          "execution_count": 8
        },
        {
          "output_type": "display_data",
          "data": {
            "image/png": "[encoded data removed]",
            "text/plain": [
              "<Figure size 432x288 with 1 Axes>"
            ]
          },
          "metadata": {
            "tags": []
          }
        }
      ]
    },
    {
      "cell_type": "code",
      "metadata": {
        "id": "M4bAqRZMP7oV"
      },
      "source": [
        "interval = df[(df['tot%'] >= 30) & (df['tot%'] < 40)]['tot%'].values.round(0).astype(dtype=np.int)"
      ],
      "execution_count": null,
      "outputs": []
    },
    {
      "cell_type": "code",
      "metadata": {
        "colab": {
          "base_uri": "https://localhost:8080/"
        },
        "id": "hVykdaV9QlQ3",
        "outputId": "2d9c1575-20c4-49e4-c30c-3bba5f385602"
      },
      "source": [
        "collections.Counter(interval).items()"
      ],
      "execution_count": null,
      "outputs": [
        {
          "output_type": "execute_result",
          "data": {
            "text/plain": [
              "dict_items([(31, 70), (32, 126), (33, 210), (34, 330), (35, 490), (36, 690), (37, 926), (38, 1190), (39, 1470), (40, 1750)])"
            ]
          },
          "metadata": {
            "tags": []
          },
          "execution_count": 10
        }
      ]
    },
    {
      "cell_type": "code",
      "metadata": {
        "colab": {
          "base_uri": "https://localhost:8080/"
        },
        "id": "W8HAj23KatV1",
        "outputId": "10fa2e77-1d2c-4ab0-bbda-bf7659edfe74"
      },
      "source": [
        "df[(df['tot%'] >= 34) & (df['tot%'] <= 35)].sample(n=5)"
      ],
      "execution_count": null,
      "outputs": [
        {
          "output_type": "execute_result",
          "data": {
            "text/html": [
              "<div>\n",
              "<style scoped>\n",
              "    .dataframe tbody tr th:only-of-type {\n",
              "        vertical-align: middle;\n",
              "    }\n",
              "\n",
              "    .dataframe tbody tr th {\n",
              "        vertical-align: top;\n",
              "    }\n",
              "\n",
              "    .dataframe thead th {\n",
              "        text-align: right;\n",
              "    }\n",
              "</style>\n",
              "<table border=\"1\" class=\"dataframe\">\n",
              "  <thead>\n",
              "    <tr style=\"text-align: right;\">\n",
              "      <th></th>\n",
              "      <th>%_1</th>\n",
              "      <th>%_2</th>\n",
              "      <th>%_3</th>\n",
              "      <th>%_4</th>\n",
              "      <th>%_5</th>\n",
              "      <th>l_1</th>\n",
              "      <th>l_2</th>\n",
              "      <th>l_3</th>\n",
              "      <th>l_4</th>\n",
              "      <th>l_5</th>\n",
              "      <th>tot</th>\n",
              "      <th>tot%</th>\n",
              "      <th>bpp</th>\n",
              "    </tr>\n",
              "  </thead>\n",
              "  <tbody>\n",
              "    <tr>\n",
              "      <th>4299</th>\n",
              "      <td>0.30</td>\n",
              "      <td>0.25</td>\n",
              "      <td>0.40</td>\n",
              "      <td>0.30</td>\n",
              "      <td>0.4</td>\n",
              "      <td>1228.8</td>\n",
              "      <td>1024.0</td>\n",
              "      <td>1638.4</td>\n",
              "      <td>1228.8</td>\n",
              "      <td>1638.4</td>\n",
              "      <td>7335.4</td>\n",
              "      <td>34.835922</td>\n",
              "      <td>3.581738</td>\n",
              "    </tr>\n",
              "    <tr>\n",
              "      <th>519</th>\n",
              "      <td>0.25</td>\n",
              "      <td>0.30</td>\n",
              "      <td>0.25</td>\n",
              "      <td>0.25</td>\n",
              "      <td>0.6</td>\n",
              "      <td>1024.0</td>\n",
              "      <td>1228.8</td>\n",
              "      <td>1024.0</td>\n",
              "      <td>1024.0</td>\n",
              "      <td>2457.6</td>\n",
              "      <td>7335.4</td>\n",
              "      <td>34.835922</td>\n",
              "      <td>3.581738</td>\n",
              "    </tr>\n",
              "    <tr>\n",
              "      <th>28673</th>\n",
              "      <td>0.60</td>\n",
              "      <td>0.25</td>\n",
              "      <td>0.25</td>\n",
              "      <td>0.25</td>\n",
              "      <td>0.3</td>\n",
              "      <td>2457.6</td>\n",
              "      <td>1024.0</td>\n",
              "      <td>1024.0</td>\n",
              "      <td>1024.0</td>\n",
              "      <td>1228.8</td>\n",
              "      <td>7335.4</td>\n",
              "      <td>34.835922</td>\n",
              "      <td>3.581738</td>\n",
              "    </tr>\n",
              "    <tr>\n",
              "      <th>617</th>\n",
              "      <td>0.25</td>\n",
              "      <td>0.30</td>\n",
              "      <td>0.30</td>\n",
              "      <td>0.50</td>\n",
              "      <td>0.3</td>\n",
              "      <td>1024.0</td>\n",
              "      <td>1228.8</td>\n",
              "      <td>1228.8</td>\n",
              "      <td>2048.0</td>\n",
              "      <td>1228.8</td>\n",
              "      <td>7335.4</td>\n",
              "      <td>34.835922</td>\n",
              "      <td>3.581738</td>\n",
              "    </tr>\n",
              "    <tr>\n",
              "      <th>3081</th>\n",
              "      <td>0.25</td>\n",
              "      <td>0.55</td>\n",
              "      <td>0.25</td>\n",
              "      <td>0.30</td>\n",
              "      <td>0.3</td>\n",
              "      <td>1024.0</td>\n",
              "      <td>2252.8</td>\n",
              "      <td>1024.0</td>\n",
              "      <td>1228.8</td>\n",
              "      <td>1228.8</td>\n",
              "      <td>7335.4</td>\n",
              "      <td>34.835922</td>\n",
              "      <td>3.581738</td>\n",
              "    </tr>\n",
              "  </tbody>\n",
              "</table>\n",
              "</div>"
            ],
            "text/plain": [
              "        %_1   %_2   %_3   %_4  %_5  ...     l_4     l_5     tot       tot%       bpp\n",
              "4299   0.30  0.25  0.40  0.30  0.4  ...  1228.8  1638.4  7335.4  34.835922  3.581738\n",
              "519    0.25  0.30  0.25  0.25  0.6  ...  1024.0  2457.6  7335.4  34.835922  3.581738\n",
              "28673  0.60  0.25  0.25  0.25  0.3  ...  1024.0  1228.8  7335.4  34.835922  3.581738\n",
              "617    0.25  0.30  0.30  0.50  0.3  ...  2048.0  1228.8  7335.4  34.835922  3.581738\n",
              "3081   0.25  0.55  0.25  0.30  0.3  ...  1228.8  1228.8  7335.4  34.835922  3.581738\n",
              "\n",
              "[5 rows x 13 columns]"
            ]
          },
          "metadata": {
            "tags": []
          },
          "execution_count": 11
        }
      ]
    },
    {
      "cell_type": "code",
      "metadata": {
        "colab": {
          "base_uri": "https://localhost:8080/",
          "height": 197
        },
        "id": "2Jqmg6JlC4x2",
        "outputId": "1ae5e51b-48e0-4dbd-f5b0-36db986cd154"
      },
      "source": [
        "df[(df['tot%'] >= 40) & (df['tot%'] <= 45)].sample(n=5)"
      ],
      "execution_count": null,
      "outputs": [
        {
          "output_type": "execute_result",
          "data": {
            "text/html": [
              "<div>\n",
              "<style scoped>\n",
              "    .dataframe tbody tr th:only-of-type {\n",
              "        vertical-align: middle;\n",
              "    }\n",
              "\n",
              "    .dataframe tbody tr th {\n",
              "        vertical-align: top;\n",
              "    }\n",
              "\n",
              "    .dataframe thead th {\n",
              "        text-align: right;\n",
              "    }\n",
              "</style>\n",
              "<table border=\"1\" class=\"dataframe\">\n",
              "  <thead>\n",
              "    <tr style=\"text-align: right;\">\n",
              "      <th></th>\n",
              "      <th>%_1</th>\n",
              "      <th>%_2</th>\n",
              "      <th>%_3</th>\n",
              "      <th>%_4</th>\n",
              "      <th>%_5</th>\n",
              "      <th>l_1</th>\n",
              "      <th>l_2</th>\n",
              "      <th>l_3</th>\n",
              "      <th>l_4</th>\n",
              "      <th>l_5</th>\n",
              "      <th>tot</th>\n",
              "      <th>tot%</th>\n",
              "      <th>bpp</th>\n",
              "    </tr>\n",
              "  </thead>\n",
              "  <tbody>\n",
              "    <tr>\n",
              "      <th>20765</th>\n",
              "      <td>0.50</td>\n",
              "      <td>0.25</td>\n",
              "      <td>0.45</td>\n",
              "      <td>0.40</td>\n",
              "      <td>0.50</td>\n",
              "      <td>2048.0</td>\n",
              "      <td>1024.0</td>\n",
              "      <td>1843.2</td>\n",
              "      <td>1638.4</td>\n",
              "      <td>2048.0</td>\n",
              "      <td>9178.6</td>\n",
              "      <td>43.589305</td>\n",
              "      <td>4.481738</td>\n",
              "    </tr>\n",
              "    <tr>\n",
              "      <th>9564</th>\n",
              "      <td>0.35</td>\n",
              "      <td>0.35</td>\n",
              "      <td>0.50</td>\n",
              "      <td>0.40</td>\n",
              "      <td>0.45</td>\n",
              "      <td>1433.6</td>\n",
              "      <td>1433.6</td>\n",
              "      <td>2048.0</td>\n",
              "      <td>1638.4</td>\n",
              "      <td>1843.2</td>\n",
              "      <td>8973.8</td>\n",
              "      <td>42.616707</td>\n",
              "      <td>4.381738</td>\n",
              "    </tr>\n",
              "    <tr>\n",
              "      <th>3346</th>\n",
              "      <td>0.25</td>\n",
              "      <td>0.55</td>\n",
              "      <td>0.45</td>\n",
              "      <td>0.35</td>\n",
              "      <td>0.35</td>\n",
              "      <td>1024.0</td>\n",
              "      <td>2252.8</td>\n",
              "      <td>1843.2</td>\n",
              "      <td>1433.6</td>\n",
              "      <td>1433.6</td>\n",
              "      <td>8564.2</td>\n",
              "      <td>40.671511</td>\n",
              "      <td>4.181738</td>\n",
              "    </tr>\n",
              "    <tr>\n",
              "      <th>9593</th>\n",
              "      <td>0.35</td>\n",
              "      <td>0.35</td>\n",
              "      <td>0.50</td>\n",
              "      <td>0.60</td>\n",
              "      <td>0.30</td>\n",
              "      <td>1433.6</td>\n",
              "      <td>1433.6</td>\n",
              "      <td>2048.0</td>\n",
              "      <td>2457.6</td>\n",
              "      <td>1228.8</td>\n",
              "      <td>9178.6</td>\n",
              "      <td>43.589305</td>\n",
              "      <td>4.481738</td>\n",
              "    </tr>\n",
              "    <tr>\n",
              "      <th>11020</th>\n",
              "      <td>0.35</td>\n",
              "      <td>0.50</td>\n",
              "      <td>0.45</td>\n",
              "      <td>0.30</td>\n",
              "      <td>0.45</td>\n",
              "      <td>1433.6</td>\n",
              "      <td>2048.0</td>\n",
              "      <td>1843.2</td>\n",
              "      <td>1228.8</td>\n",
              "      <td>1843.2</td>\n",
              "      <td>8973.8</td>\n",
              "      <td>42.616707</td>\n",
              "      <td>4.381738</td>\n",
              "    </tr>\n",
              "  </tbody>\n",
              "</table>\n",
              "</div>"
            ],
            "text/plain": [
              "        %_1   %_2   %_3   %_4  ...     l_5     tot       tot%       bpp\n",
              "20765  0.50  0.25  0.45  0.40  ...  2048.0  9178.6  43.589305  4.481738\n",
              "9564   0.35  0.35  0.50  0.40  ...  1843.2  8973.8  42.616707  4.381738\n",
              "3346   0.25  0.55  0.45  0.35  ...  1433.6  8564.2  40.671511  4.181738\n",
              "9593   0.35  0.35  0.50  0.60  ...  1228.8  9178.6  43.589305  4.481738\n",
              "11020  0.35  0.50  0.45  0.30  ...  1843.2  8973.8  42.616707  4.381738\n",
              "\n",
              "[5 rows x 13 columns]"
            ]
          },
          "metadata": {
            "tags": []
          },
          "execution_count": 12
        }
      ]
    },
    {
      "cell_type": "code",
      "metadata": {
        "colab": {
          "base_uri": "https://localhost:8080/",
          "height": 197
        },
        "id": "DBtH5qUXDGmU",
        "outputId": "4c9265ff-2d37-46ea-b519-b7def3892df8"
      },
      "source": [
        "df[(df['tot%'] >= 45) & (df['tot%'] <= 50)].sample(n=5)"
      ],
      "execution_count": null,
      "outputs": [
        {
          "output_type": "execute_result",
          "data": {
            "text/html": [
              "<div>\n",
              "<style scoped>\n",
              "    .dataframe tbody tr th:only-of-type {\n",
              "        vertical-align: middle;\n",
              "    }\n",
              "\n",
              "    .dataframe tbody tr th {\n",
              "        vertical-align: top;\n",
              "    }\n",
              "\n",
              "    .dataframe thead th {\n",
              "        text-align: right;\n",
              "    }\n",
              "</style>\n",
              "<table border=\"1\" class=\"dataframe\">\n",
              "  <thead>\n",
              "    <tr style=\"text-align: right;\">\n",
              "      <th></th>\n",
              "      <th>%_1</th>\n",
              "      <th>%_2</th>\n",
              "      <th>%_3</th>\n",
              "      <th>%_4</th>\n",
              "      <th>%_5</th>\n",
              "      <th>l_1</th>\n",
              "      <th>l_2</th>\n",
              "      <th>l_3</th>\n",
              "      <th>l_4</th>\n",
              "      <th>l_5</th>\n",
              "      <th>tot</th>\n",
              "      <th>tot%</th>\n",
              "      <th>bpp</th>\n",
              "    </tr>\n",
              "  </thead>\n",
              "  <tbody>\n",
              "    <tr>\n",
              "      <th>12066</th>\n",
              "      <td>0.35</td>\n",
              "      <td>0.60</td>\n",
              "      <td>0.45</td>\n",
              "      <td>0.45</td>\n",
              "      <td>0.35</td>\n",
              "      <td>1433.6</td>\n",
              "      <td>2457.6</td>\n",
              "      <td>1843.2</td>\n",
              "      <td>1843.2</td>\n",
              "      <td>1433.6</td>\n",
              "      <td>9588.2</td>\n",
              "      <td>45.534502</td>\n",
              "      <td>4.681738</td>\n",
              "    </tr>\n",
              "    <tr>\n",
              "      <th>29981</th>\n",
              "      <td>0.60</td>\n",
              "      <td>0.35</td>\n",
              "      <td>0.45</td>\n",
              "      <td>0.40</td>\n",
              "      <td>0.50</td>\n",
              "      <td>2457.6</td>\n",
              "      <td>1433.6</td>\n",
              "      <td>1843.2</td>\n",
              "      <td>1638.4</td>\n",
              "      <td>2048.0</td>\n",
              "      <td>9997.8</td>\n",
              "      <td>47.479698</td>\n",
              "      <td>4.881738</td>\n",
              "    </tr>\n",
              "    <tr>\n",
              "      <th>17268</th>\n",
              "      <td>0.45</td>\n",
              "      <td>0.30</td>\n",
              "      <td>0.50</td>\n",
              "      <td>0.55</td>\n",
              "      <td>0.45</td>\n",
              "      <td>1843.2</td>\n",
              "      <td>1228.8</td>\n",
              "      <td>2048.0</td>\n",
              "      <td>2252.8</td>\n",
              "      <td>1843.2</td>\n",
              "      <td>9793.0</td>\n",
              "      <td>46.507100</td>\n",
              "      <td>4.781738</td>\n",
              "    </tr>\n",
              "    <tr>\n",
              "      <th>29476</th>\n",
              "      <td>0.60</td>\n",
              "      <td>0.30</td>\n",
              "      <td>0.45</td>\n",
              "      <td>0.45</td>\n",
              "      <td>0.45</td>\n",
              "      <td>2457.6</td>\n",
              "      <td>1228.8</td>\n",
              "      <td>1843.2</td>\n",
              "      <td>1843.2</td>\n",
              "      <td>1843.2</td>\n",
              "      <td>9793.0</td>\n",
              "      <td>46.507100</td>\n",
              "      <td>4.781738</td>\n",
              "    </tr>\n",
              "    <tr>\n",
              "      <th>30441</th>\n",
              "      <td>0.60</td>\n",
              "      <td>0.40</td>\n",
              "      <td>0.40</td>\n",
              "      <td>0.50</td>\n",
              "      <td>0.30</td>\n",
              "      <td>2457.6</td>\n",
              "      <td>1638.4</td>\n",
              "      <td>1638.4</td>\n",
              "      <td>2048.0</td>\n",
              "      <td>1228.8</td>\n",
              "      <td>9588.2</td>\n",
              "      <td>45.534502</td>\n",
              "      <td>4.681738</td>\n",
              "    </tr>\n",
              "  </tbody>\n",
              "</table>\n",
              "</div>"
            ],
            "text/plain": [
              "        %_1   %_2   %_3   %_4  ...     l_5     tot       tot%       bpp\n",
              "12066  0.35  0.60  0.45  0.45  ...  1433.6  9588.2  45.534502  4.681738\n",
              "29981  0.60  0.35  0.45  0.40  ...  2048.0  9997.8  47.479698  4.881738\n",
              "17268  0.45  0.30  0.50  0.55  ...  1843.2  9793.0  46.507100  4.781738\n",
              "29476  0.60  0.30  0.45  0.45  ...  1843.2  9793.0  46.507100  4.781738\n",
              "30441  0.60  0.40  0.40  0.50  ...  1228.8  9588.2  45.534502  4.681738\n",
              "\n",
              "[5 rows x 13 columns]"
            ]
          },
          "metadata": {
            "tags": []
          },
          "execution_count": 13
        }
      ]
    },
    {
      "cell_type": "markdown",
      "metadata": {
        "id": "l6nf9meo3woj"
      },
      "source": [
        "## References\n",
        "\n",
        "#### Papers\n",
        "\n",
        "- 1710.018778v2"
      ]
    }
  ]
}