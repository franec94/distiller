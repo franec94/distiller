{
 "metadata": {
  "language_info": {
   "codemirror_mode": {
    "name": "ipython",
    "version": 3
   },
   "file_extension": ".py",
   "mimetype": "text/x-python",
   "name": "python",
   "nbconvert_exporter": "python",
   "pygments_lexer": "ipython3",
   "version": "3.7.3-final"
  },
  "orig_nbformat": 2,
  "kernelspec": {
   "name": "python3",
   "display_name": "Python 3.7.3 64-bit ('anaconda3': virtualenv)",
   "metadata": {
    "interpreter": {
     "hash": "b3f60ef35cf340c22593a0774a5097e35b34b0eca0a8b6e376403190ea11e442"
    }
   }
  }
 },
 "nbformat": 4,
 "nbformat_minor": 2,
 "cells": [
  {
   "cell_type": "code",
   "execution_count": 1,
   "metadata": {},
   "outputs": [],
   "source": [
    "from src_cpd.libs.project_libs import *"
   ]
  },
  {
   "cell_type": "code",
   "execution_count": 2,
   "metadata": {},
   "outputs": [],
   "source": [
    "ROOT_DIR = \"/home/franec94/Desktop/tmp_iside/tmp_agp_prune/test066_airplane\"\n",
    "OUT_DIR = \"./out_results_cpd/\"\n",
    "CONF_FILEPATH = \"./confs_cpd/conf.yaml\"\n",
    "TESTS_LOGGING_ROOTS = \"./logs\"\n",
    "OUTPUT_DATASET_PATH = \"./out/datasets\"\n",
    "PERFORMANCES_PATH = \"/home/franec94/Desktop/tmp_iside/tmp_agp_prune/performances.txt\"\n",
    "OUT_FILENAME = \"out.csv\""
   ]
  },
  {
   "cell_type": "code",
   "execution_count": 3,
   "metadata": {},
   "outputs": [],
   "source": [
    "conf_data_dict = dict(\n",
    "    root_dir=ROOT_DIR,\n",
    "    out_dir=OUT_DIR,\n",
    "    conf_filepath=CONF_FILEPATH,\n",
    "    tests_logging_root=TESTS_LOGGING_ROOTS,\n",
    "    output_dataset_path=OUTPUT_DATASET_PATH,\n",
    "    performances_path=PERFORMANCES_PATH\n",
    ")"
   ]
  },
  {
   "cell_type": "code",
   "execution_count": 4,
   "metadata": {},
   "outputs": [],
   "source": [
    "parser = get_custom_parser_for_notebook(conf_data_dict=conf_data_dict)\n",
    "args, _  = parser.parse_known_args()"
   ]
  },
  {
   "cell_type": "code",
   "execution_count": 5,
   "metadata": {},
   "outputs": [],
   "source": [
    "conf_data: dict = read_conf_file(conf_file_path=args.conf_filepath)"
   ]
  },
  {
   "cell_type": "code",
   "execution_count": 6,
   "metadata": {},
   "outputs": [],
   "source": [
    "conf_data: dict = read_conf_file(conf_file_path=args.conf_filepath)"
   ]
  },
  {
   "cell_type": "code",
   "execution_count": 7,
   "metadata": {},
   "outputs": [],
   "source": [
    "a_df = create_out_dataset(args=args, conf_data=conf_data, out_filename=OUT_FILENAME)"
   ]
  },
  {
   "cell_type": "code",
   "execution_count": 8,
   "metadata": {},
   "outputs": [],
   "source": [
    "merged_df = merge_performace_w_models_data(args=args, models_df=a_df)"
   ]
  },
  {
   "cell_type": "code",
   "execution_count": 9,
   "metadata": {},
   "outputs": [
    {
     "output_type": "execute_result",
     "data": {
      "text/plain": [
       "array(['___2021.02.16-221937', '___2021.02.16-194407',\n",
       "       '___2021.02.16-180053', '___2021.02.19-061329',\n",
       "       '___2021.02.19-083435', '___2021.02.19-043611',\n",
       "       '___2021.02.22-174841', '___2021.02.16-155611',\n",
       "       '___2021.02.16-164848', '___2021.02.16-075246',\n",
       "       '___2021.02.16-044732', '___2021.02.16-055430',\n",
       "       '___2021.02.16-065709', '___2021.02.15-224226',\n",
       "       '___2021.02.15-192409', '___2021.02.15-202114',\n",
       "       '___2021.02.15-234110', '___2021.02.16-003641',\n",
       "       '___2021.02.16-015435', '___2021.02.20-195047',\n",
       "       '___2021.02.20-055958', '___2021.02.20-205344',\n",
       "       '___2021.02.20-045712', '___2021.02.19-183035',\n",
       "       '___2021.02.19-173538'], dtype=object)"
      ]
     },
     "metadata": {},
     "execution_count": 9
    }
   ],
   "source": [
    "merged_df[\"date_train\"].unique()"
   ]
  },
  {
   "cell_type": "code",
   "execution_count": 10,
   "metadata": {},
   "outputs": [],
   "source": [
    "date = \"___2021.02.22-174841\""
   ]
  },
  {
   "cell_type": "code",
   "execution_count": 11,
   "metadata": {},
   "outputs": [
    {
     "output_type": "execute_result",
     "data": {
      "text/plain": [
       "True"
      ]
     },
     "metadata": {},
     "execution_count": 11
    }
   ],
   "source": [
    "date in merged_df[\"date_train\"].unique()"
   ]
  },
  {
   "cell_type": "code",
   "execution_count": 12,
   "metadata": {},
   "outputs": [
    {
     "output_type": "stream",
     "name": "stdout",
     "text": [
      "1\n"
     ]
    }
   ],
   "source": [
    "pos = merged_df[\"date_train\"] == date\n",
    "print(np.sum(pos))\n",
    "a_row = merged_df[pos].head(1)"
   ]
  },
  {
   "cell_type": "code",
   "execution_count": 13,
   "metadata": {},
   "outputs": [
    {
     "output_type": "execute_result",
     "data": {
      "text/plain": [
       "             date_train             init_from       psnr       bpp  \\\n",
       "6  ___2021.02.22-174841  ___2021.02.03-210001  51.637651  6.951465   \n",
       "\n",
       "  prune_techs  prune_rate  size_byte_th quant_techs  \n",
       "6           -    0.321905       56946.4           -  "
      ],
      "text/html": "<div>\n<style scoped>\n    .dataframe tbody tr th:only-of-type {\n        vertical-align: middle;\n    }\n\n    .dataframe tbody tr th {\n        vertical-align: top;\n    }\n\n    .dataframe thead th {\n        text-align: right;\n    }\n</style>\n<table border=\"1\" class=\"dataframe\">\n  <thead>\n    <tr style=\"text-align: right;\">\n      <th></th>\n      <th>date_train</th>\n      <th>init_from</th>\n      <th>psnr</th>\n      <th>bpp</th>\n      <th>prune_techs</th>\n      <th>prune_rate</th>\n      <th>size_byte_th</th>\n      <th>quant_techs</th>\n    </tr>\n  </thead>\n  <tbody>\n    <tr>\n      <th>6</th>\n      <td>___2021.02.22-174841</td>\n      <td>___2021.02.03-210001</td>\n      <td>51.637651</td>\n      <td>6.951465</td>\n      <td>-</td>\n      <td>0.321905</td>\n      <td>56946.4</td>\n      <td>-</td>\n    </tr>\n  </tbody>\n</table>\n</div>"
     },
     "metadata": {},
     "execution_count": 13
    }
   ],
   "source": [
    "pick_cols = \"date_train,init_from,psnr,bpp,prune_techs,prune_rate,size_byte_th,quant_techs\".split(\",\")\n",
    "a_row[pick_cols]"
   ]
  },
  {
   "cell_type": "code",
   "execution_count": 17,
   "metadata": {},
   "outputs": [
    {
     "output_type": "execute_result",
     "data": {
      "text/plain": [
       "             date_train             init_from       psnr       bpp image_name  \\\n",
       "6  ___2021.02.22-174841  ___2021.02.03-210001  51.637651  6.951465    test066   \n",
       "\n",
       "   size_byte_th prune_techs  prune_rate quant_techs  nbits  \n",
       "6       56946.4           -    0.321905           -     32  "
      ],
      "text/html": "<div>\n<style scoped>\n    .dataframe tbody tr th:only-of-type {\n        vertical-align: middle;\n    }\n\n    .dataframe tbody tr th {\n        vertical-align: top;\n    }\n\n    .dataframe thead th {\n        text-align: right;\n    }\n</style>\n<table border=\"1\" class=\"dataframe\">\n  <thead>\n    <tr style=\"text-align: right;\">\n      <th></th>\n      <th>date_train</th>\n      <th>init_from</th>\n      <th>psnr</th>\n      <th>bpp</th>\n      <th>image_name</th>\n      <th>size_byte_th</th>\n      <th>prune_techs</th>\n      <th>prune_rate</th>\n      <th>quant_techs</th>\n      <th>nbits</th>\n    </tr>\n  </thead>\n  <tbody>\n    <tr>\n      <th>6</th>\n      <td>___2021.02.22-174841</td>\n      <td>___2021.02.03-210001</td>\n      <td>51.637651</td>\n      <td>6.951465</td>\n      <td>test066</td>\n      <td>56946.4</td>\n      <td>-</td>\n      <td>0.321905</td>\n      <td>-</td>\n      <td>32</td>\n    </tr>\n  </tbody>\n</table>\n</div>"
     },
     "metadata": {},
     "execution_count": 17
    }
   ],
   "source": [
    "pick_cols: list = \"date_train,init_from,psnr,bpp,image_name,size_byte_th,prune_techs,prune_rate,quant_techs,nbits\".split(\",\")\n",
    "a_row[pick_cols]"
   ]
  },
  {
   "cell_type": "code",
   "execution_count": 18,
   "metadata": {},
   "outputs": [
    {
     "output_type": "error",
     "ename": "TypeError",
     "evalue": "'module' object is not callable",
     "traceback": [
      "\u001b[0;31m---------------------------------------------------------------------------\u001b[0m",
      "\u001b[0;31mTypeError\u001b[0m                                 Traceback (most recent call last)",
      "\u001b[0;32m<ipython-input-18-dad9683c1899>\u001b[0m in \u001b[0;36m<module>\u001b[0;34m\u001b[0m\n\u001b[1;32m      1\u001b[0m \u001b[0msch_dict\u001b[0m \u001b[0;34m=\u001b[0m \u001b[0meval\u001b[0m\u001b[0;34m(\u001b[0m\u001b[0ma_row\u001b[0m\u001b[0;34m[\u001b[0m\u001b[0;34m\"scheduler\"\u001b[0m\u001b[0;34m]\u001b[0m\u001b[0;34m.\u001b[0m\u001b[0mvalues\u001b[0m\u001b[0;34m[\u001b[0m\u001b[0;36m0\u001b[0m\u001b[0;34m]\u001b[0m\u001b[0;34m)\u001b[0m\u001b[0;34m\u001b[0m\u001b[0;34m\u001b[0m\u001b[0m\n\u001b[0;32m----> 2\u001b[0;31m \u001b[0mpprint\u001b[0m\u001b[0;34m(\u001b[0m\u001b[0msch_dict\u001b[0m\u001b[0;34m)\u001b[0m\u001b[0;34m\u001b[0m\u001b[0;34m\u001b[0m\u001b[0m\n\u001b[0m",
      "\u001b[0;31mTypeError\u001b[0m: 'module' object is not callable"
     ]
    }
   ],
   "source": [
    "sch_dict = eval(a_row[\"scheduler\"].values[0])\n",
    "pprint.pprint(sch_dict)"
   ]
  },
  {
   "cell_type": "code",
   "execution_count": null,
   "metadata": {},
   "outputs": [],
   "source": []
  }
 ]
}